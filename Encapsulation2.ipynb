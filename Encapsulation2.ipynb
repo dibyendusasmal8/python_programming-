{
 "cells": [
  {
   "cell_type": "code",
   "execution_count": 3,
   "id": "bbd5d747",
   "metadata": {},
   "outputs": [],
   "source": [
    "class Point:\n",
    "\n",
    "    def __init__(self,x,y):\n",
    "        self.x_cod = x\n",
    "        self.y_cod = y\n",
    "\n",
    "    def __str__(self):\n",
    "        return '<{},{}>'.format(self.x_cod,self.y_cod)\n",
    "\n",
    "    def euclidean_distance(self,other):\n",
    "        return ((self.x_cod - other.x_cod)**2 + (self.y_cod - other.y_cod)**2)**0.5\n",
    "\n",
    "    def distance_from_origin(self):\n",
    "        return (self.x_cod**2 + self.y_cod**2)**0.5\n",
    "        # return self.euclidean_distance(Point(0,0))\n",
    "\n",
    "\n",
    "class Line:\n",
    "\n",
    "    def __init__(self,A,B,C):\n",
    "        self.A = A\n",
    "        self.B = B\n",
    "        self.C = C\n",
    "\n",
    "    def __str__(self):\n",
    "        return '{}x + {}y + {} = 0'.format(self.A,self.B,self.C)\n",
    "\n",
    "    def point_on_line(line,point):\n",
    "        if line.A*point.x_cod + line.B*point.y_cod + line.C == 0:\n",
    "            return \"lies on the line\"\n",
    "        else:\n",
    "            return \"does not lie on the line\"\n",
    "\n",
    "    def shortest_distance(line,point):\n",
    "        return abs(line.A*point.x_cod + line.B*point.y_cod + line.C)/(line.A**2 + line.B**2)**0.5"
   ]
  },
  {
   "cell_type": "code",
   "execution_count": 4,
   "id": "db8e3f04",
   "metadata": {},
   "outputs": [
    {
     "name": "stdout",
     "output_type": "stream",
     "text": [
      "1x + 1y + -2 = 0\n",
      "<1,10>\n"
     ]
    },
    {
     "data": {
      "text/plain": [
       "6.363961030678928"
      ]
     },
     "execution_count": 4,
     "metadata": {},
     "output_type": "execute_result"
    }
   ],
   "source": [
    "l1 = Line(1,1,-2)\n",
    "p1 = Point(1,10)\n",
    "print(l1)\n",
    "print(p1)\n",
    "\n",
    "l1.shortest_distance(p1)"
   ]
  },
  {
   "cell_type": "markdown",
   "id": "6cd8cd85",
   "metadata": {},
   "source": [
    "## How objects access attributes"
   ]
  },
  {
   "cell_type": "code",
   "execution_count": 5,
   "id": "2c2f5018",
   "metadata": {},
   "outputs": [],
   "source": [
    "class Person:\n",
    "\n",
    "    def __init__(self,name_input,country_input):\n",
    "        self.name = name_input\n",
    "        self.country = country_input\n",
    "\n",
    "    def greet(self):\n",
    "        if self.country == 'india':\n",
    "            print('Namaste',self.name)\n",
    "        else:\n",
    "            print('Hello',self.name)  "
   ]
  },
  {
   "cell_type": "code",
   "execution_count": 6,
   "id": "79119857",
   "metadata": {},
   "outputs": [],
   "source": [
    "p = Person('dibyendu','india')"
   ]
  },
  {
   "cell_type": "code",
   "execution_count": 7,
   "id": "dada0359",
   "metadata": {},
   "outputs": [
    {
     "data": {
      "text/plain": [
       "'dibyendu'"
      ]
     },
     "execution_count": 7,
     "metadata": {},
     "output_type": "execute_result"
    }
   ],
   "source": [
    "p.name"
   ]
  },
  {
   "cell_type": "code",
   "execution_count": 9,
   "id": "5be4a6aa",
   "metadata": {},
   "outputs": [
    {
     "name": "stdout",
     "output_type": "stream",
     "text": [
      "Namaste dibyendu\n"
     ]
    }
   ],
   "source": [
    "# how to access methods\n",
    "p.greet()"
   ]
  },
  {
   "cell_type": "code",
   "execution_count": 10,
   "id": "063055fb",
   "metadata": {},
   "outputs": [
    {
     "ename": "AttributeError",
     "evalue": "'Person' object has no attribute 'gender'",
     "output_type": "error",
     "traceback": [
      "\u001b[1;31m---------------------------------------------------------------------------\u001b[0m",
      "\u001b[1;31mAttributeError\u001b[0m                            Traceback (most recent call last)",
      "Input \u001b[1;32mIn [10]\u001b[0m, in \u001b[0;36m<cell line: 2>\u001b[1;34m()\u001b[0m\n\u001b[0;32m      1\u001b[0m \u001b[38;5;66;03m# what if i try to access non-existent attributes\u001b[39;00m\n\u001b[1;32m----> 2\u001b[0m \u001b[43mp\u001b[49m\u001b[38;5;241;43m.\u001b[39;49m\u001b[43mgender\u001b[49m\n",
      "\u001b[1;31mAttributeError\u001b[0m: 'Person' object has no attribute 'gender'"
     ]
    }
   ],
   "source": [
    "# what if i try to access non-existent attributes\n",
    "p.gender"
   ]
  },
  {
   "cell_type": "markdown",
   "id": "c7af1d9f",
   "metadata": {},
   "source": [
    "## Attribute creation from outside of the class"
   ]
  },
  {
   "cell_type": "code",
   "execution_count": 11,
   "id": "0f74fcfe",
   "metadata": {},
   "outputs": [],
   "source": [
    "p.gender = 'male'"
   ]
  },
  {
   "cell_type": "code",
   "execution_count": 12,
   "id": "b9abf265",
   "metadata": {},
   "outputs": [
    {
     "data": {
      "text/plain": [
       "'male'"
      ]
     },
     "execution_count": 12,
     "metadata": {},
     "output_type": "execute_result"
    }
   ],
   "source": [
    "p.gender"
   ]
  },
  {
   "cell_type": "markdown",
   "id": "2114cf19",
   "metadata": {},
   "source": [
    "### Reference Variables\n",
    "\n",
    "- Reference variables hold the objects\n",
    "- We can create objects without reference variable as well\n",
    "- An object can have multiple reference variables\n",
    "- Assigning a new reference variable to an existing object does not create a new object"
   ]
  },
  {
   "cell_type": "code",
   "execution_count": 32,
   "id": "c2b38c8b",
   "metadata": {},
   "outputs": [
    {
     "data": {
      "text/plain": [
       "<__main__.Parson at 0x21ca8a30040>"
      ]
     },
     "execution_count": 32,
     "metadata": {},
     "output_type": "execute_result"
    }
   ],
   "source": [
    "class Parson:\n",
    "    def __init__(self,name,gender):\n",
    "        self.name = name\n",
    "        self.gender = gender\n",
    "        \n",
    "Parson(\"dibyendu\",'male') # here object created but the don't have any holding variable "
   ]
  },
  {
   "cell_type": "code",
   "execution_count": 33,
   "id": "2cad0091",
   "metadata": {},
   "outputs": [],
   "source": [
    "p = Parson(\"dibyendu\",\"male\")\n",
    "# here p is not an object p is refarence of the object \n",
    "# here p contend address of the object \n"
   ]
  },
  {
   "cell_type": "code",
   "execution_count": 34,
   "id": "52cab429",
   "metadata": {},
   "outputs": [],
   "source": [
    "q =p # aliasing"
   ]
  },
  {
   "cell_type": "code",
   "execution_count": 36,
   "id": "ddf8214c",
   "metadata": {},
   "outputs": [
    {
     "name": "stdout",
     "output_type": "stream",
     "text": [
      "dibyendu\n",
      "dibyendu\n",
      "sourav\n",
      "sourav\n"
     ]
    }
   ],
   "source": [
    "print(p.name)\n",
    "print(q.name)\n",
    "q.name = \"sourav\"\n",
    "print(p.name)\n",
    "print(q.name)"
   ]
  },
  {
   "cell_type": "markdown",
   "id": "106fe222",
   "metadata": {},
   "source": [
    " ## pass by reference"
   ]
  },
  {
   "cell_type": "code",
   "execution_count": 37,
   "id": "7ae31a11",
   "metadata": {},
   "outputs": [
    {
     "name": "stdout",
     "output_type": "stream",
     "text": [
      "i am  dibyendu i am a male\n"
     ]
    }
   ],
   "source": [
    "class Persion:\n",
    "    def __init__(self,name,gender):\n",
    "        self.name = name\n",
    "        self.gender = gender\n",
    "        \n",
    "def greet(nameandgender):\n",
    "    print(\"i am \",nameandgender.name,\"i am a\",nameandgender.gender)\n",
    "    \n",
    "p = Parson(\"dibyendu\",\"male\")\n",
    "\n",
    "greet(p) # ekti funtion ke ekti object as input deowa hochhe etike pass by reference bolle "
   ]
  },
  {
   "cell_type": "code",
   "execution_count": 59,
   "id": "97ca05e9",
   "metadata": {},
   "outputs": [],
   "source": [
    "class Person:\n",
    "    def __init__(self,name,gender):\n",
    "        self.name = name\n",
    "        self.gender = gender\n",
    "        \n",
    "def greet(nameandgender):\n",
    "    p1 = Parson(\"shiva\",\"male\")\n",
    "    return p1\n",
    "   \n",
    "x=greet(p1) # ekhane ekti funtion ekti object ke return korche "
   ]
  },
  {
   "cell_type": "code",
   "execution_count": 60,
   "id": "2289beb9",
   "metadata": {},
   "outputs": [
    {
     "name": "stdout",
     "output_type": "stream",
     "text": [
      "shiva\n"
     ]
    }
   ],
   "source": [
    "print(x.name)"
   ]
  },
  {
   "cell_type": "code",
   "execution_count": 61,
   "id": "9e406824",
   "metadata": {},
   "outputs": [
    {
     "data": {
      "text/plain": [
       "'male'"
      ]
     },
     "execution_count": 61,
     "metadata": {},
     "output_type": "execute_result"
    }
   ],
   "source": [
    "x.gender"
   ]
  },
  {
   "cell_type": "code",
   "execution_count": 70,
   "id": "82198ba1",
   "metadata": {},
   "outputs": [
    {
     "name": "stdout",
     "output_type": "stream",
     "text": [
      "2322120044112\n",
      "2322120044112\n",
      "ankit\n",
      "ankit\n"
     ]
    }
   ],
   "source": [
    "class Person:\n",
    "\n",
    "    def __init__(self,name,gender):\n",
    "        self.name = name\n",
    "        self.gender = gender\n",
    "\n",
    "# outside the class -> function\n",
    "def greet(person):\n",
    "    print(id(person))\n",
    "    person.name = 'ankit'\n",
    "    print(person.name)\n",
    "\n",
    "p = Person('nitish','male')\n",
    "print(id(p))\n",
    "greet(p)\n",
    "print(p.name)"
   ]
  },
  {
   "cell_type": "code",
   "execution_count": 71,
   "id": "75b2e27a",
   "metadata": {},
   "outputs": [
    {
     "name": "stdout",
     "output_type": "stream",
     "text": [
      "2322108289664\n",
      "2322108289664\n"
     ]
    }
   ],
   "source": [
    "class Person:\n",
    "\n",
    "    def __init__(self,name,gender):\n",
    "        self.name = name\n",
    "        self.gender = gender\n",
    "\n",
    "# outside the class -> function\n",
    "def greet(person):\n",
    "    person.name = 'ankit'\n",
    "    return person\n",
    "\n",
    "p = Person('nitish','male')\n",
    "print(id(p))\n",
    "p1 = greet(p)\n",
    "print(id(p1))"
   ]
  },
  {
   "cell_type": "markdown",
   "id": "c712cb3d",
   "metadata": {},
   "source": [
    "# Encapsulation "
   ]
  },
  {
   "cell_type": "code",
   "execution_count": 22,
   "id": "aea2cc36",
   "metadata": {},
   "outputs": [],
   "source": [
    "class Atm:\n",
    "    def __init__(self):\n",
    "        self.__pin = \"\"\n",
    "        self.__balance = 0\n",
    "        self.__menu()\n",
    "        \n",
    "    def get_balance(self):\n",
    "        return self.__balance\n",
    "    def set_balance(self,new_value):\n",
    "        if type(new_value) == int:\n",
    "            self.__balance = new_value\n",
    "        else:\n",
    "            print(\"vai akta maro matite porbe na \")\n",
    "            \n",
    "    def __menu(self):\n",
    "        user_input = int(input('''\n",
    "        hii how can i helpe you\n",
    "        1. enter 1 to create pin\n",
    "        2. enter 2 to change pin\n",
    "        3. enter 3 check balance\n",
    "        4.  to withdraw the balance\n",
    "        5. anythings else to exit\n",
    "        '''))\n",
    "        if user_input == 1:\n",
    "            self.create_pin()\n",
    "        elif user_input ==2:\n",
    "            self.change_pin()\n",
    "        elif user_input == 3:\n",
    "            self.check_balance()\n",
    "        elif user_input == 4:\n",
    "            self.withdraw()\n",
    "        else:\n",
    "            exit\n",
    "            \n",
    "    def create_pin(self):\n",
    "        user_pin =input(\"create a pin\")\n",
    "        self.__pin = user_pin\n",
    "        set_balance = int(input(\"enter balance\"))\n",
    "        self.__balance = set_balance\n",
    "        self.__menu()\n",
    "    def change_pin(self):\n",
    "        old_pin = input(\"enter your old pin\")\n",
    "        if self.__pin == old_pin:\n",
    "            new_pin = input(\"enter new pin\")\n",
    "            self.__pin = new_pin\n",
    "            print(\"print creat sucssefull\")\n",
    "        else:\n",
    "            print(\"please answar right pin \")\n",
    "        self.__menu()\n",
    "            \n",
    "    def check_balance(self):\n",
    "        userd_pin = input(\"enter your pin\")\n",
    "        if self.__pin == userd_pin:\n",
    "            print(\"you have\",self.__balance,\"rupee\")\n",
    "        else:\n",
    "            print(\"enter courret pin\")\n",
    "        self.__manu()    \n",
    "        \n",
    "    def withdraw(self):\n",
    "        userd_pin = input(\"enter your pin\")\n",
    "        if self.__pin == userd_pin:\n",
    "            w_balance = int(input(\"enter how much you want\"))\n",
    "            if self.__balance > w_balance:\n",
    "                self.__balance = self.__balance-w_balance\n",
    "                print(\"withdraw sucssefull\")\n",
    "                print(\"this is your exsiting balance\",self.__balance)\n",
    "            else:\n",
    "                print(\"sala gorib\")\n",
    "                \n",
    "        else:\n",
    "            print(\"enter right pin\")\n",
    "            \n",
    "        self.__menu()\n"
   ]
  },
  {
   "cell_type": "code",
   "execution_count": 23,
   "id": "df46b7dd",
   "metadata": {},
   "outputs": [
    {
     "name": "stdout",
     "output_type": "stream",
     "text": [
      "\n",
      "        hii how can i helpe you\n",
      "        1. enter 1 to create pin\n",
      "        2. enter 2 to change pin\n",
      "        3. enter 3 check balance\n",
      "        4.  to withdraw the balance\n",
      "        5. anythings else to exit\n",
      "        5\n"
     ]
    }
   ],
   "source": [
    "obj = Atm()"
   ]
  },
  {
   "cell_type": "code",
   "execution_count": 24,
   "id": "1f4911e1",
   "metadata": {},
   "outputs": [
    {
     "data": {
      "text/plain": [
       "0"
      ]
     },
     "execution_count": 24,
     "metadata": {},
     "output_type": "execute_result"
    }
   ],
   "source": [
    "obj.get_balance()"
   ]
  },
  {
   "cell_type": "code",
   "execution_count": 25,
   "id": "e05f96fd",
   "metadata": {},
   "outputs": [],
   "source": [
    "obj.set_balance(500)"
   ]
  },
  {
   "cell_type": "code",
   "execution_count": 26,
   "id": "cce4624c",
   "metadata": {},
   "outputs": [
    {
     "name": "stdout",
     "output_type": "stream",
     "text": [
      "enter your pin\n",
      "enter how much you want400\n",
      "withdraw sucssefull\n",
      "this is your exsiting balance 100\n",
      "\n",
      "        hii how can i helpe you\n",
      "        1. enter 1 to create pin\n",
      "        2. enter 2 to change pin\n",
      "        3. enter 3 check balance\n",
      "        4.  to withdraw the balance\n",
      "        5. anythings else to exit\n",
      "        5\n"
     ]
    }
   ],
   "source": [
    "obj.withdraw()"
   ]
  },
  {
   "cell_type": "markdown",
   "id": "66560aec",
   "metadata": {},
   "source": [
    "## Collection of objects"
   ]
  },
  {
   "cell_type": "code",
   "execution_count": 28,
   "id": "cac5d2f4",
   "metadata": {},
   "outputs": [
    {
     "name": "stdout",
     "output_type": "stream",
     "text": [
      "dibyendu male\n",
      "shivabrata male\n",
      "sourav male\n"
     ]
    }
   ],
   "source": [
    "# list of objects\n",
    "class Person:\n",
    "    def __init__(self,name,gender):\n",
    "        self.name = name\n",
    "        self.gender = gender\n",
    "\n",
    "p1 = Person('dibyendu','male')\n",
    "p2 = Person('shivabrata','male')\n",
    "p3 = Person('sourav','male')\n",
    "\n",
    "L = [p1,p2,p3]\n",
    "\n",
    "for i in L:\n",
    "    print(i.name,i.gender)"
   ]
  },
  {
   "cell_type": "code",
   "execution_count": 30,
   "id": "e9be351f",
   "metadata": {},
   "outputs": [
    {
     "name": "stdout",
     "output_type": "stream",
     "text": [
      "nitish\n",
      "male\n",
      "ankit\n",
      "male\n",
      "ankita\n",
      "female\n"
     ]
    }
   ],
   "source": [
    "# dict of objects\n",
    "# list of objects\n",
    "class Person:\n",
    "\n",
    "    def __init__(self,name,gender):\n",
    "        self.name = name\n",
    "        self.gender = gender\n",
    "\n",
    "p1 = Person('nitish','male')\n",
    "p2 = Person('ankit','male')\n",
    "p3 = Person('ankita','female')\n",
    "\n",
    "d = {'p1':p1,'p2':p2,'p3':p3}\n",
    "\n",
    "for i in d:\n",
    "    print(d[i].name)\n",
    "    print(d[i].gender)\n",
    "    "
   ]
  },
  {
   "cell_type": "code",
   "execution_count": null,
   "id": "714f8aa3",
   "metadata": {},
   "outputs": [],
   "source": []
  },
  {
   "cell_type": "code",
   "execution_count": 53,
   "id": "5fb2824d",
   "metadata": {},
   "outputs": [],
   "source": [
    "class Atm:\n",
    "    __counter = 1 # static variable\n",
    "    def __init__(self):\n",
    "        self.__pin = \"\"\n",
    "        self.__balance = 0\n",
    "        self.cust_id = Atm.__counter\n",
    "        Atm.__counter = Atm.__counter+1\n",
    "        #self.__menu()\n",
    "    # utility method\n",
    "    @staticmethod    \n",
    "    def get_counter():\n",
    "        return Atm.__counter\n",
    "        \n",
    "    def get_balance(self):\n",
    "        return self.__balance\n",
    "    def set_balance(self,new_value):\n",
    "        if type(new_value) == int:\n",
    "            self.__balance = new_value\n",
    "        else:\n",
    "            print(\"vai akta maro matite porbe na \")\n",
    "            \n",
    "    def __menu(self):\n",
    "        user_input = int(input('''\n",
    "        hii how can i helpe you\n",
    "        1. enter 1 to create pin\n",
    "        2. enter 2 to change pin\n",
    "        3. enter 3 check balance\n",
    "        4.  to withdraw the balance\n",
    "        5. anythings else to exit\n",
    "        '''))\n",
    "        if user_input == 1:\n",
    "            self.create_pin()\n",
    "        elif user_input ==2:\n",
    "            self.change_pin()\n",
    "        elif user_input == 3:\n",
    "            self.check_balance()\n",
    "        elif user_input == 4:\n",
    "            self.withdraw()\n",
    "        else:\n",
    "            exit\n",
    "            \n",
    "    def create_pin(self):\n",
    "        user_pin =input(\"create a pin\")\n",
    "        self.__pin = user_pin\n",
    "        set_balance = int(input(\"enter balance\"))\n",
    "        self.__balance = set_balance\n",
    "        self.__menu()\n",
    "    def change_pin(self):\n",
    "        old_pin = input(\"enter your old pin\")\n",
    "        if self.__pin == old_pin:\n",
    "            new_pin = input(\"enter new pin\")\n",
    "            self.__pin = new_pin\n",
    "            print(\"print creat sucssefull\")\n",
    "        else:\n",
    "            print(\"please answar right pin \")\n",
    "        self.__menu()\n",
    "            \n",
    "    def check_balance(self):\n",
    "        userd_pin = input(\"enter your pin\")\n",
    "        if self.__pin == userd_pin:\n",
    "            print(\"you have\",self.__balance,\"rupee\")\n",
    "        else:\n",
    "            print(\"enter courret pin\")\n",
    "        self.__manu()    \n",
    "        \n",
    "    def withdraw(self):\n",
    "        userd_pin = input(\"enter your pin\")\n",
    "        if self.__pin == userd_pin:\n",
    "            w_balance = int(input(\"enter how much you want\"))\n",
    "            if self.__balance > w_balance:\n",
    "                self.__balance = self.__balance-w_balance\n",
    "                print(\"withdraw sucssefull\")\n",
    "                print(\"this is your exsiting balance\",self.__balance)\n",
    "            else:\n",
    "                print(\"sala gorib\")\n",
    "                \n",
    "        else:\n",
    "            print(\"enter right pin\")\n",
    "            \n",
    "        self.__menu()\n"
   ]
  },
  {
   "cell_type": "code",
   "execution_count": 46,
   "id": "ff198f8d",
   "metadata": {},
   "outputs": [],
   "source": [
    "c1 =Atm()\n",
    "c2 =Atm()\n",
    "c3 =Atm()"
   ]
  },
  {
   "cell_type": "code",
   "execution_count": 47,
   "id": "c5a07a80",
   "metadata": {},
   "outputs": [
    {
     "data": {
      "text/plain": [
       "1"
      ]
     },
     "execution_count": 47,
     "metadata": {},
     "output_type": "execute_result"
    }
   ],
   "source": [
    "c1.cust_id"
   ]
  },
  {
   "cell_type": "code",
   "execution_count": 48,
   "id": "fcccd20f",
   "metadata": {},
   "outputs": [
    {
     "data": {
      "text/plain": [
       "2"
      ]
     },
     "execution_count": 48,
     "metadata": {},
     "output_type": "execute_result"
    }
   ],
   "source": [
    "c2.cust_id"
   ]
  },
  {
   "cell_type": "code",
   "execution_count": 49,
   "id": "f13761e4",
   "metadata": {},
   "outputs": [
    {
     "data": {
      "text/plain": [
       "3"
      ]
     },
     "execution_count": 49,
     "metadata": {},
     "output_type": "execute_result"
    }
   ],
   "source": [
    "c3.cust_id"
   ]
  },
  {
   "cell_type": "code",
   "execution_count": 50,
   "id": "820d6f9a",
   "metadata": {},
   "outputs": [
    {
     "data": {
      "text/plain": [
       "4"
      ]
     },
     "execution_count": 50,
     "metadata": {},
     "output_type": "execute_result"
    }
   ],
   "source": [
    "Atm.counter"
   ]
  },
  {
   "cell_type": "code",
   "execution_count": 51,
   "id": "61155080",
   "metadata": {},
   "outputs": [],
   "source": [
    "Atm.counter = \"hehe\""
   ]
  },
  {
   "cell_type": "code",
   "execution_count": 52,
   "id": "bdd0a205",
   "metadata": {},
   "outputs": [
    {
     "ename": "TypeError",
     "evalue": "can only concatenate str (not \"int\") to str",
     "output_type": "error",
     "traceback": [
      "\u001b[1;31m---------------------------------------------------------------------------\u001b[0m",
      "\u001b[1;31mTypeError\u001b[0m                                 Traceback (most recent call last)",
      "Input \u001b[1;32mIn [52]\u001b[0m, in \u001b[0;36m<cell line: 1>\u001b[1;34m()\u001b[0m\n\u001b[1;32m----> 1\u001b[0m c1 \u001b[38;5;241m=\u001b[39m \u001b[43mAtm\u001b[49m\u001b[43m(\u001b[49m\u001b[43m)\u001b[49m\n",
      "Input \u001b[1;32mIn [45]\u001b[0m, in \u001b[0;36mAtm.__init__\u001b[1;34m(self)\u001b[0m\n\u001b[0;32m      5\u001b[0m \u001b[38;5;28mself\u001b[39m\u001b[38;5;241m.\u001b[39m__balance \u001b[38;5;241m=\u001b[39m \u001b[38;5;241m0\u001b[39m\n\u001b[0;32m      6\u001b[0m \u001b[38;5;28mself\u001b[39m\u001b[38;5;241m.\u001b[39mcust_id \u001b[38;5;241m=\u001b[39m Atm\u001b[38;5;241m.\u001b[39mcounter\n\u001b[1;32m----> 7\u001b[0m Atm\u001b[38;5;241m.\u001b[39mcounter \u001b[38;5;241m=\u001b[39m \u001b[43mAtm\u001b[49m\u001b[38;5;241;43m.\u001b[39;49m\u001b[43mcounter\u001b[49m\u001b[38;5;241;43m+\u001b[39;49m\u001b[38;5;241;43m1\u001b[39;49m\n",
      "\u001b[1;31mTypeError\u001b[0m: can only concatenate str (not \"int\") to str"
     ]
    }
   ],
   "source": [
    "c1 = Atm()"
   ]
  },
  {
   "cell_type": "code",
   "execution_count": null,
   "id": "14c9774e",
   "metadata": {},
   "outputs": [],
   "source": []
  }
 ],
 "metadata": {
  "kernelspec": {
   "display_name": "Python 3 (ipykernel)",
   "language": "python",
   "name": "python3"
  },
  "language_info": {
   "codemirror_mode": {
    "name": "ipython",
    "version": 3
   },
   "file_extension": ".py",
   "mimetype": "text/x-python",
   "name": "python",
   "nbconvert_exporter": "python",
   "pygments_lexer": "ipython3",
   "version": "3.9.12"
  }
 },
 "nbformat": 4,
 "nbformat_minor": 5
}
