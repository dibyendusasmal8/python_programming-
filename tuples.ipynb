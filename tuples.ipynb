{
 "cells": [
  {
   "cell_type": "markdown",
   "id": "e2073843",
   "metadata": {},
   "source": [
    "# Tuples:\n",
    " * Create\n",
    " * Access\n",
    " * Edit\n",
    " * Add\n",
    " * Delete\n",
    " * Operation\n",
    " * Funtions"
   ]
  },
  {
   "cell_type": "markdown",
   "id": "60edb6bb",
   "metadata": {},
   "source": [
    "## Create "
   ]
  },
  {
   "cell_type": "code",
   "execution_count": 1,
   "id": "e79a5ebb",
   "metadata": {},
   "outputs": [
    {
     "data": {
      "text/plain": [
       "()"
      ]
     },
     "execution_count": 1,
     "metadata": {},
     "output_type": "execute_result"
    }
   ],
   "source": [
    "# empty tuples\n",
    "T1 = ()\n",
    "T1"
   ]
  },
  {
   "cell_type": "code",
   "execution_count": 2,
   "id": "68693cbe",
   "metadata": {},
   "outputs": [
    {
     "data": {
      "text/plain": [
       "(1, 2, 3, 4)"
      ]
     },
     "execution_count": 2,
     "metadata": {},
     "output_type": "execute_result"
    }
   ],
   "source": [
    "# homogenius tuples\n",
    "t = (1,2,3,4)\n",
    "t"
   ]
  },
  {
   "cell_type": "code",
   "execution_count": 3,
   "id": "cb8b78ac",
   "metadata": {},
   "outputs": [
    {
     "data": {
      "text/plain": [
       "('hello world', 1, 2, 'What')"
      ]
     },
     "execution_count": 3,
     "metadata": {},
     "output_type": "execute_result"
    }
   ],
   "source": [
    "# hetarogenius tuples\n",
    "t1 = (\"hello world\",1,2,\"What\")\n",
    "t1"
   ]
  },
  {
   "cell_type": "code",
   "execution_count": 4,
   "id": "6bff04b0",
   "metadata": {},
   "outputs": [
    {
     "data": {
      "text/plain": [
       "(1, 2, (3, 1), (5, 3))"
      ]
     },
     "execution_count": 4,
     "metadata": {},
     "output_type": "execute_result"
    }
   ],
   "source": [
    "# nested tuples\n",
    "t2 = (1,2,(3,1),(5,3))\n",
    "t2"
   ]
  },
  {
   "cell_type": "code",
   "execution_count": 5,
   "id": "ae875ed3",
   "metadata": {},
   "outputs": [],
   "source": [
    "# singel item tuples"
   ]
  },
  {
   "cell_type": "code",
   "execution_count": 6,
   "id": "b7b5f4ef",
   "metadata": {},
   "outputs": [
    {
     "data": {
      "text/plain": [
       "int"
      ]
     },
     "execution_count": 6,
     "metadata": {},
     "output_type": "execute_result"
    }
   ],
   "source": [
    "t3 = (5)\n",
    "type(t3)"
   ]
  },
  {
   "cell_type": "code",
   "execution_count": 7,
   "id": "38e40efa",
   "metadata": {},
   "outputs": [
    {
     "data": {
      "text/plain": [
       "str"
      ]
     },
     "execution_count": 7,
     "metadata": {},
     "output_type": "execute_result"
    }
   ],
   "source": [
    "t4 = (\"hello\")\n",
    "type(t4)"
   ]
  },
  {
   "cell_type": "code",
   "execution_count": 9,
   "id": "32d177b7",
   "metadata": {},
   "outputs": [
    {
     "data": {
      "text/plain": [
       "tuple"
      ]
     },
     "execution_count": 9,
     "metadata": {},
     "output_type": "execute_result"
    }
   ],
   "source": [
    "# this is how we make this singel item tuple\n",
    "t5 = (5,)\n",
    "type(t5)"
   ]
  },
  {
   "cell_type": "code",
   "execution_count": 10,
   "id": "8bd67525",
   "metadata": {},
   "outputs": [
    {
     "data": {
      "text/plain": [
       "tuple"
      ]
     },
     "execution_count": 10,
     "metadata": {},
     "output_type": "execute_result"
    }
   ],
   "source": [
    "t6 = (\"hello\",)\n",
    "type(t6)"
   ]
  },
  {
   "cell_type": "code",
   "execution_count": 11,
   "id": "4c779eeb",
   "metadata": {},
   "outputs": [
    {
     "data": {
      "text/plain": [
       "('h', 'e', 'l', 'l', 'o')"
      ]
     },
     "execution_count": 11,
     "metadata": {},
     "output_type": "execute_result"
    }
   ],
   "source": [
    "t7 = tuple(\"hello\")\n",
    "t7"
   ]
  },
  {
   "cell_type": "code",
   "execution_count": 12,
   "id": "e1127d92",
   "metadata": {},
   "outputs": [
    {
     "data": {
      "text/plain": [
       "(1, 2, 3, 4, 5, 6)"
      ]
     },
     "execution_count": 12,
     "metadata": {},
     "output_type": "execute_result"
    }
   ],
   "source": [
    "t8 = tuple([1,2,3,4,5,6])\n",
    "t8"
   ]
  },
  {
   "cell_type": "markdown",
   "id": "cb2a7e53",
   "metadata": {},
   "source": [
    "## Access"
   ]
  },
  {
   "cell_type": "code",
   "execution_count": 13,
   "id": "93dc2674",
   "metadata": {},
   "outputs": [
    {
     "data": {
      "text/plain": [
       "1"
      ]
     },
     "execution_count": 13,
     "metadata": {},
     "output_type": "execute_result"
    }
   ],
   "source": [
    "t8[0]"
   ]
  },
  {
   "cell_type": "code",
   "execution_count": 14,
   "id": "ee1b20c1",
   "metadata": {},
   "outputs": [
    {
     "data": {
      "text/plain": [
       "(1, 2, 3, 4, 5)"
      ]
     },
     "execution_count": 14,
     "metadata": {},
     "output_type": "execute_result"
    }
   ],
   "source": [
    "t8[0:5]"
   ]
  },
  {
   "cell_type": "markdown",
   "id": "679fe9d1",
   "metadata": {},
   "source": [
    "## Edtin"
   ]
  },
  {
   "cell_type": "code",
   "execution_count": 15,
   "id": "1a3cd192",
   "metadata": {},
   "outputs": [],
   "source": [
    "# tuple is imutable object , that's why we don't have access to edit this "
   ]
  },
  {
   "cell_type": "code",
   "execution_count": 17,
   "id": "9908832e",
   "metadata": {},
   "outputs": [
    {
     "ename": "TypeError",
     "evalue": "'tuple' object does not support item assignment",
     "output_type": "error",
     "traceback": [
      "\u001b[1;31m---------------------------------------------------------------------------\u001b[0m",
      "\u001b[1;31mTypeError\u001b[0m                                 Traceback (most recent call last)",
      "Input \u001b[1;32mIn [17]\u001b[0m, in \u001b[0;36m<cell line: 1>\u001b[1;34m()\u001b[0m\n\u001b[1;32m----> 1\u001b[0m t8[\u001b[38;5;241m0\u001b[39m] \u001b[38;5;241m=\u001b[39m \u001b[38;5;241m100\u001b[39m\n",
      "\u001b[1;31mTypeError\u001b[0m: 'tuple' object does not support item assignment"
     ]
    }
   ],
   "source": [
    "t8[0] = 100"
   ]
  },
  {
   "cell_type": "markdown",
   "id": "6c62fa3d",
   "metadata": {},
   "source": [
    "## Add\n",
    "we can not access to add another item on tuple becuse tuple is a imutable data type"
   ]
  },
  {
   "cell_type": "code",
   "execution_count": 18,
   "id": "c01ea647",
   "metadata": {},
   "outputs": [
    {
     "ename": "AttributeError",
     "evalue": "'tuple' object has no attribute 'append'",
     "output_type": "error",
     "traceback": [
      "\u001b[1;31m---------------------------------------------------------------------------\u001b[0m",
      "\u001b[1;31mAttributeError\u001b[0m                            Traceback (most recent call last)",
      "Input \u001b[1;32mIn [18]\u001b[0m, in \u001b[0;36m<cell line: 1>\u001b[1;34m()\u001b[0m\n\u001b[1;32m----> 1\u001b[0m \u001b[43mt8\u001b[49m\u001b[38;5;241;43m.\u001b[39;49m\u001b[43mappend\u001b[49m(\u001b[38;5;241m10\u001b[39m)\n",
      "\u001b[1;31mAttributeError\u001b[0m: 'tuple' object has no attribute 'append'"
     ]
    }
   ],
   "source": [
    "t8.append(10)"
   ]
  },
  {
   "cell_type": "markdown",
   "id": "ea477b19",
   "metadata": {},
   "source": [
    "## Delete "
   ]
  },
  {
   "cell_type": "code",
   "execution_count": 19,
   "id": "7f64639c",
   "metadata": {},
   "outputs": [],
   "source": [
    "del(t8)"
   ]
  },
  {
   "cell_type": "code",
   "execution_count": 20,
   "id": "3c74f6b3",
   "metadata": {},
   "outputs": [
    {
     "ename": "NameError",
     "evalue": "name 't8' is not defined",
     "output_type": "error",
     "traceback": [
      "\u001b[1;31m---------------------------------------------------------------------------\u001b[0m",
      "\u001b[1;31mNameError\u001b[0m                                 Traceback (most recent call last)",
      "Input \u001b[1;32mIn [20]\u001b[0m, in \u001b[0;36m<cell line: 1>\u001b[1;34m()\u001b[0m\n\u001b[1;32m----> 1\u001b[0m \u001b[43mt8\u001b[49m\n",
      "\u001b[1;31mNameError\u001b[0m: name 't8' is not defined"
     ]
    }
   ],
   "source": [
    "t8"
   ]
  },
  {
   "cell_type": "code",
   "execution_count": 21,
   "id": "c6dc404c",
   "metadata": {},
   "outputs": [
    {
     "ename": "TypeError",
     "evalue": "'tuple' object doesn't support item deletion",
     "output_type": "error",
     "traceback": [
      "\u001b[1;31m---------------------------------------------------------------------------\u001b[0m",
      "\u001b[1;31mTypeError\u001b[0m                                 Traceback (most recent call last)",
      "Input \u001b[1;32mIn [21]\u001b[0m, in \u001b[0;36m<cell line: 1>\u001b[1;34m()\u001b[0m\n\u001b[1;32m----> 1\u001b[0m \u001b[38;5;28;01mdel\u001b[39;00m t7[\u001b[38;5;241m0\u001b[39m]\n",
      "\u001b[1;31mTypeError\u001b[0m: 'tuple' object doesn't support item deletion"
     ]
    }
   ],
   "source": [
    "del t7[0]"
   ]
  },
  {
   "cell_type": "markdown",
   "id": "547dae4c",
   "metadata": {},
   "source": [
    "## Operation"
   ]
  },
  {
   "cell_type": "code",
   "execution_count": 22,
   "id": "34e1da9b",
   "metadata": {},
   "outputs": [
    {
     "data": {
      "text/plain": [
       "(1, 2, 3, 4, 5, 6)"
      ]
     },
     "execution_count": 22,
     "metadata": {},
     "output_type": "execute_result"
    }
   ],
   "source": [
    "h = (1,2,3)\n",
    "m = (4,5,6)\n",
    "h+m"
   ]
  },
  {
   "cell_type": "code",
   "execution_count": 23,
   "id": "637d8f27",
   "metadata": {},
   "outputs": [
    {
     "data": {
      "text/plain": [
       "(1, 2, 3, 1, 2, 3, 1, 2, 3)"
      ]
     },
     "execution_count": 23,
     "metadata": {},
     "output_type": "execute_result"
    }
   ],
   "source": [
    "h * 3"
   ]
  },
  {
   "cell_type": "markdown",
   "id": "9af15376",
   "metadata": {},
   "source": [
    "## Funtions"
   ]
  },
  {
   "cell_type": "code",
   "execution_count": 24,
   "id": "d6fa7f14",
   "metadata": {},
   "outputs": [],
   "source": [
    "j = (5,4,9,7,2,6,10)"
   ]
  },
  {
   "cell_type": "code",
   "execution_count": 25,
   "id": "51d49309",
   "metadata": {},
   "outputs": [
    {
     "data": {
      "text/plain": [
       "2"
      ]
     },
     "execution_count": 25,
     "metadata": {},
     "output_type": "execute_result"
    }
   ],
   "source": [
    "min(j)"
   ]
  },
  {
   "cell_type": "code",
   "execution_count": 26,
   "id": "c84e3501",
   "metadata": {},
   "outputs": [
    {
     "data": {
      "text/plain": [
       "10"
      ]
     },
     "execution_count": 26,
     "metadata": {},
     "output_type": "execute_result"
    }
   ],
   "source": [
    "max(j)"
   ]
  },
  {
   "cell_type": "code",
   "execution_count": 28,
   "id": "92b26c35",
   "metadata": {},
   "outputs": [
    {
     "data": {
      "text/plain": [
       "[2, 4, 5, 6, 7, 9, 10]"
      ]
     },
     "execution_count": 28,
     "metadata": {},
     "output_type": "execute_result"
    }
   ],
   "source": [
    "sorted(j)"
   ]
  },
  {
   "cell_type": "code",
   "execution_count": 29,
   "id": "472c35bb",
   "metadata": {},
   "outputs": [
    {
     "data": {
      "text/plain": [
       "[10, 9, 7, 6, 5, 4, 2]"
      ]
     },
     "execution_count": 29,
     "metadata": {},
     "output_type": "execute_result"
    }
   ],
   "source": [
    "sorted(j, reverse=True)"
   ]
  },
  {
   "cell_type": "code",
   "execution_count": 31,
   "id": "5cd4b370",
   "metadata": {},
   "outputs": [
    {
     "ename": "AttributeError",
     "evalue": "'tuple' object has no attribute 'sort'",
     "output_type": "error",
     "traceback": [
      "\u001b[1;31m---------------------------------------------------------------------------\u001b[0m",
      "\u001b[1;31mAttributeError\u001b[0m                            Traceback (most recent call last)",
      "Input \u001b[1;32mIn [31]\u001b[0m, in \u001b[0;36m<cell line: 1>\u001b[1;34m()\u001b[0m\n\u001b[1;32m----> 1\u001b[0m \u001b[43mj\u001b[49m\u001b[38;5;241;43m.\u001b[39;49m\u001b[43msort\u001b[49m()\n",
      "\u001b[1;31mAttributeError\u001b[0m: 'tuple' object has no attribute 'sort'"
     ]
    }
   ],
   "source": [
    "j.sort()"
   ]
  },
  {
   "cell_type": "code",
   "execution_count": 32,
   "id": "ca951de0",
   "metadata": {},
   "outputs": [],
   "source": [
    "# one things we need to understand tuple is a read_only data type"
   ]
  },
  {
   "cell_type": "code",
   "execution_count": null,
   "id": "f49ac0bb",
   "metadata": {},
   "outputs": [],
   "source": []
  }
 ],
 "metadata": {
  "kernelspec": {
   "display_name": "Python 3 (ipykernel)",
   "language": "python",
   "name": "python3"
  },
  "language_info": {
   "codemirror_mode": {
    "name": "ipython",
    "version": 3
   },
   "file_extension": ".py",
   "mimetype": "text/x-python",
   "name": "python",
   "nbconvert_exporter": "python",
   "pygments_lexer": "ipython3",
   "version": "3.9.12"
  }
 },
 "nbformat": 4,
 "nbformat_minor": 5
}
