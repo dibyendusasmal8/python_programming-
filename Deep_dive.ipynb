{
 "cells": [
  {
   "cell_type": "markdown",
   "id": "e111d397",
   "metadata": {},
   "source": [
    "# Weird stuff\n",
    " * 1. getrefcount anomaly\n",
    " * 2. -5 to 256\n",
    " * 3. strings"
   ]
  },
  {
   "cell_type": "code",
   "execution_count": 19,
   "id": "ad5e523e",
   "metadata": {},
   "outputs": [],
   "source": [
    "# getrefcount anomaly\n",
    "a= 2\n",
    "b=a\n",
    "c=b"
   ]
  },
  {
   "cell_type": "code",
   "execution_count": 3,
   "id": "bb498e74",
   "metadata": {},
   "outputs": [
    {
     "data": {
      "text/plain": [
       "1672114563408"
      ]
     },
     "execution_count": 3,
     "metadata": {},
     "output_type": "execute_result"
    }
   ],
   "source": [
    "id(a)"
   ]
  },
  {
   "cell_type": "code",
   "execution_count": 4,
   "id": "998c751e",
   "metadata": {},
   "outputs": [
    {
     "data": {
      "text/plain": [
       "1672114563408"
      ]
     },
     "execution_count": 4,
     "metadata": {},
     "output_type": "execute_result"
    }
   ],
   "source": [
    "id(b)"
   ]
  },
  {
   "cell_type": "code",
   "execution_count": 5,
   "id": "c405a621",
   "metadata": {},
   "outputs": [
    {
     "data": {
      "text/plain": [
       "1672114563408"
      ]
     },
     "execution_count": 5,
     "metadata": {},
     "output_type": "execute_result"
    }
   ],
   "source": [
    "id(c)"
   ]
  },
  {
   "cell_type": "code",
   "execution_count": 23,
   "id": "bc193673",
   "metadata": {},
   "outputs": [],
   "source": [
    "import sys"
   ]
  },
  {
   "cell_type": "code",
   "execution_count": 7,
   "id": "a5ef9745",
   "metadata": {},
   "outputs": [
    {
     "data": {
      "text/plain": [
       "3835"
      ]
     },
     "execution_count": 7,
     "metadata": {},
     "output_type": "execute_result"
    }
   ],
   "source": [
    "sys.getrefcount(a)"
   ]
  },
  {
   "cell_type": "code",
   "execution_count": 24,
   "id": "0cfa405f",
   "metadata": {},
   "outputs": [],
   "source": [
    "a= 775\n",
    "b=a\n",
    "c=b"
   ]
  },
  {
   "cell_type": "code",
   "execution_count": 25,
   "id": "4aadf71b",
   "metadata": {},
   "outputs": [
    {
     "data": {
      "text/plain": [
       "4"
      ]
     },
     "execution_count": 25,
     "metadata": {},
     "output_type": "execute_result"
    }
   ],
   "source": [
    "sys.getrefcount(a)"
   ]
  },
  {
   "cell_type": "code",
   "execution_count": 26,
   "id": "4dd71814",
   "metadata": {},
   "outputs": [],
   "source": [
    "a= 71574565\n",
    "b=a\n",
    "c=b"
   ]
  },
  {
   "cell_type": "code",
   "execution_count": 27,
   "id": "6e6b23f7",
   "metadata": {},
   "outputs": [
    {
     "data": {
      "text/plain": [
       "4"
      ]
     },
     "execution_count": 27,
     "metadata": {},
     "output_type": "execute_result"
    }
   ],
   "source": [
    "sys.getrefcount(a)\n"
   ]
  },
  {
   "cell_type": "code",
   "execution_count": 28,
   "id": "54a18d8d",
   "metadata": {},
   "outputs": [],
   "source": [
    "# -5 to 256\n",
    "a=12\n",
    "b=12\n",
    "c=12"
   ]
  },
  {
   "cell_type": "code",
   "execution_count": 29,
   "id": "5c3c78fe",
   "metadata": {},
   "outputs": [
    {
     "data": {
      "text/plain": [
       "2226851375760"
      ]
     },
     "execution_count": 29,
     "metadata": {},
     "output_type": "execute_result"
    }
   ],
   "source": [
    "id(a)"
   ]
  },
  {
   "cell_type": "code",
   "execution_count": 30,
   "id": "f505fe44",
   "metadata": {},
   "outputs": [
    {
     "data": {
      "text/plain": [
       "2226851375760"
      ]
     },
     "execution_count": 30,
     "metadata": {},
     "output_type": "execute_result"
    }
   ],
   "source": [
    "id(b)"
   ]
  },
  {
   "cell_type": "code",
   "execution_count": 31,
   "id": "f63979c3",
   "metadata": {},
   "outputs": [
    {
     "data": {
      "text/plain": [
       "2226851375760"
      ]
     },
     "execution_count": 31,
     "metadata": {},
     "output_type": "execute_result"
    }
   ],
   "source": [
    "id(c)"
   ]
  },
  {
   "cell_type": "code",
   "execution_count": 32,
   "id": "d4e55a5f",
   "metadata": {},
   "outputs": [],
   "source": [
    "a=255\n",
    "b=255\n",
    "c=255"
   ]
  },
  {
   "cell_type": "code",
   "execution_count": 35,
   "id": "85551adb",
   "metadata": {},
   "outputs": [
    {
     "data": {
      "text/plain": [
       "2226851572080"
      ]
     },
     "execution_count": 35,
     "metadata": {},
     "output_type": "execute_result"
    }
   ],
   "source": [
    "id(a)"
   ]
  },
  {
   "cell_type": "code",
   "execution_count": 36,
   "id": "b73041f8",
   "metadata": {},
   "outputs": [
    {
     "data": {
      "text/plain": [
       "2226851572080"
      ]
     },
     "execution_count": 36,
     "metadata": {},
     "output_type": "execute_result"
    }
   ],
   "source": [
    "id(b)"
   ]
  },
  {
   "cell_type": "code",
   "execution_count": 37,
   "id": "84a7d5b3",
   "metadata": {},
   "outputs": [
    {
     "data": {
      "text/plain": [
       "2226851572080"
      ]
     },
     "execution_count": 37,
     "metadata": {},
     "output_type": "execute_result"
    }
   ],
   "source": [
    "id(c)"
   ]
  },
  {
   "cell_type": "code",
   "execution_count": 40,
   "id": "0d55d4bf",
   "metadata": {},
   "outputs": [],
   "source": [
    "a=258\n",
    "b=258\n",
    "c=258"
   ]
  },
  {
   "cell_type": "code",
   "execution_count": 41,
   "id": "f71cefd2",
   "metadata": {},
   "outputs": [
    {
     "data": {
      "text/plain": [
       "2224818987216"
      ]
     },
     "execution_count": 41,
     "metadata": {},
     "output_type": "execute_result"
    }
   ],
   "source": [
    "id(a)"
   ]
  },
  {
   "cell_type": "code",
   "execution_count": 42,
   "id": "c496ca2c",
   "metadata": {},
   "outputs": [
    {
     "data": {
      "text/plain": [
       "2224818988624"
      ]
     },
     "execution_count": 42,
     "metadata": {},
     "output_type": "execute_result"
    }
   ],
   "source": [
    "id(b)"
   ]
  },
  {
   "cell_type": "code",
   "execution_count": 43,
   "id": "07c59681",
   "metadata": {},
   "outputs": [
    {
     "data": {
      "text/plain": [
       "2224818988880"
      ]
     },
     "execution_count": 43,
     "metadata": {},
     "output_type": "execute_result"
    }
   ],
   "source": [
    "id(c)"
   ]
  },
  {
   "cell_type": "code",
   "execution_count": 44,
   "id": "6b83f603",
   "metadata": {},
   "outputs": [],
   "source": [
    "a=-5\n",
    "b=-5\n",
    "c=-5"
   ]
  },
  {
   "cell_type": "code",
   "execution_count": 45,
   "id": "f345e586",
   "metadata": {},
   "outputs": [
    {
     "data": {
      "text/plain": [
       "2226851375216"
      ]
     },
     "execution_count": 45,
     "metadata": {},
     "output_type": "execute_result"
    }
   ],
   "source": [
    "id(a)"
   ]
  },
  {
   "cell_type": "code",
   "execution_count": 46,
   "id": "b05b41cf",
   "metadata": {},
   "outputs": [
    {
     "data": {
      "text/plain": [
       "2226851375216"
      ]
     },
     "execution_count": 46,
     "metadata": {},
     "output_type": "execute_result"
    }
   ],
   "source": [
    "id(b)"
   ]
  },
  {
   "cell_type": "code",
   "execution_count": 47,
   "id": "c7263f7a",
   "metadata": {},
   "outputs": [
    {
     "data": {
      "text/plain": [
       "2226851375216"
      ]
     },
     "execution_count": 47,
     "metadata": {},
     "output_type": "execute_result"
    }
   ],
   "source": [
    "id(c)"
   ]
  },
  {
   "cell_type": "code",
   "execution_count": 48,
   "id": "b4ae34fc",
   "metadata": {},
   "outputs": [],
   "source": [
    "a=-6\n",
    "b=-6\n",
    "c=-6"
   ]
  },
  {
   "cell_type": "code",
   "execution_count": 49,
   "id": "ed2f834d",
   "metadata": {},
   "outputs": [
    {
     "data": {
      "text/plain": [
       "2224818989296"
      ]
     },
     "execution_count": 49,
     "metadata": {},
     "output_type": "execute_result"
    }
   ],
   "source": [
    "id(a)"
   ]
  },
  {
   "cell_type": "code",
   "execution_count": 50,
   "id": "c76522f7",
   "metadata": {},
   "outputs": [
    {
     "data": {
      "text/plain": [
       "2224818989200"
      ]
     },
     "execution_count": 50,
     "metadata": {},
     "output_type": "execute_result"
    }
   ],
   "source": [
    "id(b)"
   ]
  },
  {
   "cell_type": "code",
   "execution_count": 51,
   "id": "1c14ea36",
   "metadata": {},
   "outputs": [
    {
     "data": {
      "text/plain": [
       "2224818989168"
      ]
     },
     "execution_count": 51,
     "metadata": {},
     "output_type": "execute_result"
    }
   ],
   "source": [
    "id(c)"
   ]
  },
  {
   "cell_type": "code",
   "execution_count": 52,
   "id": "267da932",
   "metadata": {},
   "outputs": [],
   "source": [
    "# string weird behaviour\n",
    "a = \"hello\"\n",
    "b=a\n",
    "c=b"
   ]
  },
  {
   "cell_type": "code",
   "execution_count": 2,
   "id": "48c0039a",
   "metadata": {},
   "outputs": [
    {
     "data": {
      "text/plain": [
       "2226933992624"
      ]
     },
     "execution_count": 2,
     "metadata": {},
     "output_type": "execute_result"
    }
   ],
   "source": [
    "id(a)"
   ]
  },
  {
   "cell_type": "code",
   "execution_count": 3,
   "id": "ef635ae9",
   "metadata": {},
   "outputs": [
    {
     "data": {
      "text/plain": [
       "2226933992624"
      ]
     },
     "execution_count": 3,
     "metadata": {},
     "output_type": "execute_result"
    }
   ],
   "source": [
    "id(b)"
   ]
  },
  {
   "cell_type": "code",
   "execution_count": 4,
   "id": "df135344",
   "metadata": {},
   "outputs": [
    {
     "data": {
      "text/plain": [
       "2226933992624"
      ]
     },
     "execution_count": 4,
     "metadata": {},
     "output_type": "execute_result"
    }
   ],
   "source": [
    "id(c)"
   ]
  },
  {
   "cell_type": "code",
   "execution_count": 9,
   "id": "3c0ca77f",
   "metadata": {},
   "outputs": [],
   "source": [
    "a = \"hello my name is dibyendu\"\n",
    "b=  \"hello my name is dibyendu\"\n",
    "c= \"hello my name is dibyendu\""
   ]
  },
  {
   "cell_type": "code",
   "execution_count": 10,
   "id": "31cafd2d",
   "metadata": {},
   "outputs": [
    {
     "data": {
      "text/plain": [
       "2226937794032"
      ]
     },
     "execution_count": 10,
     "metadata": {},
     "output_type": "execute_result"
    }
   ],
   "source": [
    "id(a)"
   ]
  },
  {
   "cell_type": "code",
   "execution_count": 11,
   "id": "0cad6e72",
   "metadata": {},
   "outputs": [
    {
     "data": {
      "text/plain": [
       "2226937793792"
      ]
     },
     "execution_count": 11,
     "metadata": {},
     "output_type": "execute_result"
    }
   ],
   "source": [
    "id(b)"
   ]
  },
  {
   "cell_type": "code",
   "execution_count": 12,
   "id": "5099f2a5",
   "metadata": {},
   "outputs": [
    {
     "data": {
      "text/plain": [
       "2226937793072"
      ]
     },
     "execution_count": 12,
     "metadata": {},
     "output_type": "execute_result"
    }
   ],
   "source": [
    "id(c)"
   ]
  },
  {
   "cell_type": "code",
   "execution_count": 13,
   "id": "cc726e49",
   "metadata": {},
   "outputs": [],
   "source": [
    "a = \"hello_my_name_is_dibyendu\"\n",
    "b=  \"hello_my_name_is_dibyendu\"\n",
    "c= \"hello_my_name_is_dibyendu\""
   ]
  },
  {
   "cell_type": "code",
   "execution_count": 14,
   "id": "db8b75de",
   "metadata": {},
   "outputs": [
    {
     "data": {
      "text/plain": [
       "2226938085744"
      ]
     },
     "execution_count": 14,
     "metadata": {},
     "output_type": "execute_result"
    }
   ],
   "source": [
    "id(a)"
   ]
  },
  {
   "cell_type": "code",
   "execution_count": 15,
   "id": "0a01f0e7",
   "metadata": {},
   "outputs": [
    {
     "data": {
      "text/plain": [
       "2226938085744"
      ]
     },
     "execution_count": 15,
     "metadata": {},
     "output_type": "execute_result"
    }
   ],
   "source": [
    "id(b)"
   ]
  },
  {
   "cell_type": "code",
   "execution_count": 16,
   "id": "f7867993",
   "metadata": {},
   "outputs": [
    {
     "data": {
      "text/plain": [
       "2226938085744"
      ]
     },
     "execution_count": 16,
     "metadata": {},
     "output_type": "execute_result"
    }
   ],
   "source": [
    "id(c)"
   ]
  },
  {
   "cell_type": "code",
   "execution_count": 18,
   "id": "f411a5ab",
   "metadata": {},
   "outputs": [],
   "source": [
    "# the memory address is same beacase the variable value conseder a perfect valid identifire"
   ]
  },
  {
   "cell_type": "markdown",
   "id": "f5731571",
   "metadata": {},
   "source": [
    "# List storege "
   ]
  },
  {
   "cell_type": "code",
   "execution_count": 53,
   "id": "a51d41f6",
   "metadata": {},
   "outputs": [],
   "source": [
    "l=[10,12,13]"
   ]
  },
  {
   "cell_type": "code",
   "execution_count": 54,
   "id": "1660aea0",
   "metadata": {},
   "outputs": [
    {
     "data": {
      "text/plain": [
       "2224819088896"
      ]
     },
     "execution_count": 54,
     "metadata": {},
     "output_type": "execute_result"
    }
   ],
   "source": [
    "id(l)"
   ]
  },
  {
   "cell_type": "code",
   "execution_count": 55,
   "id": "3e321c87",
   "metadata": {},
   "outputs": [
    {
     "data": {
      "text/plain": [
       "2226851375696"
      ]
     },
     "execution_count": 55,
     "metadata": {},
     "output_type": "execute_result"
    }
   ],
   "source": [
    "id(10)"
   ]
  },
  {
   "cell_type": "code",
   "execution_count": 56,
   "id": "a4a75ded",
   "metadata": {},
   "outputs": [
    {
     "data": {
      "text/plain": [
       "2226851375696"
      ]
     },
     "execution_count": 56,
     "metadata": {},
     "output_type": "execute_result"
    }
   ],
   "source": [
    "id(l[0])"
   ]
  },
  {
   "cell_type": "code",
   "execution_count": 57,
   "id": "e44479ed",
   "metadata": {},
   "outputs": [
    {
     "data": {
      "text/plain": [
       "2226851375760"
      ]
     },
     "execution_count": 57,
     "metadata": {},
     "output_type": "execute_result"
    }
   ],
   "source": [
    "id(12)"
   ]
  },
  {
   "cell_type": "code",
   "execution_count": 58,
   "id": "a7f42c44",
   "metadata": {},
   "outputs": [
    {
     "data": {
      "text/plain": [
       "2226851375760"
      ]
     },
     "execution_count": 58,
     "metadata": {},
     "output_type": "execute_result"
    }
   ],
   "source": [
    "id(l[1])"
   ]
  },
  {
   "cell_type": "code",
   "execution_count": 59,
   "id": "7b9ec1bc",
   "metadata": {},
   "outputs": [
    {
     "data": {
      "text/plain": [
       "2226851375792"
      ]
     },
     "execution_count": 59,
     "metadata": {},
     "output_type": "execute_result"
    }
   ],
   "source": [
    "id(13)"
   ]
  },
  {
   "cell_type": "code",
   "execution_count": 60,
   "id": "922960c0",
   "metadata": {},
   "outputs": [
    {
     "data": {
      "text/plain": [
       "2226851375792"
      ]
     },
     "execution_count": 60,
     "metadata": {},
     "output_type": "execute_result"
    }
   ],
   "source": [
    "id(l[2])"
   ]
  },
  {
   "cell_type": "code",
   "execution_count": 61,
   "id": "0b1346ac",
   "metadata": {},
   "outputs": [],
   "source": [
    "l[2]=10"
   ]
  },
  {
   "cell_type": "code",
   "execution_count": 62,
   "id": "111b9bfb",
   "metadata": {},
   "outputs": [
    {
     "data": {
      "text/plain": [
       "[10, 12, 10]"
      ]
     },
     "execution_count": 62,
     "metadata": {},
     "output_type": "execute_result"
    }
   ],
   "source": [
    "l"
   ]
  },
  {
   "cell_type": "code",
   "execution_count": 63,
   "id": "37d6463f",
   "metadata": {},
   "outputs": [
    {
     "data": {
      "text/plain": [
       "2226851375696"
      ]
     },
     "execution_count": 63,
     "metadata": {},
     "output_type": "execute_result"
    }
   ],
   "source": [
    "id(l[2])"
   ]
  },
  {
   "cell_type": "code",
   "execution_count": 65,
   "id": "977d6ea5",
   "metadata": {},
   "outputs": [
    {
     "data": {
      "text/plain": [
       "2226851375696"
      ]
     },
     "execution_count": 65,
     "metadata": {},
     "output_type": "execute_result"
    }
   ],
   "source": [
    "id(l[0])"
   ]
  },
  {
   "cell_type": "code",
   "execution_count": 67,
   "id": "848fb538",
   "metadata": {},
   "outputs": [
    {
     "data": {
      "text/plain": [
       "2226851375696"
      ]
     },
     "execution_count": 67,
     "metadata": {},
     "output_type": "execute_result"
    }
   ],
   "source": [
    "id(10)"
   ]
  },
  {
   "cell_type": "markdown",
   "id": "ffaf28df",
   "metadata": {},
   "source": [
    "# Mutability :\n",
    "       mutability refers to the ability to change or edit data in it's memory loction "
   ]
  },
  {
   "cell_type": "code",
   "execution_count": 68,
   "id": "513b3962",
   "metadata": {},
   "outputs": [],
   "source": [
    "a = \"hello\""
   ]
  },
  {
   "cell_type": "code",
   "execution_count": 69,
   "id": "c400cdc6",
   "metadata": {},
   "outputs": [
    {
     "data": {
      "text/plain": [
       "2226933992624"
      ]
     },
     "execution_count": 69,
     "metadata": {},
     "output_type": "execute_result"
    }
   ],
   "source": [
    "id(a)"
   ]
  },
  {
   "cell_type": "code",
   "execution_count": 70,
   "id": "60900734",
   "metadata": {},
   "outputs": [],
   "source": [
    "a=a+\"world\""
   ]
  },
  {
   "cell_type": "code",
   "execution_count": 71,
   "id": "74aed83e",
   "metadata": {},
   "outputs": [
    {
     "data": {
      "text/plain": [
       "'helloworld'"
      ]
     },
     "execution_count": 71,
     "metadata": {},
     "output_type": "execute_result"
    }
   ],
   "source": [
    "a"
   ]
  },
  {
   "cell_type": "code",
   "execution_count": 74,
   "id": "8511d142",
   "metadata": {},
   "outputs": [
    {
     "data": {
      "text/plain": [
       "2224819096624"
      ]
     },
     "execution_count": 74,
     "metadata": {},
     "output_type": "execute_result"
    }
   ],
   "source": [
    "id(a)"
   ]
  },
  {
   "cell_type": "code",
   "execution_count": 75,
   "id": "c5f053fe",
   "metadata": {},
   "outputs": [],
   "source": [
    "t = (1,2,3)"
   ]
  },
  {
   "cell_type": "code",
   "execution_count": 76,
   "id": "5769c33d",
   "metadata": {},
   "outputs": [
    {
     "data": {
      "text/plain": [
       "2224819341632"
      ]
     },
     "execution_count": 76,
     "metadata": {},
     "output_type": "execute_result"
    }
   ],
   "source": [
    "id(t)"
   ]
  },
  {
   "cell_type": "code",
   "execution_count": 77,
   "id": "9cb6ca94",
   "metadata": {},
   "outputs": [],
   "source": [
    "t = t+(4,5)"
   ]
  },
  {
   "cell_type": "code",
   "execution_count": 78,
   "id": "b979a99c",
   "metadata": {},
   "outputs": [
    {
     "data": {
      "text/plain": [
       "(1, 2, 3, 4, 5)"
      ]
     },
     "execution_count": 78,
     "metadata": {},
     "output_type": "execute_result"
    }
   ],
   "source": [
    "t"
   ]
  },
  {
   "cell_type": "code",
   "execution_count": 79,
   "id": "c4366970",
   "metadata": {},
   "outputs": [
    {
     "data": {
      "text/plain": [
       "2224819475696"
      ]
     },
     "execution_count": 79,
     "metadata": {},
     "output_type": "execute_result"
    }
   ],
   "source": [
    "id(t)"
   ]
  },
  {
   "cell_type": "code",
   "execution_count": 80,
   "id": "d65a4357",
   "metadata": {},
   "outputs": [],
   "source": [
    "l =[1,2,3]"
   ]
  },
  {
   "cell_type": "code",
   "execution_count": 82,
   "id": "9941e4d5",
   "metadata": {},
   "outputs": [
    {
     "data": {
      "text/plain": [
       "2224819049280"
      ]
     },
     "execution_count": 82,
     "metadata": {},
     "output_type": "execute_result"
    }
   ],
   "source": [
    "id(l)"
   ]
  },
  {
   "cell_type": "code",
   "execution_count": 83,
   "id": "43c93099",
   "metadata": {},
   "outputs": [],
   "source": [
    "l.append(4)"
   ]
  },
  {
   "cell_type": "code",
   "execution_count": 84,
   "id": "a3870620",
   "metadata": {},
   "outputs": [
    {
     "data": {
      "text/plain": [
       "[1, 2, 3, 4]"
      ]
     },
     "execution_count": 84,
     "metadata": {},
     "output_type": "execute_result"
    }
   ],
   "source": [
    "l"
   ]
  },
  {
   "cell_type": "code",
   "execution_count": 85,
   "id": "b4084d95",
   "metadata": {},
   "outputs": [
    {
     "data": {
      "text/plain": [
       "2224819049280"
      ]
     },
     "execution_count": 85,
     "metadata": {},
     "output_type": "execute_result"
    }
   ],
   "source": [
    "id(l)"
   ]
  },
  {
   "cell_type": "markdown",
   "id": "e9719765",
   "metadata": {},
   "source": [
    "# cloning "
   ]
  },
  {
   "cell_type": "code",
   "execution_count": 87,
   "id": "47ac3454",
   "metadata": {},
   "outputs": [],
   "source": [
    "l = [1,2,3,4 ]"
   ]
  },
  {
   "cell_type": "code",
   "execution_count": 88,
   "id": "4d1bb288",
   "metadata": {},
   "outputs": [],
   "source": [
    "l1 = l[:]"
   ]
  },
  {
   "cell_type": "code",
   "execution_count": 89,
   "id": "91feb8ac",
   "metadata": {},
   "outputs": [
    {
     "data": {
      "text/plain": [
       "2224821845312"
      ]
     },
     "execution_count": 89,
     "metadata": {},
     "output_type": "execute_result"
    }
   ],
   "source": [
    "id(l)"
   ]
  },
  {
   "cell_type": "code",
   "execution_count": 90,
   "id": "593febdb",
   "metadata": {},
   "outputs": [
    {
     "data": {
      "text/plain": [
       "2224821844736"
      ]
     },
     "execution_count": 90,
     "metadata": {},
     "output_type": "execute_result"
    }
   ],
   "source": [
    "id(l1)"
   ]
  },
  {
   "cell_type": "code",
   "execution_count": 91,
   "id": "d930ecbb",
   "metadata": {},
   "outputs": [],
   "source": [
    "l1.append(5)"
   ]
  },
  {
   "cell_type": "code",
   "execution_count": 92,
   "id": "3cb0242b",
   "metadata": {},
   "outputs": [
    {
     "data": {
      "text/plain": [
       "[1, 2, 3, 4, 5]"
      ]
     },
     "execution_count": 92,
     "metadata": {},
     "output_type": "execute_result"
    }
   ],
   "source": [
    "l1"
   ]
  },
  {
   "cell_type": "code",
   "execution_count": 97,
   "id": "4ccc993c",
   "metadata": {},
   "outputs": [],
   "source": [
    "a = (1,2,3,[1,2])"
   ]
  },
  {
   "cell_type": "code",
   "execution_count": 98,
   "id": "317b260b",
   "metadata": {},
   "outputs": [
    {
     "data": {
      "text/plain": [
       "2226938109680"
      ]
     },
     "execution_count": 98,
     "metadata": {},
     "output_type": "execute_result"
    }
   ],
   "source": [
    "id(a)"
   ]
  },
  {
   "cell_type": "code",
   "execution_count": 99,
   "id": "18dff76c",
   "metadata": {},
   "outputs": [],
   "source": [
    "a[-1][-1] = 500"
   ]
  },
  {
   "cell_type": "code",
   "execution_count": 100,
   "id": "09607086",
   "metadata": {},
   "outputs": [
    {
     "data": {
      "text/plain": [
       "(1, 2, 3, [1, 500])"
      ]
     },
     "execution_count": 100,
     "metadata": {},
     "output_type": "execute_result"
    }
   ],
   "source": [
    "a"
   ]
  },
  {
   "cell_type": "code",
   "execution_count": 101,
   "id": "b1c94bf0",
   "metadata": {},
   "outputs": [
    {
     "data": {
      "text/plain": [
       "2226938109680"
      ]
     },
     "execution_count": 101,
     "metadata": {},
     "output_type": "execute_result"
    }
   ],
   "source": [
    "id(a)"
   ]
  },
  {
   "cell_type": "code",
   "execution_count": 102,
   "id": "86042d50",
   "metadata": {},
   "outputs": [],
   "source": [
    "b = [1,2,3,(4,5)]"
   ]
  },
  {
   "cell_type": "code",
   "execution_count": 104,
   "id": "b4009248",
   "metadata": {},
   "outputs": [
    {
     "ename": "TypeError",
     "evalue": "'tuple' object does not support item assignment",
     "output_type": "error",
     "traceback": [
      "\u001b[1;31m---------------------------------------------------------------------------\u001b[0m",
      "\u001b[1;31mTypeError\u001b[0m                                 Traceback (most recent call last)",
      "Input \u001b[1;32mIn [104]\u001b[0m, in \u001b[0;36m<cell line: 1>\u001b[1;34m()\u001b[0m\n\u001b[1;32m----> 1\u001b[0m b[\u001b[38;5;241m-\u001b[39m\u001b[38;5;241m1\u001b[39m][\u001b[38;5;241m-\u001b[39m\u001b[38;5;241m1\u001b[39m] \u001b[38;5;241m=\u001b[39m \u001b[38;5;241m500\u001b[39m\n",
      "\u001b[1;31mTypeError\u001b[0m: 'tuple' object does not support item assignment"
     ]
    }
   ],
   "source": [
    "b[-1][-1] = 500"
   ]
  },
  {
   "cell_type": "code",
   "execution_count": 111,
   "id": "bf0b17a4",
   "metadata": {},
   "outputs": [],
   "source": [
    "a = [1,2]\n",
    "b = [3,4]\n",
    "c=(a,b)"
   ]
  },
  {
   "cell_type": "code",
   "execution_count": 112,
   "id": "82c1fe90",
   "metadata": {},
   "outputs": [
    {
     "data": {
      "text/plain": [
       "2224819386432"
      ]
     },
     "execution_count": 112,
     "metadata": {},
     "output_type": "execute_result"
    }
   ],
   "source": [
    "id(c)"
   ]
  },
  {
   "cell_type": "code",
   "execution_count": 113,
   "id": "a2bfe7aa",
   "metadata": {},
   "outputs": [],
   "source": [
    "c[-1][-1] = 400"
   ]
  },
  {
   "cell_type": "code",
   "execution_count": 114,
   "id": "cd704ee5",
   "metadata": {},
   "outputs": [
    {
     "data": {
      "text/plain": [
       "([1, 2], [3, 400])"
      ]
     },
     "execution_count": 114,
     "metadata": {},
     "output_type": "execute_result"
    }
   ],
   "source": [
    "c"
   ]
  },
  {
   "cell_type": "code",
   "execution_count": 115,
   "id": "22569cec",
   "metadata": {},
   "outputs": [
    {
     "data": {
      "text/plain": [
       "2224819386432"
      ]
     },
     "execution_count": 115,
     "metadata": {},
     "output_type": "execute_result"
    }
   ],
   "source": [
    "id(c)"
   ]
  },
  {
   "cell_type": "code",
   "execution_count": 120,
   "id": "85819b23",
   "metadata": {},
   "outputs": [
    {
     "ename": "TypeError",
     "evalue": "'tuple' object does not support item assignment",
     "output_type": "error",
     "traceback": [
      "\u001b[1;31m---------------------------------------------------------------------------\u001b[0m",
      "\u001b[1;31mTypeError\u001b[0m                                 Traceback (most recent call last)",
      "Input \u001b[1;32mIn [120]\u001b[0m, in \u001b[0;36m<cell line: 1>\u001b[1;34m()\u001b[0m\n\u001b[1;32m----> 1\u001b[0m c[\u001b[38;5;241m0\u001b[39m]\u001b[38;5;241m=\u001b[39m c[\u001b[38;5;241m0\u001b[39m] \u001b[38;5;241m+\u001b[39m [\u001b[38;5;241m5\u001b[39m,\u001b[38;5;241m6\u001b[39m]\n",
      "\u001b[1;31mTypeError\u001b[0m: 'tuple' object does not support item assignment"
     ]
    }
   ],
   "source": [
    "c[0]= c[0] + [5,6]"
   ]
  },
  {
   "cell_type": "code",
   "execution_count": 121,
   "id": "e8214994",
   "metadata": {},
   "outputs": [],
   "source": [
    "a = a+[10,12]"
   ]
  },
  {
   "cell_type": "code",
   "execution_count": 124,
   "id": "d62b8fb1",
   "metadata": {},
   "outputs": [],
   "source": [
    "# here no change beacuse a concate mean a's memory addres are change .\n",
    "# and tuple don't alow change the memory address"
   ]
  },
  {
   "cell_type": "code",
   "execution_count": 122,
   "id": "948e8322",
   "metadata": {},
   "outputs": [
    {
     "data": {
      "text/plain": [
       "([1, 2], [3, 400])"
      ]
     },
     "execution_count": 122,
     "metadata": {},
     "output_type": "execute_result"
    }
   ],
   "source": [
    "c"
   ]
  },
  {
   "cell_type": "code",
   "execution_count": 117,
   "id": "90486070",
   "metadata": {},
   "outputs": [
    {
     "data": {
      "text/plain": [
       "2224821880384"
      ]
     },
     "execution_count": 117,
     "metadata": {},
     "output_type": "execute_result"
    }
   ],
   "source": [
    "#list\n",
    "l = [1,2,3]\n",
    "id(l)"
   ]
  },
  {
   "cell_type": "code",
   "execution_count": 118,
   "id": "5b3b1a54",
   "metadata": {},
   "outputs": [],
   "source": [
    "l = l+[12]"
   ]
  },
  {
   "cell_type": "code",
   "execution_count": 119,
   "id": "df62954e",
   "metadata": {},
   "outputs": [
    {
     "data": {
      "text/plain": [
       "2224822216064"
      ]
     },
     "execution_count": 119,
     "metadata": {},
     "output_type": "execute_result"
    }
   ],
   "source": [
    "id(l)"
   ]
  },
  {
   "cell_type": "code",
   "execution_count": null,
   "id": "254a5d33",
   "metadata": {},
   "outputs": [],
   "source": []
  }
 ],
 "metadata": {
  "kernelspec": {
   "display_name": "Python 3 (ipykernel)",
   "language": "python",
   "name": "python3"
  },
  "language_info": {
   "codemirror_mode": {
    "name": "ipython",
    "version": 3
   },
   "file_extension": ".py",
   "mimetype": "text/x-python",
   "name": "python",
   "nbconvert_exporter": "python",
   "pygments_lexer": "ipython3",
   "version": "3.9.12"
  }
 },
 "nbformat": 4,
 "nbformat_minor": 5
}
