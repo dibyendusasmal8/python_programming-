{
 "cells": [
  {
   "cell_type": "code",
   "execution_count": 1,
   "id": "97007f11",
   "metadata": {},
   "outputs": [],
   "source": [
    "l3 = [1,2,3,[4,5]]"
   ]
  },
  {
   "cell_type": "code",
   "execution_count": 2,
   "id": "8a5de062",
   "metadata": {},
   "outputs": [
    {
     "data": {
      "text/plain": [
       "4"
      ]
     },
     "execution_count": 2,
     "metadata": {},
     "output_type": "execute_result"
    }
   ],
   "source": [
    "l3[3][0]"
   ]
  },
  {
   "cell_type": "code",
   "execution_count": 3,
   "id": "5065882f",
   "metadata": {},
   "outputs": [
    {
     "data": {
      "text/plain": [
       "4"
      ]
     },
     "execution_count": 3,
     "metadata": {},
     "output_type": "execute_result"
    }
   ],
   "source": [
    "# also we can write this\n",
    "l3[-1][0]"
   ]
  },
  {
   "cell_type": "code",
   "execution_count": 4,
   "id": "9df9089a",
   "metadata": {},
   "outputs": [],
   "source": [
    "l=[[[1,2],[2,4]],[[5,6],[7,8]]]"
   ]
  },
  {
   "cell_type": "code",
   "execution_count": 5,
   "id": "faf148d0",
   "metadata": {},
   "outputs": [
    {
     "data": {
      "text/plain": [
       "7"
      ]
     },
     "execution_count": 5,
     "metadata": {},
     "output_type": "execute_result"
    }
   ],
   "source": [
    "l[-1][-1][0]"
   ]
  },
  {
   "cell_type": "code",
   "execution_count": 6,
   "id": "680f5d45",
   "metadata": {},
   "outputs": [
    {
     "data": {
      "text/plain": [
       "7"
      ]
     },
     "execution_count": 6,
     "metadata": {},
     "output_type": "execute_result"
    }
   ],
   "source": [
    "# aslo we can write this \n",
    "l[1][1][0]"
   ]
  },
  {
   "cell_type": "markdown",
   "id": "12304a73",
   "metadata": {},
   "source": [
    "# Edit "
   ]
  },
  {
   "cell_type": "code",
   "execution_count": 1,
   "id": "2fc768c1",
   "metadata": {},
   "outputs": [],
   "source": [
    "\n",
    "l = [1,2,3,4,5,6,7]"
   ]
  },
  {
   "cell_type": "code",
   "execution_count": 2,
   "id": "58635dbb",
   "metadata": {},
   "outputs": [],
   "source": [
    "l[0] = 100"
   ]
  },
  {
   "cell_type": "code",
   "execution_count": 3,
   "id": "bd3d218b",
   "metadata": {},
   "outputs": [
    {
     "data": {
      "text/plain": [
       "[100, 2, 3, 4, 5, 6, 7]"
      ]
     },
     "execution_count": 3,
     "metadata": {},
     "output_type": "execute_result"
    }
   ],
   "source": [
    "l"
   ]
  },
  {
   "cell_type": "code",
   "execution_count": 4,
   "id": "b2ed093e",
   "metadata": {},
   "outputs": [],
   "source": [
    "l[-1] = 700"
   ]
  },
  {
   "cell_type": "code",
   "execution_count": 5,
   "id": "f6d6642a",
   "metadata": {},
   "outputs": [
    {
     "data": {
      "text/plain": [
       "[100, 2, 3, 4, 5, 6, 700]"
      ]
     },
     "execution_count": 5,
     "metadata": {},
     "output_type": "execute_result"
    }
   ],
   "source": [
    "l"
   ]
  },
  {
   "cell_type": "code",
   "execution_count": 6,
   "id": "a2a15eaf",
   "metadata": {},
   "outputs": [],
   "source": [
    "l[1:6] = [200,300,400,500,600]"
   ]
  },
  {
   "cell_type": "code",
   "execution_count": 13,
   "id": "892191e8",
   "metadata": {},
   "outputs": [
    {
     "data": {
      "text/plain": [
       "[100, 200, 300, 400, 500, 600, 700]"
      ]
     },
     "execution_count": 13,
     "metadata": {},
     "output_type": "execute_result"
    }
   ],
   "source": [
    "l"
   ]
  },
  {
   "cell_type": "code",
   "execution_count": 7,
   "id": "b08a2dab",
   "metadata": {},
   "outputs": [],
   "source": [
    "l[:3] = [1000,2000,3000]"
   ]
  },
  {
   "cell_type": "code",
   "execution_count": 8,
   "id": "7092472a",
   "metadata": {},
   "outputs": [
    {
     "data": {
      "text/plain": [
       "[1000, 2000, 3000, 400, 500, 600, 700]"
      ]
     },
     "execution_count": 8,
     "metadata": {},
     "output_type": "execute_result"
    }
   ],
   "source": [
    "l"
   ]
  },
  {
   "cell_type": "code",
   "execution_count": 9,
   "id": "418a5188",
   "metadata": {},
   "outputs": [],
   "source": [
    "l[-4:] = [4000,5000,6000,7000]"
   ]
  },
  {
   "cell_type": "code",
   "execution_count": 10,
   "id": "71a5f0ea",
   "metadata": {},
   "outputs": [
    {
     "data": {
      "text/plain": [
       "[1000, 2000, 3000, 4000, 5000, 6000, 7000]"
      ]
     },
     "execution_count": 10,
     "metadata": {},
     "output_type": "execute_result"
    }
   ],
   "source": [
    "l"
   ]
  },
  {
   "cell_type": "markdown",
   "id": "427bace5",
   "metadata": {},
   "source": [
    "# add new eliment"
   ]
  },
  {
   "cell_type": "code",
   "execution_count": 11,
   "id": "8fa04cf3",
   "metadata": {},
   "outputs": [],
   "source": [
    "l.append(8000)"
   ]
  },
  {
   "cell_type": "code",
   "execution_count": 12,
   "id": "169798dc",
   "metadata": {},
   "outputs": [
    {
     "data": {
      "text/plain": [
       "[1000, 2000, 3000, 4000, 5000, 6000, 7000, 8000]"
      ]
     },
     "execution_count": 12,
     "metadata": {},
     "output_type": "execute_result"
    }
   ],
   "source": [
    "l"
   ]
  },
  {
   "cell_type": "code",
   "execution_count": 13,
   "id": "45b06228",
   "metadata": {},
   "outputs": [],
   "source": [
    "l.append(\"hello\")"
   ]
  },
  {
   "cell_type": "code",
   "execution_count": 24,
   "id": "44af81e2",
   "metadata": {},
   "outputs": [
    {
     "data": {
      "text/plain": [
       "[1000,\n",
       " 2000,\n",
       " 3000,\n",
       " 4000,\n",
       " 5000,\n",
       " 6000,\n",
       " 7000,\n",
       " 4000,\n",
       " 5000,\n",
       " 6000,\n",
       " 7000,\n",
       " 8000,\n",
       " 'hello']"
      ]
     },
     "execution_count": 24,
     "metadata": {},
     "output_type": "execute_result"
    }
   ],
   "source": [
    "l"
   ]
  },
  {
   "cell_type": "code",
   "execution_count": 14,
   "id": "bc0eefc8",
   "metadata": {},
   "outputs": [],
   "source": [
    "l.extend([1000,11000,12000])"
   ]
  },
  {
   "cell_type": "code",
   "execution_count": 15,
   "id": "9f139334",
   "metadata": {},
   "outputs": [
    {
     "data": {
      "text/plain": [
       "[1000, 2000, 3000, 4000, 5000, 6000, 7000, 8000, 'hello', 1000, 11000, 12000]"
      ]
     },
     "execution_count": 15,
     "metadata": {},
     "output_type": "execute_result"
    }
   ],
   "source": [
    "l"
   ]
  },
  {
   "cell_type": "code",
   "execution_count": 16,
   "id": "8e8b70e9",
   "metadata": {},
   "outputs": [],
   "source": [
    "l.extend(\"goa\")"
   ]
  },
  {
   "cell_type": "code",
   "execution_count": 17,
   "id": "790f10ec",
   "metadata": {},
   "outputs": [
    {
     "data": {
      "text/plain": [
       "[1000,\n",
       " 2000,\n",
       " 3000,\n",
       " 4000,\n",
       " 5000,\n",
       " 6000,\n",
       " 7000,\n",
       " 8000,\n",
       " 'hello',\n",
       " 1000,\n",
       " 11000,\n",
       " 12000,\n",
       " 'g',\n",
       " 'o',\n",
       " 'a']"
      ]
     },
     "execution_count": 17,
     "metadata": {},
     "output_type": "execute_result"
    }
   ],
   "source": [
    "l"
   ]
  },
  {
   "cell_type": "code",
   "execution_count": 18,
   "id": "33fb980c",
   "metadata": {},
   "outputs": [],
   "source": [
    "l.append([1,2])"
   ]
  },
  {
   "cell_type": "code",
   "execution_count": 19,
   "id": "f19d65d6",
   "metadata": {},
   "outputs": [
    {
     "data": {
      "text/plain": [
       "[1000,\n",
       " 2000,\n",
       " 3000,\n",
       " 4000,\n",
       " 5000,\n",
       " 6000,\n",
       " 7000,\n",
       " 8000,\n",
       " 'hello',\n",
       " 1000,\n",
       " 11000,\n",
       " 12000,\n",
       " 'g',\n",
       " 'o',\n",
       " 'a',\n",
       " [1, 2]]"
      ]
     },
     "execution_count": 19,
     "metadata": {},
     "output_type": "execute_result"
    }
   ],
   "source": [
    "l"
   ]
  },
  {
   "cell_type": "code",
   "execution_count": 20,
   "id": "134d742d",
   "metadata": {},
   "outputs": [],
   "source": [
    "l.insert(1,\"world\") # here first one is index number second is valu what you want to add"
   ]
  },
  {
   "cell_type": "code",
   "execution_count": 33,
   "id": "d1829e8e",
   "metadata": {},
   "outputs": [
    {
     "data": {
      "text/plain": [
       "[1000,\n",
       " 'world',\n",
       " 2000,\n",
       " 3000,\n",
       " 4000,\n",
       " 5000,\n",
       " 6000,\n",
       " 7000,\n",
       " 4000,\n",
       " 5000,\n",
       " 6000,\n",
       " 7000,\n",
       " 8000,\n",
       " 'hello',\n",
       " 1000,\n",
       " 11000,\n",
       " 12000,\n",
       " 'g',\n",
       " 'o',\n",
       " 'a',\n",
       " [1, 2]]"
      ]
     },
     "execution_count": 33,
     "metadata": {},
     "output_type": "execute_result"
    }
   ],
   "source": [
    "l"
   ]
  },
  {
   "cell_type": "markdown",
   "id": "eafb4b0b",
   "metadata": {},
   "source": [
    "# Delete\n",
    " * del\n",
    " * remove\n",
    " * pop\n",
    " * clear"
   ]
  },
  {
   "cell_type": "code",
   "execution_count": 21,
   "id": "4a42d6bd",
   "metadata": {},
   "outputs": [],
   "source": [
    "l2 = [\"dibyendu\",1,2,52]"
   ]
  },
  {
   "cell_type": "code",
   "execution_count": 22,
   "id": "3bfc5d49",
   "metadata": {},
   "outputs": [],
   "source": [
    "del l2"
   ]
  },
  {
   "cell_type": "code",
   "execution_count": 23,
   "id": "1ac0da8d",
   "metadata": {},
   "outputs": [
    {
     "ename": "NameError",
     "evalue": "name 'l2' is not defined",
     "output_type": "error",
     "traceback": [
      "\u001b[1;31m---------------------------------------------------------------------------\u001b[0m",
      "\u001b[1;31mNameError\u001b[0m                                 Traceback (most recent call last)",
      "Input \u001b[1;32mIn [23]\u001b[0m, in \u001b[0;36m<cell line: 1>\u001b[1;34m()\u001b[0m\n\u001b[1;32m----> 1\u001b[0m \u001b[43ml2\u001b[49m\n",
      "\u001b[1;31mNameError\u001b[0m: name 'l2' is not defined"
     ]
    }
   ],
   "source": [
    "l2"
   ]
  },
  {
   "cell_type": "code",
   "execution_count": 24,
   "id": "09446e22",
   "metadata": {},
   "outputs": [
    {
     "data": {
      "text/plain": [
       "[1000,\n",
       " 'world',\n",
       " 2000,\n",
       " 3000,\n",
       " 4000,\n",
       " 5000,\n",
       " 6000,\n",
       " 7000,\n",
       " 8000,\n",
       " 'hello',\n",
       " 1000,\n",
       " 11000,\n",
       " 12000,\n",
       " 'g',\n",
       " 'o',\n",
       " 'a',\n",
       " [1, 2]]"
      ]
     },
     "execution_count": 24,
     "metadata": {},
     "output_type": "execute_result"
    }
   ],
   "source": [
    "l"
   ]
  },
  {
   "cell_type": "code",
   "execution_count": 25,
   "id": "df588a00",
   "metadata": {},
   "outputs": [],
   "source": [
    "del l[1]"
   ]
  },
  {
   "cell_type": "code",
   "execution_count": 26,
   "id": "7dbb059f",
   "metadata": {},
   "outputs": [
    {
     "data": {
      "text/plain": [
       "[1000,\n",
       " 2000,\n",
       " 3000,\n",
       " 4000,\n",
       " 5000,\n",
       " 6000,\n",
       " 7000,\n",
       " 8000,\n",
       " 'hello',\n",
       " 1000,\n",
       " 11000,\n",
       " 12000,\n",
       " 'g',\n",
       " 'o',\n",
       " 'a',\n",
       " [1, 2]]"
      ]
     },
     "execution_count": 26,
     "metadata": {},
     "output_type": "execute_result"
    }
   ],
   "source": [
    "l"
   ]
  },
  {
   "cell_type": "code",
   "execution_count": 27,
   "id": "ec6b6bbe",
   "metadata": {},
   "outputs": [],
   "source": [
    "del l[-8:]"
   ]
  },
  {
   "cell_type": "code",
   "execution_count": 28,
   "id": "4126b0b8",
   "metadata": {},
   "outputs": [
    {
     "data": {
      "text/plain": [
       "[1000, 2000, 3000, 4000, 5000, 6000, 7000, 8000]"
      ]
     },
     "execution_count": 28,
     "metadata": {},
     "output_type": "execute_result"
    }
   ],
   "source": [
    "l"
   ]
  },
  {
   "cell_type": "code",
   "execution_count": 29,
   "id": "78aac280",
   "metadata": {},
   "outputs": [],
   "source": [
    "l.remove(1000)"
   ]
  },
  {
   "cell_type": "code",
   "execution_count": 30,
   "id": "6b2d7063",
   "metadata": {},
   "outputs": [
    {
     "data": {
      "text/plain": [
       "[2000, 3000, 4000, 5000, 6000, 7000, 8000]"
      ]
     },
     "execution_count": 30,
     "metadata": {},
     "output_type": "execute_result"
    }
   ],
   "source": [
    "l"
   ]
  },
  {
   "cell_type": "code",
   "execution_count": 35,
   "id": "c5083dca",
   "metadata": {},
   "outputs": [
    {
     "data": {
      "text/plain": [
       "7000"
      ]
     },
     "execution_count": 35,
     "metadata": {},
     "output_type": "execute_result"
    }
   ],
   "source": [
    "l.pop() # this is a funtion to remove last data int he list"
   ]
  },
  {
   "cell_type": "code",
   "execution_count": 36,
   "id": "846b592c",
   "metadata": {},
   "outputs": [
    {
     "data": {
      "text/plain": [
       "[2000, 3000, 4000, 5000, 6000]"
      ]
     },
     "execution_count": 36,
     "metadata": {},
     "output_type": "execute_result"
    }
   ],
   "source": [
    "l"
   ]
  },
  {
   "cell_type": "code",
   "execution_count": 37,
   "id": "750955e0",
   "metadata": {},
   "outputs": [],
   "source": [
    "l.clear()"
   ]
  },
  {
   "cell_type": "code",
   "execution_count": 38,
   "id": "c3a10944",
   "metadata": {},
   "outputs": [
    {
     "data": {
      "text/plain": [
       "[]"
      ]
     },
     "execution_count": 38,
     "metadata": {},
     "output_type": "execute_result"
    }
   ],
   "source": [
    "l"
   ]
  },
  {
   "cell_type": "markdown",
   "id": "bb51e7f8",
   "metadata": {},
   "source": [
    "# list oparation "
   ]
  },
  {
   "cell_type": "code",
   "execution_count": 42,
   "id": "0b0776a3",
   "metadata": {},
   "outputs": [],
   "source": [
    "L1 = [1,2,3,4]\n",
    "L2 = [5,6,7,7,8]"
   ]
  },
  {
   "cell_type": "code",
   "execution_count": 43,
   "id": "a07b2b10",
   "metadata": {},
   "outputs": [
    {
     "data": {
      "text/plain": [
       "[1, 2, 3, 4, 5, 6, 7, 7, 8]"
      ]
     },
     "execution_count": 43,
     "metadata": {},
     "output_type": "execute_result"
    }
   ],
   "source": [
    "L1+L2"
   ]
  },
  {
   "cell_type": "code",
   "execution_count": 44,
   "id": "0486c53e",
   "metadata": {},
   "outputs": [
    {
     "data": {
      "text/plain": [
       "[1, 2, 3, 4, 1, 2, 3, 4, 1, 2, 3, 4]"
      ]
     },
     "execution_count": 44,
     "metadata": {},
     "output_type": "execute_result"
    }
   ],
   "source": [
    "L1*3"
   ]
  },
  {
   "cell_type": "code",
   "execution_count": 45,
   "id": "d043150e",
   "metadata": {},
   "outputs": [
    {
     "data": {
      "text/plain": [
       "True"
      ]
     },
     "execution_count": 45,
     "metadata": {},
     "output_type": "execute_result"
    }
   ],
   "source": [
    "4 in L1"
   ]
  },
  {
   "cell_type": "code",
   "execution_count": 46,
   "id": "693497c5",
   "metadata": {},
   "outputs": [
    {
     "data": {
      "text/plain": [
       "False"
      ]
     },
     "execution_count": 46,
     "metadata": {},
     "output_type": "execute_result"
    }
   ],
   "source": [
    "7 in L1"
   ]
  },
  {
   "cell_type": "code",
   "execution_count": 47,
   "id": "d7ae42ff",
   "metadata": {},
   "outputs": [
    {
     "name": "stdout",
     "output_type": "stream",
     "text": [
      "1\n",
      "2\n",
      "3\n",
      "4\n"
     ]
    }
   ],
   "source": [
    "for i in L1:\n",
    "    print(i)"
   ]
  },
  {
   "cell_type": "code",
   "execution_count": 48,
   "id": "88211cd3",
   "metadata": {},
   "outputs": [],
   "source": [
    "n = [1,2,3,4,[5,6]]\n"
   ]
  },
  {
   "cell_type": "code",
   "execution_count": 49,
   "id": "46f89e5e",
   "metadata": {},
   "outputs": [
    {
     "data": {
      "text/plain": [
       "True"
      ]
     },
     "execution_count": 49,
     "metadata": {},
     "output_type": "execute_result"
    }
   ],
   "source": [
    "4 in n"
   ]
  },
  {
   "cell_type": "code",
   "execution_count": 50,
   "id": "71671430",
   "metadata": {},
   "outputs": [
    {
     "data": {
      "text/plain": [
       "False"
      ]
     },
     "execution_count": 50,
     "metadata": {},
     "output_type": "execute_result"
    }
   ],
   "source": [
    "5 in n"
   ]
  },
  {
   "cell_type": "code",
   "execution_count": 51,
   "id": "9597fd6a",
   "metadata": {},
   "outputs": [
    {
     "data": {
      "text/plain": [
       "True"
      ]
     },
     "execution_count": 51,
     "metadata": {},
     "output_type": "execute_result"
    }
   ],
   "source": [
    "[5,6] in n"
   ]
  },
  {
   "cell_type": "code",
   "execution_count": 57,
   "id": "e97addc9",
   "metadata": {},
   "outputs": [],
   "source": [
    "h = [8,2,6,4]"
   ]
  },
  {
   "cell_type": "code",
   "execution_count": 58,
   "id": "23b76cb5",
   "metadata": {},
   "outputs": [
    {
     "data": {
      "text/plain": [
       "2"
      ]
     },
     "execution_count": 58,
     "metadata": {},
     "output_type": "execute_result"
    }
   ],
   "source": [
    "min(h)"
   ]
  },
  {
   "cell_type": "code",
   "execution_count": 59,
   "id": "4074b7ee",
   "metadata": {},
   "outputs": [
    {
     "data": {
      "text/plain": [
       "8"
      ]
     },
     "execution_count": 59,
     "metadata": {},
     "output_type": "execute_result"
    }
   ],
   "source": [
    "max(h)"
   ]
  },
  {
   "cell_type": "code",
   "execution_count": 62,
   "id": "13083c55",
   "metadata": {},
   "outputs": [
    {
     "data": {
      "text/plain": [
       "4"
      ]
     },
     "execution_count": 62,
     "metadata": {},
     "output_type": "execute_result"
    }
   ],
   "source": [
    "len(h)"
   ]
  },
  {
   "cell_type": "code",
   "execution_count": 63,
   "id": "01f35232",
   "metadata": {},
   "outputs": [
    {
     "data": {
      "text/plain": [
       "[2, 4, 6, 8]"
      ]
     },
     "execution_count": 63,
     "metadata": {},
     "output_type": "execute_result"
    }
   ],
   "source": [
    "sorted(h) # this sort not efect main list it's creat a new list"
   ]
  },
  {
   "cell_type": "code",
   "execution_count": 64,
   "id": "4d9fcc3b",
   "metadata": {},
   "outputs": [
    {
     "data": {
      "text/plain": [
       "[8, 6, 4, 2]"
      ]
     },
     "execution_count": 64,
     "metadata": {},
     "output_type": "execute_result"
    }
   ],
   "source": [
    "sorted(h,reverse=True)"
   ]
  },
  {
   "cell_type": "code",
   "execution_count": 65,
   "id": "2a713f78",
   "metadata": {},
   "outputs": [
    {
     "data": {
      "text/plain": [
       "[8, 2, 6, 4]"
      ]
     },
     "execution_count": 65,
     "metadata": {},
     "output_type": "execute_result"
    }
   ],
   "source": [
    "h"
   ]
  },
  {
   "cell_type": "code",
   "execution_count": 67,
   "id": "f9c7c171",
   "metadata": {},
   "outputs": [],
   "source": [
    "h.sort() # this sort funtion efect parmanet in main list"
   ]
  },
  {
   "cell_type": "code",
   "execution_count": 68,
   "id": "6a77eb5d",
   "metadata": {},
   "outputs": [
    {
     "data": {
      "text/plain": [
       "[2, 4, 6, 8]"
      ]
     },
     "execution_count": 68,
     "metadata": {},
     "output_type": "execute_result"
    }
   ],
   "source": [
    "h"
   ]
  },
  {
   "cell_type": "code",
   "execution_count": 69,
   "id": "f380b6c1",
   "metadata": {},
   "outputs": [
    {
     "data": {
      "text/plain": [
       "[2, 4, 6, 8]"
      ]
     },
     "execution_count": 69,
     "metadata": {},
     "output_type": "execute_result"
    }
   ],
   "source": [
    "h"
   ]
  },
  {
   "cell_type": "code",
   "execution_count": 71,
   "id": "70ccb792",
   "metadata": {},
   "outputs": [
    {
     "data": {
      "text/plain": [
       "3"
      ]
     },
     "execution_count": 71,
     "metadata": {},
     "output_type": "execute_result"
    }
   ],
   "source": [
    "h.index(8) # this funtion for searching the list eliment position"
   ]
  },
  {
   "cell_type": "code",
   "execution_count": 72,
   "id": "0045be9e",
   "metadata": {},
   "outputs": [],
   "source": [
    "# write a code converte genarel sentence to title  \n",
    "# sample input = \"how are you\"\n",
    "# sample output = \"How Are you\""
   ]
  },
  {
   "cell_type": "code",
   "execution_count": 79,
   "id": "d7e3b2d1",
   "metadata": {},
   "outputs": [
    {
     "name": "stdout",
     "output_type": "stream",
     "text": [
      "['how', 'are', 'you?']\n",
      "How\n",
      "Are\n",
      "You?\n",
      "['How', 'Are', 'You?']\n",
      "How Are You?\n"
     ]
    }
   ],
   "source": [
    "sample = \"how are you?\"\n",
    "print(sample.split())\n",
    "l = []\n",
    "for i in sample.split():\n",
    "    #print(i)\n",
    "    print(i.capitalize())\n",
    "    l.append(i.capitalize())\n",
    "print(l)\n",
    "print(' '.join(l))"
   ]
  },
  {
   "cell_type": "code",
   "execution_count": 2,
   "id": "d2c9a855",
   "metadata": {},
   "outputs": [
    {
     "name": "stdout",
     "output_type": "stream",
     "text": [
      "entert a satment with singel space: what is your name?\n",
      "What Is Your Name?\n"
     ]
    }
   ],
   "source": [
    "sample = input(\"entert a satment with singel space: \")\n",
    "sample_list = sample.split()\n",
    "new_list = []\n",
    "for i in sample_list:\n",
    "    #print(i)\n",
    "    capital_word = i.capitalize()\n",
    "   #print(capital_word)\n",
    "    new_list.append(capital_word)\n",
    "#print(new_list)\n",
    "print(' '.join(new_list))"
   ]
  },
  {
   "cell_type": "code",
   "execution_count": 13,
   "id": "d0b22095",
   "metadata": {},
   "outputs": [],
   "source": [
    "# sample_input = \"abcd@gmail.com\"\n",
    "# sample_output = abc"
   ]
  },
  {
   "cell_type": "code",
   "execution_count": 17,
   "id": "17df0bbc",
   "metadata": {},
   "outputs": [
    {
     "name": "stdout",
     "output_type": "stream",
     "text": [
      "abcd\n"
     ]
    }
   ],
   "source": [
    "email = \"abcd@gmail.com\"\n",
    "new_list = []\n",
    "for i in email:\n",
    "    #print(i)\n",
    "    if i == '@':\n",
    "        break\n",
    "    #print(i)\n",
    "    new_list.append(i)\n",
    "#print(new_list)\n",
    "print(''.join(new_list))"
   ]
  },
  {
   "cell_type": "code",
   "execution_count": 12,
   "id": "7f26e228",
   "metadata": {},
   "outputs": [
    {
     "name": "stdout",
     "output_type": "stream",
     "text": [
      "abcd\n"
     ]
    }
   ],
   "source": [
    "# also we can rite this code like\n",
    "sample = \"abcd@gmail.com\"\n",
    "f_sample = sample[:sample.find(\"@\")]\n",
    "print(f_sample)"
   ]
  },
  {
   "cell_type": "code",
   "execution_count": 14,
   "id": "e7022ab5",
   "metadata": {},
   "outputs": [],
   "source": [
    "# remove duplicate eliment from the list \n",
    "# sample_input = [1,2,2,3,3,3,4,4,4]\n",
    "# sample_output = [1,2,3,4]"
   ]
  },
  {
   "cell_type": "code",
   "execution_count": 19,
   "id": "bb0d2a5a",
   "metadata": {},
   "outputs": [
    {
     "name": "stdout",
     "output_type": "stream",
     "text": [
      "[1, 2, 3, 4, 5]\n"
     ]
    }
   ],
   "source": [
    "list = [1,2,2,3,3,3,4,4,4,5]\n",
    "n_list=[]\n",
    "for i in list:\n",
    "    if i not in n_list:\n",
    "        n_list.append(i)\n",
    "print(n_list)"
   ]
  },
  {
   "cell_type": "code",
   "execution_count": null,
   "id": "3f3b3736",
   "metadata": {},
   "outputs": [],
   "source": []
  }
 ],
 "metadata": {
  "kernelspec": {
   "display_name": "Python 3 (ipykernel)",
   "language": "python",
   "name": "python3"
  },
  "language_info": {
   "codemirror_mode": {
    "name": "ipython",
    "version": 3
   },
   "file_extension": ".py",
   "mimetype": "text/x-python",
   "name": "python",
   "nbconvert_exporter": "python",
   "pygments_lexer": "ipython3",
   "version": "3.9.12"
  }
 },
 "nbformat": 4,
 "nbformat_minor": 5
}
