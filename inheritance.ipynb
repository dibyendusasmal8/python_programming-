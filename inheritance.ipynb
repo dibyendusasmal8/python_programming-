{
 "cells": [
  {
   "cell_type": "markdown",
   "id": "066e852d",
   "metadata": {},
   "source": [
    "# Inheritance \n",
    "when a class derives from another class"
   ]
  },
  {
   "cell_type": "code",
   "execution_count": 3,
   "id": "4ea1fed0",
   "metadata": {},
   "outputs": [
    {
     "name": "stdout",
     "output_type": "stream",
     "text": [
      "login\n",
      "register\n",
      "enroll\n",
      "review\n"
     ]
    }
   ],
   "source": [
    "class User:\n",
    "    def login(self):\n",
    "        print(\"login\")\n",
    "    def register(self):\n",
    "        print(\"register\")\n",
    "\n",
    "class Student(User): # here Student class inherited by User class \n",
    "    def enroll(self):\n",
    "        print(\"enroll\")\n",
    "    def review(self):\n",
    "        print(\"review\")\n",
    "stu1 = Student() \n",
    "stu1.login() #this is from user class \n",
    "stu1.register() # this is from user class\n",
    "stu1.enroll()\n",
    "stu1.review()"
   ]
  },
  {
   "cell_type": "markdown",
   "id": "5d4e7062",
   "metadata": {},
   "source": [
    "# 2nd concept\n",
    "if the child class don't have any constractor then child class oject are at first call parent class constractor :- "
   ]
  },
  {
   "cell_type": "code",
   "execution_count": 6,
   "id": "3640c2c7",
   "metadata": {},
   "outputs": [
    {
     "name": "stdout",
     "output_type": "stream",
     "text": [
      "inside phone constractor\n"
     ]
    },
    {
     "data": {
      "text/plain": [
       "'apple'"
      ]
     },
     "execution_count": 6,
     "metadata": {},
     "output_type": "execute_result"
    }
   ],
   "source": [
    "class Phone:\n",
    "    def __init__(self,price,brand,camera):\n",
    "        print(\"inside phone constractor\")\n",
    "        self.price = price\n",
    "        self.brand = brand\n",
    "        self.camera = camera\n",
    "        \n",
    "class Smartphone(Phone):\n",
    "    pass\n",
    "s = Smartphone(120000,\"apple\",13)\n",
    "s.brand"
   ]
  },
  {
   "cell_type": "markdown",
   "id": "7a873077",
   "metadata": {},
   "source": [
    "# 3rd concept\n",
    "child class object are not access the parent class hiden object\n"
   ]
  },
  {
   "cell_type": "code",
   "execution_count": 7,
   "id": "33704df9",
   "metadata": {},
   "outputs": [
    {
     "name": "stdout",
     "output_type": "stream",
     "text": [
      "inside phone constractor\n"
     ]
    },
    {
     "ename": "AttributeError",
     "evalue": "'Smartphone' object has no attribute '__brand'",
     "output_type": "error",
     "traceback": [
      "\u001b[1;31m---------------------------------------------------------------------------\u001b[0m",
      "\u001b[1;31mAttributeError\u001b[0m                            Traceback (most recent call last)",
      "Input \u001b[1;32mIn [7]\u001b[0m, in \u001b[0;36m<cell line: 11>\u001b[1;34m()\u001b[0m\n\u001b[0;32m      9\u001b[0m     \u001b[38;5;28;01mpass\u001b[39;00m\n\u001b[0;32m     10\u001b[0m s \u001b[38;5;241m=\u001b[39m Smartphone(\u001b[38;5;241m120000\u001b[39m,\u001b[38;5;124m\"\u001b[39m\u001b[38;5;124mapple\u001b[39m\u001b[38;5;124m\"\u001b[39m,\u001b[38;5;241m13\u001b[39m)\n\u001b[1;32m---> 11\u001b[0m \u001b[43ms\u001b[49m\u001b[38;5;241;43m.\u001b[39;49m\u001b[43m__brand\u001b[49m\n",
      "\u001b[1;31mAttributeError\u001b[0m: 'Smartphone' object has no attribute '__brand'"
     ]
    }
   ],
   "source": [
    "class Phone:\n",
    "    def __init__(self,price,brand,camera):\n",
    "        print(\"inside phone constractor\")\n",
    "        self.price = price\n",
    "        self.__brand = brand\n",
    "        self.camera = camera\n",
    "        \n",
    "class Smartphone(Phone):\n",
    "    pass\n",
    "s = Smartphone(120000,\"apple\",13)\n",
    "s.__brand"
   ]
  },
  {
   "cell_type": "markdown",
   "id": "3e49941e",
   "metadata": {},
   "source": [
    "# 4th concept\n",
    "inheritance with constactor"
   ]
  },
  {
   "cell_type": "code",
   "execution_count": 11,
   "id": "4123f6f2",
   "metadata": {},
   "outputs": [],
   "source": [
    "class phone:\n",
    "    def __init__(self,price,brand,camera):\n",
    "        self.price = price\n",
    "        self.brand = brand\n",
    "        self.camera = camera\n",
    "        \n",
    "        \n",
    "class smartphone(phone):\n",
    "    pass\n",
    "\n",
    "s = smartphone(12000,\"apple\",13)"
   ]
  },
  {
   "cell_type": "code",
   "execution_count": 12,
   "id": "e604a0f6",
   "metadata": {},
   "outputs": [
    {
     "data": {
      "text/plain": [
       "12000"
      ]
     },
     "execution_count": 12,
     "metadata": {},
     "output_type": "execute_result"
    }
   ],
   "source": [
    "s.price"
   ]
  },
  {
   "cell_type": "code",
   "execution_count": 13,
   "id": "9962669e",
   "metadata": {},
   "outputs": [
    {
     "data": {
      "text/plain": [
       "'apple'"
      ]
     },
     "execution_count": 13,
     "metadata": {},
     "output_type": "execute_result"
    }
   ],
   "source": [
    "s.brand"
   ]
  },
  {
   "cell_type": "markdown",
   "id": "4bc4972e",
   "metadata": {},
   "source": [
    "# 5th concept\n",
    "method overriding"
   ]
  },
  {
   "cell_type": "code",
   "execution_count": 15,
   "id": "33aa19da",
   "metadata": {},
   "outputs": [
    {
     "name": "stdout",
     "output_type": "stream",
     "text": [
      "buying a smartphon\n"
     ]
    }
   ],
   "source": [
    "class phone:\n",
    "    def __init__(self,price,brand,camera):\n",
    "        self.price = price\n",
    "        self.brand = brand\n",
    "        self.camera = camera\n",
    "    def buy(self):\n",
    "        print(\"buying a phone\")\n",
    "        \n",
    "        \n",
    "class smartphone(phone):\n",
    "    def buy(self):        # method overriding \n",
    "        print(\"buying a smartphon\")\n",
    "\n",
    "s = smartphone(12000,\"apple\",13)\n",
    "s.buy()"
   ]
  },
  {
   "cell_type": "markdown",
   "id": "3bcb6cab",
   "metadata": {},
   "source": [
    "# 6th concept\n",
    "if child and parent both class have constractor what happen?"
   ]
  },
  {
   "cell_type": "code",
   "execution_count": 18,
   "id": "603b9a64",
   "metadata": {},
   "outputs": [
    {
     "ename": "AttributeError",
     "evalue": "'child' object has no attribute 'num'",
     "output_type": "error",
     "traceback": [
      "\u001b[1;31m---------------------------------------------------------------------------\u001b[0m",
      "\u001b[1;31mAttributeError\u001b[0m                            Traceback (most recent call last)",
      "Input \u001b[1;32mIn [18]\u001b[0m, in \u001b[0;36m<cell line: 12>\u001b[1;34m()\u001b[0m\n\u001b[0;32m     10\u001b[0m         \u001b[38;5;28;01mreturn\u001b[39;00m \u001b[38;5;28mself\u001b[39m\u001b[38;5;241m.\u001b[39mval\n\u001b[0;32m     11\u001b[0m son \u001b[38;5;241m=\u001b[39m child(\u001b[38;5;241m100\u001b[39m,\u001b[38;5;241m20\u001b[39m)\n\u001b[1;32m---> 12\u001b[0m \u001b[43mson\u001b[49m\u001b[38;5;241;43m.\u001b[39;49m\u001b[43mget_num\u001b[49m\u001b[43m(\u001b[49m\u001b[43m)\u001b[49m\n",
      "Input \u001b[1;32mIn [18]\u001b[0m, in \u001b[0;36mparent.get_num\u001b[1;34m(self)\u001b[0m\n\u001b[0;32m      4\u001b[0m \u001b[38;5;28;01mdef\u001b[39;00m \u001b[38;5;21mget_num\u001b[39m(\u001b[38;5;28mself\u001b[39m):\n\u001b[1;32m----> 5\u001b[0m     \u001b[38;5;28;01mreturn\u001b[39;00m \u001b[38;5;28;43mself\u001b[39;49m\u001b[38;5;241;43m.\u001b[39;49m\u001b[43mnum\u001b[49m\n",
      "\u001b[1;31mAttributeError\u001b[0m: 'child' object has no attribute 'num'"
     ]
    }
   ],
   "source": [
    "class parent:\n",
    "    def __init__(self,num):\n",
    "        self.num = num\n",
    "    def get_num(self):\n",
    "        return self.num\n",
    "class child(parent):\n",
    "    def __init__(self,val,num):\n",
    "        self.val = val\n",
    "    def get_val(self):\n",
    "        return self.val\n",
    "son = child(100,20)\n",
    "son.get_num()"
   ]
  },
  {
   "cell_type": "markdown",
   "id": "02caf8a8",
   "metadata": {},
   "source": [
    "#####  this error showing because the child class have own constractor "
   ]
  },
  {
   "cell_type": "markdown",
   "id": "4ab5dc96",
   "metadata": {},
   "source": [
    "# 7th concept \n",
    "super() keyword"
   ]
  },
  {
   "cell_type": "code",
   "execution_count": 2,
   "id": "eb22e419",
   "metadata": {},
   "outputs": [
    {
     "name": "stdout",
     "output_type": "stream",
     "text": [
      "buying a smartphon\n"
     ]
    }
   ],
   "source": [
    "# with out using super method \n",
    "class phone:\n",
    "    def __init__(self,price,brand,camera):\n",
    "        self.price = price\n",
    "        self.brand = brand\n",
    "        self.camera = camera\n",
    "    def buy(self):\n",
    "        print(\"buying a phone\")\n",
    "        \n",
    "        \n",
    "class smartphone(phone):\n",
    "    def buy(self):        # method overriding \n",
    "        print(\"buying a smartphon\")\n",
    "\n",
    "s = smartphone(12000,\"apple\",13)\n",
    "s.buy()"
   ]
  },
  {
   "cell_type": "code",
   "execution_count": 4,
   "id": "7da0976b",
   "metadata": {},
   "outputs": [
    {
     "name": "stdout",
     "output_type": "stream",
     "text": [
      "buying a smartphon\n",
      "buying a phone\n"
     ]
    }
   ],
   "source": [
    "# with using super method \n",
    "class phone:\n",
    "    def __init__(self,price,brand,camera):\n",
    "        self.price = price\n",
    "        self.brand = brand\n",
    "        self.camera = camera\n",
    "    def buy(self):\n",
    "        print(\"buying a phone\")\n",
    "        \n",
    "        \n",
    "class smartphone(phone):\n",
    "    def buy(self):        # method overriding \n",
    "        print(\"buying a smartphon\")\n",
    "        super().buy() # call super keyword \n",
    "\n",
    "s = smartphone(12000,\"apple\",13)\n",
    "s.buy()"
   ]
  },
  {
   "cell_type": "code",
   "execution_count": 7,
   "id": "e47882fb",
   "metadata": {},
   "outputs": [
    {
     "name": "stdout",
     "output_type": "stream",
     "text": [
      "this is a child class\n",
      "ram is : 8\n",
      "brand : apple\n",
      "buying a phone\n"
     ]
    }
   ],
   "source": [
    "# super() method used for dublle constractor \n",
    "class phone:\n",
    "    def __init__(self,price,brand,camera):\n",
    "        self.price = price\n",
    "        self.brand = brand\n",
    "        self.camera = camera\n",
    "    def buy(self):\n",
    "        print(\"buying a phone\")\n",
    "        \n",
    "        \n",
    "class smartphone(phone):\n",
    "    def __init__(self,price,brand,camera,os,ram):\n",
    "        print(\"this is a child class\")\n",
    "        super().__init__(price,brand,camera)\n",
    "        self.os = os\n",
    "        self.ram = ram\n",
    "\n",
    "s = smartphone(12000,\"apple\",13,\"mack\",8)\n",
    "print(\"ram is :\",s.ram)\n",
    "print(\"brand :\",s.brand)\n",
    "s.buy()"
   ]
  },
  {
   "cell_type": "code",
   "execution_count": 1,
   "id": "fbff5323",
   "metadata": {},
   "outputs": [
    {
     "name": "stdout",
     "output_type": "stream",
     "text": [
      "Inside smartphone constructor\n",
      "Inside phone constructor\n",
      "Inside smartphone constructor\n",
      "Android\n",
      "Samsung\n"
     ]
    }
   ],
   "source": [
    "class Phone:\n",
    "    def __init__(self, price, brand, camera):\n",
    "        print (\"Inside phone constructor\")\n",
    "        self.__price = price\n",
    "        self.brand = brand\n",
    "        self.camera = camera\n",
    "\n",
    "class SmartPhone(Phone):\n",
    "    def __init__(self, price, brand, camera, os, ram):\n",
    "        print('Inside smartphone constructor')\n",
    "        super().__init__(price, brand, camera)\n",
    "        self.os = os\n",
    "        self.ram = ram\n",
    "        print (\"Inside smartphone constructor\")\n",
    "\n",
    "s=SmartPhone(20000, \"Samsung\", 12, \"Android\", 2)\n",
    "\n",
    "print(s.os)\n",
    "print(s.brand)"
   ]
  },
  {
   "cell_type": "code",
   "execution_count": 17,
   "id": "2e3154ea",
   "metadata": {},
   "outputs": [
    {
     "name": "stdout",
     "output_type": "stream",
     "text": [
      "100\n",
      "20\n"
     ]
    }
   ],
   "source": [
    "class parent:\n",
    "    def __init__(self,num):\n",
    "        self.num = num\n",
    "    def get_num(self):\n",
    "        return self.num\n",
    "class child(parent):\n",
    "    def __init__(self,num,val):\n",
    "        super().__init__(num)\n",
    "        self.val = val\n",
    "    def get_val(self):\n",
    "        \n",
    "        return self.val\n",
    "    \n",
    "son = child(100,20)\n",
    "print(son.get_num())\n",
    "print(son.get_val())"
   ]
  },
  {
   "cell_type": "markdown",
   "id": "d0d5c216",
   "metadata": {},
   "source": [
    "# Type of inheritance \n",
    "### 1. single lavel:\n",
    "one parent class one child class inherit\n",
    "### 2. multilevel inheritance:\n",
    "grand father to father to child inherit\n",
    "### 3. hierarchical inheritance\n",
    "one parent to multiple child inherit\n",
    "### 4.multiple inheritance \n",
    "multiple parent to one child inherit\n",
    "### 5 Hibrid inheritance"
   ]
  },
  {
   "cell_type": "markdown",
   "id": "2e4dc2d2",
   "metadata": {},
   "source": [
    "# multilevel inheritance"
   ]
  },
  {
   "cell_type": "code",
   "execution_count": 23,
   "id": "02e45bf7",
   "metadata": {},
   "outputs": [
    {
     "name": "stdout",
     "output_type": "stream",
     "text": [
      "this is a child class\n",
      "ram is : 8\n",
      "brand : apple\n",
      "buying a phone\n",
      "product review\n",
      "product review\n"
     ]
    }
   ],
   "source": [
    "class Product:\n",
    "    def review(self):\n",
    "        print(\"product review\")\n",
    "class Phone(Product):\n",
    "    def __init__(self,price,brand,camera):\n",
    "        self.price = price\n",
    "        self.brand = brand\n",
    "        self.camera = camera\n",
    "    def buy(self):\n",
    "        print(\"buying a phone\")\n",
    "        \n",
    "class Smartphone(Phone):\n",
    "    def __init__(self,price,brand,camera,os,ram):\n",
    "        print(\"this is a child class\")\n",
    "        super().__init__(price,brand,camera)\n",
    "        self.os = os\n",
    "        self.ram = ram\n",
    "\n",
    "s = Smartphone(12000,\"apple\",13,\"mack\",8)\n",
    "print(\"ram is :\",s.ram)\n",
    "print(\"brand :\",s.brand)\n",
    "p=Phone(120000,\"samsung\",45)\n",
    "s.buy()\n",
    "s.review() # this from smartphone class object\n",
    "p.review() # this is from Phone class object"
   ]
  },
  {
   "cell_type": "code",
   "execution_count": 26,
   "id": "65ea4e3f",
   "metadata": {},
   "outputs": [
    {
     "name": "stdout",
     "output_type": "stream",
     "text": [
      "this is a child class\n",
      "ram is : 8\n",
      "brand : apple\n",
      "buying a phone\n",
      "review the phone\n"
     ]
    }
   ],
   "source": [
    "class Phone:\n",
    "    def __init__(self,price,brand,camera):\n",
    "        self.price = price\n",
    "        self.brand = brand\n",
    "        self.camera = camera\n",
    "    def buy(self):\n",
    "        print(\"buying a phone\")\n",
    "class Product:\n",
    "    def review(self):\n",
    "        print(\"review the phone\")\n",
    "        \n",
    "class Smartphone(phone,Product):\n",
    "    def __init__(self,price,brand,camera,os,ram):\n",
    "        print(\"this is a child class\")\n",
    "        super().__init__(price,brand,camera)\n",
    "        self.os = os\n",
    "        self.ram = ram\n",
    "\n",
    "s = Smartphone(12000,\"apple\",13,\"mack\",8)\n",
    "print(\"ram is :\",s.ram)\n",
    "print(\"brand :\",s.brand)\n",
    "s.buy()\n",
    "s.review()"
   ]
  },
  {
   "cell_type": "code",
   "execution_count": 32,
   "id": "2bee6819",
   "metadata": {},
   "outputs": [
    {
     "name": "stdout",
     "output_type": "stream",
     "text": [
      "buy a electronics product\n"
     ]
    }
   ],
   "source": [
    "class Phone:\n",
    "    def __init__(self,price,brand,camera):\n",
    "       \n",
    "        self.price = price\n",
    "        self.brand = brand\n",
    "        self.camera = camera\n",
    "    def buy(self):\n",
    "        print(\"buying a phone\")\n",
    "class Product:\n",
    "    def buy(self):\n",
    "        print(\"buy a electronics product\")\n",
    "class Smartphone(Product,Phone): #it's works in mro method\n",
    "    pass\n",
    "s= Smartphone(12000,\"apple\",13)\n",
    "s.buy()\n",
    "    "
   ]
  },
  {
   "cell_type": "code",
   "execution_count": 33,
   "id": "31694851",
   "metadata": {},
   "outputs": [
    {
     "name": "stdout",
     "output_type": "stream",
     "text": [
      "buying a phone\n"
     ]
    }
   ],
   "source": [
    "class Product:\n",
    "    def buy(self):\n",
    "        print(\"buy a electronics product\")\n",
    "class Phone:\n",
    "    def __init__(self,price,brand,camera):\n",
    "        self.price = price\n",
    "        self.brand = brand\n",
    "        self.camera = camera\n",
    "    def buy(self):\n",
    "        print(\"buying a phone\")\n",
    "\n",
    "class Smartphone(Phone,Product): # it's work in mro method\n",
    "    pass\n",
    "s= Smartphone(12000,\"apple\",13)\n",
    "s.buy()\n",
    "    "
   ]
  },
  {
   "cell_type": "markdown",
   "id": "f2a26346",
   "metadata": {},
   "source": [
    "# multilevel inheritance"
   ]
  },
  {
   "cell_type": "code",
   "execution_count": 2,
   "id": "1edcc97a",
   "metadata": {},
   "outputs": [
    {
     "name": "stdout",
     "output_type": "stream",
     "text": [
      "70\n"
     ]
    }
   ],
   "source": [
    "class A:\n",
    "    def m1(self):\n",
    "        return 20\n",
    "class B(A):\n",
    "    def m1(self):\n",
    "        return 30\n",
    "    def m2(self):\n",
    "        return 40 \n",
    "class C(B):\n",
    "    def m2(self):\n",
    "        return 20\n",
    "obj1 = A()\n",
    "obj2 = B()\n",
    "obj3 = C()\n",
    "\n",
    "print(obj1.m1()+obj3.m1()+obj3.m2())"
   ]
  },
  {
   "cell_type": "code",
   "execution_count": 37,
   "id": "240e2745",
   "metadata": {},
   "outputs": [
    {
     "name": "stdout",
     "output_type": "stream",
     "text": [
      "30\n"
     ]
    }
   ],
   "source": [
    "print(obj3.m1())"
   ]
  },
  {
   "cell_type": "code",
   "execution_count": 38,
   "id": "7f48a5e6",
   "metadata": {},
   "outputs": [
    {
     "name": "stdout",
     "output_type": "stream",
     "text": [
      "20\n"
     ]
    }
   ],
   "source": [
    "print(obj3.m2()) "
   ]
  },
  {
   "cell_type": "code",
   "execution_count": 3,
   "id": "05a7a0f2",
   "metadata": {},
   "outputs": [
    {
     "name": "stdout",
     "output_type": "stream",
     "text": [
      "30\n"
     ]
    }
   ],
   "source": [
    "print(obj2.m1())"
   ]
  },
  {
   "cell_type": "code",
   "execution_count": 4,
   "id": "082a27f7",
   "metadata": {},
   "outputs": [],
   "source": [
    "class A:\n",
    "    def m1(self):\n",
    "        return 20\n",
    "class B(A):\n",
    "    def m1(self):\n",
    "        val = super().m1()+30 \n",
    "        return val\n",
    "    \n",
    "class C(B):\n",
    "    def m1(self):\n",
    "        val = self.m1()+20\n",
    "        return val\n",
    "    \n",
    "obj = C()\n",
    "print(obj.m1()) \n",
    "\n",
    "# this code not ran because the have infinite recurstion that why carnal is dead  "
   ]
  },
  {
   "cell_type": "code",
   "execution_count": null,
   "id": "a4eae232",
   "metadata": {},
   "outputs": [],
   "source": []
  }
 ],
 "metadata": {
  "kernelspec": {
   "display_name": "Python 3 (ipykernel)",
   "language": "python",
   "name": "python3"
  },
  "language_info": {
   "codemirror_mode": {
    "name": "ipython",
    "version": 3
   },
   "file_extension": ".py",
   "mimetype": "text/x-python",
   "name": "python",
   "nbconvert_exporter": "python",
   "pygments_lexer": "ipython3",
   "version": "3.9.12"
  }
 },
 "nbformat": 4,
 "nbformat_minor": 5
}
