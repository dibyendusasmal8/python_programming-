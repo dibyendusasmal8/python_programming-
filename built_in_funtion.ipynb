{
 "cells": [
  {
   "cell_type": "markdown",
   "id": "2fa128dc",
   "metadata": {},
   "source": [
    "## 1. print"
   ]
  },
  {
   "cell_type": "code",
   "execution_count": 1,
   "id": "029e20f0",
   "metadata": {},
   "outputs": [
    {
     "name": "stdout",
     "output_type": "stream",
     "text": [
      "Hello world\n"
     ]
    }
   ],
   "source": [
    "print(\"Hello world\")"
   ]
  },
  {
   "cell_type": "markdown",
   "id": "db68ce39",
   "metadata": {},
   "source": [
    "## 2. input"
   ]
  },
  {
   "cell_type": "code",
   "execution_count": 2,
   "id": "923c8ed4",
   "metadata": {},
   "outputs": [
    {
     "name": "stdout",
     "output_type": "stream",
     "text": [
      "Enter your namevffhgh\n"
     ]
    },
    {
     "data": {
      "text/plain": [
       "'vffhgh'"
      ]
     },
     "execution_count": 2,
     "metadata": {},
     "output_type": "execute_result"
    }
   ],
   "source": [
    "input(\"Enter your name\")"
   ]
  },
  {
   "cell_type": "markdown",
   "id": "cbf57d13",
   "metadata": {},
   "source": [
    "## 3. type"
   ]
  },
  {
   "cell_type": "code",
   "execution_count": 4,
   "id": "257f9057",
   "metadata": {},
   "outputs": [
    {
     "data": {
      "text/plain": [
       "bool"
      ]
     },
     "execution_count": 4,
     "metadata": {},
     "output_type": "execute_result"
    }
   ],
   "source": [
    "a = True\n",
    "type(a)"
   ]
  },
  {
   "cell_type": "markdown",
   "id": "239e98c9",
   "metadata": {},
   "source": [
    "## 4. int etc."
   ]
  },
  {
   "cell_type": "code",
   "execution_count": 10,
   "id": "58edbd8f",
   "metadata": {},
   "outputs": [
    {
     "data": {
      "text/plain": [
       "5"
      ]
     },
     "execution_count": 10,
     "metadata": {},
     "output_type": "execute_result"
    }
   ],
   "source": [
    "int(5.6)"
   ]
  },
  {
   "cell_type": "code",
   "execution_count": 9,
   "id": "cdc9cfba",
   "metadata": {},
   "outputs": [
    {
     "data": {
      "text/plain": [
       "6.0"
      ]
     },
     "execution_count": 9,
     "metadata": {},
     "output_type": "execute_result"
    }
   ],
   "source": [
    "# float\n",
    "float(6)"
   ]
  },
  {
   "cell_type": "code",
   "execution_count": 11,
   "id": "6bec7cc2",
   "metadata": {},
   "outputs": [
    {
     "data": {
      "text/plain": [
       "'568'"
      ]
     },
     "execution_count": 11,
     "metadata": {},
     "output_type": "execute_result"
    }
   ],
   "source": [
    "# str\n",
    "str(568)"
   ]
  },
  {
   "cell_type": "code",
   "execution_count": 13,
   "id": "8954b9b0",
   "metadata": {},
   "outputs": [
    {
     "data": {
      "text/plain": [
       "['d', 'i', 'b', 'y', 'e', 'n', 'd', 'u']"
      ]
     },
     "execution_count": 13,
     "metadata": {},
     "output_type": "execute_result"
    }
   ],
   "source": [
    "# list\n",
    "list(\"dibyendu\")"
   ]
  },
  {
   "cell_type": "code",
   "execution_count": 14,
   "id": "d69eda50",
   "metadata": {},
   "outputs": [
    {
     "data": {
      "text/plain": [
       "('d', 'i', 'b', 'y', 'e', 'n', 'd', 'u')"
      ]
     },
     "execution_count": 14,
     "metadata": {},
     "output_type": "execute_result"
    }
   ],
   "source": [
    "# tuple\n",
    "tuple(\"dibyendu\")"
   ]
  },
  {
   "cell_type": "markdown",
   "id": "4eedc76b",
   "metadata": {},
   "source": [
    "## 5. abs\n",
    "it,s only give positive valu "
   ]
  },
  {
   "cell_type": "code",
   "execution_count": 15,
   "id": "ba0d393e",
   "metadata": {},
   "outputs": [
    {
     "data": {
      "text/plain": [
       "4"
      ]
     },
     "execution_count": 15,
     "metadata": {},
     "output_type": "execute_result"
    }
   ],
   "source": [
    "abs(-4)"
   ]
  },
  {
   "cell_type": "markdown",
   "id": "6deb47e6",
   "metadata": {},
   "source": [
    "## 6. pow"
   ]
  },
  {
   "cell_type": "code",
   "execution_count": 16,
   "id": "4d44cb8f",
   "metadata": {},
   "outputs": [
    {
     "data": {
      "text/plain": [
       "25"
      ]
     },
     "execution_count": 16,
     "metadata": {},
     "output_type": "execute_result"
    }
   ],
   "source": [
    "pow(5,2)"
   ]
  },
  {
   "cell_type": "code",
   "execution_count": 17,
   "id": "01de3b50",
   "metadata": {},
   "outputs": [
    {
     "data": {
      "text/plain": [
       "0.04"
      ]
     },
     "execution_count": 17,
     "metadata": {},
     "output_type": "execute_result"
    }
   ],
   "source": [
    "pow(5,-2)"
   ]
  },
  {
   "cell_type": "markdown",
   "id": "996e2c10",
   "metadata": {},
   "source": [
    "## 7. min/max"
   ]
  },
  {
   "cell_type": "code",
   "execution_count": 18,
   "id": "18512b32",
   "metadata": {},
   "outputs": [
    {
     "data": {
      "text/plain": [
       "'a'"
      ]
     },
     "execution_count": 18,
     "metadata": {},
     "output_type": "execute_result"
    }
   ],
   "source": [
    "min(\"kolkata\")"
   ]
  },
  {
   "cell_type": "code",
   "execution_count": 19,
   "id": "2e623ecb",
   "metadata": {},
   "outputs": [
    {
     "data": {
      "text/plain": [
       "'t'"
      ]
     },
     "execution_count": 19,
     "metadata": {},
     "output_type": "execute_result"
    }
   ],
   "source": [
    "max(\"kolkata\")"
   ]
  },
  {
   "cell_type": "code",
   "execution_count": 23,
   "id": "f2f40293",
   "metadata": {},
   "outputs": [
    {
     "data": {
      "text/plain": [
       "1"
      ]
     },
     "execution_count": 23,
     "metadata": {},
     "output_type": "execute_result"
    }
   ],
   "source": [
    "a=[1,4,2,5,6,8]\n",
    "min(a)"
   ]
  },
  {
   "cell_type": "code",
   "execution_count": 24,
   "id": "3d063168",
   "metadata": {},
   "outputs": [
    {
     "data": {
      "text/plain": [
       "8"
      ]
     },
     "execution_count": 24,
     "metadata": {},
     "output_type": "execute_result"
    }
   ],
   "source": [
    "a=[1,4,2,5,6,8]\n",
    "max(a)"
   ]
  },
  {
   "cell_type": "markdown",
   "id": "3cacc94c",
   "metadata": {},
   "source": [
    "## 8. round"
   ]
  },
  {
   "cell_type": "code",
   "execution_count": 25,
   "id": "e7de4b1c",
   "metadata": {},
   "outputs": [
    {
     "data": {
      "text/plain": [
       "3"
      ]
     },
     "execution_count": 25,
     "metadata": {},
     "output_type": "execute_result"
    }
   ],
   "source": [
    "c = 22/7\n",
    "round(c)"
   ]
  },
  {
   "cell_type": "markdown",
   "id": "4c4c76be",
   "metadata": {},
   "source": [
    "## 10. bin/oct/hex"
   ]
  },
  {
   "cell_type": "code",
   "execution_count": 27,
   "id": "2b0a9805",
   "metadata": {},
   "outputs": [
    {
     "data": {
      "text/plain": [
       "'0b100'"
      ]
     },
     "execution_count": 27,
     "metadata": {},
     "output_type": "execute_result"
    }
   ],
   "source": [
    "bin(4)"
   ]
  },
  {
   "cell_type": "code",
   "execution_count": 28,
   "id": "10c367f6",
   "metadata": {},
   "outputs": [
    {
     "data": {
      "text/plain": [
       "'0x4'"
      ]
     },
     "execution_count": 28,
     "metadata": {},
     "output_type": "execute_result"
    }
   ],
   "source": [
    "hex(4)"
   ]
  },
  {
   "cell_type": "code",
   "execution_count": 29,
   "id": "1b284e47",
   "metadata": {},
   "outputs": [
    {
     "data": {
      "text/plain": [
       "'0o4'"
      ]
     },
     "execution_count": 29,
     "metadata": {},
     "output_type": "execute_result"
    }
   ],
   "source": [
    "oct(4)"
   ]
  },
  {
   "cell_type": "markdown",
   "id": "f8893290",
   "metadata": {},
   "source": [
    "## 12. ord\n",
    "it's give us letter asky value"
   ]
  },
  {
   "cell_type": "code",
   "execution_count": 30,
   "id": "5eff4f06",
   "metadata": {},
   "outputs": [
    {
     "data": {
      "text/plain": [
       "65"
      ]
     },
     "execution_count": 30,
     "metadata": {},
     "output_type": "execute_result"
    }
   ],
   "source": [
    "ord('A')"
   ]
  },
  {
   "cell_type": "markdown",
   "id": "617979a7",
   "metadata": {},
   "source": [
    "## 13. len"
   ]
  },
  {
   "cell_type": "code",
   "execution_count": 31,
   "id": "fa0750c6",
   "metadata": {},
   "outputs": [
    {
     "data": {
      "text/plain": [
       "3"
      ]
     },
     "execution_count": 31,
     "metadata": {},
     "output_type": "execute_result"
    }
   ],
   "source": [
    "len([1,2,3])"
   ]
  },
  {
   "cell_type": "markdown",
   "id": "ca562562",
   "metadata": {},
   "source": [
    "## 14. sum"
   ]
  },
  {
   "cell_type": "code",
   "execution_count": 32,
   "id": "661d777f",
   "metadata": {},
   "outputs": [
    {
     "data": {
      "text/plain": [
       "15"
      ]
     },
     "execution_count": 32,
     "metadata": {},
     "output_type": "execute_result"
    }
   ],
   "source": [
    "sum({1,2,3,4,5})"
   ]
  },
  {
   "cell_type": "markdown",
   "id": "9491f6c0",
   "metadata": {},
   "source": [
    "## 15. help"
   ]
  },
  {
   "cell_type": "code",
   "execution_count": 33,
   "id": "ca320d7a",
   "metadata": {},
   "outputs": [
    {
     "name": "stdout",
     "output_type": "stream",
     "text": [
      "Help on built-in function print in module builtins:\n",
      "\n",
      "print(...)\n",
      "    print(value, ..., sep=' ', end='\\n', file=sys.stdout, flush=False)\n",
      "    \n",
      "    Prints the values to a stream, or to sys.stdout by default.\n",
      "    Optional keyword arguments:\n",
      "    file:  a file-like object (stream); defaults to the current sys.stdout.\n",
      "    sep:   string inserted between values, default a space.\n",
      "    end:   string appended after the last value, default a newline.\n",
      "    flush: whether to forcibly flush the stream.\n",
      "\n"
     ]
    }
   ],
   "source": [
    "help('print')"
   ]
  },
  {
   "cell_type": "code",
   "execution_count": null,
   "id": "ce1657a5",
   "metadata": {},
   "outputs": [],
   "source": []
  }
 ],
 "metadata": {
  "kernelspec": {
   "display_name": "Python 3 (ipykernel)",
   "language": "python",
   "name": "python3"
  },
  "language_info": {
   "codemirror_mode": {
    "name": "ipython",
    "version": 3
   },
   "file_extension": ".py",
   "mimetype": "text/x-python",
   "name": "python",
   "nbconvert_exporter": "python",
   "pygments_lexer": "ipython3",
   "version": "3.9.12"
  }
 },
 "nbformat": 4,
 "nbformat_minor": 5
}
