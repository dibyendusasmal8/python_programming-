{
 "cells": [
  {
   "cell_type": "markdown",
   "id": "163864b9",
   "metadata": {},
   "source": [
    " # Dictionary Ruls\n",
    "#### 1. Dictionary has no indexing\n",
    "#### 2. Dictionary is a mutable types\n",
    "#### 3. Dictionary keys:-> immutable , value:-> they can be mutable\n",
    "#### 4. Dictionar keys should be unique"
   ]
  },
  {
   "cell_type": "markdown",
   "id": "05ec6392",
   "metadata": {},
   "source": [
    "# Dictionary\n",
    " * Create\n",
    " * Access\n",
    " * Edit\n",
    " * Add\n",
    " * Delete\n",
    " * Operation\n",
    " * Funtions "
   ]
  },
  {
   "cell_type": "code",
   "execution_count": 3,
   "id": "ab17b546",
   "metadata": {},
   "outputs": [],
   "source": [
    "# Create emty ddict\n",
    "d = {}"
   ]
  },
  {
   "cell_type": "code",
   "execution_count": 4,
   "id": "a602789a",
   "metadata": {},
   "outputs": [],
   "source": [
    "d1 = {\"name\":\"dibyendu\",\"gender\":\"male\"}"
   ]
  },
  {
   "cell_type": "code",
   "execution_count": 5,
   "id": "0789943d",
   "metadata": {},
   "outputs": [
    {
     "data": {
      "text/plain": [
       "{'name': 'dibyendu', 'gender': 'male'}"
      ]
     },
     "execution_count": 5,
     "metadata": {},
     "output_type": "execute_result"
    }
   ],
   "source": [
    "d1"
   ]
  },
  {
   "cell_type": "code",
   "execution_count": 6,
   "id": "b4b4867c",
   "metadata": {},
   "outputs": [
    {
     "ename": "TypeError",
     "evalue": "unhashable type: 'list'",
     "output_type": "error",
     "traceback": [
      "\u001b[1;31m---------------------------------------------------------------------------\u001b[0m",
      "\u001b[1;31mTypeError\u001b[0m                                 Traceback (most recent call last)",
      "Input \u001b[1;32mIn [6]\u001b[0m, in \u001b[0;36m<cell line: 1>\u001b[1;34m()\u001b[0m\n\u001b[1;32m----> 1\u001b[0m d2 \u001b[38;5;241m=\u001b[39m {[\u001b[38;5;241m1\u001b[39m,\u001b[38;5;241m2\u001b[39m,\u001b[38;5;241m3\u001b[39m]:\u001b[38;5;124m\"\u001b[39m\u001b[38;5;124mdibyendu\u001b[39m\u001b[38;5;124m\"\u001b[39m}\n",
      "\u001b[1;31mTypeError\u001b[0m: unhashable type: 'list'"
     ]
    }
   ],
   "source": [
    "d2 = {[1,2,3]:\"dibyendu\"}"
   ]
  },
  {
   "cell_type": "code",
   "execution_count": 7,
   "id": "af6d3600",
   "metadata": {},
   "outputs": [],
   "source": [
    "d2 = {(1,2,3):\"dibyendu\"}"
   ]
  },
  {
   "cell_type": "code",
   "execution_count": 9,
   "id": "dfe24c77",
   "metadata": {},
   "outputs": [
    {
     "data": {
      "text/plain": [
       "{(1, 2, 3): 'dibyendu'}"
      ]
     },
     "execution_count": 9,
     "metadata": {},
     "output_type": "execute_result"
    }
   ],
   "source": [
    "d2"
   ]
  },
  {
   "cell_type": "code",
   "execution_count": 10,
   "id": "a22674ca",
   "metadata": {},
   "outputs": [],
   "source": [
    "d3 = {\"name\":\"rahul\",\"name\":\"dibyendu\"}"
   ]
  },
  {
   "cell_type": "code",
   "execution_count": 11,
   "id": "7d1b073f",
   "metadata": {},
   "outputs": [
    {
     "data": {
      "text/plain": [
       "{'name': 'dibyendu'}"
      ]
     },
     "execution_count": 11,
     "metadata": {},
     "output_type": "execute_result"
    }
   ],
   "source": [
    "d3"
   ]
  },
  {
   "cell_type": "code",
   "execution_count": 12,
   "id": "e84e5d54",
   "metadata": {},
   "outputs": [],
   "source": [
    "# 2d dictionary\n",
    "d4 = {\"name\":\"dibyendu\",\"college\":\"seacom\",\"marks\":{\"m1\":56,\"ds\":67,\"eng\":50}}"
   ]
  },
  {
   "cell_type": "code",
   "execution_count": 13,
   "id": "43fe82d2",
   "metadata": {},
   "outputs": [
    {
     "data": {
      "text/plain": [
       "{'name': 'dibyendu',\n",
       " 'college': 'seacom',\n",
       " 'marks': {'m1': 56, 'ds': 67, 'eng': 50}}"
      ]
     },
     "execution_count": 13,
     "metadata": {},
     "output_type": "execute_result"
    }
   ],
   "source": [
    "d4"
   ]
  },
  {
   "cell_type": "markdown",
   "id": "a31e17e6",
   "metadata": {},
   "source": [
    "### Access items from a dict"
   ]
  },
  {
   "cell_type": "code",
   "execution_count": 15,
   "id": "6a5807b2",
   "metadata": {},
   "outputs": [
    {
     "data": {
      "text/plain": [
       "'dibyendu'"
      ]
     },
     "execution_count": 15,
     "metadata": {},
     "output_type": "execute_result"
    }
   ],
   "source": [
    "d4[\"name\"]"
   ]
  },
  {
   "cell_type": "code",
   "execution_count": 16,
   "id": "89d55a80",
   "metadata": {},
   "outputs": [
    {
     "data": {
      "text/plain": [
       "'seacom'"
      ]
     },
     "execution_count": 16,
     "metadata": {},
     "output_type": "execute_result"
    }
   ],
   "source": [
    "d4[\"college\"]"
   ]
  },
  {
   "cell_type": "code",
   "execution_count": 18,
   "id": "04822493",
   "metadata": {},
   "outputs": [
    {
     "data": {
      "text/plain": [
       "{'m1': 56, 'ds': 67, 'eng': 50}"
      ]
     },
     "execution_count": 18,
     "metadata": {},
     "output_type": "execute_result"
    }
   ],
   "source": [
    "d4[\"marks\"]"
   ]
  },
  {
   "cell_type": "code",
   "execution_count": 19,
   "id": "7282543d",
   "metadata": {},
   "outputs": [
    {
     "data": {
      "text/plain": [
       "67"
      ]
     },
     "execution_count": 19,
     "metadata": {},
     "output_type": "execute_result"
    }
   ],
   "source": [
    "d4[\"marks\"][\"ds\"]\n"
   ]
  },
  {
   "cell_type": "code",
   "execution_count": 24,
   "id": "52da10f9",
   "metadata": {},
   "outputs": [
    {
     "data": {
      "text/plain": [
       "'rahul'"
      ]
     },
     "execution_count": 24,
     "metadata": {},
     "output_type": "execute_result"
    }
   ],
   "source": [
    "d4.get(\"name\")"
   ]
  },
  {
   "cell_type": "markdown",
   "id": "267fe7a7",
   "metadata": {},
   "source": [
    "### Edit"
   ]
  },
  {
   "cell_type": "code",
   "execution_count": 20,
   "id": "04c3680c",
   "metadata": {},
   "outputs": [],
   "source": [
    "d4[\"name\"]=\"rahul\""
   ]
  },
  {
   "cell_type": "code",
   "execution_count": 21,
   "id": "33ab58b6",
   "metadata": {},
   "outputs": [
    {
     "data": {
      "text/plain": [
       "{'name': 'rahul',\n",
       " 'college': 'seacom',\n",
       " 'marks': {'m1': 56, 'ds': 67, 'eng': 50}}"
      ]
     },
     "execution_count": 21,
     "metadata": {},
     "output_type": "execute_result"
    }
   ],
   "source": [
    "d4"
   ]
  },
  {
   "cell_type": "code",
   "execution_count": 22,
   "id": "a45e8ae9",
   "metadata": {},
   "outputs": [],
   "source": [
    "d4[\"marks\"][\"ds\"] = 80"
   ]
  },
  {
   "cell_type": "code",
   "execution_count": 23,
   "id": "7e8e62e6",
   "metadata": {},
   "outputs": [
    {
     "data": {
      "text/plain": [
       "{'name': 'rahul',\n",
       " 'college': 'seacom',\n",
       " 'marks': {'m1': 56, 'ds': 80, 'eng': 50}}"
      ]
     },
     "execution_count": 23,
     "metadata": {},
     "output_type": "execute_result"
    }
   ],
   "source": [
    "d4"
   ]
  },
  {
   "cell_type": "markdown",
   "id": "2a61d0aa",
   "metadata": {},
   "source": [
    "### add"
   ]
  },
  {
   "cell_type": "code",
   "execution_count": 25,
   "id": "c4b14f8b",
   "metadata": {},
   "outputs": [],
   "source": [
    "d4[\"age\"] = 24"
   ]
  },
  {
   "cell_type": "code",
   "execution_count": 26,
   "id": "ad405b5a",
   "metadata": {},
   "outputs": [
    {
     "data": {
      "text/plain": [
       "{'name': 'rahul',\n",
       " 'college': 'seacom',\n",
       " 'marks': {'m1': 56, 'ds': 80, 'eng': 50},\n",
       " 'age': 24}"
      ]
     },
     "execution_count": 26,
     "metadata": {},
     "output_type": "execute_result"
    }
   ],
   "source": [
    "d4"
   ]
  },
  {
   "cell_type": "code",
   "execution_count": 27,
   "id": "70c67318",
   "metadata": {},
   "outputs": [],
   "source": [
    "d4[\"marks\"][\"m2\"] = 70"
   ]
  },
  {
   "cell_type": "code",
   "execution_count": 28,
   "id": "66d15afc",
   "metadata": {},
   "outputs": [
    {
     "data": {
      "text/plain": [
       "{'name': 'rahul',\n",
       " 'college': 'seacom',\n",
       " 'marks': {'m1': 56, 'ds': 80, 'eng': 50, 'm2': 70},\n",
       " 'age': 24}"
      ]
     },
     "execution_count": 28,
     "metadata": {},
     "output_type": "execute_result"
    }
   ],
   "source": [
    " d4"
   ]
  },
  {
   "cell_type": "markdown",
   "id": "94c24696",
   "metadata": {},
   "source": [
    "### Delete"
   ]
  },
  {
   "cell_type": "code",
   "execution_count": 29,
   "id": "33210610",
   "metadata": {},
   "outputs": [],
   "source": [
    "d5 ={}"
   ]
  },
  {
   "cell_type": "code",
   "execution_count": 30,
   "id": "8f561fd8",
   "metadata": {},
   "outputs": [],
   "source": [
    "del(d5)"
   ]
  },
  {
   "cell_type": "code",
   "execution_count": 31,
   "id": "d014e4b8",
   "metadata": {},
   "outputs": [
    {
     "ename": "NameError",
     "evalue": "name 'd5' is not defined",
     "output_type": "error",
     "traceback": [
      "\u001b[1;31m---------------------------------------------------------------------------\u001b[0m",
      "\u001b[1;31mNameError\u001b[0m                                 Traceback (most recent call last)",
      "Input \u001b[1;32mIn [31]\u001b[0m, in \u001b[0;36m<cell line: 1>\u001b[1;34m()\u001b[0m\n\u001b[1;32m----> 1\u001b[0m \u001b[43md5\u001b[49m\n",
      "\u001b[1;31mNameError\u001b[0m: name 'd5' is not defined"
     ]
    }
   ],
   "source": [
    "d5"
   ]
  },
  {
   "cell_type": "code",
   "execution_count": 33,
   "id": "71d9820a",
   "metadata": {},
   "outputs": [],
   "source": [
    "del(d4[\"age\"])"
   ]
  },
  {
   "cell_type": "code",
   "execution_count": 34,
   "id": "b07266e6",
   "metadata": {},
   "outputs": [
    {
     "data": {
      "text/plain": [
       "{'name': 'rahul',\n",
       " 'college': 'seacom',\n",
       " 'marks': {'m1': 56, 'ds': 80, 'eng': 50, 'm2': 70}}"
      ]
     },
     "execution_count": 34,
     "metadata": {},
     "output_type": "execute_result"
    }
   ],
   "source": [
    "d4"
   ]
  },
  {
   "cell_type": "code",
   "execution_count": 35,
   "id": "7e22875f",
   "metadata": {},
   "outputs": [],
   "source": [
    "d1.clear()"
   ]
  },
  {
   "cell_type": "code",
   "execution_count": 36,
   "id": "66a55a3e",
   "metadata": {},
   "outputs": [
    {
     "data": {
      "text/plain": [
       "{}"
      ]
     },
     "execution_count": 36,
     "metadata": {},
     "output_type": "execute_result"
    }
   ],
   "source": [
    "d1"
   ]
  },
  {
   "cell_type": "markdown",
   "id": "293f0060",
   "metadata": {},
   "source": [
    "# operation"
   ]
  },
  {
   "cell_type": "code",
   "execution_count": 38,
   "id": "2bb9b643",
   "metadata": {},
   "outputs": [],
   "source": [
    "d1 = {1:2,2:3,3:4}"
   ]
  },
  {
   "cell_type": "code",
   "execution_count": 39,
   "id": "ea602f40",
   "metadata": {},
   "outputs": [],
   "source": [
    "d2 = {5:6,6:7,7:8}"
   ]
  },
  {
   "cell_type": "code",
   "execution_count": 40,
   "id": "e39b0c60",
   "metadata": {},
   "outputs": [
    {
     "ename": "TypeError",
     "evalue": "unsupported operand type(s) for +: 'dict' and 'dict'",
     "output_type": "error",
     "traceback": [
      "\u001b[1;31m---------------------------------------------------------------------------\u001b[0m",
      "\u001b[1;31mTypeError\u001b[0m                                 Traceback (most recent call last)",
      "Input \u001b[1;32mIn [40]\u001b[0m, in \u001b[0;36m<cell line: 1>\u001b[1;34m()\u001b[0m\n\u001b[1;32m----> 1\u001b[0m \u001b[43md1\u001b[49m\u001b[38;5;241;43m+\u001b[39;49m\u001b[43md2\u001b[49m\n",
      "\u001b[1;31mTypeError\u001b[0m: unsupported operand type(s) for +: 'dict' and 'dict'"
     ]
    }
   ],
   "source": [
    "d1+d2\n"
   ]
  },
  {
   "cell_type": "code",
   "execution_count": 41,
   "id": "9e95c6d4",
   "metadata": {},
   "outputs": [
    {
     "ename": "TypeError",
     "evalue": "unsupported operand type(s) for *: 'dict' and 'int'",
     "output_type": "error",
     "traceback": [
      "\u001b[1;31m---------------------------------------------------------------------------\u001b[0m",
      "\u001b[1;31mTypeError\u001b[0m                                 Traceback (most recent call last)",
      "Input \u001b[1;32mIn [41]\u001b[0m, in \u001b[0;36m<cell line: 1>\u001b[1;34m()\u001b[0m\n\u001b[1;32m----> 1\u001b[0m \u001b[43md1\u001b[49m\u001b[38;5;241;43m*\u001b[39;49m\u001b[38;5;241;43m3\u001b[39;49m\n",
      "\u001b[1;31mTypeError\u001b[0m: unsupported operand type(s) for *: 'dict' and 'int'"
     ]
    }
   ],
   "source": [
    "d1*3"
   ]
  },
  {
   "cell_type": "code",
   "execution_count": 44,
   "id": "e2c164af",
   "metadata": {},
   "outputs": [
    {
     "name": "stdout",
     "output_type": "stream",
     "text": [
      "1\n",
      "2\n",
      "3\n"
     ]
    }
   ],
   "source": [
    "for i in d1:\n",
    "    print(i)"
   ]
  },
  {
   "cell_type": "code",
   "execution_count": 46,
   "id": "be9c52e2",
   "metadata": {},
   "outputs": [
    {
     "name": "stdout",
     "output_type": "stream",
     "text": [
      "1 = 2\n",
      "2 = 3\n",
      "3 = 4\n"
     ]
    }
   ],
   "source": [
    "for i in d1:\n",
    "    print(i,\"=\",d1[i])"
   ]
  },
  {
   "cell_type": "code",
   "execution_count": 47,
   "id": "9482e9b1",
   "metadata": {},
   "outputs": [
    {
     "data": {
      "text/plain": [
       "{1: 2, 2: 3, 3: 4}"
      ]
     },
     "execution_count": 47,
     "metadata": {},
     "output_type": "execute_result"
    }
   ],
   "source": [
    "d1"
   ]
  },
  {
   "cell_type": "code",
   "execution_count": 49,
   "id": "7e6f5199",
   "metadata": {},
   "outputs": [
    {
     "data": {
      "text/plain": [
       "True"
      ]
     },
     "execution_count": 49,
     "metadata": {},
     "output_type": "execute_result"
    }
   ],
   "source": [
    "1 in d1"
   ]
  },
  {
   "cell_type": "code",
   "execution_count": 50,
   "id": "fe916865",
   "metadata": {},
   "outputs": [
    {
     "data": {
      "text/plain": [
       "False"
      ]
     },
     "execution_count": 50,
     "metadata": {},
     "output_type": "execute_result"
    }
   ],
   "source": [
    "4 in d1"
   ]
  },
  {
   "cell_type": "code",
   "execution_count": 51,
   "id": "1ef4084b",
   "metadata": {},
   "outputs": [
    {
     "data": {
      "text/plain": [
       "3"
      ]
     },
     "execution_count": 51,
     "metadata": {},
     "output_type": "execute_result"
    }
   ],
   "source": [
    "len(d1)"
   ]
  },
  {
   "cell_type": "code",
   "execution_count": 52,
   "id": "73b491b7",
   "metadata": {},
   "outputs": [
    {
     "data": {
      "text/plain": [
       "1"
      ]
     },
     "execution_count": 52,
     "metadata": {},
     "output_type": "execute_result"
    }
   ],
   "source": [
    "min(d1)"
   ]
  },
  {
   "cell_type": "code",
   "execution_count": 53,
   "id": "40366810",
   "metadata": {},
   "outputs": [
    {
     "data": {
      "text/plain": [
       "3"
      ]
     },
     "execution_count": 53,
     "metadata": {},
     "output_type": "execute_result"
    }
   ],
   "source": [
    "max(d1)"
   ]
  },
  {
   "cell_type": "code",
   "execution_count": 54,
   "id": "3701fca2",
   "metadata": {},
   "outputs": [],
   "source": [
    "# Dictionary work on her key "
   ]
  },
  {
   "cell_type": "code",
   "execution_count": 56,
   "id": "463af2fe",
   "metadata": {},
   "outputs": [
    {
     "data": {
      "text/plain": [
       "dict_keys([1, 2, 3])"
      ]
     },
     "execution_count": 56,
     "metadata": {},
     "output_type": "execute_result"
    }
   ],
   "source": [
    "d1.keys()"
   ]
  },
  {
   "cell_type": "code",
   "execution_count": 57,
   "id": "65508d2a",
   "metadata": {},
   "outputs": [
    {
     "data": {
      "text/plain": [
       "dict_values([2, 3, 4])"
      ]
     },
     "execution_count": 57,
     "metadata": {},
     "output_type": "execute_result"
    }
   ],
   "source": [
    "d1.values()"
   ]
  },
  {
   "cell_type": "code",
   "execution_count": null,
   "id": "b11823b5",
   "metadata": {},
   "outputs": [],
   "source": []
  }
 ],
 "metadata": {
  "kernelspec": {
   "display_name": "Python 3 (ipykernel)",
   "language": "python",
   "name": "python3"
  },
  "language_info": {
   "codemirror_mode": {
    "name": "ipython",
    "version": 3
   },
   "file_extension": ".py",
   "mimetype": "text/x-python",
   "name": "python",
   "nbconvert_exporter": "python",
   "pygments_lexer": "ipython3",
   "version": "3.9.12"
  }
 },
 "nbformat": 4,
 "nbformat_minor": 5
}
