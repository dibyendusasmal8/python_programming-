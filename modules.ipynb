{
 "cells": [
  {
   "cell_type": "markdown",
   "id": "87040a7f",
   "metadata": {},
   "source": [
    "## What are modules?\n",
    "Consider a module to be the same as a code library.\n",
    "A file containing a set of functions you want to include in your application.\n",
    "Examples of python modules\n",
    "   * Math\n",
    "   * Random\n",
    "   * os\n",
    "   * time"
   ]
  },
  {
   "cell_type": "code",
   "execution_count": 1,
   "id": "e44be6bf",
   "metadata": {},
   "outputs": [
    {
     "name": "stdout",
     "output_type": "stream",
     "text": [
      "\n",
      "Please wait a moment while I gather a list of all available modules...\n",
      "\n"
     ]
    },
    {
     "name": "stderr",
     "output_type": "stream",
     "text": [
      "WARNING: AstropyDeprecationWarning: The private astropy._erfa module has been made into its own package, pyerfa, which is a dependency of astropy and can be imported directly using \"import erfa\" [astropy._erfa]\n",
      "C:\\Users\\HP\\anaconda3\\lib\\site-packages\\nltk\\twitter\\__init__.py:20: UserWarning: The twython library has not been installed. Some functionality from the twitter package will not be available.\n",
      "  warnings.warn(\n",
      "C:\\Users\\HP\\anaconda3\\lib\\site-packages\\_distutils_hack\\__init__.py:30: UserWarning: Setuptools is replacing distutils.\n",
      "  warnings.warn(\"Setuptools is replacing distutils.\")\n",
      "No QCoreApplication instance found. Application patches not applied. You have to call load_stylesheet function after instantiation of QApplication to take effect. \n",
      "C:\\Users\\HP\\anaconda3\\lib\\pkgutil.py:108: VisibleDeprecationWarning:\n",
      "\n",
      "zmq.eventloop.minitornado is deprecated in pyzmq 14.0 and will be removed.\n",
      "    Install tornado itself to use zmq with the tornado IOLoop.\n",
      "    \n",
      "\n"
     ]
    },
    {
     "name": "stdout",
     "output_type": "stream",
     "text": [
      "Cython              commctrl            mock                sniffio\n",
      "IPython             compileall          modulefinder        snowballstemmer\n",
      "OpenSSL             comtypes            mpmath              socket\n",
      "PIL                 concurrent          msgpack             socketserver\n",
      "PyQt5               conda               msilib              socks\n",
      "TBB                 conda_build         msvcrt              sockshandler\n",
      "__future__          conda_content_trust multidict           sortedcollections\n",
      "_abc                conda_env           multipledispatch    sortedcontainers\n",
      "_aix_support        conda_pack          multiprocessing     soupsieve\n",
      "_argon2_cffi_bindings conda_package_handling munkres             sphinx\n",
      "_ast                conda_token         mypy_extensions     spyder\n",
      "_asyncio            conda_verify        mysql               spyder_kernels\n",
      "_bisect             configparser        mysqlx              sqlalchemy\n",
      "_black_version      constantly          nacl                sqlite3\n",
      "_blake2             contextlib          navigator_updater   sre_compile\n",
      "_bootlocale         contextvars         nbclassic           sre_constants\n",
      "_bootsubprocess     cookiecutter        nbclient            sre_parse\n",
      "_bz2                copy                nbconvert           ssl\n",
      "_cffi_backend       copyreg             nbformat            sspi\n",
      "_codecs             crypt               nest_asyncio        sspicon\n",
      "_codecs_cn          cryptography        netbios             stack_data\n",
      "_codecs_hk          cssselect           netrc               stat\n",
      "_codecs_iso2022     csv                 networkx            statistics\n",
      "_codecs_jp          ctypes              nltk                statsmodels\n",
      "_codecs_kr          curl                nntplib             string\n",
      "_codecs_tw          curses              nose                stringprep\n",
      "_collections        cwp                 notebook            struct\n",
      "_collections_abc    cycler              nt                  subprocess\n",
      "_compat_pickle      cython              ntpath              sunau\n",
      "_compression        cytoolz             ntsecuritycon       symbol\n",
      "_contextvars        daal4py             nturl2path          sympy\n",
      "_csv                dask                numba               symtable\n",
      "_ctypes             dataclasses         numbergen           sys\n",
      "_ctypes_test        datashader          numbers             sysconfig\n",
      "_datetime           datashape           numexpr             tables\n",
      "_decimal            datetime            numpy               tabnanny\n",
      "_distutils_hack     dateutil            numpydoc            tabulate\n",
      "_elementtree        dbi                 odbc                tarfile\n",
      "_functools          dbm                 olefile             tbb\n",
      "_hashlib            dde                 onedal              tblib\n",
      "_heapq              debugpy             opcode              telnetlib\n",
      "_imp                decimal             openpyxl            tempfile\n",
      "_io                 decorator           operator            tenacity\n",
      "_json               defusedxml          optparse            terminado\n",
      "_locale             diff_match_patch    os                  test\n",
      "_lsprof             difflib             packaging           test_pycosat\n",
      "_lzma               dis                 pandas              testpath\n",
      "_markupbase         distributed         pandocfilters       text_unidecode\n",
      "_md5                distutils           panel               textdistance\n",
      "_msi                doctest             param               textwrap\n",
      "_multibytecodec     docutils            paramiko            this\n",
      "_multiprocessing    email               parsel              threading\n",
      "_nsis               encodings           parser              threadpoolctl\n",
      "_opcode             ensurepip           parso               three_merge\n",
      "_operator           entrypoints         partd               tifffile\n",
      "_osx_support        enum                past                time\n",
      "_overlapped         erfa                pathlib             timeit\n",
      "_peg_parser         errno               pathspec            timer\n",
      "_pickle             et_xmlfile          patsy               tinycss\n",
      "_plotly_future_     executing           pdb                 tkinter\n",
      "_plotly_utils       fastjsonschema      pep8                tldextract\n",
      "_py_abc             faulthandler        perfmon             tlz\n",
      "_pydecimal          filecmp             pexpect             token\n",
      "_pyio               fileinput           pickle              tokenize\n",
      "_pyrsistent_version filelock            pickleshare         toml\n",
      "_pytest             flake8              pickletools         tomli\n",
      "_queue              flask               pip                 toolz\n",
      "_random             fnmatch             pipes               tornado\n",
      "_sha1               fontTools           pkg_resources       tqdm\n",
      "_sha256             formatter           pkginfo             trace\n",
      "_sha3               fractions           pkgutil             traceback\n",
      "_sha512             frozenlist          platform            tracemalloc\n",
      "_signal             fsspec              plistlib            traitlets\n",
      "_sitebuiltins       ftplib              plotly              tty\n",
      "_socket             functools           pluggy              turtle\n",
      "_sqlite3            future              poplib              turtledemo\n",
      "_sre                gc                  posixpath           twisted\n",
      "_ssl                genericpath         poyo                typed_ast\n",
      "_stat               gensim              pprint              types\n",
      "_statistics         getopt              profile             typing\n",
      "_string             getpass             prometheus_client   typing_extensions\n",
      "_strptime           gettext             prompt_toolkit      ujson\n",
      "_struct             glob                protego             unicodedata\n",
      "_symtable           glob2               pstats              unidecode\n",
      "_system_path        google_crc32c       psutil              unittest\n",
      "_testbuffer         graphlib            pty                 urllib\n",
      "_testcapi           greenlet            ptyprocess          urllib3\n",
      "_testconsole        grpc                pure_eval           uu\n",
      "_testimportmultiple gzip                pvectorc            uuid\n",
      "_testinternalcapi   h5py                py                  venv\n",
      "_testmultiphase     hamcrest            py_compile          w3lib\n",
      "_thread             hashlib             pyasn1              warnings\n",
      "_threading_local    heapdict            pyasn1_modules      watchdog\n",
      "_tkinter            heapq               pyclbr              wave\n",
      "_tracemalloc        hmac                pycodestyle         wcwidth\n",
      "_uuid               holoviews           pycosat             weakref\n",
      "_warnings           html                pycparser           webbrowser\n",
      "_weakref            http                pyct                webencodings\n",
      "_weakrefset         hvplot              pycurl              websocket\n",
      "_win32sysloader     hyperlink           pydispatch          werkzeug\n",
      "_winapi             idlelib             pydoc               wheel\n",
      "_winxptheme         idna                pydoc_data          widgetsnbextension\n",
      "_xxsubinterpreters  imagecodecs         pydocstyle          win2kras\n",
      "_yaml               imageio             pyexpat             win32api\n",
      "_zoneinfo           imagesize           pyflakes            win32clipboard\n",
      "abc                 imaplib             pygments            win32com\n",
      "adodbapi            imghdr              pylab               win32con\n",
      "afxres              imp                 pylint              win32console\n",
      "aifc                importlib           pyls_spyder         win32cred\n",
      "aiohttp             importlib_metadata  pylsp               win32crypt\n",
      "aiosignal           incremental         pylsp_black         win32cryptcon\n",
      "alabaster           inflection          pylsp_jsonrpc       win32ctypes\n",
      "anaconda_navigator  iniconfig           pyodbc              win32event\n",
      "anaconda_project    inspect             pyparsing           win32evtlog\n",
      "antigravity         intake              pyreadline          win32evtlogutil\n",
      "anyio               intervaltree        pyrsistent          win32file\n",
      "appdirs             io                  pytest              win32gui\n",
      "argon2              ipaddress           pythoncom           win32gui_struct\n",
      "argparse            ipykernel           pytz                win32help\n",
      "array               ipykernel_launcher  pyviz_comms         win32inet\n",
      "arrow               ipython_genutils    pywin               win32inetcon\n",
      "ast                 ipywidgets          pywin32_bootstrap   win32job\n",
      "astroid             isapi               pywin32_testutil    win32lz\n",
      "astropy             isort               pywintypes          win32net\n",
      "asttokens           isympy              pywt                win32netcon\n",
      "async_timeout       itemadapter         pyximport           win32pdh\n",
      "asynchat            itemloaders         qdarkstyle          win32pdhquery\n",
      "asyncio             itertools           qrcode              win32pdhutil\n",
      "asyncore            itsdangerous        qstylizer           win32pipe\n",
      "atexit              jdcal               qtawesome           win32print\n",
      "atomicwrites        jedi                qtconsole           win32process\n",
      "attr                jinja2              qtpy                win32profile\n",
      "attrs               jinja2_time         queue               win32ras\n",
      "audioop             jmespath            queuelib            win32rcparser\n",
      "automat             joblib              quopri              win32security\n",
      "autopep8            json                random              win32service\n",
      "babel               json5               rasutil             win32serviceutil\n",
      "backcall            jsonschema          re                  win32timezone\n",
      "backports           jupyter             readline            win32trace\n",
      "base64              jupyter_client      regcheck            win32traceutil\n",
      "bcrypt              jupyter_console     regex               win32transaction\n",
      "bdb                 jupyter_core        regutil             win32ts\n",
      "binaryornot         jupyter_server      repo_cli            win32ui\n",
      "binascii            jupyterlab          reprlib             win32uiole\n",
      "binhex              jupyterlab_plotly   requests            win32verstamp\n",
      "binstar_client      jupyterlab_pygments requests_file       win32wnet\n",
      "bisect              jupyterlab_server   rlcompleter         win_inet_pton\n",
      "bitarray            jupyterlab_widgets  rope                win_unicode_console\n",
      "bkcharts            jwt                 rsa                 wincertstore\n",
      "black               keyring             rtree               winerror\n",
      "blackd              keyword             ruamel_yaml         winioctlcon\n",
      "bleach              kiwisolver          run                 winnt\n",
      "blib2to3            lazy_object_proxy   runpy               winperf\n",
      "bokeh               lib2to3             s3transfer          winpty\n",
      "boto3               libarchive          sched               winreg\n",
      "botocore            libfuturize         scipy               winsound\n",
      "bottleneck          libpasteurize       scrapy              winxpgui\n",
      "brotli              lief                seaborn             winxptheme\n",
      "bs4                 linecache           secrets             wrapt\n",
      "builtins            llvmlite            select              wsgiref\n",
      "bz2                 locale              selectors           xarray\n",
      "cProfile            locket              send2trash          xdrlib\n",
      "cachetools          logging             service_identity    xlrd\n",
      "calendar            lxml                servicemanager      xlsxwriter\n",
      "certifi             lzma                setuptools          xlwings\n",
      "cffi                mailbox             shelve              xml\n",
      "cgi                 mailcap             shlex               xmlrpc\n",
      "cgitb               markdown            shutil              xxsubtype\n",
      "chardet             markupsafe          signal              yaml\n",
      "charset_normalizer  marshal             sip                 yapf\n",
      "chunk               math                sipconfig           yapftests\n",
      "click               matplotlib          sipdistutils        yarl\n",
      "cloudpickle         matplotlib_inline   site                zict\n",
      "clyent              mccabe              six                 zipapp\n",
      "cmath               menuinst            skimage             zipfile\n",
      "cmd                 mimetypes           sklearn             zipimport\n",
      "code                mistune             sklearnex           zipp\n",
      "codecs              mkl                 slugify             zlib\n",
      "codeop              mkl_fft             smart_open          zmq\n",
      "collections         mkl_random          smtpd               zoneinfo\n",
      "colorama            mmap                smtplib             zope\n",
      "colorcet            mmapfile            snappy              \n",
      "colorsys            mmsystem            sndhdr              \n",
      "\n",
      "Enter any module name to get more help.  Or, type \"modules spam\" to search\n",
      "for modules whose name or summary contain the string \"spam\".\n",
      "\n"
     ]
    }
   ],
   "source": [
    "help('modules')"
   ]
  },
  {
   "cell_type": "code",
   "execution_count": 2,
   "id": "c8434755",
   "metadata": {},
   "outputs": [],
   "source": [
    "import math"
   ]
  },
  {
   "cell_type": "code",
   "execution_count": null,
   "id": "e58880b3",
   "metadata": {},
   "outputs": [],
   "source": [
    "math.pi"
   ]
  },
  {
   "cell_type": "code",
   "execution_count": null,
   "id": "a317da2d",
   "metadata": {},
   "outputs": [],
   "source": [
    "math.e"
   ]
  },
  {
   "cell_type": "code",
   "execution_count": null,
   "id": "22ebddf5",
   "metadata": {},
   "outputs": [],
   "source": [
    "math.factorial(5)\n"
   ]
  },
  {
   "cell_type": "code",
   "execution_count": null,
   "id": "d8f8bf8b",
   "metadata": {},
   "outputs": [],
   "source": [
    "math.ceil(6.3)"
   ]
  },
  {
   "cell_type": "code",
   "execution_count": null,
   "id": "56302608",
   "metadata": {},
   "outputs": [],
   "source": [
    "math.floor(6.9)"
   ]
  },
  {
   "cell_type": "code",
   "execution_count": null,
   "id": "7ec8b47c",
   "metadata": {},
   "outputs": [],
   "source": [
    "math.sqrt(100)"
   ]
  },
  {
   "cell_type": "code",
   "execution_count": null,
   "id": "c5701615",
   "metadata": {},
   "outputs": [],
   "source": [
    "import random"
   ]
  },
  {
   "cell_type": "code",
   "execution_count": null,
   "id": "ec4da482",
   "metadata": {},
   "outputs": [],
   "source": [
    "random.randint(1,100)"
   ]
  },
  {
   "cell_type": "code",
   "execution_count": null,
   "id": "4dc7b378",
   "metadata": {},
   "outputs": [],
   "source": [
    "a = [1,2,3,4,5]\n",
    "random.shuffle(a)\n",
    "a"
   ]
  },
  {
   "cell_type": "code",
   "execution_count": 3,
   "id": "1a5c246a",
   "metadata": {},
   "outputs": [],
   "source": [
    "import time"
   ]
  },
  {
   "cell_type": "code",
   "execution_count": 4,
   "id": "40f7bd0d",
   "metadata": {},
   "outputs": [
    {
     "data": {
      "text/plain": [
       "1666294102.8063946"
      ]
     },
     "execution_count": 4,
     "metadata": {},
     "output_type": "execute_result"
    }
   ],
   "source": [
    "time.time()"
   ]
  },
  {
   "cell_type": "code",
   "execution_count": null,
   "id": "f3bf185e",
   "metadata": {},
   "outputs": [],
   "source": [
    "time.ctime()"
   ]
  },
  {
   "cell_type": "code",
   "execution_count": null,
   "id": "2bb920db",
   "metadata": {},
   "outputs": [],
   "source": [
    "print(\"Hello\")\n",
    "time.sleep(1)\n",
    "print(\"World\")"
   ]
  },
  {
   "cell_type": "code",
   "execution_count": null,
   "id": "e06e3dd6",
   "metadata": {},
   "outputs": [],
   "source": [
    "import os"
   ]
  },
  {
   "cell_type": "code",
   "execution_count": null,
   "id": "fda5deb5",
   "metadata": {},
   "outputs": [],
   "source": [
    "os.getcwd()"
   ]
  },
  {
   "cell_type": "code",
   "execution_count": null,
   "id": "a26482f5",
   "metadata": {},
   "outputs": [],
   "source": []
  },
  {
   "cell_type": "code",
   "execution_count": null,
   "id": "2f5a4322",
   "metadata": {},
   "outputs": [],
   "source": []
  },
  {
   "cell_type": "code",
   "execution_count": null,
   "id": "93db5478",
   "metadata": {},
   "outputs": [],
   "source": []
  }
 ],
 "metadata": {
  "kernelspec": {
   "display_name": "Python 3 (ipykernel)",
   "language": "python",
   "name": "python3"
  },
  "language_info": {
   "codemirror_mode": {
    "name": "ipython",
    "version": 3
   },
   "file_extension": ".py",
   "mimetype": "text/x-python",
   "name": "python",
   "nbconvert_exporter": "python",
   "pygments_lexer": "ipython3",
   "version": "3.9.12"
  }
 },
 "nbformat": 4,
 "nbformat_minor": 5
}
