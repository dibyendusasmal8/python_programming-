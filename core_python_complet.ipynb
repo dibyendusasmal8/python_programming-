{
 "cells": [
  {
   "cell_type": "code",
   "execution_count": null,
   "id": "419e8db5",
   "metadata": {},
   "outputs": [],
   "source": []
  },
  {
   "cell_type": "markdown",
   "id": "d3299be9",
   "metadata": {},
   "source": [
    "#  string"
   ]
  },
  {
   "cell_type": "code",
   "execution_count": 1,
   "id": "8d1f31f6",
   "metadata": {},
   "outputs": [
    {
     "name": "stdout",
     "output_type": "stream",
     "text": [
      "dibyendu\n",
      "dibyendu\n",
      "helo world\n",
      "how are you \n",
      "i am dibyendu sasmal\n",
      "what is yours name\n"
     ]
    }
   ],
   "source": [
    "# single quotes string \n",
    "str1='dibyendu'\n",
    "# double quotes string \n",
    "str2=\"dibyendu\"\n",
    "# triple quotes\n",
    "str3='''helo world\n",
    "how are you \n",
    "i am dibyendu sasmal\n",
    "what is yours name'''\n",
    "print(str1)\n",
    "print(str2)\n",
    "print(str3)\n"
   ]
  },
  {
   "cell_type": "markdown",
   "id": "7d1f4638",
   "metadata": {},
   "source": [
    "## using escape chareters"
   ]
  },
  {
   "cell_type": "code",
   "execution_count": 2,
   "id": "b76062f3",
   "metadata": {},
   "outputs": [
    {
     "name": "stdout",
     "output_type": "stream",
     "text": [
      "hello world \n",
      " how are you?\n"
     ]
    }
   ],
   "source": [
    "str4=\"hello world \\n how are you?\"\n",
    "print(str4)"
   ]
  },
  {
   "cell_type": "markdown",
   "id": "c73b513d",
   "metadata": {},
   "source": [
    "## index"
   ]
  },
  {
   "cell_type": "code",
   "execution_count": 3,
   "id": "90ac0829",
   "metadata": {},
   "outputs": [
    {
     "name": "stdout",
     "output_type": "stream",
     "text": [
      "d\n",
      "i\n",
      "b\n",
      "y\n",
      "e\n",
      "n\n",
      "d\n",
      "u\n"
     ]
    }
   ],
   "source": [
    "d='dibyendu'\n",
    "print(d[0])\n",
    "print(d[1])\n",
    "print(d[2])\n",
    "print(d[3])\n",
    "print(d[4])\n",
    "print(d[5])\n",
    "print(d[6])\n",
    "print(d[7])"
   ]
  },
  {
   "cell_type": "markdown",
   "id": "ffd9aa06",
   "metadata": {},
   "source": [
    "### using loop"
   ]
  },
  {
   "cell_type": "code",
   "execution_count": 4,
   "id": "70b5260d",
   "metadata": {},
   "outputs": [
    {
     "name": "stdout",
     "output_type": "stream",
     "text": [
      "d\n",
      "i\n",
      "b\n",
      "y\n",
      "e\n",
      "n\n",
      "d\n",
      "u\n"
     ]
    }
   ],
   "source": [
    "d=\"dibyendu\"\n",
    "for i in d:\n",
    "    print(i)"
   ]
  },
  {
   "cell_type": "code",
   "execution_count": 5,
   "id": "4e96d70a",
   "metadata": {},
   "outputs": [
    {
     "name": "stdout",
     "output_type": "stream",
     "text": [
      "d [ 0 ] = d\n",
      "d [ 1 ] = i\n",
      "d [ 2 ] = b\n",
      "d [ 3 ] = y\n",
      "d [ 4 ] = e\n",
      "d [ 5 ] = n\n",
      "d [ 6 ] = d\n",
      "d [ 7 ] = u\n"
     ]
    }
   ],
   "source": [
    "d='dibyendu'\n",
    "a=len(d)\n",
    "for i in range(a):\n",
    "    print(\"d\",\"[\",i,\"]\",\"=\",d[i])"
   ]
  },
  {
   "cell_type": "code",
   "execution_count": 6,
   "id": "a404870f",
   "metadata": {},
   "outputs": [
    {
     "name": "stdout",
     "output_type": "stream",
     "text": [
      "d [ 0 ] = d\n",
      "d [ 1 ] = i\n",
      "d [ 2 ] = b\n",
      "d [ 3 ] = y\n",
      "d [ 4 ] = e\n",
      "d [ 5 ] = n\n",
      "d [ 6 ] = d\n",
      "d [ 7 ] = u\n"
     ]
    }
   ],
   "source": [
    "d=\"dibyendu\"\n",
    "a=len(d)\n",
    "i=0\n",
    "while i<a:\n",
    "    print(\"d\",\"[\",i,\"]\",\"=\",d[i])\n",
    "    i=i+1"
   ]
  },
  {
   "cell_type": "markdown",
   "id": "d9af69fb",
   "metadata": {},
   "source": [
    "## Repetition operator in python"
   ]
  },
  {
   "cell_type": "code",
   "execution_count": 10,
   "id": "30aabdea",
   "metadata": {},
   "outputs": [
    {
     "name": "stdout",
     "output_type": "stream",
     "text": [
      "dibyendudibyendudibyendudibyendudibyendu\n"
     ]
    }
   ],
   "source": [
    "str0=\"dibyendu\"\n",
    "n= str0*5\n",
    "print(n)"
   ]
  },
  {
   "cell_type": "code",
   "execution_count": 11,
   "id": "864b70ea",
   "metadata": {},
   "outputs": [
    {
     "ename": "TypeError",
     "evalue": "string indices must be integers",
     "output_type": "error",
     "traceback": [
      "\u001b[1;31m---------------------------------------------------------------------------\u001b[0m",
      "\u001b[1;31mTypeError\u001b[0m                                 Traceback (most recent call last)",
      "Input \u001b[1;32mIn [11]\u001b[0m, in \u001b[0;36m<cell line: 3>\u001b[1;34m()\u001b[0m\n\u001b[0;32m      1\u001b[0m \u001b[38;5;66;03m# using slicin trick\u001b[39;00m\n\u001b[0;32m      2\u001b[0m str1\u001b[38;5;241m=\u001b[39m\u001b[38;5;124m\"\u001b[39m\u001b[38;5;124mdibyendu\u001b[39m\u001b[38;5;124m\"\u001b[39m\n\u001b[1;32m----> 3\u001b[0m n\u001b[38;5;241m=\u001b[39m\u001b[43mstr1\u001b[49m\u001b[43m[\u001b[49m\u001b[38;5;241;43m0\u001b[39;49m\u001b[43m,\u001b[49m\u001b[38;5;241;43m4\u001b[39;49m\u001b[43m]\u001b[49m\n\u001b[0;32m      4\u001b[0m \u001b[38;5;28mprint\u001b[39m(n)\n",
      "\u001b[1;31mTypeError\u001b[0m: string indices must be integers"
     ]
    }
   ],
   "source": [
    "# using slicin trick\n",
    "str1=\"dibyendu\"\n",
    "n=str1[0,4]\n",
    "print(n)"
   ]
  },
  {
   "cell_type": "markdown",
   "id": "bcaa4dc8",
   "metadata": {},
   "source": [
    "## concatenation operator"
   ]
  },
  {
   "cell_type": "code",
   "execution_count": 12,
   "id": "1667fb48",
   "metadata": {},
   "outputs": [
    {
     "name": "stdout",
     "output_type": "stream",
     "text": [
      "dibyendu sasmal\n"
     ]
    }
   ],
   "source": [
    "print(\"dibyendu \" + \"sasmal\")"
   ]
  },
  {
   "cell_type": "code",
   "execution_count": 13,
   "id": "a90362a7",
   "metadata": {},
   "outputs": [
    {
     "name": "stdout",
     "output_type": "stream",
     "text": [
      "dibyendu sasmal\n"
     ]
    }
   ],
   "source": [
    "st=\"dibyendu \"\n",
    "st1=\"sasmal\"\n",
    "d=st+st1\n",
    "print(d)"
   ]
  },
  {
   "cell_type": "markdown",
   "id": "ee1d17cc",
   "metadata": {},
   "source": [
    "## FORMATING METHOD"
   ]
  },
  {
   "cell_type": "code",
   "execution_count": 14,
   "id": "e7823aec",
   "metadata": {},
   "outputs": [
    {
     "name": "stdout",
     "output_type": "stream",
     "text": [
      "this is a value:20\n",
      "my age is:20\n"
     ]
    }
   ],
   "source": [
    "a=20\n",
    "print(f\"this is a value:{a}\")\n",
    "print(f\"my age is:{a}\")"
   ]
  },
  {
   "cell_type": "code",
   "execution_count": 15,
   "id": "5cc7a258",
   "metadata": {},
   "outputs": [
    {
     "name": "stdout",
     "output_type": "stream",
     "text": [
      "This is float point number:20.65\n"
     ]
    }
   ],
   "source": [
    "c=20.65\n",
    "print(f\"This is float point number:{c}\")"
   ]
  },
  {
   "cell_type": "code",
   "execution_count": 17,
   "id": "30ea191e",
   "metadata": {},
   "outputs": [
    {
     "name": "stdout",
     "output_type": "stream",
     "text": [
      "this is my name dibyendu sasmal\n"
     ]
    }
   ],
   "source": [
    "f_name=\"dibyendu \"\n",
    "l_name=\"sasmal\"\n",
    "print(f\"this is my name {f_name}{l_name}\")"
   ]
  },
  {
   "cell_type": "markdown",
   "id": "2fb53c69",
   "metadata": {},
   "source": [
    "# Funtion "
   ]
  },
  {
   "cell_type": "code",
   "execution_count": 18,
   "id": "2182f683",
   "metadata": {},
   "outputs": [
    {
     "data": {
      "text/plain": [
       "9"
      ]
     },
     "execution_count": 18,
     "metadata": {},
     "output_type": "execute_result"
    }
   ],
   "source": [
    "def add():\n",
    "    a=4\n",
    "    b=5\n",
    "    c=a+b\n",
    "    return(c)\n",
    "add()"
   ]
  },
  {
   "cell_type": "code",
   "execution_count": 19,
   "id": "09122e20",
   "metadata": {},
   "outputs": [
    {
     "name": "stdout",
     "output_type": "stream",
     "text": [
      "30\n"
     ]
    }
   ],
   "source": [
    "def add(y):\n",
    "    x=10\n",
    "    c=y+x\n",
    "    return(c)\n",
    "\n",
    "suu_of=add(20)\n",
    "print(suu_of)"
   ]
  },
  {
   "cell_type": "code",
   "execution_count": 20,
   "id": "b80f80b1",
   "metadata": {},
   "outputs": [
    {
     "name": "stdout",
     "output_type": "stream",
     "text": [
      "30\n"
     ]
    }
   ],
   "source": [
    "def add(y):\n",
    "    x=10\n",
    "    return(y+x)\n",
    "\n",
    "suu_of=add(20)\n",
    "print(suu_of)"
   ]
  },
  {
   "cell_type": "code",
   "execution_count": 21,
   "id": "0d351ed9",
   "metadata": {},
   "outputs": [
    {
     "name": "stdout",
     "output_type": "stream",
     "text": [
      "30\n",
      "-10\n"
     ]
    }
   ],
   "source": [
    "def add_sub():\n",
    "    y=10\n",
    "    x=20\n",
    "    c=y+x\n",
    "    d=y-x\n",
    "    return(c,d)\n",
    "summ,subb=add_sub()\n",
    "print(summ)\n",
    "print(subb)"
   ]
  },
  {
   "cell_type": "markdown",
   "id": "28c2b2eb",
   "metadata": {},
   "source": [
    "### Nested Function in Python"
   ]
  },
  {
   "cell_type": "code",
   "execution_count": 22,
   "id": "3329430d",
   "metadata": {},
   "outputs": [
    {
     "name": "stdout",
     "output_type": "stream",
     "text": [
      "disp funtion\n",
      "show funtion\n"
     ]
    }
   ],
   "source": [
    "def disp():\n",
    "    def show():\n",
    "        print(\"show funtion\")\n",
    "    print(\"disp funtion\")\n",
    "    show()\n",
    "disp()"
   ]
  },
  {
   "cell_type": "code",
   "execution_count": 23,
   "id": "d1b969f3",
   "metadata": {},
   "outputs": [
    {
     "name": "stdout",
     "output_type": "stream",
     "text": [
      "show funtion disp funtion\n"
     ]
    }
   ],
   "source": [
    "def disp():\n",
    "    def show():\n",
    "        return \"show funtion\"\n",
    "    result = show()+\" disp funtion\"\n",
    "    return(result)\n",
    "\n",
    "a=disp()\n",
    "print(a)"
   ]
  },
  {
   "cell_type": "code",
   "execution_count": 24,
   "id": "12ee9c95",
   "metadata": {},
   "outputs": [
    {
     "name": "stdout",
     "output_type": "stream",
     "text": [
      "show funtion dibyendu sasmal disp funtion\n"
     ]
    }
   ],
   "source": [
    "def disp(st):\n",
    "    def show():\n",
    "        return \"show funtion \"\n",
    "    result = show() + st +\" disp funtion\"\n",
    "    return(result)\n",
    "\n",
    "\n",
    "print(disp(\"dibyendu sasmal\"))"
   ]
  },
  {
   "cell_type": "markdown",
   "id": "0e13e9ef",
   "metadata": {},
   "source": [
    "### Passing a Function as Parameter in Python "
   ]
  },
  {
   "cell_type": "code",
   "execution_count": 25,
   "id": "423c5cd9",
   "metadata": {},
   "outputs": [
    {
     "name": "stdout",
     "output_type": "stream",
     "text": [
      "disp funtion dibyendu sasmal\n"
     ]
    }
   ],
   "source": [
    "def disp(pas):\n",
    "    print(\"disp funtion \" + pas())\n",
    "    \n",
    "def shs():\n",
    "    return\"dibyendu sasmal\"\n",
    "    \n",
    "disp(shs)"
   ]
  },
  {
   "cell_type": "markdown",
   "id": "4ef3ca06",
   "metadata": {},
   "source": [
    "### Function returning another Function in Python"
   ]
  },
  {
   "cell_type": "code",
   "execution_count": 26,
   "id": "4791e6c2",
   "metadata": {},
   "outputs": [
    {
     "name": "stdout",
     "output_type": "stream",
     "text": [
      "disp funtion\n",
      "show funtion\n",
      "None\n"
     ]
    }
   ],
   "source": [
    "def disp():\n",
    "    def show():\n",
    "        print(\"show funtion\")\n",
    "    print(\"disp funtion\")\n",
    "    return show\n",
    "r_sh=disp()\n",
    "print(r_sh())"
   ]
  },
  {
   "cell_type": "markdown",
   "id": "5c209b78",
   "metadata": {},
   "source": [
    "# TYPE OF ACTUAL ARGUMENTS"
   ]
  },
  {
   "cell_type": "markdown",
   "id": "74cf7bdb",
   "metadata": {},
   "source": [
    "### Positional  Arguments"
   ]
  },
  {
   "cell_type": "code",
   "execution_count": 27,
   "id": "af054973",
   "metadata": {},
   "outputs": [
    {
     "name": "stdout",
     "output_type": "stream",
     "text": [
      "25\n"
     ]
    }
   ],
   "source": [
    "#THIS ARGUMENT ARE PASSED TO THE FUNTION IN CORRECT POSITIONAL ORDER.\n",
    "def pw(x,y):\n",
    "    n=x**y\n",
    "    print(n)\n",
    "pw(5,2)"
   ]
  },
  {
   "cell_type": "markdown",
   "id": "c3bcd783",
   "metadata": {},
   "source": [
    "## Keyword Argument "
   ]
  },
  {
   "cell_type": "code",
   "execution_count": 4,
   "id": "5207e197",
   "metadata": {},
   "outputs": [
    {
     "name": "stdout",
     "output_type": "stream",
     "text": [
      "your name dibyendu sasmal your age is 24\n"
     ]
    }
   ],
   "source": [
    "def sm(name,age):\n",
    "    print(f\"your name {name} your age is {age}\")\n",
    "sm(name=\"dibyendu sasmal\",age=24)"
   ]
  },
  {
   "cell_type": "markdown",
   "id": "317e5a99",
   "metadata": {},
   "source": [
    "## Default Argument"
   ]
  },
  {
   "cell_type": "code",
   "execution_count": 5,
   "id": "8eaa29fe",
   "metadata": {},
   "outputs": [
    {
     "name": "stdout",
     "output_type": "stream",
     "text": [
      "your name is Dibyendu sasmal your age is 23\n"
     ]
    }
   ],
   "source": [
    "def name_age(name,age=23):\n",
    "    print(f\"your name is {name} your age is {age}\")\n",
    "name_age(name=\"Dibyendu sasmal\")"
   ]
  },
  {
   "cell_type": "markdown",
   "id": "e8896012",
   "metadata": {},
   "source": [
    "## Variable length Argument"
   ]
  },
  {
   "cell_type": "code",
   "execution_count": 6,
   "id": "05b395eb",
   "metadata": {},
   "outputs": [
    {
     "name": "stdout",
     "output_type": "stream",
     "text": [
      "6\n"
     ]
    }
   ],
   "source": [
    "def add(*num):\n",
    "    x=num[0]+num[1]+num[2]\n",
    "    print(x)\n",
    "add(1,2,3)"
   ]
  },
  {
   "cell_type": "code",
   "execution_count": 7,
   "id": "e52bf8ee",
   "metadata": {},
   "outputs": [
    {
     "name": "stdout",
     "output_type": "stream",
     "text": [
      "56\n"
     ]
    }
   ],
   "source": [
    "def add(v,*num):\n",
    "    x=v+num[0]+num[1]+num[2]\n",
    "    print(x)\n",
    "add(50,1,2,3)"
   ]
  },
  {
   "cell_type": "code",
   "execution_count": 8,
   "id": "bbcf87b0",
   "metadata": {},
   "outputs": [
    {
     "name": "stdout",
     "output_type": "stream",
     "text": [
      "56\n"
     ]
    }
   ],
   "source": [
    "def add(*num):\n",
    "    x=50+num[0]+num[1]+num[2]\n",
    "    print(x)\n",
    "add(1,2,3)"
   ]
  },
  {
   "cell_type": "markdown",
   "id": "08bab988",
   "metadata": {},
   "source": [
    "## Keyword Variable Lenth Argument"
   ]
  },
  {
   "cell_type": "code",
   "execution_count": 9,
   "id": "f9fe8111",
   "metadata": {},
   "outputs": [
    {
     "name": "stdout",
     "output_type": "stream",
     "text": [
      "15\n"
     ]
    }
   ],
   "source": [
    "def add(**num):\n",
    "    z=num['a']+num['b']+num['c']\n",
    "    print(z)\n",
    "add(a=5,b=6,c=4)"
   ]
  },
  {
   "cell_type": "markdown",
   "id": "6d571952",
   "metadata": {},
   "source": [
    "## Anonymous Function or Lambda\n",
    "A function with out a name is called anonymous function."
   ]
  },
  {
   "cell_type": "code",
   "execution_count": 10,
   "id": "d9cce08d",
   "metadata": {},
   "outputs": [
    {
     "name": "stdout",
     "output_type": "stream",
     "text": [
      "<function <lambda> at 0x000002E8662D6AF0>\n"
     ]
    }
   ],
   "source": [
    "x=10\n",
    "y=20\n",
    "z=lambda x,y:print(x+y)\n",
    "print(z)\n"
   ]
  },
  {
   "cell_type": "markdown",
   "id": "be035c49",
   "metadata": {},
   "source": [
    "## Pass or Call by Object Reference in Python "
   ]
  },
  {
   "cell_type": "code",
   "execution_count": 11,
   "id": "62a69d12",
   "metadata": {},
   "outputs": [
    {
     "name": "stdout",
     "output_type": "stream",
     "text": [
      "15 3197083609840\n",
      "10 3197083609680\n"
     ]
    }
   ],
   "source": [
    "def val(x):\n",
    "    x=15\n",
    "    print(x,id(x))\n",
    "\n",
    "val(10)\n",
    "print(x,id(x))"
   ]
  },
  {
   "cell_type": "code",
   "execution_count": null,
   "id": "77d4e034",
   "metadata": {},
   "outputs": [],
   "source": []
  },
  {
   "cell_type": "markdown",
   "id": "da14cd93",
   "metadata": {},
   "source": [
    "## Function Decorator in Python"
   ]
  },
  {
   "cell_type": "code",
   "execution_count": 19,
   "id": "fcbee7dd",
   "metadata": {},
   "outputs": [
    {
     "name": "stdout",
     "output_type": "stream",
     "text": [
      "it: befor enhancing funtion\n",
      "we will use this function\n",
      "and will enhance this in decorator\n",
      "it: after enhancing function\n"
     ]
    }
   ],
   "source": [
    "def decor(fun):\n",
    "    def inner():\n",
    "        print(\"it: befor enhancing funtion\")\n",
    "        fun()\n",
    "        print(\"it: after enhancing function\")\n",
    "    return inner()\n",
    "def num():\n",
    "    print(\"we will use this function\")\n",
    "    print(\"and will enhance this in decorator\")\n",
    "decor(num)\n",
    "\n"
   ]
  },
  {
   "cell_type": "code",
   "execution_count": 16,
   "id": "9ff63e16",
   "metadata": {},
   "outputs": [
    {
     "name": "stdout",
     "output_type": "stream",
     "text": [
      "it: befor enhancing funtion\n",
      "we will use this function\n",
      "and will enhance this in decorator\n",
      "it: after enhancing function\n"
     ]
    }
   ],
   "source": [
    "def decor(num):\n",
    "    def inner():\n",
    "        print(\"it: befor enhancing funtion\")\n",
    "        num()\n",
    "        print(\"it: after enhancing function\")\n",
    "    return inner\n",
    "@decor\n",
    "def num():\n",
    "    print(\"we will use this function\")\n",
    "    print(\"and will enhance this in decorator\")\n",
    "a=num()\n",
    "\n"
   ]
  },
  {
   "cell_type": "code",
   "execution_count": 15,
   "id": "1e717a98",
   "metadata": {},
   "outputs": [
    {
     "name": "stdout",
     "output_type": "stream",
     "text": [
      "20\n"
     ]
    }
   ],
   "source": [
    "def decor(fun):\n",
    "    def inner():\n",
    "        a=fun()\n",
    "        add=a+10\n",
    "        return add\n",
    "    return inner\n",
    "def num():\n",
    "    return 10\n",
    "result_fun=decor(num)\n",
    "print(result_fun())\n"
   ]
  },
  {
   "cell_type": "code",
   "execution_count": 1,
   "id": "e21b073b",
   "metadata": {},
   "outputs": [
    {
     "name": "stdout",
     "output_type": "stream",
     "text": [
      "55\n"
     ]
    }
   ],
   "source": [
    "def decor1(num):\n",
    "    def inner():\n",
    "        b=num()\n",
    "        adding=b+40\n",
    "        return adding\n",
    "    return inner\n",
    "def decor2(num):\n",
    "    def inner():\n",
    "        a=num()\n",
    "        add=a+5\n",
    "        return add\n",
    "    return inner\n",
    "def num():\n",
    "    return 10\n",
    "num=decor2(decor1(num))\n",
    "print(num())"
   ]
  },
  {
   "cell_type": "markdown",
   "id": "3c0836be",
   "metadata": {},
   "source": [
    "## passing array to function in python"
   ]
  },
  {
   "cell_type": "code",
   "execution_count": 5,
   "id": "a2a9df11",
   "metadata": {},
   "outputs": [
    {
     "name": "stdout",
     "output_type": "stream",
     "text": [
      "array('i', [101, 102, 103, 104])\n",
      "<class 'array.array'>\n",
      "101\n",
      "102\n",
      "103\n",
      "104\n"
     ]
    }
   ],
   "source": [
    "import array \n",
    "a=array.array('i',[101,102,103,104])\n",
    "def show(name_ofarray):\n",
    "    print(name_ofarray)\n",
    "    print(type(name_ofarray))\n",
    "    for i in name_ofarray:\n",
    "        print(i)\n",
    "show(a)"
   ]
  },
  {
   "cell_type": "markdown",
   "id": "59a15b38",
   "metadata": {},
   "source": [
    "## returning array from funtion in python"
   ]
  },
  {
   "cell_type": "code",
   "execution_count": 7,
   "id": "7f283beb",
   "metadata": {},
   "outputs": [
    {
     "name": "stdout",
     "output_type": "stream",
     "text": [
      "returning array b array('i', [101, 102, 103, 104])\n",
      "101\n",
      "102\n",
      "103\n",
      "104\n"
     ]
    }
   ],
   "source": [
    "import array \n",
    "def show():\n",
    "    a= array.array('i',[101,102,103,104])\n",
    "    return a\n",
    "b=show()\n",
    "print(\"returning array b\",b)\n",
    "for i in b:\n",
    "    print(i)"
   ]
  },
  {
   "cell_type": "markdown",
   "id": "abd98915",
   "metadata": {},
   "source": [
    "## passing and returning numpy array "
   ]
  },
  {
   "cell_type": "code",
   "execution_count": 8,
   "id": "a26bddea",
   "metadata": {},
   "outputs": [
    {
     "name": "stdout",
     "output_type": "stream",
     "text": [
      "[100 101 102 103]\n",
      "<class 'numpy.ndarray'>\n",
      "100\n",
      "101\n",
      "102\n",
      "103\n"
     ]
    }
   ],
   "source": [
    "import numpy\n",
    "def show(num):\n",
    "    print(num)\n",
    "    print(type(num))\n",
    "    for i in num:\n",
    "        print(i)\n",
    "a=numpy.array([100,101,102,103])\n",
    "show(a)"
   ]
  },
  {
   "cell_type": "code",
   "execution_count": 10,
   "id": "343573e0",
   "metadata": {},
   "outputs": [
    {
     "name": "stdout",
     "output_type": "stream",
     "text": [
      "returning numpy array b [101 102 103 104]\n",
      "101\n",
      "102\n",
      "103\n",
      "104\n"
     ]
    }
   ],
   "source": [
    "import numpy \n",
    "def show():\n",
    "    a= numpy.array([101,102,103,104])\n",
    "    return a\n",
    "b=show()\n",
    "print(\"returning numpy array b\",b)\n",
    "for i in b:\n",
    "    print(i)"
   ]
  },
  {
   "cell_type": "markdown",
   "id": "5cef9118",
   "metadata": {},
   "source": [
    "## list in python "
   ]
  },
  {
   "cell_type": "code",
   "execution_count": 5,
   "id": "38ce3749",
   "metadata": {},
   "outputs": [
    {
     "name": "stdout",
     "output_type": "stream",
     "text": [
      "10\n",
      "40\n",
      "20.3\n",
      "dibyendu\n",
      "-50\n",
      "[70, 40, 20.3, 'dibyendu', -50]\n"
     ]
    }
   ],
   "source": [
    "a=[10,40,20.30,\"dibyendu\",-50]\n",
    "print(a[0])\n",
    "print(a[1])\n",
    "print(a[2])\n",
    "print(a[3])\n",
    "print(a[4])\n",
    "# change the list value \n",
    "a[0]=70\n",
    "print(a)"
   ]
  },
  {
   "cell_type": "markdown",
   "id": "4e349b53",
   "metadata": {},
   "source": [
    "## Accessing List using For Loop"
   ]
  },
  {
   "cell_type": "code",
   "execution_count": 6,
   "id": "87f732ec",
   "metadata": {},
   "outputs": [
    {
     "name": "stdout",
     "output_type": "stream",
     "text": [
      "10\n",
      "40\n",
      "20.3\n",
      "dibyendu\n",
      "-50\n"
     ]
    }
   ],
   "source": [
    "# with out index\n",
    "a=[10,40,20.30,\"dibyendu\",-50]\n",
    "for b in a:\n",
    "    print(b)"
   ]
  },
  {
   "cell_type": "code",
   "execution_count": 9,
   "id": "28c4ac18",
   "metadata": {},
   "outputs": [
    {
     "name": "stdout",
     "output_type": "stream",
     "text": [
      "a [ 0 ] 10\n",
      "a [ 1 ] 40\n",
      "a [ 2 ] 20.3\n",
      "a [ 3 ] dibyendu\n",
      "a [ 4 ] -50\n"
     ]
    }
   ],
   "source": [
    "# with index\n",
    "a=[10,40,20.30,\"dibyendu\",-50]\n",
    "b=len(a)\n",
    "for i in range(b):\n",
    "    print(\"a\",\"[\",i,\"]\",a[i])"
   ]
  },
  {
   "cell_type": "markdown",
   "id": "75685f96",
   "metadata": {},
   "source": [
    "## Accessing List using while Loop"
   ]
  },
  {
   "cell_type": "code",
   "execution_count": 10,
   "id": "09eda982",
   "metadata": {},
   "outputs": [
    {
     "name": "stdout",
     "output_type": "stream",
     "text": [
      "10\n",
      "40\n",
      "20.3\n",
      "dibyendu\n",
      "-50\n"
     ]
    }
   ],
   "source": [
    "a=[10,40,20.30,\"dibyendu\",-50]\n",
    "n=len(a)\n",
    "i=0\n",
    "while i<n:\n",
    "    print(a[i])\n",
    "    i+=1"
   ]
  },
  {
   "cell_type": "markdown",
   "id": "d86e691f",
   "metadata": {},
   "source": [
    "## appendin an eliment "
   ]
  },
  {
   "cell_type": "code",
   "execution_count": 11,
   "id": "adf6f3fe",
   "metadata": {},
   "outputs": [
    {
     "name": "stdout",
     "output_type": "stream",
     "text": [
      "befor appending: \n",
      "10\n",
      "20\n",
      "30\n",
      "40\n",
      "50.3\n",
      "affer appending\n",
      "10\n",
      "20\n",
      "30\n",
      "40\n",
      "50.3\n",
      "100\n"
     ]
    }
   ],
   "source": [
    "a=[10,20,30,40,50.30]\n",
    "print(\"befor appending: \")\n",
    "for i in a:\n",
    "    print(i)\n",
    "#appending an element\n",
    "a.append(100)\n",
    "print(\"affer appending\")\n",
    "for element in a:\n",
    "    print(element)"
   ]
  },
  {
   "cell_type": "markdown",
   "id": "a4b4d23a",
   "metadata": {},
   "source": [
    "## Getting List input from user in Python"
   ]
  },
  {
   "cell_type": "code",
   "execution_count": 16,
   "id": "a6968a9c",
   "metadata": {},
   "outputs": [
    {
     "name": "stdout",
     "output_type": "stream",
     "text": [
      "Enter number of Element3\n",
      "enter 0 element: 4\n",
      "enter 1 element: 5\n",
      "enter 2 element: 6\n",
      "list:  [4, 5, 6]\n",
      "element of list  4\n",
      "element of list  5\n",
      "element of list  6\n"
     ]
    }
   ],
   "source": [
    "a=[]\n",
    "n= int(input(\"Enter number of Element\"))\n",
    "for i in range(n):\n",
    "    a.append(int(input(f\"enter {i} element: \")))\n",
    "print(\"list: \",a)\n",
    "for element in a:\n",
    "    print(\"element of list \",element)"
   ]
  },
  {
   "cell_type": "markdown",
   "id": "38246e7d",
   "metadata": {},
   "source": [
    "## Insert Method In Python "
   ]
  },
  {
   "cell_type": "code",
   "execution_count": 17,
   "id": "0a983f04",
   "metadata": {},
   "outputs": [
    {
     "name": "stdout",
     "output_type": "stream",
     "text": [
      "befor insert element:\n",
      "[10, 20, 30, 40, 'dibyendu', 'sasmal']\n",
      "\n",
      "after insert element:\n",
      "[10, 20, 30, 40, 'I Am ', 'dibyendu', 'sasmal']\n",
      "\n",
      "accessing element after insert\n",
      "10\n",
      "20\n",
      "30\n",
      "40\n",
      "I Am \n",
      "dibyendu\n",
      "sasmal\n"
     ]
    }
   ],
   "source": [
    "a=[10,20,30,40,\"dibyendu\",\"sasmal\"]\n",
    "print(\"befor insert element:\")\n",
    "print(a)\n",
    "a.insert(4,\"I Am \")\n",
    "# print the list\n",
    "print()\n",
    "print(\"after insert element:\")\n",
    "print(a)\n",
    "# accessing element from the list\n",
    "print()\n",
    "print(\"accessing element after insert\")\n",
    "for i in a:\n",
    "    print(i)"
   ]
  },
  {
   "cell_type": "markdown",
   "id": "e5f8c799",
   "metadata": {},
   "source": [
    "## pop Method in Python\n",
    "this funtion delet last element in defoult mood or passing index it delet this index"
   ]
  },
  {
   "cell_type": "code",
   "execution_count": 20,
   "id": "a7a54dbd",
   "metadata": {},
   "outputs": [
    {
     "name": "stdout",
     "output_type": "stream",
     "text": [
      "[1, 2, 3]\n"
     ]
    }
   ],
   "source": [
    "a=[1,2,3,4]\n",
    "a.pop()\n",
    "print(a)"
   ]
  },
  {
   "cell_type": "code",
   "execution_count": 21,
   "id": "f9c0ab5c",
   "metadata": {},
   "outputs": [
    {
     "name": "stdout",
     "output_type": "stream",
     "text": [
      "[1, 3, 4]\n"
     ]
    }
   ],
   "source": [
    "a=[1,2,3,4]\n",
    "a.pop(1)\n",
    "print(a)"
   ]
  },
  {
   "cell_type": "markdown",
   "id": "8ba41085",
   "metadata": {},
   "source": [
    "## Remove () method\n",
    "this method is used to remove first occurrence of given element from the existing list."
   ]
  },
  {
   "cell_type": "code",
   "execution_count": 26,
   "id": "ee581c8f",
   "metadata": {},
   "outputs": [
    {
     "name": "stdout",
     "output_type": "stream",
     "text": [
      "[20, 30, 40, 50]\n"
     ]
    }
   ],
   "source": [
    "a=[10,20,30,40,50]\n",
    "a.remove(10)\n",
    "print(a)"
   ]
  },
  {
   "cell_type": "code",
   "execution_count": 27,
   "id": "32822d15",
   "metadata": {},
   "outputs": [
    {
     "name": "stdout",
     "output_type": "stream",
     "text": [
      "[20, 30, 10, 40, 10, 50]\n"
     ]
    }
   ],
   "source": [
    "a=[10,20,30,10,40,10,50]\n",
    "a.remove(10)\n",
    "print(a)"
   ]
  },
  {
   "cell_type": "markdown",
   "id": "081076f7",
   "metadata": {},
   "source": [
    "## index() method \n",
    "this method return position number of first occurrence of given element in the list ."
   ]
  },
  {
   "cell_type": "code",
   "execution_count": 29,
   "id": "24e9733d",
   "metadata": {},
   "outputs": [
    {
     "name": "stdout",
     "output_type": "stream",
     "text": [
      "3\n"
     ]
    }
   ],
   "source": [
    "a=[10,20,10,30,40,30,50]\n",
    "num=a.index(30)\n",
    "print(num)"
   ]
  },
  {
   "cell_type": "markdown",
   "id": "731b4a8c",
   "metadata": {},
   "source": [
    "## Reverse() method\n",
    "this method is used to reverse the order of elements in the list "
   ]
  },
  {
   "cell_type": "code",
   "execution_count": 30,
   "id": "478dbfb6",
   "metadata": {},
   "outputs": [
    {
     "name": "stdout",
     "output_type": "stream",
     "text": [
      "Befor Reverse A: [10, 20, 30, 40, 50]\n",
      "After Reverse A: [50, 40, 30, 20, 10]\n"
     ]
    }
   ],
   "source": [
    "a=[10,20,30,40,50]\n",
    "print(\"Befor Reverse A:\",a)\n",
    "a.reverse()\n",
    "print(\"After Reverse A:\",a)\n"
   ]
  },
  {
   "cell_type": "markdown",
   "id": "5a7836ab",
   "metadata": {},
   "source": [
    "## Extend() method\n",
    "this method is used to append another list or iterble object at the end of the list."
   ]
  },
  {
   "cell_type": "code",
   "execution_count": 31,
   "id": "e482c431",
   "metadata": {},
   "outputs": [
    {
     "name": "stdout",
     "output_type": "stream",
     "text": [
      "Befor extend A: [10, 20, 30, 40, 50]\n",
      "Before extend A: [60, 70, 10, 12]\n",
      "After Reverse A: [10, 20, 30, 40, 50, 60, 70, 10, 12]\n"
     ]
    }
   ],
   "source": [
    "a=[10,20,30,40,50]\n",
    "v=[60,70,10,12]\n",
    "print(\"Befor extend A:\",a)\n",
    "print(\"Before extend A:\",v)\n",
    "a.extend(v)\n",
    "print(\"After Reverse A:\",a)"
   ]
  },
  {
   "cell_type": "markdown",
   "id": "ab5d553d",
   "metadata": {},
   "source": [
    "## Count method\n",
    "this method returns number of occurrence of a specified element in the list"
   ]
  },
  {
   "cell_type": "code",
   "execution_count": 32,
   "id": "18bb94f1",
   "metadata": {},
   "outputs": [
    {
     "name": "stdout",
     "output_type": "stream",
     "text": [
      "After Count 10: 2\n"
     ]
    }
   ],
   "source": [
    "a=[10,20,30,10,40,30,50]\n",
    "\n",
    "b=a.count(10)\n",
    "print(\"After Count 10:\",b)"
   ]
  },
  {
   "cell_type": "markdown",
   "id": "d2c0fd33",
   "metadata": {},
   "source": [
    "## sort() method\n",
    "this method is used to sort the element of the list into asending order."
   ]
  },
  {
   "cell_type": "code",
   "execution_count": 33,
   "id": "0cd7652f",
   "metadata": {},
   "outputs": [
    {
     "name": "stdout",
     "output_type": "stream",
     "text": [
      "Befor sort A: [100, 20, 130, 10, 400, 30, 500]\n",
      "After sort A: [10, 20, 30, 100, 130, 400, 500]\n"
     ]
    }
   ],
   "source": [
    "a=[100,20,130,10,400,30,500]\n",
    "print(\"Befor sort A:\",a)\n",
    "a.sort()\n",
    "print(\"After sort A:\",a)"
   ]
  },
  {
   "cell_type": "markdown",
   "id": "bce97e60",
   "metadata": {},
   "source": [
    "## clear() method\n",
    "this method is used to delete all  the elements from the list "
   ]
  },
  {
   "cell_type": "code",
   "execution_count": 34,
   "id": "0b436ac4",
   "metadata": {},
   "outputs": [
    {
     "name": "stdout",
     "output_type": "stream",
     "text": [
      "Befor clear A: [100, 20, 130, 10, 400, 30, 500]\n",
      "After clear A: []\n"
     ]
    }
   ],
   "source": [
    "a=[100,20,130,10,400,30,500]\n",
    "print(\"Befor clear A:\",a)\n",
    "a.clear()\n",
    "print(\"After clear A:\",a)"
   ]
  },
  {
   "cell_type": "markdown",
   "id": "1ecf020e",
   "metadata": {},
   "source": [
    "## slicing on list\n",
    "slicing on list can be used to retrieve a piece of the contains a group of elements slicing is usefull to retrive a range of element"
   ]
  },
  {
   "cell_type": "code",
   "execution_count": 38,
   "id": "08ed9249",
   "metadata": {},
   "outputs": [
    {
     "name": "stdout",
     "output_type": "stream",
     "text": [
      "Befor slicing A: [100, 20, 130, 10, 400, 30, 500]\n",
      "After slicing A: [100, 20, 130, 10]\n"
     ]
    }
   ],
   "source": [
    "a=[100,20,130,10,400,30,500]\n",
    "print(\"Befor slicing A:\",a)\n",
    "x=a[0:4]\n",
    "print(\"After slicing A:\",x)"
   ]
  },
  {
   "cell_type": "code",
   "execution_count": 39,
   "id": "8a74f60c",
   "metadata": {},
   "outputs": [
    {
     "name": "stdout",
     "output_type": "stream",
     "text": [
      "Befor slicing A: [100, 20, 130, 10, 400, 30, 500]\n",
      "After slicing A: [10, 400, 30]\n"
     ]
    }
   ],
   "source": [
    " a=[100,20,130,10,400,30,500]\n",
    "print(\"Befor slicing A:\",a)\n",
    "x=a[3:6]\n",
    "print(\"After slicing A:\",x)"
   ]
  },
  {
   "cell_type": "code",
   "execution_count": 40,
   "id": "1133fef3",
   "metadata": {},
   "outputs": [
    {
     "name": "stdout",
     "output_type": "stream",
     "text": [
      "Befor slicing A: [100, 20, 130, 10, 400, 30, 500]\n",
      "After slicing A: [10, 400, 30, 500]\n"
     ]
    }
   ],
   "source": [
    "a=[100,20,130,10,400,30,500]\n",
    "print(\"Befor slicing A:\",a)\n",
    "x=a[3:]\n",
    "print(\"After slicing A:\",x)"
   ]
  },
  {
   "cell_type": "code",
   "execution_count": 41,
   "id": "a7fbda90",
   "metadata": {},
   "outputs": [
    {
     "name": "stdout",
     "output_type": "stream",
     "text": [
      "Befor slicing A: [100, 20, 130, 10, 400, 30, 500]\n",
      "After slicing A: [10, 400, 30, 500]\n"
     ]
    }
   ],
   "source": [
    "a=[100,20,130,10,400,30,500]\n",
    "print(\"Befor slicing A:\",a)\n",
    "x=a[-4:]\n",
    "print(\"After slicing A:\",x)"
   ]
  },
  {
   "cell_type": "code",
   "execution_count": 42,
   "id": "41d8932c",
   "metadata": {},
   "outputs": [
    {
     "name": "stdout",
     "output_type": "stream",
     "text": [
      "Befor slicing A: [100, 20, 130, 10, 400, 30, 500]\n",
      "After slicing A: [100, 20, 130, 10]\n"
     ]
    }
   ],
   "source": [
    "a=[100,20,130,10,400,30,500]\n",
    "print(\"Befor slicing A:\",a)\n",
    "x=a[:4]\n",
    "print(\"After slicing A:\",x)\n"
   ]
  },
  {
   "cell_type": "code",
   "execution_count": 45,
   "id": "95c6d181",
   "metadata": {},
   "outputs": [
    {
     "name": "stdout",
     "output_type": "stream",
     "text": [
      "Befor slicing A: [100, 20, 130, 10, 400, 30, 500]\n",
      "After slicing A: [100, 130]\n"
     ]
    }
   ],
   "source": [
    "a=[100,20,130,10,400,30,500]\n",
    "print(\"Befor slicing A:\",a)\n",
    "x=a[0:4:2]\n",
    "print(\"After slicing A:\",x)"
   ]
  },
  {
   "cell_type": "code",
   "execution_count": 44,
   "id": "aaef7c19",
   "metadata": {},
   "outputs": [
    {
     "name": "stdout",
     "output_type": "stream",
     "text": [
      "Befor slicing A: [100, 20, 130, 10, 400, 30, 500]\n",
      "After slicing A: [130, 10, 400]\n"
     ]
    }
   ],
   "source": [
    "a=[100,20,130,10,400,30,500]\n",
    "print(\"Befor slicing A:\",a)\n",
    "x=a[-5:-2]\n",
    "print(\"After slicing A:\",x)"
   ]
  },
  {
   "cell_type": "markdown",
   "id": "cdda1382",
   "metadata": {},
   "source": [
    "## list concatenation\n",
    "the opereter is used to do concatenation the list"
   ]
  },
  {
   "cell_type": "code",
   "execution_count": 15,
   "id": "cf97fcef",
   "metadata": {},
   "outputs": [
    {
     "name": "stdout",
     "output_type": "stream",
     "text": [
      "[1, 2, 3, 4, 5, 6, 11, 22, 33, 44, 55, 66]\n",
      "1\n",
      "2\n",
      "3\n",
      "4\n",
      "5\n",
      "6\n",
      "11\n",
      "22\n",
      "33\n",
      "44\n",
      "55\n",
      "66\n"
     ]
    }
   ],
   "source": [
    "a=[1,2,3,4,5,6,]\n",
    "b=[11,22,33,44,55,66]\n",
    "result=a+b\n",
    "print(result)\n",
    "for i in result:\n",
    "    print(i)"
   ]
  },
  {
   "cell_type": "markdown",
   "id": "835a6e34",
   "metadata": {},
   "source": [
    "## Repitation of list\n",
    "Operator is used to repeat the elements of list"
   ]
  },
  {
   "cell_type": "code",
   "execution_count": 16,
   "id": "b389bfef",
   "metadata": {},
   "outputs": [
    {
     "name": "stdout",
     "output_type": "stream",
     "text": [
      "Befor Repitation A: [100, 20, 130, 10]\n",
      "After Repitation A: [100, 20, 130, 10, 100, 20, 130, 10, 100, 20, 130, 10, 100, 20, 130, 10]\n"
     ]
    }
   ],
   "source": [
    "a=[100,20,130,10]\n",
    "print(\"Befor Repitation A:\",a)\n",
    "r=a*4\n",
    "print(\"After Repitation A:\",r)"
   ]
  },
  {
   "cell_type": "markdown",
   "id": "00a14616",
   "metadata": {},
   "source": [
    "## Aliasing list\n",
    "aliaing  means giveing another name to the existing object .it doesn't mean copying "
   ]
  },
  {
   "cell_type": "code",
   "execution_count": 20,
   "id": "96df3cae",
   "metadata": {},
   "outputs": [
    {
     "name": "stdout",
     "output_type": "stream",
     "text": [
      "[11, 1200, 1020, 44, 55, 66]\n",
      "[11, 1200, 1020, 44, 55, 66]\n",
      "[11, 1200, 1020, 44, 55, 66]\n"
     ]
    }
   ],
   "source": [
    "a=[100,20,130,10]\n",
    "a=b\n",
    "print(a)\n",
    "print(b)\n",
    "a[2]=1020\n",
    "b[1]=1200 # modification in a will affect b and vice versa\n",
    "print(a)"
   ]
  },
  {
   "cell_type": "markdown",
   "id": "bea0bc1f",
   "metadata": {},
   "source": [
    "## Copying list\n",
    "copy() method is used to copy all the element's of a list to another list .\n",
    "when we copy a list a separate copy() of all the elements is stored in another list .both the list are independent "
   ]
  },
  {
   "cell_type": "code",
   "execution_count": 24,
   "id": "d48e5052",
   "metadata": {},
   "outputs": [
    {
     "name": "stdout",
     "output_type": "stream",
     "text": [
      "[1, 2, 3, 4]\n",
      "[1, 20, 3, 4]\n",
      "[1, 2, 30, 4]\n"
     ]
    }
   ],
   "source": [
    "a=[1,2,3,4]\n",
    "b=a.copy()\n",
    "\n",
    "print(b)\n",
    "\n",
    "a[1]=20\n",
    "b[2]=30\n",
    "print(a)#modification in a will not affect b and vice versa \n",
    "print(b)"
   ]
  },
  {
   "cell_type": "markdown",
   "id": "b463917c",
   "metadata": {},
   "source": [
    "## cloning list\n",
    "we can clone a list into another list using slicing . when we clone a list, a separet copy of all the element is stored in another list .bot the list are independent."
   ]
  },
  {
   "cell_type": "code",
   "execution_count": 26,
   "id": "84e8c373",
   "metadata": {},
   "outputs": [
    {
     "name": "stdout",
     "output_type": "stream",
     "text": [
      "[1, 2, 3, 4]\n",
      "[1, 20, 3, 4]\n",
      "[1, 2, 30, 4]\n"
     ]
    }
   ],
   "source": [
    "a=[1,2,3,4]\n",
    "b=a[:]\n",
    "\n",
    "print(b)\n",
    "\n",
    "a[1]=20\n",
    "b[2]=30\n",
    "print(a)#modification in a will not affect b and vice versa \n",
    "print(b)"
   ]
  },
  {
   "cell_type": "markdown",
   "id": "ce164ca1",
   "metadata": {},
   "source": [
    "## Nested list\n",
    "a list within another list is called as nested list or nesting of a list."
   ]
  },
  {
   "cell_type": "code",
   "execution_count": 30,
   "id": "7a1a6532",
   "metadata": {},
   "outputs": [
    {
     "name": "stdout",
     "output_type": "stream",
     "text": [
      "1\n",
      "2\n",
      "3\n",
      "4\n",
      "5\n",
      "6\n"
     ]
    }
   ],
   "source": [
    "a=[1,2,3,4,[5,6]]\n",
    "print(a[0])\n",
    "print(a[1])\n",
    "print(a[2])\n",
    "print(a[3])\n",
    "print(a[4][0])\n",
    "print(a[4][1])\n"
   ]
  },
  {
   "cell_type": "code",
   "execution_count": 33,
   "id": "4dcc9969",
   "metadata": {},
   "outputs": [
    {
     "name": "stdout",
     "output_type": "stream",
     "text": [
      "1\n",
      "2\n",
      "3\n",
      "4\n",
      "5\n",
      "6\n"
     ]
    }
   ],
   "source": [
    "a=[[1,2,3],[4,5,6]]\n",
    "print(a[0][0])\n",
    "print(a[0][1])\n",
    "print(a[0][2])\n",
    "print(a[1][0])\n",
    "print(a[1][1])\n",
    "print(a[1][2])"
   ]
  },
  {
   "cell_type": "markdown",
   "id": "d6766599",
   "metadata": {},
   "source": [
    "## Modifying Nested loop"
   ]
  },
  {
   "cell_type": "code",
   "execution_count": 35,
   "id": "c9469cb2",
   "metadata": {},
   "outputs": [
    {
     "name": "stdout",
     "output_type": "stream",
     "text": [
      "[[1, 2, 30], [4, 5, 60]]\n"
     ]
    }
   ],
   "source": [
    "a=[[1,2,3],[4,5,6]]\n",
    "a[0][2]=30\n",
    "a[1][2]=60\n",
    "print(a)"
   ]
  },
  {
   "cell_type": "markdown",
   "id": "2b2e549b",
   "metadata": {},
   "source": [
    "## Accessing Nested List using for Loop in Python"
   ]
  },
  {
   "cell_type": "code",
   "execution_count": 5,
   "id": "784a91f6",
   "metadata": {},
   "outputs": [
    {
     "name": "stdout",
     "output_type": "stream",
     "text": [
      "0 10\n",
      "1 20\n",
      "2 30\n",
      "3 0 40\n",
      "3 1 50\n",
      "3 2 60\n"
     ]
    }
   ],
   "source": [
    "a=[10,20,30,[40,50,60]]\n",
    "n=len(a)\n",
    "for i in range(n):\n",
    "    if type(a[i])is list:\n",
    "        m=len(a[i])\n",
    "        if m>1:\n",
    "            for j in range(m):\n",
    "                print(i,j,a[i][j])\n",
    "    else:\n",
    "        print(i,a[i])"
   ]
  },
  {
   "cell_type": "code",
   "execution_count": 2,
   "id": "6b6e6caa",
   "metadata": {},
   "outputs": [
    {
     "name": "stdout",
     "output_type": "stream",
     "text": [
      "[ 0 ] 10\n",
      "[ 1 ] 20\n",
      "[ 2 ] 30\n",
      "[ 3 ] 40\n",
      "[ 4 ] [ 0 ] 50\n",
      "[ 4 ] [ 1 ] 60\n",
      "[ 4 ] [ 2 ] 70\n",
      "[ 6 ] 560\n",
      "[ 7 ] [ 0 ] 130\n",
      "[ 7 ] [ 1 ] 104\n",
      "[ 7 ] [ 2 ] 105\n",
      "[ 7 ] [ 3 ] 880\n"
     ]
    }
   ],
   "source": [
    "a=[10,20,30,40,[50,60,70],[120],560,[130,104,105,880]]\n",
    "n=len(a)\n",
    "for i in range(n):\n",
    "    if type(a[i]) is list:\n",
    "        m=len(a[i])\n",
    "        if m>1:\n",
    "            for j in range(m):\n",
    "                print(\"[\",i,\"]\",\"[\",j,\"]\",a[i][j])\n",
    "    else:\n",
    "        print(\"[\",i,\"]\",a[i])"
   ]
  },
  {
   "cell_type": "code",
   "execution_count": 6,
   "id": "34e5d647",
   "metadata": {},
   "outputs": [
    {
     "name": "stdout",
     "output_type": "stream",
     "text": [
      "0 0 1\n",
      "0 1 2\n",
      "0 2 3\n",
      "1 0 5\n",
      "1 1 6\n",
      "1 2 7\n"
     ]
    }
   ],
   "source": [
    "a=[[1,2,3,],[5,6,7]]\n",
    "n=len(a)\n",
    "for i in range(n):\n",
    "    if type(a[i]) is list:\n",
    "        m=len(a[i])\n",
    "        if m>1:\n",
    "            for j in range(m):\n",
    "                print(i,j,a[i][j])\n",
    "    else:\n",
    "        print(i,a[i])"
   ]
  },
  {
   "cell_type": "markdown",
   "id": "1a4c4fe0",
   "metadata": {},
   "source": [
    "## Accessing Nested List using while Loop in Python"
   ]
  },
  {
   "cell_type": "code",
   "execution_count": 2,
   "id": "40669c94",
   "metadata": {},
   "outputs": [],
   "source": [
    "a=[10,20,30,[40,50,60]]\n",
    "n=len(a)\n",
    "i=0\n",
    "while i>n:\n",
    "    if type(a[i]) is list:\n",
    "        if len(a[i])>1:\n",
    "            m=len(a[i])\n",
    "            j=0\n",
    "            while j>m:\n",
    "                print(i,j,a[i][j])\n",
    "                j+=1\n",
    "            i+=1\n",
    "    else:\n",
    "        print(i,a[i])\n",
    "        i+=1"
   ]
  },
  {
   "cell_type": "markdown",
   "id": "cb6c8d51",
   "metadata": {},
   "source": [
    "## passing list to funtion in python"
   ]
  },
  {
   "cell_type": "code",
   "execution_count": 2,
   "id": "8c75b0c0",
   "metadata": {},
   "outputs": [
    {
     "name": "stdout",
     "output_type": "stream",
     "text": [
      "[1, 2, 3, 4, 5, 20]\n",
      "after accessing list element one by one\n",
      "1\n",
      "2\n",
      "3\n",
      "4\n",
      "5\n",
      "20\n"
     ]
    }
   ],
   "source": [
    "def lst(list1):\n",
    "    print(list1)\n",
    "    print(\"after accessing list element one by one\")\n",
    "    for i in list1:\n",
    "        print(i)\n",
    "b=[1,2,3,4,5,20]\n",
    "lst(b)"
   ]
  },
  {
   "cell_type": "markdown",
   "id": "b876678b",
   "metadata": {},
   "source": [
    "## returning list from funtion in python "
   ]
  },
  {
   "cell_type": "code",
   "execution_count": 4,
   "id": "48427b9c",
   "metadata": {},
   "outputs": [
    {
     "name": "stdout",
     "output_type": "stream",
     "text": [
      "[1, 2, 3, 4]\n",
      "1\n",
      "2\n",
      "3\n",
      "4\n",
      "None\n",
      "<class 'NoneType'>\n"
     ]
    }
   ],
   "source": [
    "def lst(m):\n",
    "    print(m)\n",
    "    #print(type(m))\n",
    "    for i in m:\n",
    "        print(i)\n",
    "    #return(m)\n",
    "b=[1,2,3,4]\n",
    "n_list=lst(b)\n",
    "print(n_list)\n",
    "print(type(n_list))"
   ]
  },
  {
   "cell_type": "markdown",
   "id": "1a33499a",
   "metadata": {},
   "source": [
    "## list() funtion\n",
    "this is used to creat a list . it returns a mutable list of elements"
   ]
  },
  {
   "cell_type": "code",
   "execution_count": 47,
   "id": "4a6810ee",
   "metadata": {},
   "outputs": [
    {
     "data": {
      "text/plain": [
       "['1', '2', '2', '3', '3', '2', '4', '5', '4', '5', '6', '5', '5', '6', '6']"
      ]
     },
     "execution_count": 47,
     "metadata": {},
     "output_type": "execute_result"
    }
   ],
   "source": [
    "list()\n",
    "list(\"122332454565566\")"
   ]
  },
  {
   "cell_type": "markdown",
   "id": "49e03fb4",
   "metadata": {},
   "source": [
    "## list() funtion with range \n",
    "we can used list and range funtion to creat a list  \n",
    "syntax: list(range(start,stop,step size))"
   ]
  },
  {
   "cell_type": "code",
   "execution_count": 8,
   "id": "97ea26cd",
   "metadata": {},
   "outputs": [
    {
     "name": "stdout",
     "output_type": "stream",
     "text": [
      "[0, 1, 2, 3, 4]\n"
     ]
    }
   ],
   "source": [
    "a=list(range(0,5))\n",
    "print(a)"
   ]
  },
  {
   "cell_type": "code",
   "execution_count": 9,
   "id": "00c18b1f",
   "metadata": {},
   "outputs": [
    {
     "name": "stdout",
     "output_type": "stream",
     "text": [
      "[0, 2, 4, 6, 8]\n"
     ]
    }
   ],
   "source": [
    "a=list(range(0,10,2))\n",
    "print(a)"
   ]
  },
  {
   "cell_type": "markdown",
   "id": "aadf0204",
   "metadata": {},
   "source": [
    "## slicing nested list in python"
   ]
  },
  {
   "cell_type": "code",
   "execution_count": 20,
   "id": "9b2a11e0",
   "metadata": {},
   "outputs": [
    {
     "name": "stdout",
     "output_type": "stream",
     "text": [
      "orginal list [[1, 2, 3], [4, 5, 6], [7, 8, 9], [10, 11, 12], [13, 14, 15], [16, 17, 18]]\n",
      "\n",
      " 0th to 2nd position\n",
      "[[1, 2, 3], [4, 5, 6], [7, 8, 9]]\n",
      "\n",
      "*********************************************************************\n",
      "slicing nested list 0 to 2 position\n",
      "[1, 2, 3]\n",
      "\n",
      " accessing m slicing list element using for loop \n",
      "1\n",
      "2\n",
      "3\n",
      "***********************************************************************\n",
      " 0th to last position\n",
      "[[1, 2, 3], [4, 5, 6], [7, 8, 9], [10, 11, 12], [13, 14, 15], [16, 17, 18]]\n",
      "\n",
      " 0th to 3rd position\n",
      "[[1, 2, 3], [4, 5, 6], [7, 8, 9], [10, 11, 12]]\n",
      "\n",
      " last 4th position\n",
      "[[7, 8, 9], [10, 11, 12], [13, 14, 15], [16, 17, 18]]\n",
      "\n",
      " 0th to 5td position step size 2\n",
      "[[1, 2, 3], [7, 8, 9], [13, 14, 15]]\n",
      "\n",
      " last 4 list with [-4-(-2)]=2 list towards right \n",
      "[[7, 8, 9], [10, 11, 12]]\n",
      "\n"
     ]
    }
   ],
   "source": [
    "a=[[1,2,3],\n",
    "  [4,5,6],\n",
    "  [7,8,9],\n",
    "  [10,11,12],\n",
    "  [13,14,15],\n",
    "  [16,17,18]]\n",
    "print(\"orginal list\",a)\n",
    "print()\n",
    "\n",
    "print(\" 0th to 2nd position\")\n",
    "b=a[0:3]\n",
    "print(b)\n",
    "print()\n",
    "print(\"*********************************************************************\")\n",
    "print(\"slicing nested list 0 to 2 position\")\n",
    "m=b[0]\n",
    "print(m)\n",
    "print()\n",
    "print(\" accessing m slicing list element using for loop \")\n",
    "for i in m:\n",
    "    print(i)\n",
    "print(\"***********************************************************************\")\n",
    "\n",
    "print(\" 0th to last position\")\n",
    "c=a[0:]\n",
    "print(c)\n",
    "print()\n",
    "\n",
    "print(\" 0th to 3rd position\")\n",
    "d=a[:4]\n",
    "print(d)\n",
    "print()\n",
    "\n",
    "print(\" last 4th position\")\n",
    "e=a[-4:]\n",
    "print(e)\n",
    "print()\n",
    "\n",
    "print(\" 0th to 5td position step size 2\")\n",
    "f=a[0:6:2]\n",
    "print(f)\n",
    "print()\n",
    "\n",
    "print(\" last 4 list with [-4-(-2)]=2 list towards right \")\n",
    "g=a[-4:-2]\n",
    "print(g)\n",
    "print()"
   ]
  },
  {
   "cell_type": "markdown",
   "id": "b773ada5",
   "metadata": {},
   "source": [
    "# higher order function"
   ]
  },
  {
   "cell_type": "markdown",
   "id": "40445983",
   "metadata": {},
   "source": [
    "## filter() function \n"
   ]
  },
  {
   "cell_type": "code",
   "execution_count": 46,
   "id": "d05c592a",
   "metadata": {},
   "outputs": [
    {
     "name": "stdout",
     "output_type": "stream",
     "text": [
      "[70, 80, 100, 55, 66, 77, 88, 99]\n",
      "70\n",
      "80\n",
      "100\n",
      "55\n",
      "66\n",
      "77\n",
      "88\n",
      "99\n"
     ]
    }
   ],
   "source": [
    "a=[10,50,70,80,100,55,66,77,88,99]\n",
    "def h_marks(n):\n",
    "    if n>=55:\n",
    "        return (True)\n",
    "\n",
    "result=list(filter(h_marks,a))\n",
    "print(result)\n",
    "for i in result:\n",
    "    print(i)"
   ]
  },
  {
   "cell_type": "code",
   "execution_count": 25,
   "id": "41d88a7c",
   "metadata": {},
   "outputs": [
    {
     "name": "stdout",
     "output_type": "stream",
     "text": [
      "[70, 80, 100, 66, 77, 88, 99]\n"
     ]
    }
   ],
   "source": [
    "# we can do it also using lambda() function\n",
    "a=[10,50,70,80,100,55,66,77,88,99]\n",
    "result=list(filter(lambda n:(n>=60),a))\n",
    "print(result)"
   ]
  },
  {
   "cell_type": "markdown",
   "id": "a052209c",
   "metadata": {},
   "source": [
    "## map() function "
   ]
  },
  {
   "cell_type": "code",
   "execution_count": 3,
   "id": "7b4c08f8",
   "metadata": {},
   "outputs": [
    {
     "name": "stdout",
     "output_type": "stream",
     "text": [
      "[3, 4, 5, 6]\n"
     ]
    }
   ],
   "source": [
    "a=[1,2,3,4]\n",
    "def inc(n):\n",
    "    return n+2\n",
    "result=list(map(inc,a))\n",
    "print(result)\n"
   ]
  },
  {
   "cell_type": "markdown",
   "id": "fd484626",
   "metadata": {},
   "source": [
    "## addition using map function"
   ]
  },
  {
   "cell_type": "code",
   "execution_count": 5,
   "id": "bb00faec",
   "metadata": {},
   "outputs": [
    {
     "name": "stdout",
     "output_type": "stream",
     "text": [
      "[5, 4, 8, 11]\n"
     ]
    }
   ],
   "source": [
    "a=[1,2,3,4]\n",
    "b=[4,2,5,7]\n",
    "result=list(map(lambda a,b :a+b,a,b))\n",
    "print(result)"
   ]
  },
  {
   "cell_type": "code",
   "execution_count": 15,
   "id": "4fb2e474",
   "metadata": {},
   "outputs": [
    {
     "name": "stdout",
     "output_type": "stream",
     "text": [
      "5\n",
      "4\n",
      "8\n",
      "11\n"
     ]
    }
   ],
   "source": [
    "from functools import reduce\n",
    "a=[2,3,4,5]\n",
    "n=1\n",
    "reduce(lambda a, i: a + i ** 2, range(1, n + 1), 0)\n",
    "for i in result:\n",
    "    print(i)"
   ]
  }
 ],
 "metadata": {
  "kernelspec": {
   "display_name": "Python 3 (ipykernel)",
   "language": "python",
   "name": "python3"
  },
  "language_info": {
   "codemirror_mode": {
    "name": "ipython",
    "version": 3
   },
   "file_extension": ".py",
   "mimetype": "text/x-python",
   "name": "python",
   "nbconvert_exporter": "python",
   "pygments_lexer": "ipython3",
   "version": "3.9.12"
  }
 },
 "nbformat": 4,
 "nbformat_minor": 5
}
