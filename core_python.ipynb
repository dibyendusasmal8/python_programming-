{
 "cells": [
  {
   "cell_type": "markdown",
   "id": "49629761",
   "metadata": {},
   "source": [
    "<h1> Python </h1>\n",
    "<b><i>Python is a high-level, interpreted, and general-purpose programming language known for its simplicity, readability, and versatility. It was created by Guido van Rossum and first released in 1991. Python's design philosophy emphasizes code readability, making it an excellent language for beginners and experienced developers alike.</i> </b>\n",
    "\n",
    "Some key features of Python include:\n",
    "\n",
    "<b> 1. Interpreted Language </b>: Python is interpreted, which means that the code is executed line by line, without the need for compilation. This makes development faster, as you can immediately see the results of your code.\n",
    "\n",
    "<b>2. Cross-platform:</b> Python is available for various operating systems (Windows, macOS, Linux) and can run on different architectures without modifications.\n",
    "\n",
    "<b> 3.  Large Standard Library: </b> Python comes with a comprehensive standard library that provides a wide range of modules for various purposes, such as string processing, file I/O, networking, and more.\n",
    "\n",
    "<b> 4. Dynamic Typing:</b> Python uses dynamic typing, where variable types are determined at runtime. This allows for more flexible and expressive code.\n",
    "\n",
    "<b> 5. Object-Oriented Programming (OOP):</b> Python supports object-oriented programming, allowing developers to use classes and objects to structure their code and data.\n",
    "\n",
    "<b> 6. Extensible and Embeddable: </b> Python can be extended with C/C++ libraries, and it can be embedded within other applications to provide scripting capabilities.\n",
    "\n",
    "<b> 7. Community and Third-party Libr</b>aries: </b> Python has a large and active community, which has contributed to the development of numerous third-party libraries and frameworks for various purposes, such as web development (Django, Flask), data analysis (NumPy, pandas), and machine learning (TensorFlow, scikit learn)\n",
    "\n",
    "<b> 8. Easy to Learn: </b> Python's syntax is straightforward and concise, making it easy to write and read code."
   ]
  },
  {
   "cell_type": "code",
   "execution_count": 1,
   "id": "c0bad639",
   "metadata": {},
   "outputs": [
    {
     "name": "stdout",
     "output_type": "stream",
     "text": [
      "hello world\n"
     ]
    }
   ],
   "source": [
    "# hello world print \n",
    "print(\"hello world\")"
   ]
  },
  {
   "cell_type": "markdown",
   "id": "fb2714c4",
   "metadata": {},
   "source": [
    "# range funtion\n",
    "In Python, range() is a built-in function used to generate a sequence of numbers. It creates an immutable sequence of numbers within a specified range. The range() function can be useful for various purposes, such as creating loops, generating lists, and iterating over elements.<p>It has the following syntax:</p>\n",
    "<b> range(start, stop, step) </b>\n",
    "\n",
    "<h5>where:</h5>\n",
    "\n",
    "<b>start:</b> The starting value of the range (inclusive). If not specified, it defaults to 0.\n",
    "\n",
    "<b>stop:</b> The ending value of the range (exclusive). This value is not included in the sequence.\n",
    "\n",
    "<b>step:</b> The step size or the difference between consecutive numbers in the sequence. If not specified, it defaults to 1.\n",
    "    \n",
    "Here are a few examples to demonstrate how range() works:\n"
   ]
  },
  {
   "cell_type": "code",
   "execution_count": 2,
   "id": "3e025a1f",
   "metadata": {},
   "outputs": [
    {
     "name": "stdout",
     "output_type": "stream",
     "text": [
      "0\n",
      "1\n",
      "2\n",
      "3\n"
     ]
    }
   ],
   "source": [
    "# Generating a sequence of numbers from 0 to 4 (exclusive) with a default step of 1:\n",
    "rg=range(4)\n",
    "for i in rg:\n",
    "    print(i)"
   ]
  },
  {
   "cell_type": "code",
   "execution_count": 3,
   "id": "462fd412",
   "metadata": {},
   "outputs": [
    {
     "name": "stdout",
     "output_type": "stream",
     "text": [
      "2\n",
      "4\n",
      "6\n",
      "8\n"
     ]
    }
   ],
   "source": [
    "# Generating a sequence of even numbers from 2 to 10 (exclusive) with a step of 2:\n",
    "for num in range(2, 10, 2):\n",
    "    print(num)\n"
   ]
  },
  {
   "cell_type": "code",
   "execution_count": 4,
   "id": "41902db8",
   "metadata": {},
   "outputs": [
    {
     "name": "stdout",
     "output_type": "stream",
     "text": [
      "[5, 6, 7, 8, 9, 10, 11, 12, 13, 14]\n"
     ]
    }
   ],
   "source": [
    "# Creating a list containing numbers from 5 to 15 (exclusive) with a default step of 1:\n",
    "my_list = list(range(5, 15))\n",
    "print(my_list)"
   ]
  },
  {
   "cell_type": "code",
   "execution_count": 5,
   "id": "b568b30f",
   "metadata": {},
   "outputs": [
    {
     "name": "stdout",
     "output_type": "stream",
     "text": [
      "10\n",
      "9\n",
      "8\n",
      "7\n",
      "6\n",
      "5\n",
      "4\n",
      "3\n",
      "2\n",
      "1\n"
     ]
    }
   ],
   "source": [
    "# Generating a sequence of numbers in reverse order from 10 to 1 (exclusive) with a step of -1:\n",
    "for i in range(10,0,-1):\n",
    "    print(i)"
   ]
  },
  {
   "cell_type": "markdown",
   "id": "662972b9",
   "metadata": {},
   "source": [
    "Note that the range() function does not generate a list directly; it creates a range object. If you need a list, you can convert the range to a list using list(range(...)) as shown in the third example. In Python 2.x, the range() function returns a list directly, but in Python 3.x, it returns a range object for better memory efficiency when dealing with large ranges.\n"
   ]
  },
  {
   "cell_type": "markdown",
   "id": "af6bcf13",
   "metadata": {},
   "source": [
    "## Operater\n",
    "\n",
    "- Arithmetic Operators\n",
    "- Relational Operators\n",
    "- Logical Operators\n",
    "- Bitwise Operators\n",
    "- Assignment Operators\n",
    "- Membership Operators"
   ]
  },
  {
   "cell_type": "code",
   "execution_count": 1,
   "id": "11a9f7d1",
   "metadata": {},
   "outputs": [
    {
     "name": "stdout",
     "output_type": "stream",
     "text": [
      "11\n",
      "-1\n",
      "30\n",
      "2.5\n",
      "2\n",
      "1\n",
      "25\n"
     ]
    }
   ],
   "source": [
    "# Arithmetric Operators\n",
    "print(5+6)\n",
    "\n",
    "print(5-6)\n",
    "\n",
    "print(5*6)\n",
    "\n",
    "print(5/2)\n",
    "\n",
    "print(5//2)\n",
    "\n",
    "print(5%2)\n",
    "\n",
    "print(5**2)"
   ]
  },
  {
   "cell_type": "code",
   "execution_count": 2,
   "id": "4f39a6b8",
   "metadata": {},
   "outputs": [
    {
     "name": "stdout",
     "output_type": "stream",
     "text": [
      "False\n",
      "True\n",
      "True\n",
      "True\n",
      "True\n",
      "False\n"
     ]
    }
   ],
   "source": [
    "# Relational Operators\n",
    "print(4>5)\n",
    "\n",
    "print(4<5)\n",
    "\n",
    "print(4>=4)\n",
    "\n",
    "print(4<=4)\n",
    "\n",
    "print(4==4)\n",
    "\n",
    "print(4!=4)"
   ]
  },
  {
   "cell_type": "code",
   "execution_count": 3,
   "id": "ff410583",
   "metadata": {},
   "outputs": [
    {
     "name": "stdout",
     "output_type": "stream",
     "text": [
      "0\n",
      "1\n",
      "False\n"
     ]
    }
   ],
   "source": [
    "# Logical Operators\n",
    "print(1 and 0)\n",
    "\n",
    "print(1 or 0)\n",
    "\n",
    "print(not 1)"
   ]
  },
  {
   "cell_type": "code",
   "execution_count": 4,
   "id": "590b061c",
   "metadata": {},
   "outputs": [
    {
     "name": "stdout",
     "output_type": "stream",
     "text": [
      "0\n"
     ]
    }
   ],
   "source": [
    "# Assignment Operators\n",
    "\n",
    "# =\n",
    "# a = 2\n",
    "\n",
    "a = 2\n",
    "\n",
    "# a = a % 2\n",
    "a %= 2\n",
    "\n",
    "print(a)"
   ]
  },
  {
   "cell_type": "markdown",
   "id": "1aa65380",
   "metadata": {},
   "source": [
    "## bitwise operater\n",
    "Bitwise operator are used to pefrom oparation at binaly digit. these operators are not commonly used and are used only in special oppeications where optimized use of storage is required."
   ]
  },
  {
   "cell_type": "code",
   "execution_count": 1,
   "id": "e573ced1",
   "metadata": {},
   "outputs": [
    {
     "name": "stdout",
     "output_type": "stream",
     "text": [
      "~a= -8\n",
      "a&b= 2\n",
      "a|b= 15\n",
      "a^b= 13\n",
      "a>>2= 1\n",
      "a<<= 28\n"
     ]
    }
   ],
   "source": [
    "a=7\n",
    "b=10\n",
    "print(\"~a=\",~a) # compliment operator\n",
    "print(\"a&b=\",a&b) # and operator\n",
    "print(\"a|b=\",a|b) # or operator\n",
    "print(\"a^b=\",a^b) # xor operator\n",
    "print(\"a>>2=\",a>>2) # right shift operator\n",
    "print(\"a<<=\",a<<2) # left shift operator"
   ]
  },
  {
   "cell_type": "markdown",
   "id": "1e077947",
   "metadata": {},
   "source": [
    "### Membership Operators in Python\n",
    "the membarhip operators are usefull to test for membership in a sequence such as fring ,lists,tuples and dictionaraies . "
   ]
  },
  {
   "cell_type": "code",
   "execution_count": 3,
   "id": "34f9653f",
   "metadata": {},
   "outputs": [
    {
     "name": "stdout",
     "output_type": "stream",
     "text": [
      "True\n",
      "False\n"
     ]
    }
   ],
   "source": [
    "str= \"you are a good boy \"\n",
    "print(\"are\" in str) # in operator \n",
    "print(\"are\" not in str) # not in operator"
   ]
  },
  {
   "cell_type": "markdown",
   "id": "f1712170",
   "metadata": {},
   "source": [
    "### Implicit Type Conversion in Python\n",
    "in the implicit type conversion python automatically converts one data type into another data type."
   ]
  },
  {
   "cell_type": "code",
   "execution_count": 1,
   "id": "384e7e3c",
   "metadata": {},
   "outputs": [
    {
     "name": "stdout",
     "output_type": "stream",
     "text": [
      "2.5\n"
     ]
    },
    {
     "data": {
      "text/plain": [
       "float"
      ]
     },
     "execution_count": 1,
     "metadata": {},
     "output_type": "execute_result"
    }
   ],
   "source": [
    "a=5\n",
    "b=2\n",
    "result=a/b\n",
    "print(result) # implicit type convertion \n",
    "type(result)"
   ]
  },
  {
   "cell_type": "code",
   "execution_count": 3,
   "id": "755d6af5",
   "metadata": {},
   "outputs": [
    {
     "name": "stdout",
     "output_type": "stream",
     "text": [
      "hello world\n"
     ]
    },
    {
     "data": {
      "text/plain": [
       "str"
      ]
     },
     "execution_count": 3,
     "metadata": {},
     "output_type": "execute_result"
    }
   ],
   "source": [
    "v = \"hello\"\n",
    "k = \"world\"\n",
    "value = v+\" \"+k\n",
    "print(value)\n",
    "type(value)"
   ]
  },
  {
   "cell_type": "markdown",
   "id": "1947964e",
   "metadata": {},
   "source": [
    "#### Q. Program - Find the sum of a 3 digit number entered by the user"
   ]
  },
  {
   "cell_type": "code",
   "execution_count": 6,
   "id": "24c89511",
   "metadata": {},
   "outputs": [
    {
     "name": "stdout",
     "output_type": "stream",
     "text": [
      "Enter a 3 digit number345\n",
      "sum of a 3 digit number is 12\n"
     ]
    }
   ],
   "source": [
    "number = int(input('Enter a 3 digit number'))\n",
    "\n",
    "a = number%10\n",
    "\n",
    "number = number//10\n",
    "b = number%10\n",
    "\n",
    "number = number //10\n",
    "c = number%10\n",
    "\n",
    "print(\"sum of a 3 digit number is\",a+b+c)\n"
   ]
  },
  {
   "cell_type": "markdown",
   "id": "1a8d0a11",
   "metadata": {},
   "source": [
    "### Explicit Type Conversion in Python\n",
    "in the cast/explicit type conversion ,progammer converts data type into another data type "
   ]
  },
  {
   "cell_type": "code",
   "execution_count": 5,
   "id": "0b0d79fb",
   "metadata": {},
   "outputs": [
    {
     "name": "stdout",
     "output_type": "stream",
     "text": [
      "2\n"
     ]
    }
   ],
   "source": [
    "a=5\n",
    "b=2\n",
    "result=a/b\n",
    "int_result=int(result)\n",
    "print(int_result)"
   ]
  },
  {
   "cell_type": "code",
   "execution_count": 6,
   "id": "f4ffb102",
   "metadata": {},
   "outputs": [
    {
     "name": "stdout",
     "output_type": "stream",
     "text": [
      "2.857142857142857\n"
     ]
    }
   ],
   "source": [
    "a=20\n",
    "b=\"7\"\n",
    "b=int(b)\n",
    "result=a/b\n",
    "print(result)"
   ]
  },
  {
   "cell_type": "markdown",
   "id": "7cc88485",
   "metadata": {},
   "source": [
    "### output statment or print funtion \n",
    "print() funtion the print() function used to print the specified message to the output screen/device .the massege can be a string or any other object."
   ]
  },
  {
   "cell_type": "code",
   "execution_count": 8,
   "id": "90ee7b7c",
   "metadata": {},
   "outputs": [
    {
     "name": "stdout",
     "output_type": "stream",
     "text": [
      "dibyendu sasmala is good boy \n"
     ]
    }
   ],
   "source": [
    "print(\"dibyendu sasmala is good boy \") # print(\"string\")\n"
   ]
  },
  {
   "cell_type": "code",
   "execution_count": 9,
   "id": "13decc87",
   "metadata": {},
   "outputs": [
    {
     "name": "stdout",
     "output_type": "stream",
     "text": [
      "[10, 20, -50, 21.3, 'ds']\n"
     ]
    }
   ],
   "source": [
    "data= [10,20,-50,21.30,\"ds\"] # print(object)\n",
    "print(data)"
   ]
  },
  {
   "cell_type": "code",
   "execution_count": 10,
   "id": "3b6483a8",
   "metadata": {},
   "outputs": [
    {
     "name": "stdout",
     "output_type": "stream",
     "text": [
      "ds**ms**ps\n"
     ]
    }
   ],
   "source": [
    "print(\"ds\",\"ms\",\"ps\",sep='**') # print(\"string\",sep ='')"
   ]
  },
  {
   "cell_type": "code",
   "execution_count": 11,
   "id": "246e18ff",
   "metadata": {},
   "outputs": [
    {
     "name": "stdout",
     "output_type": "stream",
     "text": [
      "dibyendu\n",
      "sasmal\n"
     ]
    }
   ],
   "source": [
    "print(\"dibyendu\",end='\\n') # print(\"string\",end='')\n",
    "print(\"sasmal\")"
   ]
  },
  {
   "cell_type": "code",
   "execution_count": 12,
   "id": "008e60ff",
   "metadata": {},
   "outputs": [
    {
     "name": "stdout",
     "output_type": "stream",
     "text": [
      "10$$20\n"
     ]
    }
   ],
   "source": [
    "a=10\n",
    "b=20\n",
    "print(a,b,sep='$$') # print(variable list )"
   ]
  },
  {
   "cell_type": "code",
   "execution_count": 13,
   "id": "97835bf2",
   "metadata": {},
   "outputs": [
    {
     "name": "stdout",
     "output_type": "stream",
     "text": [
      "my name is dibyendu sasmal and my age is  23\n"
     ]
    }
   ],
   "source": [
    "name=\"dibyendu sasmal\"\n",
    "age=23\n",
    "print(\"my name is\",name,\"and my age is \",age) # print(\"sting\",variable)"
   ]
  },
  {
   "cell_type": "markdown",
   "id": "b8ab5b32",
   "metadata": {},
   "source": [
    "### Getting input from user or Input Statement or input Function in Python\n",
    "input() this funtion is used to accept input from keybord."
   ]
  },
  {
   "cell_type": "code",
   "execution_count": 14,
   "id": "3ac477d0",
   "metadata": {},
   "outputs": [
    {
     "name": "stdout",
     "output_type": "stream",
     "text": [
      "what is your name dibyendu\n",
      "dibyendu\n"
     ]
    }
   ],
   "source": [
    "name = input(\"what is your name \")\n",
    "print(name)"
   ]
  },
  {
   "cell_type": "markdown",
   "id": "e731e06f",
   "metadata": {},
   "source": [
    "### Escape Sequence in Python\n",
    "this control charecter used to move the cursoor a print charecter such as ' , \" . \\ and so on "
   ]
  },
  {
   "cell_type": "code",
   "execution_count": 3,
   "id": "12501eff",
   "metadata": {},
   "outputs": [
    {
     "name": "stdout",
     "output_type": "stream",
     "text": [
      "dibyendu \n",
      " sasmal\n"
     ]
    }
   ],
   "source": [
    "print(\"dibyendu \\n sasmal\")"
   ]
  },
  {
   "cell_type": "code",
   "execution_count": 1,
   "id": "10184663",
   "metadata": {},
   "outputs": [
    {
     "name": "stdout",
     "output_type": "stream",
     "text": [
      "dibyendu \"sasmal\" \n"
     ]
    }
   ],
   "source": [
    "print(\"dibyendu \\\"sasmal\\\" \")"
   ]
  },
  {
   "cell_type": "markdown",
   "id": "7a458530",
   "metadata": {},
   "source": [
    "## Modules in Python\n",
    "\n",
    "- math\n",
    "- keywords\n",
    "- random\n",
    "- datetime"
   ]
  },
  {
   "cell_type": "code",
   "execution_count": 1,
   "id": "9447ecb4",
   "metadata": {},
   "outputs": [
    {
     "data": {
      "text/plain": [
       "14.0"
      ]
     },
     "execution_count": 1,
     "metadata": {},
     "output_type": "execute_result"
    }
   ],
   "source": [
    "# math\n",
    "import math\n",
    "\n",
    "math.sqrt(196)"
   ]
  },
  {
   "cell_type": "code",
   "execution_count": 2,
   "id": "f646e07d",
   "metadata": {},
   "outputs": [
    {
     "name": "stdout",
     "output_type": "stream",
     "text": [
      "['False', 'None', 'True', '__peg_parser__', 'and', 'as', 'assert', 'async', 'await', 'break', 'class', 'continue', 'def', 'del', 'elif', 'else', 'except', 'finally', 'for', 'from', 'global', 'if', 'import', 'in', 'is', 'lambda', 'nonlocal', 'not', 'or', 'pass', 'raise', 'return', 'try', 'while', 'with', 'yield']\n"
     ]
    }
   ],
   "source": [
    "# keyword\n",
    "import keyword\n",
    "print(keyword.kwlist)"
   ]
  },
  {
   "cell_type": "code",
   "execution_count": 3,
   "id": "669883cd",
   "metadata": {},
   "outputs": [
    {
     "name": "stdout",
     "output_type": "stream",
     "text": [
      "56\n"
     ]
    }
   ],
   "source": [
    "# random\n",
    "import random\n",
    "print(random.randint(1,100))"
   ]
  },
  {
   "cell_type": "code",
   "execution_count": 4,
   "id": "c1d9f548",
   "metadata": {},
   "outputs": [
    {
     "name": "stdout",
     "output_type": "stream",
     "text": [
      "2023-11-08 20:30:39.884014\n"
     ]
    }
   ],
   "source": [
    "# datetime\n",
    "import datetime\n",
    "print(datetime.datetime.now())"
   ]
  },
  {
   "cell_type": "code",
   "execution_count": 5,
   "id": "3983b1c0",
   "metadata": {},
   "outputs": [
    {
     "name": "stdout",
     "output_type": "stream",
     "text": [
      "\n",
      "Please wait a moment while I gather a list of all available modules...\n",
      "\n"
     ]
    },
    {
     "name": "stderr",
     "output_type": "stream",
     "text": [
      "WARNING: AstropyDeprecationWarning: The private astropy._erfa module has been made into its own package, pyerfa, which is a dependency of astropy and can be imported directly using \"import erfa\" [astropy._erfa]\n",
      "C:\\Users\\HP\\anaconda3\\lib\\site-packages\\nltk\\twitter\\__init__.py:20: UserWarning: The twython library has not been installed. Some functionality from the twitter package will not be available.\n",
      "  warnings.warn(\n",
      "C:\\Users\\HP\\anaconda3\\lib\\site-packages\\_distutils_hack\\__init__.py:30: UserWarning: Setuptools is replacing distutils.\n",
      "  warnings.warn(\"Setuptools is replacing distutils.\")\n",
      "No QCoreApplication instance found. Application patches not applied. You have to call load_stylesheet function after instantiation of QApplication to take effect. \n",
      "C:\\Users\\HP\\anaconda3\\lib\\pkgutil.py:108: VisibleDeprecationWarning:\n",
      "\n",
      "zmq.eventloop.minitornado is deprecated in pyzmq 14.0 and will be removed.\n",
      "    Install tornado itself to use zmq with the tornado IOLoop.\n",
      "    \n",
      "\n"
     ]
    },
    {
     "name": "stdout",
     "output_type": "stream",
     "text": [
      "Cython              concurrent          mpmath              snowballstemmer\n",
      "IPython             conda               msgpack             socket\n",
      "OpenSSL             conda_build         msilib              socketserver\n",
      "PIL                 conda_content_trust msvcrt              socks\n",
      "PyQt5               conda_env           multidict           sockshandler\n",
      "TBB                 conda_pack          multimethod         sortedcollections\n",
      "__future__          conda_package_handling multipledispatch    sortedcontainers\n",
      "_abc                conda_token         multiprocessing     soupsieve\n",
      "_aix_support        conda_verify        munkres             sphinx\n",
      "_argon2_cffi_bindings configparser        mypy_extensions     spyder\n",
      "_ast                constantly          mysql               spyder_kernels\n",
      "_asyncio            contextlib          mysqlx              sqlalchemy\n",
      "_bisect             contextvars         nacl                sqlite3\n",
      "_black_version      cookiecutter        navigator_updater   sre_compile\n",
      "_blake2             copy                nbclassic           sre_constants\n",
      "_bootlocale         copyreg             nbclient            sre_parse\n",
      "_bootsubprocess     crypt               nbconvert           ssl\n",
      "_bz2                cryptography        nbformat            sspi\n",
      "_cffi_backend       cssselect           nest_asyncio        sspicon\n",
      "_codecs             csv                 netbios             stack_data\n",
      "_codecs_cn          ctypes              netrc               stat\n",
      "_codecs_hk          curl                networkx            statistics\n",
      "_codecs_iso2022     curses              nltk                statsmodels\n",
      "_codecs_jp          cwp                 nntplib             string\n",
      "_codecs_kr          cycler              nose                stringprep\n",
      "_codecs_tw          cython              notebook            struct\n",
      "_collections        cytoolz             nt                  subprocess\n",
      "_collections_abc    daal4py             ntpath              sunau\n",
      "_compat_pickle      dask                ntsecuritycon       symbol\n",
      "_compression        dataclasses         nturl2path          sympy\n",
      "_contextvars        datashader          numba               symtable\n",
      "_csv                datashape           numbergen           sys\n",
      "_ctypes             datetime            numbers             sysconfig\n",
      "_ctypes_test        dateutil            numexpr             tables\n",
      "_datetime           dbi                 numpy               tabnanny\n",
      "_decimal            dbm                 numpydoc            tabulate\n",
      "_distutils_hack     dde                 odbc                tangled_up_in_unicode\n",
      "_elementtree        debugpy             olefile             tarfile\n",
      "_functools          decimal             onedal              tbb\n",
      "_hashlib            decorator           opcode              tblib\n",
      "_heapq              defusedxml          openpyxl            telnetlib\n",
      "_imp                diff_match_patch    operator            tempfile\n",
      "_io                 difflib             optparse            tenacity\n",
      "_json               dis                 os                  terminado\n",
      "_locale             distributed         packaging           test\n",
      "_lsprof             distutils           pandas              test_pycosat\n",
      "_lzma               doctest             pandas_profiling    testpath\n",
      "_markupbase         docutils            pandocfilters       text_unidecode\n",
      "_md5                email               panel               textdistance\n",
      "_msi                encodings           param               textwrap\n",
      "_multibytecodec     ensurepip           paramiko            this\n",
      "_multiprocessing    entrypoints         parsel              threading\n",
      "_nsis               enum                parser              threadpoolctl\n",
      "_opcode             erfa                parso               three_merge\n",
      "_operator           errno               partd               tifffile\n",
      "_osx_support        et_xmlfile          past                time\n",
      "_overlapped         executing           pathlib             timeit\n",
      "_peg_parser         fastjsonschema      pathspec            timer\n",
      "_pickle             faulthandler        patsy               tinycss\n",
      "_plotly_future_     filecmp             pdb                 tkinter\n",
      "_plotly_utils       fileinput           pep8                tldextract\n",
      "_py_abc             filelock            perfmon             tlz\n",
      "_pydecimal          flake8              pexpect             token\n",
      "_pyio               flask               phik                tokenize\n",
      "_pyrsistent_version fnmatch             pickle              toml\n",
      "_pytest             fontTools           pickleshare         tomli\n",
      "_queue              formatter           pickletools         toolz\n",
      "_random             fractions           pip                 tornado\n",
      "_sha1               frozenlist          pipes               tqdm\n",
      "_sha256             fsspec              pkg_resources       trace\n",
      "_sha3               ftplib              pkginfo             traceback\n",
      "_sha512             functools           pkgutil             tracemalloc\n",
      "_signal             future              platform            traitlets\n",
      "_sitebuiltins       gc                  plistlib            tty\n",
      "_socket             genericpath         plotly              turtle\n",
      "_sqlite3            gensim              pluggy              turtledemo\n",
      "_sre                getopt              poplib              twisted\n",
      "_ssl                getpass             posixpath           typed_ast\n",
      "_stat               gettext             poyo                typeguard\n",
      "_statistics         glob                pprint              types\n",
      "_string             glob2               profile             typing\n",
      "_strptime           google_crc32c       prometheus_client   typing_extensions\n",
      "_struct             graphlib            prompt_toolkit      ujson\n",
      "_symtable           greenlet            protego             unicodedata\n",
      "_system_path        grpc                pstats              unidecode\n",
      "_testbuffer         gzip                psutil              unittest\n",
      "_testcapi           h5py                pty                 urllib\n",
      "_testconsole        hamcrest            ptyprocess          urllib3\n",
      "_testimportmultiple hashlib             pure_eval           uu\n",
      "_testinternalcapi   heapdict            pvectorc            uuid\n",
      "_testmultiphase     heapq               py                  venv\n",
      "_thread             hmac                py_compile          visions\n",
      "_threading_local    holoviews           pyasn1              w3lib\n",
      "_tkinter            html                pyasn1_modules      warnings\n",
      "_tracemalloc        htmlmin             pyclbr              watchdog\n",
      "_uuid               http                pycodestyle         wave\n",
      "_warnings           hvplot              pycosat             wcwidth\n",
      "_weakref            hyperlink           pycparser           weakref\n",
      "_weakrefset         idlelib             pyct                webbrowser\n",
      "_win32sysloader     idna                pycurl              webencodings\n",
      "_winapi             imagecodecs         pydantic            websocket\n",
      "_winxptheme         imagehash           pydispatch          werkzeug\n",
      "_xxsubinterpreters  imageio             pydoc               wheel\n",
      "_yaml               imagesize           pydoc_data          widgetsnbextension\n",
      "_zoneinfo           imaplib             pydocstyle          win2kras\n",
      "abc                 imghdr              pyexpat             win32api\n",
      "adodbapi            imp                 pyflakes            win32clipboard\n",
      "afxres              importlib           pygments            win32com\n",
      "aifc                importlib_metadata  pylab               win32con\n",
      "aiohttp             incremental         pylint              win32console\n",
      "aiosignal           inflection          pyls_spyder         win32cred\n",
      "alabaster           iniconfig           pylsp               win32crypt\n",
      "anaconda_navigator  inspect             pylsp_black         win32cryptcon\n",
      "anaconda_project    intake              pylsp_jsonrpc       win32ctypes\n",
      "antigravity         intervaltree        pyodbc              win32event\n",
      "anyio               io                  pyparsing           win32evtlog\n",
      "appdirs             ipaddress           pyreadline          win32evtlogutil\n",
      "argon2              ipykernel           pyrsistent          win32file\n",
      "argparse            ipykernel_launcher  pytest              win32gui\n",
      "array               ipython_genutils    pythoncom           win32gui_struct\n",
      "arrow               ipywidgets          pytz                win32help\n",
      "ast                 isapi               pyviz_comms         win32inet\n",
      "astroid             isort               pywin               win32inetcon\n",
      "astropy             isympy              pywin32_bootstrap   win32job\n",
      "asttokens           itemadapter         pywin32_testutil    win32lz\n",
      "async_timeout       itemloaders         pywintypes          win32net\n",
      "asynchat            itertools           pywt                win32netcon\n",
      "asyncio             itsdangerous        pyximport           win32pdh\n",
      "asyncore            jdcal               qdarkstyle          win32pdhquery\n",
      "atexit              jedi                qrcode              win32pdhutil\n",
      "atomicwrites        jinja2              qstylizer           win32pipe\n",
      "attr                jinja2_time         qtawesome           win32print\n",
      "attrs               jmespath            qtconsole           win32process\n",
      "audioop             joblib              qtpy                win32profile\n",
      "automat             json                queue               win32ras\n",
      "autopep8            json5               queuelib            win32rcparser\n",
      "babel               jsonschema          quopri              win32security\n",
      "backcall            jupyter             random              win32service\n",
      "backports           jupyter_client      rasutil             win32serviceutil\n",
      "base64              jupyter_console     re                  win32timezone\n",
      "bcrypt              jupyter_core        readline            win32trace\n",
      "bdb                 jupyter_server      regcheck            win32traceutil\n",
      "binaryornot         jupyterlab          regex               win32transaction\n",
      "binascii            jupyterlab_plotly   regutil             win32ts\n",
      "binhex              jupyterlab_pygments repo_cli            win32ui\n",
      "binstar_client      jupyterlab_server   reprlib             win32uiole\n",
      "bisect              jupyterlab_widgets  requests            win32verstamp\n",
      "bitarray            jwt                 requests_file       win32wnet\n",
      "bkcharts            keyring             rlcompleter         win_inet_pton\n",
      "black               keyword             rope                win_unicode_console\n",
      "blackd              kiwisolver          rsa                 wincertstore\n",
      "bleach              lazy_object_proxy   rtree               winerror\n",
      "blib2to3            lib2to3             ruamel_yaml         winioctlcon\n",
      "bokeh               libarchive          run                 winnt\n",
      "boto3               libfuturize         runpy               winperf\n",
      "botocore            libpasteurize       s3transfer          winpty\n",
      "bottleneck          lief                sched               winreg\n",
      "brotli              linecache           scipy               winsound\n",
      "bs4                 llvmlite            scrapy              winxpgui\n",
      "builtins            locale              seaborn             winxptheme\n",
      "bz2                 locket              secrets             wrapt\n",
      "cProfile            logging             select              wsgiref\n",
      "cachetools          lxml                selectors           xarray\n",
      "calendar            lzma                send2trash          xdrlib\n",
      "certifi             mailbox             service_identity    xlrd\n",
      "cffi                mailcap             servicemanager      xlsxwriter\n",
      "cgi                 markdown            setuptools          xlwings\n",
      "cgitb               markupsafe          shelve              xml\n",
      "chardet             marshal             shlex               xmlrpc\n",
      "charset_normalizer  math                shutil              xxsubtype\n",
      "chunk               matlab_kernel       signal              yaml\n",
      "click               matplotlib          sip                 yapf\n",
      "cloudpickle         matplotlib_inline   sipconfig           yapftests\n",
      "clyent              mccabe              sipdistutils        yarl\n",
      "cmath               menuinst            site                zict\n",
      "cmd                 metakernel          six                 zipapp\n",
      "code                mimetypes           skimage             zipfile\n",
      "codecs              mistune             sklearn             zipimport\n",
      "codeop              mkl                 sklearnex           zipp\n",
      "collections         mkl_fft             slugify             zlib\n",
      "colorama            mkl_random          smart_open          zmq\n",
      "colorcet            mmap                smtpd               zoneinfo\n",
      "colorsys            mmapfile            smtplib             zope\n",
      "commctrl            mmsystem            snappy              \n",
      "compileall          mock                sndhdr              \n",
      "comtypes            modulefinder        sniffio             \n",
      "\n",
      "Enter any module name to get more help.  Or, type \"modules spam\" to search\n",
      "for modules whose name or summary contain the string \"spam\".\n",
      "\n"
     ]
    }
   ],
   "source": [
    "help('modules')"
   ]
  },
  {
   "cell_type": "markdown",
   "id": "d5818383",
   "metadata": {},
   "source": [
    "### If Statement in Python \n",
    "it is used to execute an instraction or block of instractions only if a condition is fulfiled "
   ]
  },
  {
   "cell_type": "code",
   "execution_count": 17,
   "id": "4f65b465",
   "metadata": {},
   "outputs": [
    {
     "name": "stdout",
     "output_type": "stream",
     "text": [
      "getterthan\n",
      "rest of the code\n"
     ]
    }
   ],
   "source": [
    "if 5>2:\n",
    "    print(\"getterthan\")\n",
    "print(\"rest of the code\")"
   ]
  },
  {
   "cell_type": "code",
   "execution_count": 3,
   "id": "9942843c",
   "metadata": {},
   "outputs": [
    {
     "name": "stdout",
     "output_type": "stream",
     "text": [
      "lessthan\n",
      "rest of the code\n"
     ]
    }
   ],
   "source": [
    "if 6<7:\n",
    "    print(\"lessthan\")\n",
    "print(\"rest of the code\")"
   ]
  },
  {
   "cell_type": "code",
   "execution_count": 19,
   "id": "f500d269",
   "metadata": {},
   "outputs": [
    {
     "name": "stdout",
     "output_type": "stream",
     "text": [
      "enter a number getterthan 2: 5\n",
      "you enter the number 5\n",
      "rest of the code\n"
     ]
    }
   ],
   "source": [
    "a= int(input(\"enter a number getterthan 2: \"))\n",
    "if a>2:\n",
    "    print(\"you enter the number\",a)\n",
    "print(\"rest of the code\")\n"
   ]
  },
  {
   "cell_type": "markdown",
   "id": "64c6ca50",
   "metadata": {},
   "source": [
    "### Write a program to display \"Hello\" if a number entered by user is a multiple of five , otherwise print \"Bye\""
   ]
  },
  {
   "cell_type": "code",
   "execution_count": 4,
   "id": "08bcf34a",
   "metadata": {},
   "outputs": [
    {
     "name": "stdout",
     "output_type": "stream",
     "text": [
      "enter a number25\n",
      "Hello\n"
     ]
    }
   ],
   "source": [
    "number= int(input(\"enter a number\"))\n",
    "if number%5==0:\n",
    "    print(\"Hello\")\n",
    "else:\n",
    "    print(\"Bye\")"
   ]
  },
  {
   "cell_type": "markdown",
   "id": "b914a9c2",
   "metadata": {},
   "source": [
    "### Write a program to calculate the electricity bill (accept number of unit from user) according to the following criteria :\n",
    "***\n",
    "             Unit                                                     Price  \n",
    "First 100 units                                               no charge\n",
    "Next 100 units                                              Rs 5 per unit\n",
    "After 200 units                                             Rs 10 per unit\n",
    "(For example if input unit is 350 than total bill amount is Rs2000)\n",
    "***"
   ]
  },
  {
   "cell_type": "code",
   "execution_count": 15,
   "id": "3843a745",
   "metadata": {},
   "outputs": [
    {
     "name": "stdout",
     "output_type": "stream",
     "text": [
      "enter how many unit bill you have: 200\n",
      "your bill is:  500\n"
     ]
    }
   ],
   "source": [
    "unit=int(input(\"enter how many unit bill you have: \"))\n",
    "amu=0\n",
    "if unit<100:\n",
    "    amu=0\n",
    "    print(\"you save electric like pro and you don't have to pay any amaunt\")\n",
    "if unit>100 and 200>=unit:\n",
    "    amu=amu+(unit-100)*5\n",
    "    print(\"your bill is: \",amu)\n",
    "if unit>200:\n",
    "    amu=500+(unit-200)*10\n",
    "    print(\"your bill is\",amu)"
   ]
  },
  {
   "cell_type": "markdown",
   "id": "56967569",
   "metadata": {},
   "source": [
    "### Nested if Statement in Python"
   ]
  },
  {
   "cell_type": "markdown",
   "id": "fb937d30",
   "metadata": {},
   "source": [
    "a=int(input(\"enter a numeber: \"))\n",
    "b=int(input(\"enter second number: \"))\n",
    "c=int(input(\"enter third number: \"))\n",
    "if b>a: # jodi eii condition ta na true hoy tahole porer condition run hobe ni or statmentao print hobeni \n",
    "    print(\"b is greater than a\") \n",
    "    if c<a: # jodi condition true na hole statment print hobena;\n",
    "        print(\"a is greater than c\")\n",
    "print(\"rest of the code\")"
   ]
  },
  {
   "cell_type": "markdown",
   "id": "dddb3143",
   "metadata": {},
   "source": [
    "## if Statement with Logical Operator in Python\n"
   ]
  },
  {
   "cell_type": "code",
   "execution_count": 20,
   "id": "722c4f5c",
   "metadata": {},
   "outputs": [
    {
     "name": "stdout",
     "output_type": "stream",
     "text": [
      "if statment with and logicaloperator\n",
      "rest of the code\n"
     ]
    }
   ],
   "source": [
    "if 5>2 and 7>3:\n",
    "    print(\"if statment with and logicaloperator\")\n",
    "print(\"rest of the code\")"
   ]
  },
  {
   "cell_type": "code",
   "execution_count": 21,
   "id": "8923a4bc",
   "metadata": {},
   "outputs": [
    {
     "name": "stdout",
     "output_type": "stream",
     "text": [
      "if statment with or logicaloperator\n",
      "rest of the code\n"
     ]
    }
   ],
   "source": [
    "if 5>2 or 7<3:\n",
    "    print(\"if statment with or logicaloperator\")\n",
    "print(\"rest of the code\")"
   ]
  },
  {
   "cell_type": "code",
   "execution_count": 4,
   "id": "da9985fa",
   "metadata": {},
   "outputs": [
    {
     "name": "stdout",
     "output_type": "stream",
     "text": [
      "not logical operator\n"
     ]
    }
   ],
   "source": [
    "if 5 !=2:\n",
    "    print(\"not logical operator\")"
   ]
  },
  {
   "cell_type": "markdown",
   "id": "ab9a199f",
   "metadata": {},
   "source": [
    "## if else Statement in Python\n",
    "if else statment is used when a differant sequence of instructions is to be executed ."
   ]
  },
  {
   "cell_type": "code",
   "execution_count": 22,
   "id": "ea5d2161",
   "metadata": {},
   "outputs": [
    {
     "name": "stdout",
     "output_type": "stream",
     "text": [
      "greater than\n",
      "rest of the code\n"
     ]
    }
   ],
   "source": [
    "if 5>2:\n",
    "    print(\"greater than\")\n",
    "else:\n",
    "    print(\"less than \")\n",
    "print(\"rest of the code\")"
   ]
  },
  {
   "cell_type": "code",
   "execution_count": 23,
   "id": "11f13548",
   "metadata": {},
   "outputs": [
    {
     "name": "stdout",
     "output_type": "stream",
     "text": [
      "enter a number greater than 25\n",
      "a is the carect input you given by\n",
      "rest of the code\n"
     ]
    }
   ],
   "source": [
    "a= int(input(\"enter a number greater than 2\"))\n",
    "if a>2:\n",
    "    print(\"a is the carect input you given by\")\n",
    "else:\n",
    "    print(\"your input is wrong\")\n",
    "print(\"rest of the code\")"
   ]
  },
  {
   "cell_type": "markdown",
   "id": "3ac1ca4d",
   "metadata": {},
   "source": [
    "### nested if else statment\n",
    "in nested if else statment ,an entire if else construct is written within either the body of the if statment or the body of an else statment."
   ]
  },
  {
   "cell_type": "code",
   "execution_count": 2,
   "id": "9ca91b37",
   "metadata": {},
   "outputs": [
    {
     "name": "stdout",
     "output_type": "stream",
     "text": [
      "c is greter than d\n",
      "rest of the code\n"
     ]
    }
   ],
   "source": [
    "a=13\n",
    "b=6\n",
    "c=11\n",
    "d=3\n",
    "if a>b:\n",
    "    if(b>c):\n",
    "        print(\"d is greater than c \")\n",
    "    else:\n",
    "        print(\"c is greter than d\")\n",
    "else:\n",
    "    print(\"a is greater than b\")\n",
    "print(\"rest of the code\")"
   ]
  },
  {
   "cell_type": "markdown",
   "id": "5f7d9f26",
   "metadata": {},
   "source": [
    "### if elif and if elif else Statement in Python\n",
    "to show a multiway decision based on several conditions , we use if elif else statment "
   ]
  },
  {
   "cell_type": "code",
   "execution_count": 25,
   "id": "5341f450",
   "metadata": {},
   "outputs": [
    {
     "name": "stdout",
     "output_type": "stream",
     "text": [
      "b is greater than c\n"
     ]
    }
   ],
   "source": [
    "a=1\n",
    "b=3\n",
    "c=2\n",
    "if a>b:\n",
    "    print(\"a is greater than b\")\n",
    "elif b>c:\n",
    "    print(\"b is greater than c\")\n",
    "else:\n",
    "    print(\"c is greater than all\")\n"
   ]
  },
  {
   "cell_type": "code",
   "execution_count": 26,
   "id": "ef47dc53",
   "metadata": {},
   "outputs": [
    {
     "name": "stdout",
     "output_type": "stream",
     "text": [
      "today is tuesday\n"
     ]
    }
   ],
   "source": [
    "day= \"tuesday\"\n",
    "if day == \"monday\":\n",
    "    print(\"today is monday\")\n",
    "elif day == \"tuesday\":\n",
    "    print(\"today is tuesday\")\n",
    "elif day==\"wednesday\":\n",
    "    print"
   ]
  },
  {
   "cell_type": "markdown",
   "id": "8345490c",
   "metadata": {},
   "source": [
    "# loop control statment\n",
    "loop control statment are used when a saction of code many either be executed a fixed number of times ,or while some condition is true "
   ]
  },
  {
   "cell_type": "markdown",
   "id": "db5822b4",
   "metadata": {},
   "source": [
    "## While Loop and Nested while Loop in Python\n",
    "the while loop kecps repeating on action until an associated condition returns false."
   ]
  },
  {
   "cell_type": "code",
   "execution_count": 27,
   "id": "ab44c9f6",
   "metadata": {},
   "outputs": [
    {
     "name": "stdout",
     "output_type": "stream",
     "text": [
      "0\n",
      "1\n",
      "2\n",
      "3\n",
      "4\n",
      "5\n",
      "rest of the code\n"
     ]
    }
   ],
   "source": [
    "a=0\n",
    "while a<=5:\n",
    "    print(a)\n",
    "    a+=1\n",
    "print(\"rest of the code\")"
   ]
  },
  {
   "cell_type": "code",
   "execution_count": 3,
   "id": "1608aeb3",
   "metadata": {},
   "outputs": [
    {
     "name": "stdout",
     "output_type": "stream",
     "text": [
      "dibyendu sasmal 1\n",
      "dibyendu sasmal 2\n",
      "dibyendu sasmal 3\n",
      "dibyendu sasmal 4\n",
      "dibyendu sasmal 5\n",
      "dibyendu sasmal 6\n",
      "dibyendu sasmal 7\n",
      "dibyendu sasmal 8\n",
      "dibyendu sasmal 9\n",
      "dibyendu sasmal 10\n",
      "rest of the code\n"
     ]
    }
   ],
   "source": [
    "a=1\n",
    "while a<=10:\n",
    "    print(\"dibyendu sasmal\",a)\n",
    "    a+=1\n",
    "print(\"rest of the code\")"
   ]
  },
  {
   "cell_type": "code",
   "execution_count": 29,
   "id": "4cdb77f9",
   "metadata": {},
   "outputs": [
    {
     "name": "stdout",
     "output_type": "stream",
     "text": [
      "0\n",
      "2\n",
      "4\n",
      "6\n",
      "8\n",
      "10\n",
      "12\n",
      "14\n",
      "16\n",
      "18\n",
      "20\n",
      "rest of the code\n"
     ]
    }
   ],
   "source": [
    "a=0\n",
    "while a<=20:\n",
    "    print(a)\n",
    "    a+=2\n",
    "print(\"rest of the code\")"
   ]
  },
  {
   "cell_type": "code",
   "execution_count": 30,
   "id": "1e7a69d9",
   "metadata": {},
   "outputs": [
    {
     "name": "stdout",
     "output_type": "stream",
     "text": [
      "2\n",
      "3\n",
      "4\n",
      "5\n",
      "6\n",
      "7\n",
      "8\n",
      "9\n",
      "10\n",
      "while codition is false now\n",
      "rest of the code\n"
     ]
    }
   ],
   "source": [
    "a=2\n",
    "while a<=10:\n",
    "    print(a)\n",
    "    a+=1\n",
    "else:\n",
    "    print(\"while codition is false now\") #while loop with else\n",
    "print(\"rest of the code\")"
   ]
  },
  {
   "cell_type": "code",
   "execution_count": 2,
   "id": "daa585ed",
   "metadata": {},
   "outputs": [
    {
     "name": "stdout",
     "output_type": "stream",
     "text": [
      "0\n",
      "rest of the code\n"
     ]
    }
   ],
   "source": [
    "i=0\n",
    "while True :\n",
    "    print(i) # this infinite loop don't work beacuse jupyter lab don't have True keyword\n",
    "    if i<=5:\n",
    "        break\n",
    "print(\"rest of the code\")"
   ]
  },
  {
   "cell_type": "markdown",
   "id": "541f3ee2",
   "metadata": {},
   "source": [
    "## nested while loop\n"
   ]
  },
  {
   "cell_type": "code",
   "execution_count": 32,
   "id": "1503780a",
   "metadata": {},
   "outputs": [
    {
     "name": "stdout",
     "output_type": "stream",
     "text": [
      "outer loop 1\n",
      "inner loop 1\n",
      "inner loop 2\n",
      "inner loop 3\n",
      "inner loop 4\n",
      "inner loop 5\n",
      "outer loop 2\n",
      "inner loop 1\n",
      "inner loop 2\n",
      "inner loop 3\n",
      "inner loop 4\n",
      "inner loop 5\n",
      "outer loop 3\n",
      "inner loop 1\n",
      "inner loop 2\n",
      "inner loop 3\n",
      "inner loop 4\n",
      "inner loop 5\n",
      "rest of the code\n"
     ]
    }
   ],
   "source": [
    "i=1\n",
    "while i<=3:\n",
    "    print(\"outer loop\",i)\n",
    "    i+=1\n",
    "    j=1\n",
    "    while j<=5:\n",
    "        print(\"inner loop\",j)\n",
    "        j+=1\n",
    "print(\"rest of the code\")"
   ]
  },
  {
   "cell_type": "code",
   "execution_count": 33,
   "id": "b61bb06d",
   "metadata": {},
   "outputs": [
    {
     "name": "stdout",
     "output_type": "stream",
     "text": [
      "this is  1 nd order mutiplication tabel\n",
      "1\n",
      "2\n",
      "3\n",
      "4\n",
      "5\n",
      "6\n",
      "7\n",
      "8\n",
      "9\n",
      "10\n",
      "this is  2 nd order mutiplication tabel\n",
      "2\n",
      "4\n",
      "6\n",
      "8\n",
      "10\n",
      "12\n",
      "14\n",
      "16\n",
      "18\n",
      "20\n",
      "this is  3 nd order mutiplication tabel\n",
      "3\n",
      "6\n",
      "9\n",
      "12\n",
      "15\n",
      "18\n",
      "21\n",
      "24\n",
      "27\n",
      "30\n",
      "this is  4 nd order mutiplication tabel\n",
      "4\n",
      "8\n",
      "12\n",
      "16\n",
      "20\n",
      "24\n",
      "28\n",
      "32\n",
      "36\n",
      "40\n",
      "this is  5 nd order mutiplication tabel\n",
      "5\n",
      "10\n",
      "15\n",
      "20\n",
      "25\n",
      "30\n",
      "35\n",
      "40\n",
      "45\n",
      "50\n",
      "this is  6 nd order mutiplication tabel\n",
      "6\n",
      "12\n",
      "18\n",
      "24\n",
      "30\n",
      "36\n",
      "42\n",
      "48\n",
      "54\n",
      "60\n",
      "this is  7 nd order mutiplication tabel\n",
      "7\n",
      "14\n",
      "21\n",
      "28\n",
      "35\n",
      "42\n",
      "49\n",
      "56\n",
      "63\n",
      "70\n",
      "this is  8 nd order mutiplication tabel\n",
      "8\n",
      "16\n",
      "24\n",
      "32\n",
      "40\n",
      "48\n",
      "56\n",
      "64\n",
      "72\n",
      "80\n",
      "this is  9 nd order mutiplication tabel\n",
      "9\n",
      "18\n",
      "27\n",
      "36\n",
      "45\n",
      "54\n",
      "63\n",
      "72\n",
      "81\n",
      "90\n",
      "this is  10 nd order mutiplication tabel\n",
      "10\n",
      "20\n",
      "30\n",
      "40\n",
      "50\n",
      "60\n",
      "70\n",
      "80\n",
      "90\n",
      "100\n",
      "this is  11 nd order mutiplication tabel\n",
      "11\n",
      "22\n",
      "33\n",
      "44\n",
      "55\n",
      "66\n",
      "77\n",
      "88\n",
      "99\n",
      "110\n",
      "this is  12 nd order mutiplication tabel\n",
      "12\n",
      "24\n",
      "36\n",
      "48\n",
      "60\n",
      "72\n",
      "84\n",
      "96\n",
      "108\n",
      "120\n",
      "this is  13 nd order mutiplication tabel\n",
      "13\n",
      "26\n",
      "39\n",
      "52\n",
      "65\n",
      "78\n",
      "91\n",
      "104\n",
      "117\n",
      "130\n",
      "this is  14 nd order mutiplication tabel\n",
      "14\n",
      "28\n",
      "42\n",
      "56\n",
      "70\n",
      "84\n",
      "98\n",
      "112\n",
      "126\n",
      "140\n",
      "this is  15 nd order mutiplication tabel\n",
      "15\n",
      "30\n",
      "45\n",
      "60\n",
      "75\n",
      "90\n",
      "105\n",
      "120\n",
      "135\n",
      "150\n",
      "this is  16 nd order mutiplication tabel\n",
      "16\n",
      "32\n",
      "48\n",
      "64\n",
      "80\n",
      "96\n",
      "112\n",
      "128\n",
      "144\n",
      "160\n",
      "this is  17 nd order mutiplication tabel\n",
      "17\n",
      "34\n",
      "51\n",
      "68\n",
      "85\n",
      "102\n",
      "119\n",
      "136\n",
      "153\n",
      "170\n",
      "this is  18 nd order mutiplication tabel\n",
      "18\n",
      "36\n",
      "54\n",
      "72\n",
      "90\n",
      "108\n",
      "126\n",
      "144\n",
      "162\n",
      "180\n",
      "this is  19 nd order mutiplication tabel\n",
      "19\n",
      "38\n",
      "57\n",
      "76\n",
      "95\n",
      "114\n",
      "133\n",
      "152\n",
      "171\n",
      "190\n",
      "this is  20 nd order mutiplication tabel\n",
      "20\n",
      "40\n",
      "60\n",
      "80\n",
      "100\n",
      "120\n",
      "140\n",
      "160\n",
      "180\n",
      "200\n",
      "complite the tabel\n"
     ]
    }
   ],
   "source": [
    "# Display multiplication table using nested while  in Python language\n",
    "n=0\n",
    "while n<20:\n",
    "    print(\"this is \",n+1,\"nd order mutiplication tabel\")\n",
    "    n+=1\n",
    "    i=1\n",
    "    while i<=10:\n",
    "        print(i*n)\n",
    "        i+=1\n",
    "print(\"complite the tabel\")"
   ]
  },
  {
   "cell_type": "code",
   "execution_count": 3,
   "id": "e7bcdb38",
   "metadata": {},
   "outputs": [
    {
     "name": "stdout",
     "output_type": "stream",
     "text": [
      "1\n",
      "2\n",
      "3\n",
      "4\n",
      "5\n",
      "6\n",
      "7\n",
      "8\n",
      "9\n",
      "10\n",
      "11\n",
      "12\n",
      "2\n",
      "4\n",
      "6\n",
      "8\n",
      "10\n",
      "12\n",
      "14\n",
      "16\n",
      "18\n",
      "20\n",
      "22\n",
      "24\n",
      "3\n",
      "6\n",
      "9\n",
      "12\n",
      "15\n",
      "18\n",
      "21\n",
      "24\n",
      "27\n",
      "30\n",
      "33\n",
      "36\n",
      "4\n",
      "8\n",
      "12\n",
      "16\n",
      "20\n",
      "24\n",
      "28\n",
      "32\n",
      "36\n",
      "40\n",
      "44\n",
      "48\n",
      "5\n",
      "10\n",
      "15\n",
      "20\n",
      "25\n",
      "30\n",
      "35\n",
      "40\n",
      "45\n",
      "50\n",
      "55\n",
      "60\n",
      "6\n",
      "12\n",
      "18\n",
      "24\n",
      "30\n",
      "36\n",
      "42\n",
      "48\n",
      "54\n",
      "60\n",
      "66\n",
      "72\n",
      "7\n",
      "14\n",
      "21\n",
      "28\n",
      "35\n",
      "42\n",
      "49\n",
      "56\n",
      "63\n",
      "70\n",
      "77\n",
      "84\n",
      "8\n",
      "16\n",
      "24\n",
      "32\n",
      "40\n",
      "48\n",
      "56\n",
      "64\n",
      "72\n",
      "80\n",
      "88\n",
      "96\n",
      "9\n",
      "18\n",
      "27\n",
      "36\n",
      "45\n",
      "54\n",
      "63\n",
      "72\n",
      "81\n",
      "90\n",
      "99\n",
      "108\n",
      "10\n",
      "20\n",
      "30\n",
      "40\n",
      "50\n",
      "60\n",
      "70\n",
      "80\n",
      "90\n",
      "100\n",
      "110\n",
      "120\n",
      "11\n",
      "22\n",
      "33\n",
      "44\n",
      "55\n",
      "66\n",
      "77\n",
      "88\n",
      "99\n",
      "110\n",
      "121\n",
      "132\n"
     ]
    }
   ],
   "source": [
    "#this is a program to display multiplication table\n",
    "#example for nested-while loop in Python\n",
    "i=0\n",
    "while i<=10:\n",
    "    i+=1\n",
    "    j=1\n",
    "    while j<=12:\n",
    "        print (i*j)\n",
    "        j+=1\n",
    "        "
   ]
  },
  {
   "cell_type": "markdown",
   "id": "b6512dcf",
   "metadata": {},
   "source": [
    "## for loop and Nested for Loop in Python"
   ]
  },
  {
   "cell_type": "code",
   "execution_count": 10,
   "id": "4f696d10",
   "metadata": {},
   "outputs": [
    {
     "name": "stdout",
     "output_type": "stream",
     "text": [
      "d\n",
      "i\n",
      "b\n",
      "y\n",
      "e\n",
      "n\n",
      "d\n",
      "u\n",
      " \n",
      "s\n",
      "a\n",
      "s\n",
      "m\n",
      "a\n",
      "l\n"
     ]
    }
   ],
   "source": [
    "data = \"dibyendu sasmal\"\n",
    "for a in data:\n",
    "    print(a)"
   ]
  },
  {
   "cell_type": "code",
   "execution_count": 11,
   "id": "96e587fd",
   "metadata": {},
   "outputs": [
    {
     "name": "stdout",
     "output_type": "stream",
     "text": [
      "0\n",
      "1\n",
      "2\n",
      "3\n",
      "4\n",
      "5\n",
      "6\n",
      "7\n",
      "8\n",
      "9\n"
     ]
    }
   ],
   "source": [
    "for i in range(10):\n",
    "    print(i)"
   ]
  },
  {
   "cell_type": "code",
   "execution_count": 5,
   "id": "641a8fcb",
   "metadata": {},
   "outputs": [
    {
     "name": "stdout",
     "output_type": "stream",
     "text": [
      "0 data d\n",
      "1 data i\n",
      "2 data b\n",
      "3 data y\n",
      "4 data e\n",
      "5 data n\n",
      "6 data d\n",
      "7 data u\n",
      "8 data  \n",
      "9 data s\n",
      "10 data a\n",
      "11 data s\n",
      "12 data m\n",
      "13 data a\n",
      "14 data l\n"
     ]
    }
   ],
   "source": [
    "data = \"dibyendu sasmal\"\n",
    "ab = len(data)\n",
    "for a in range(ab): #string index er janne ekhane all eliment print hobe \n",
    "    #ekhane 0 index theke 9 porjanto index number tori hobe tai somostho element print kora somvob \n",
    "    print(a,\"data\",data[a])"
   ]
  },
  {
   "cell_type": "code",
   "execution_count": 4,
   "id": "28409013",
   "metadata": {},
   "outputs": [
    {
     "name": "stdout",
     "output_type": "stream",
     "text": [
      "d\n",
      "i\n",
      "b\n",
      "y\n",
      "e\n",
      "n\n",
      "d\n",
      "u\n",
      "this is else part\n",
      "rest of the code\n"
     ]
    }
   ],
   "source": [
    "# for loop with else part\n",
    "its=\"dibyendu\"\n",
    "for i in its:\n",
    "    print(i)\n",
    "else:\n",
    "    print(\"this is else part\")\n",
    "print(\"rest of the code\")"
   ]
  },
  {
   "cell_type": "code",
   "execution_count": 6,
   "id": "303cf8e1",
   "metadata": {},
   "outputs": [
    {
     "name": "stdout",
     "output_type": "stream",
     "text": [
      "outer loop 0\n",
      "inner loop 0\n",
      "inner loop 1\n",
      "inner loop 2\n",
      "inner loop 3\n",
      "inner loop 4\n",
      "outer loop 1\n",
      "inner loop 0\n",
      "inner loop 1\n",
      "inner loop 2\n",
      "inner loop 3\n",
      "inner loop 4\n",
      "outer loop 2\n",
      "inner loop 0\n",
      "inner loop 1\n",
      "inner loop 2\n",
      "inner loop 3\n",
      "inner loop 4\n"
     ]
    }
   ],
   "source": [
    "# nested for loop\n",
    "for i in range(3):\n",
    "    print(\"outer loop\",i)\n",
    "    for j in range(5):\n",
    "        print(\"inner loop\",j)"
   ]
  },
  {
   "cell_type": "markdown",
   "id": "20b0b043",
   "metadata": {},
   "source": [
    "## Break Statement and Continue Statement in Python"
   ]
  },
  {
   "cell_type": "code",
   "execution_count": 9,
   "id": "f2376c06",
   "metadata": {},
   "outputs": [
    {
     "name": "stdout",
     "output_type": "stream",
     "text": [
      "0\n",
      "1\n",
      "2\n",
      "3\n"
     ]
    }
   ],
   "source": [
    "# break statment\n",
    "for i in range(5):\n",
    "    print(i) # if statment opore likhechi tai ekhane 3 porjanto print hobe\n",
    "    if i==3:\n",
    "        break"
   ]
  },
  {
   "cell_type": "code",
   "execution_count": 8,
   "id": "92c757e3",
   "metadata": {},
   "outputs": [
    {
     "name": "stdout",
     "output_type": "stream",
     "text": [
      "0\n",
      "1\n",
      "2\n"
     ]
    }
   ],
   "source": [
    "# break statment\n",
    "for i in range(5):\n",
    "    if i==3:\n",
    "        break\n",
    "    print(i) # if statment er niche likhechi tai ar 3 print hoyni "
   ]
  },
  {
   "cell_type": "code",
   "execution_count": 7,
   "id": "9412e90c",
   "metadata": {},
   "outputs": [
    {
     "name": "stdout",
     "output_type": "stream",
     "text": [
      "0\n",
      "1\n",
      "2\n",
      "4\n"
     ]
    }
   ],
   "source": [
    "# continue statment\n",
    "for i in range(5):\n",
    "    if i==3:\n",
    "        continue\n",
    "    print(i) # continue statment e janne 3 tike skip koreche ekhane "
   ]
  },
  {
   "cell_type": "markdown",
   "id": "4971bb03",
   "metadata": {},
   "source": [
    "### Array in Python"
   ]
  },
  {
   "cell_type": "code",
   "execution_count": null,
   "id": "342c3973",
   "metadata": {},
   "outputs": [],
   "source": [
    "import array                                         # from import array*                         eta jupyte labe suport korena \n",
    "st_roll=array.array('i',[101,102,103,104,105])       # st_roll=array('i',[101,102,103,104,105])\n",
    "for i in st_roll:                                    # for i in st_roll: \n",
    "    print(i)                                         #     print(i)"
   ]
  },
  {
   "cell_type": "markdown",
   "id": "eaf7e496",
   "metadata": {},
   "source": [
    "### Accessing Array using for Loop Array Module in Python"
   ]
  },
  {
   "cell_type": "code",
   "execution_count": null,
   "id": "a6095428",
   "metadata": {},
   "outputs": [],
   "source": [
    "import array\n",
    "stu_roll=array.array('i',[100,101,102,103,104,105])\n",
    "n=len(stu_roll)\n",
    "for i in range(n):\n",
    "    print(\"index\",i,\"=\",stu_roll[i])"
   ]
  },
  {
   "cell_type": "markdown",
   "id": "202e3803",
   "metadata": {},
   "source": [
    "### Accessing Array using for while Array Module in Python"
   ]
  },
  {
   "cell_type": "code",
   "execution_count": null,
   "id": "70c222ec",
   "metadata": {},
   "outputs": [],
   "source": [
    "import array\n",
    "stu_roll=array.array('i',[100,107,109,101,102,103,104,105])\n",
    "n=len(stu_roll)\n",
    "i=0\n",
    "while i<n:\n",
    "    print(\"index\",i,\"=\",stu_roll[i])\n",
    "    i+=1"
   ]
  },
  {
   "cell_type": "markdown",
   "id": "8f19655e",
   "metadata": {},
   "source": [
    "### append Method in Python"
   ]
  },
  {
   "cell_type": "code",
   "execution_count": 61,
   "id": "155537a6",
   "metadata": {},
   "outputs": [
    {
     "name": "stdout",
     "output_type": "stream",
     "text": [
      "index 0 = 100\n",
      "index 1 = 101\n",
      "index 2 = 102\n",
      "index 3 = 103\n",
      "index 4 = 104\n",
      "index 5 = 105\n",
      "index 6 = 110\n"
     ]
    }
   ],
   "source": [
    "import array\n",
    "stu_roll=array.array('i',[100,101,102,103,104,105])\n",
    "stu_roll.append(110)\n",
    "n=len(stu_roll)\n",
    "for i in range(n):\n",
    "    print(\"index\",i,\"=\",stu_roll[i])"
   ]
  },
  {
   "cell_type": "code",
   "execution_count": null,
   "id": "072f806c",
   "metadata": {},
   "outputs": [],
   "source": [
    "#getting input from user \n",
    "import array\n",
    "stu_roll = array.array('i',[])\n",
    "n=int(input(\"enter how many element\"))\n",
    "for i in range(n):                         # gettin input from user\n",
    "    stu_roll.append(int(input(\"element\")))\n",
    "for i in range(len(stu_roll)): # print the result\n",
    "    print(stu_roll[i])"
   ]
  },
  {
   "cell_type": "markdown",
   "id": "b7106291",
   "metadata": {},
   "source": [
    "### Getting Array Input from user using while Loop in Python\n"
   ]
  },
  {
   "cell_type": "code",
   "execution_count": null,
   "id": "8d23808c",
   "metadata": {},
   "outputs": [],
   "source": [
    "import array\n",
    "stu_roll = array.array('i',[])\n",
    "n=int(input(\"enter how many element\"))\n",
    "i=0\n",
    "while i<n:\n",
    "    stu_roll.append(int(input(\"element\")))\n",
    "    i+=1\n",
    "j=0\n",
    "while j<len(stu_roll):\n",
    "    print(stu_roll[j])\n",
    "    j+=1"
   ]
  },
  {
   "cell_type": "code",
   "execution_count": 66,
   "id": "1423cbbd",
   "metadata": {},
   "outputs": [
    {
     "name": "stdout",
     "output_type": "stream",
     "text": [
      "enter how many element3\n",
      "element10\n",
      "element11\n",
      "element12\n",
      "array('i', [10, 11, 12])\n",
      "after accessing array eliment\n",
      "10\n",
      "11\n",
      "12\n"
     ]
    }
   ],
   "source": [
    "import array\n",
    "stu_roll = array.array('i',[])\n",
    "n=int(input(\"enter how many element\"))\n",
    "for i in range(n):\n",
    "    stu_roll.append(int(input(\"element\")))\n",
    "print(stu_roll)\n",
    "print(\"after accessing array eliment\")\n",
    "for i in range(n):\n",
    "    print(stu_roll[i])"
   ]
  },
  {
   "cell_type": "markdown",
   "id": "957c03cc",
   "metadata": {},
   "source": [
    "### Slicing on Arrays in Python"
   ]
  },
  {
   "cell_type": "code",
   "execution_count": 1,
   "id": "3075e58f",
   "metadata": {},
   "outputs": [
    {
     "name": "stdout",
     "output_type": "stream",
     "text": [
      "index 0 = 100\n",
      "index 1 = 101\n",
      "index 2 = 102\n",
      "index 3 = 103\n",
      "index 4 = 104\n",
      "index 5 = 105\n",
      "101\n",
      "102\n"
     ]
    }
   ],
   "source": [
    "import array\n",
    "stu_roll=array.array('i',[100,101,102,103,104,105])\n",
    "n=len(stu_roll)\n",
    "for i in range(n):\n",
    "    print(\"index\",i,\"=\",stu_roll[i])\n",
    "# affter slicing this array\n",
    "a=stu_roll[1:3]\n",
    "for i in a:\n",
    "    print(i)"
   ]
  },
  {
   "cell_type": "code",
   "execution_count": 2,
   "id": "2fd4882c",
   "metadata": {},
   "outputs": [
    {
     "name": "stdout",
     "output_type": "stream",
     "text": [
      "index 0 = 100\n",
      "index 1 = 101\n",
      "index 2 = 102\n",
      "index 3 = 103\n",
      "index 4 = 104\n",
      "index 5 = 105\n",
      "100\n",
      "101\n",
      "102\n"
     ]
    }
   ],
   "source": [
    "import array\n",
    "stu_roll=array.array('i',[100,101,102,103,104,105])\n",
    "n=len(stu_roll)\n",
    "for i in range(n):\n",
    "    print(\"index\",i,\"=\",stu_roll[i])\n",
    "# affter slicing this array\n",
    "a=stu_roll[:3]\n",
    "for i in a:\n",
    "    print(i)"
   ]
  },
  {
   "cell_type": "code",
   "execution_count": 3,
   "id": "073b0908",
   "metadata": {},
   "outputs": [
    {
     "name": "stdout",
     "output_type": "stream",
     "text": [
      "index 0 = 100\n",
      "index 1 = 101\n",
      "index 2 = 102\n",
      "index 3 = 103\n",
      "index 4 = 104\n",
      "index 5 = 105\n",
      "102\n",
      "103\n",
      "104\n",
      "105\n"
     ]
    }
   ],
   "source": [
    "import array\n",
    "stu_roll=array.array('i',[100,101,102,103,104,105])\n",
    "n=len(stu_roll)\n",
    "for i in range(n):\n",
    "    print(\"index\",i,\"=\",stu_roll[i])\n",
    "# affter slicing this array\n",
    "a=stu_roll[2:]\n",
    "for i in a:\n",
    "    print(i)"
   ]
  },
  {
   "cell_type": "code",
   "execution_count": 4,
   "id": "697c6f44",
   "metadata": {},
   "outputs": [
    {
     "name": "stdout",
     "output_type": "stream",
     "text": [
      "index 0 = 100\n",
      "index 1 = 101\n",
      "index 2 = 102\n",
      "index 3 = 103\n",
      "index 4 = 104\n",
      "index 5 = 105\n",
      "101\n",
      "103\n"
     ]
    }
   ],
   "source": [
    "import array\n",
    "stu_roll=array.array('i',[100,101,102,103,104,105])\n",
    "n=len(stu_roll)\n",
    "for i in range(n):\n",
    "    print(\"index\",i,\"=\",stu_roll[i])\n",
    "# affter slicing this array\n",
    "a=stu_roll[1:5:2]\n",
    "for i in a:\n",
    "    print(i)"
   ]
  },
  {
   "cell_type": "code",
   "execution_count": null,
   "id": "b89e952b",
   "metadata": {},
   "outputs": [],
   "source": [
    "import array\n",
    "stu_roll=array.array('i',[100,101,102,103,104,105])\n",
    "n=len(stu_roll)\n",
    "for i in range(n):\n",
    "    print(\"index\",i,\"=\",stu_roll[i])\n",
    "# affter slicing this array\n",
    "a=stu_roll[:-3]\n",
    "for i in a:\n",
    "    print(i)"
   ]
  },
  {
   "cell_type": "code",
   "execution_count": null,
   "id": "100b189e",
   "metadata": {},
   "outputs": [],
   "source": [
    "!pip install numpy\n"
   ]
  },
  {
   "cell_type": "markdown",
   "id": "68aa6dba",
   "metadata": {},
   "source": [
    "### One Dimensional Numpy Array using array Function"
   ]
  },
  {
   "cell_type": "code",
   "execution_count": 13,
   "id": "479e49c1",
   "metadata": {},
   "outputs": [
    {
     "name": "stdout",
     "output_type": "stream",
     "text": [
      "101\n",
      "102\n",
      "103\n",
      "104\n",
      "105\n",
      "106\n"
     ]
    }
   ],
   "source": [
    "import numpy\n",
    "stu_roll = numpy.array([101,102,103,104,105,106])\n",
    "for i in stu_roll:\n",
    "    print(i)"
   ]
  },
  {
   "cell_type": "code",
   "execution_count": 14,
   "id": "327bf5ad",
   "metadata": {},
   "outputs": [
    {
     "name": "stdout",
     "output_type": "stream",
     "text": [
      "dibyendu\n",
      "sasmal\n",
      "machgeria\n",
      "brahmanbasan\n",
      "daspur\n",
      "102\n",
      "102.002\n"
     ]
    }
   ],
   "source": [
    "import numpy\n",
    "stu_roll = numpy.array([\"dibyendu\",\"sasmal\",\"machgeria\",\"brahmanbasan\",\"daspur\",102,102.002])\n",
    "for i in stu_roll:\n",
    "    print(i)"
   ]
  },
  {
   "cell_type": "code",
   "execution_count": 15,
   "id": "8a0e0f2e",
   "metadata": {},
   "outputs": [
    {
     "name": "stdout",
     "output_type": "stream",
     "text": [
      "101\n",
      "102\n",
      "103\n",
      "104\n",
      "105\n",
      "106\n"
     ]
    }
   ],
   "source": [
    "import numpy\n",
    "a=numpy.array([101,102,103,104,105,106])\n",
    "n =len(a)\n",
    "i=0\n",
    "while i<n:\n",
    "    print(a[i]) # n[i] likle error dey , ar ami barbarr n used kori\n",
    "    i+=1\n",
    "    "
   ]
  },
  {
   "cell_type": "markdown",
   "id": "e9d16cb9",
   "metadata": {},
   "source": [
    "### Numpy One Dimensional Array using linspace Function"
   ]
  },
  {
   "cell_type": "code",
   "execution_count": null,
   "id": "2af3577a",
   "metadata": {},
   "outputs": [],
   "source": [
    "import numpy\n",
    "n = numpy.linspace(1,6,10)\n",
    "for i in n:\n",
    "    print(i)"
   ]
  },
  {
   "cell_type": "code",
   "execution_count": null,
   "id": "4b719546",
   "metadata": {},
   "outputs": [],
   "source": [
    "import numpy\n",
    "n = numpy.linspace(1,6,10)\n",
    "exl = len(n)\n",
    "i=0\n",
    "while i<exl:\n",
    "    print(n[i])\n",
    "    i+=1"
   ]
  },
  {
   "cell_type": "markdown",
   "id": "a47eed38",
   "metadata": {},
   "source": [
    "### Numpy One Dimensional Array using logspace Function in Python "
   ]
  },
  {
   "cell_type": "code",
   "execution_count": null,
   "id": "b950633f",
   "metadata": {},
   "outputs": [],
   "source": [
    "import numpy\n",
    "log= numpy.logspace(1,3,5)\n",
    "for i in log:\n",
    "    print(i)"
   ]
  },
  {
   "cell_type": "code",
   "execution_count": null,
   "id": "ae383b2f",
   "metadata": {},
   "outputs": [],
   "source": [
    "import numpy\n",
    "log= numpy.logspace(1,3,5,base=12)\n",
    "for i in log:\n",
    "    print(i)"
   ]
  },
  {
   "cell_type": "code",
   "execution_count": null,
   "id": "68933aab",
   "metadata": {},
   "outputs": [],
   "source": [
    "import numpy\n",
    "log= numpy.logspace(1,3,5)\n",
    "ln = len(log)\n",
    "i=0\n",
    "while i<ln:\n",
    "    print(log[i])\n",
    "    i+=1"
   ]
  },
  {
   "cell_type": "markdown",
   "id": "f1922ec6",
   "metadata": {},
   "source": [
    "### Numpy One Dimensional Array using arange Function in Python"
   ]
  },
  {
   "cell_type": "code",
   "execution_count": null,
   "id": "7c20b943",
   "metadata": {},
   "outputs": [],
   "source": [
    "import numpy\n",
    "a = numpy.arange(1,10,2)\n",
    "an = len(a)\n",
    "i=0\n",
    "while i<an:\n",
    "    print(a[i])\n",
    "    i+=1"
   ]
  },
  {
   "cell_type": "code",
   "execution_count": null,
   "id": "b1ce98c6",
   "metadata": {},
   "outputs": [],
   "source": [
    "import numpy\n",
    "a = numpy.arange(1,10,2)\n",
    "an = len(a)\n",
    "i=0\n",
    "while i<an:\n",
    "    print('index',i,'=',a[i])\n",
    "    i+=1"
   ]
  },
  {
   "cell_type": "markdown",
   "id": "84dc18a2",
   "metadata": {},
   "source": [
    "### Numpy One Dimensional Array using ones Function in Python"
   ]
  },
  {
   "cell_type": "code",
   "execution_count": 12,
   "id": "b07760cb",
   "metadata": {},
   "outputs": [
    {
     "name": "stdout",
     "output_type": "stream",
     "text": [
      "1.0\n",
      "1.0\n",
      "1.0\n",
      "1.0\n",
      "1.0\n"
     ]
    }
   ],
   "source": [
    "import numpy\n",
    "a = numpy.ones(5)\n",
    "b =len(a)\n",
    "i=0\n",
    "while i<b:\n",
    "    print(a[i])\n",
    "    i+=1"
   ]
  },
  {
   "cell_type": "markdown",
   "id": "b9d978c2",
   "metadata": {},
   "source": [
    "### Numpy zeros Dimensional Array using ones Function in Python"
   ]
  },
  {
   "cell_type": "code",
   "execution_count": null,
   "id": "e5ddcdc6",
   "metadata": {},
   "outputs": [],
   "source": [
    "import numpy\n",
    "a = numpy.zeros(5)\n",
    "b =len(a)\n",
    "i=0\n",
    "print(a) #print the zeros array\n",
    "while i<b:\n",
    "    print(a[i]) # one by one eliment acssesing from the array\n",
    "    i+=1"
   ]
  },
  {
   "cell_type": "markdown",
   "id": "66252170",
   "metadata": {},
   "source": [
    "## Math Operations on Arrays using Numpy in Python \n"
   ]
  },
  {
   "cell_type": "code",
   "execution_count": null,
   "id": "8203b20d",
   "metadata": {},
   "outputs": [],
   "source": [
    "import numpy\n",
    "a = numpy.array([101,102,103,104,105,106,107,108,109])\n",
    "b = a+5\n",
    "c = a-5\n",
    "d = a*5\n",
    "e = a/5\n",
    "print(b)\n",
    "print(c)\n",
    "print(d)\n",
    "print(e)"
   ]
  },
  {
   "cell_type": "code",
   "execution_count": null,
   "id": "b06f01eb",
   "metadata": {},
   "outputs": [],
   "source": [
    "import numpy\n",
    "a = numpy.array([101,102,103,104,105,106,107,108,109])\n",
    "b = a+5\n",
    "ln = len(a)\n",
    "for i in range(ln):\n",
    "    print(\"index\",i,\"=\",b[i])"
   ]
  },
  {
   "cell_type": "markdown",
   "id": "131d8b7b",
   "metadata": {},
   "source": [
    "### Comparing Numpy Arrays in Python"
   ]
  },
  {
   "cell_type": "code",
   "execution_count": 34,
   "id": "8dbf73c4",
   "metadata": {},
   "outputs": [
    {
     "name": "stdout",
     "output_type": "stream",
     "text": [
      "[False False  True False False  True]\n"
     ]
    }
   ],
   "source": [
    "import numpy\n",
    "a = numpy.array([101,102,103,104,105,106])\n",
    "b = numpy.array([100,200,103,140,60,106])\n",
    "result = a==b\n",
    "print(result)"
   ]
  },
  {
   "cell_type": "code",
   "execution_count": 35,
   "id": "29c49b79",
   "metadata": {},
   "outputs": [
    {
     "name": "stdout",
     "output_type": "stream",
     "text": [
      "[False  True False  True False False]\n"
     ]
    }
   ],
   "source": [
    "import numpy\n",
    "a = numpy.array([101,102,103,104,105,106])\n",
    "b = numpy.array([100,200,103,140,60,106])\n",
    "result = a<b\n",
    "print(result)"
   ]
  },
  {
   "cell_type": "code",
   "execution_count": 36,
   "id": "6410d327",
   "metadata": {},
   "outputs": [
    {
     "name": "stdout",
     "output_type": "stream",
     "text": [
      "[ True False False False  True False]\n"
     ]
    }
   ],
   "source": [
    "import numpy\n",
    "a = numpy.array([101,102,103,104,105,106])\n",
    "b = numpy.array([100,200,103,140,60,106])\n",
    "result = a>b\n",
    "print(result)"
   ]
  },
  {
   "cell_type": "markdown",
   "id": "c9a1b74c",
   "metadata": {},
   "source": [
    "### any and all Functions in Python"
   ]
  },
  {
   "cell_type": "code",
   "execution_count": 37,
   "id": "c5cb9dc8",
   "metadata": {},
   "outputs": [
    {
     "data": {
      "text/plain": [
       "True"
      ]
     },
     "execution_count": 37,
     "metadata": {},
     "output_type": "execute_result"
    }
   ],
   "source": [
    "import numpy\n",
    "a = numpy.array([101,102,103,104,105,106])\n",
    "b = numpy.array([100,200,103,140,60,106])\n",
    "result = a==b\n",
    "any(result)"
   ]
  },
  {
   "cell_type": "code",
   "execution_count": 38,
   "id": "37fad69a",
   "metadata": {},
   "outputs": [
    {
     "data": {
      "text/plain": [
       "False"
      ]
     },
     "execution_count": 38,
     "metadata": {},
     "output_type": "execute_result"
    }
   ],
   "source": [
    "import numpy\n",
    "a = numpy.array([101,102,103,104,105,106])\n",
    "b = numpy.array([100,200,103,140,60,106])\n",
    "result = a==b\n",
    "all(result)"
   ]
  },
  {
   "cell_type": "markdown",
   "id": "d671417c",
   "metadata": {},
   "source": [
    "### where Function in Python "
   ]
  },
  {
   "cell_type": "code",
   "execution_count": 44,
   "id": "9347fbe6",
   "metadata": {},
   "outputs": [
    {
     "name": "stdout",
     "output_type": "stream",
     "text": [
      "[101 200 103 140 105 106]\n"
     ]
    }
   ],
   "source": [
    "import numpy\n",
    "a = numpy.array([101,102,103,104,105,106])\n",
    "b = numpy.array([100,200,103,140,60,106])\n",
    "result =numpy.where(a>b,a,b)\n",
    "print(result)"
   ]
  },
  {
   "cell_type": "markdown",
   "id": "5d909e5b",
   "metadata": {},
   "source": [
    "### nonzero Function in Python "
   ]
  },
  {
   "cell_type": "code",
   "execution_count": 45,
   "id": "df78640d",
   "metadata": {},
   "outputs": [
    {
     "name": "stdout",
     "output_type": "stream",
     "text": [
      "(array([0, 2, 3, 5, 6, 8], dtype=int64),)\n"
     ]
    }
   ],
   "source": [
    "import numpy\n",
    "a = numpy.array([101,0,103,104,0,106,107,0,109,0])\n",
    "result=numpy.nonzero(a)\n",
    "print(result)"
   ]
  },
  {
   "cell_type": "markdown",
   "id": "c61408e2",
   "metadata": {},
   "source": [
    "### Aliasing Array in Python"
   ]
  },
  {
   "cell_type": "code",
   "execution_count": 46,
   "id": "a097c87e",
   "metadata": {},
   "outputs": [
    {
     "name": "stdout",
     "output_type": "stream",
     "text": [
      "[101   0 103 104   0 106 107   0 109   0] 2506721137552\n",
      "[101   0 103 104   0 106 107   0 109   0] 2506721137552\n"
     ]
    }
   ],
   "source": [
    "import numpy\n",
    "a = numpy.array([101,0,103,104,0,106,107,0,109,0])\n",
    "b=a\n",
    "print(a,id(a))\n",
    "print(b,id(b))"
   ]
  },
  {
   "cell_type": "markdown",
   "id": "d43b387e",
   "metadata": {},
   "source": [
    "### view Method and copy Method in Python"
   ]
  },
  {
   "cell_type": "code",
   "execution_count": 5,
   "id": "0927da2f",
   "metadata": {},
   "outputs": [
    {
     "name": "stdout",
     "output_type": "stream",
     "text": [
      "[101  20 103 104  30 106 107 109 110] \n",
      " 2952634778896\n",
      "[101  20 103 104  30 106 107 109 110] \n",
      " 2952706929840\n"
     ]
    }
   ],
   "source": [
    "# view method\n",
    "import numpy\n",
    "a = numpy.array([101,0,103,104,0,106,107,109,0])\n",
    "b=a.view()\n",
    "a[1]=20\n",
    "b[4]=30\n",
    "a[8]=110\n",
    "print(a,\"\\n\",id(a))\n",
    "print(b,\"\\n\",id(b))"
   ]
  },
  {
   "cell_type": "code",
   "execution_count": 56,
   "id": "3f323b11",
   "metadata": {},
   "outputs": [
    {
     "name": "stdout",
     "output_type": "stream",
     "text": [
      "[101  20 103 104   0 106 107 109 110] \n",
      " 2506737560720\n",
      "[101   0 103 104  30 106 107 109   0] \n",
      " 2506738138448\n"
     ]
    }
   ],
   "source": [
    "# copy method\n",
    "import numpy\n",
    "a = numpy.array([101,0,103,104,0,106,107,109,0])\n",
    "b=a.copy()\n",
    "a[1]=20\n",
    "b[4]=30\n",
    "a[8]=110\n",
    "print(a,\"\\n\",id(a))\n",
    "print(b,\"\\n\",id(b))"
   ]
  },
  {
   "cell_type": "markdown",
   "id": "3d7b416d",
   "metadata": {},
   "source": [
    "### Getting input from user in Numpy One Dimensional Array using loop Python"
   ]
  },
  {
   "cell_type": "code",
   "execution_count": 81,
   "id": "7b8875f7",
   "metadata": {},
   "outputs": [
    {
     "name": "stdout",
     "output_type": "stream",
     "text": [
      "enter how many eliment you want: 3\n",
      "eliment: 10\n",
      "eliment: 20\n",
      "eliment: 30\n",
      "[10. 20. 30.]\n",
      "after accessing array value\n",
      "10.0\n",
      "20.0\n",
      "30.0\n"
     ]
    }
   ],
   "source": [
    "import numpy\n",
    "n=int(input(\"enter how many eliment you want: \"))\n",
    "a=numpy.zeros(n)\n",
    "for i in range(n):\n",
    "    b=int(input(\"eliment: \"))\n",
    "    a[i]=b\n",
    "print(a)\n",
    "print(\"after accessing array value\")\n",
    "for i in range(n):\n",
    "    print(a[i])"
   ]
  },
  {
   "cell_type": "code",
   "execution_count": 4,
   "id": "f392ac00",
   "metadata": {},
   "outputs": [
    {
     "name": "stdout",
     "output_type": "stream",
     "text": [
      "enter how many eliment you want: 3\n",
      "eliment10\n",
      "eliment20\n",
      "eliment30\n",
      "10\n",
      "20\n",
      "30\n"
     ]
    }
   ],
   "source": [
    "import numpy\n",
    "n=int(input(\"enter how many eliment you want: \"))\n",
    "a=numpy.zeros(n, dtype=int)\n",
    "i=0\n",
    "while i<n:\n",
    "    b=int(input(\"eliment\"))\n",
    "    a[i]=b\n",
    "    i+=1\n",
    "j=0\n",
    "while j<n:\n",
    "    print(a[j])\n",
    "    j+=1"
   ]
  },
  {
   "cell_type": "markdown",
   "id": "f419d6e7",
   "metadata": {},
   "source": [
    "### Two Dimensional Numpy Array using array Function in Python"
   ]
  },
  {
   "cell_type": "code",
   "execution_count": 5,
   "id": "f00e716e",
   "metadata": {},
   "outputs": [
    {
     "name": "stdout",
     "output_type": "stream",
     "text": [
      "70\n"
     ]
    }
   ],
   "source": [
    "import numpy\n",
    "a=numpy.array([[10,20,30,40],\n",
    "              [50,60,70,80]])\n",
    "print(a[1][2])"
   ]
  },
  {
   "cell_type": "code",
   "execution_count": 6,
   "id": "4f13b6f7",
   "metadata": {},
   "outputs": [
    {
     "name": "stdout",
     "output_type": "stream",
     "text": [
      "10\n",
      "20\n",
      "30\n",
      "40\n",
      "50\n",
      "60\n",
      "70\n",
      "80\n"
     ]
    }
   ],
   "source": [
    "import numpy\n",
    "a=numpy.array([[10,20,30,40],\n",
    "              [50,60,70,80]])\n",
    "print(a[0][0])\n",
    "print(a[0][1])\n",
    "print(a[0][2])\n",
    "print(a[0][3])\n",
    "print(a[1][0])\n",
    "print(a[1][1])\n",
    "print(a[1][2])\n",
    "print(a[1][3])"
   ]
  },
  {
   "cell_type": "code",
   "execution_count": 7,
   "id": "a40f4669",
   "metadata": {},
   "outputs": [
    {
     "name": "stdout",
     "output_type": "stream",
     "text": [
      "100\n"
     ]
    }
   ],
   "source": [
    "import numpy\n",
    "a=numpy.array([[10,20,30,40],\n",
    "              [50,60,70,80]])\n",
    "a[1][2]=100\n",
    "print(a[1][2])"
   ]
  },
  {
   "cell_type": "code",
   "execution_count": 8,
   "id": "f8dcd964",
   "metadata": {},
   "outputs": [
    {
     "name": "stdout",
     "output_type": "stream",
     "text": [
      "10.0\n",
      "20.0\n",
      "30.0\n",
      "40.0\n",
      "50.0\n",
      "60.0\n",
      "70.0\n",
      "80.0\n"
     ]
    }
   ],
   "source": [
    "import numpy\n",
    "a=numpy.array([[10,20,30,40],\n",
    "              [50,60,70,80]],dtype=float) # data type change \n",
    "print(a[0][0])\n",
    "print(a[0][1])\n",
    "print(a[0][2])\n",
    "print(a[0][3])\n",
    "print(a[1][0])\n",
    "print(a[1][1])\n",
    "print(a[1][2])\n",
    "print(a[1][3])"
   ]
  },
  {
   "cell_type": "code",
   "execution_count": 9,
   "id": "71977a10",
   "metadata": {},
   "outputs": [
    {
     "name": "stdout",
     "output_type": "stream",
     "text": [
      "10\n",
      "20\n",
      "30\n",
      "40\n",
      "50\n",
      "60\n",
      "70\n",
      "80\n"
     ]
    }
   ],
   "source": [
    "import numpy\n",
    "a=numpy.array([[10,20,30,40],\n",
    "              [50,60,70,80]],dtype=str) # string data type \n",
    "print(a[0][0])\n",
    "print(a[0][1])\n",
    "print(a[0][2])\n",
    "print(a[0][3])\n",
    "print(a[1][0])\n",
    "print(a[1][1])\n",
    "print(a[1][2])\n",
    "print(a[1][3])"
   ]
  },
  {
   "cell_type": "code",
   "execution_count": 10,
   "id": "b50a9518",
   "metadata": {},
   "outputs": [
    {
     "name": "stdout",
     "output_type": "stream",
     "text": [
      "int32\n",
      "10\n",
      "20\n",
      "30\n",
      "40\n",
      "50\n",
      "60\n",
      "70\n",
      "80\n"
     ]
    }
   ],
   "source": [
    "import numpy\n",
    "a=numpy.array([[10,20,30,40],\n",
    "              [50,60,70,80]])\n",
    "print(a.dtype)\n",
    "print(a[0][0])\n",
    "print(a[0][1])\n",
    "print(a[0][2])\n",
    "print(a[0][3])\n",
    "print(a[1][0])\n",
    "print(a[1][1])\n",
    "print(a[1][2])\n",
    "print(a[1][3])"
   ]
  },
  {
   "cell_type": "code",
   "execution_count": 11,
   "id": "2ac1c789",
   "metadata": {},
   "outputs": [
    {
     "name": "stdout",
     "output_type": "stream",
     "text": [
      "float64\n",
      "10.0\n",
      "20.0\n",
      "30.0\n",
      "40.0\n",
      "50.0\n",
      "60.0\n",
      "70.0\n",
      "8.0\n"
     ]
    }
   ],
   "source": [
    "#implcit change data type \n",
    "import numpy\n",
    "a=numpy.array([[10,20,30,40],\n",
    "              [50,60,70,8.0]])\n",
    "print(a.dtype)\n",
    "print(a[0][0])\n",
    "print(a[0][1])\n",
    "print(a[0][2])\n",
    "print(a[0][3])\n",
    "print(a[1][0])\n",
    "print(a[1][1])\n",
    "print(a[1][2])\n",
    "print(a[1][3])"
   ]
  },
  {
   "cell_type": "code",
   "execution_count": 8,
   "id": "526602e6",
   "metadata": {},
   "outputs": [
    {
     "name": "stdout",
     "output_type": "stream",
     "text": [
      "outer loop 0\n",
      "0\n",
      "1\n",
      "2\n",
      "3\n",
      "4\n",
      "5\n",
      "6\n",
      "7\n",
      "8\n",
      "9\n",
      "outer loop 1\n",
      "0\n",
      "1\n",
      "2\n",
      "3\n",
      "4\n",
      "5\n",
      "6\n",
      "7\n",
      "8\n",
      "9\n",
      "outer loop 2\n",
      "0\n",
      "1\n",
      "2\n",
      "3\n",
      "4\n",
      "5\n",
      "6\n",
      "7\n",
      "8\n",
      "9\n",
      "outer loop 3\n",
      "0\n",
      "1\n",
      "2\n",
      "3\n",
      "4\n",
      "5\n",
      "6\n",
      "7\n",
      "8\n",
      "9\n",
      "outer loop 4\n",
      "0\n",
      "1\n",
      "2\n",
      "3\n",
      "4\n",
      "5\n",
      "6\n",
      "7\n",
      "8\n",
      "9\n"
     ]
    }
   ],
   "source": [
    "for i in range(5):\n",
    "    print(\"outer loop\",i)\n",
    "    for j in range(10):\n",
    "        print(j)"
   ]
  },
  {
   "cell_type": "code",
   "execution_count": 13,
   "id": "11344021",
   "metadata": {},
   "outputs": [
    {
     "name": "stdout",
     "output_type": "stream",
     "text": [
      "outer loop  0\n",
      "outer loop  1\n",
      "inner loop =  0\n",
      "outer loop  2\n",
      "inner loop =  0\n",
      "inner loop =  1\n",
      "outer loop  3\n",
      "inner loop =  0\n",
      "inner loop =  1\n",
      "inner loop =  2\n",
      "outer loop  4\n",
      "inner loop =  0\n",
      "inner loop =  1\n",
      "inner loop =  2\n",
      "inner loop =  3\n"
     ]
    }
   ],
   "source": [
    "for i in range(5):\n",
    "    print(\"outer loop \",i)\n",
    "    for j in range(i):\n",
    "        print(\"inner loop = \",j)"
   ]
  },
  {
   "cell_type": "markdown",
   "id": "f4d4fbc4",
   "metadata": {},
   "source": [
    "### Accessing Numpy Two Dimensional Array using for Loop in Python"
   ]
  },
  {
   "cell_type": "code",
   "execution_count": 16,
   "id": "1fad9a8a",
   "metadata": {},
   "outputs": [
    {
     "name": "stdout",
     "output_type": "stream",
     "text": [
      "10\n",
      "20\n",
      "30\n",
      "40\n",
      "\n",
      "50\n",
      "60\n",
      "70\n",
      "80\n",
      "\n"
     ]
    }
   ],
   "source": [
    "# with out index\n",
    "import numpy\n",
    "a=numpy.array([[10,20,30,40],\n",
    "              [50,60,70,80]],dtype=int)\n",
    "for row in a:\n",
    "    for clumn in row:\n",
    "        print(clumn)\n",
    "    print()\n"
   ]
  },
  {
   "cell_type": "markdown",
   "id": "7f29948b",
   "metadata": {},
   "source": [
    "### Accessing Numpy Two Dimensional Array using for Loop in Python with index"
   ]
  },
  {
   "cell_type": "code",
   "execution_count": 27,
   "id": "67947694",
   "metadata": {},
   "outputs": [
    {
     "name": "stdout",
     "output_type": "stream",
     "text": [
      "index a [ 0 ] [ 0 ] = 10\n",
      "index a [ 0 ] [ 1 ] = 20\n",
      "index a [ 0 ] [ 2 ] = 30\n",
      "index a [ 0 ] [ 3 ] = 40\n",
      "index a [ 1 ] [ 0 ] = 50\n",
      "index a [ 1 ] [ 1 ] = 60\n",
      "index a [ 1 ] [ 2 ] = 70\n",
      "index a [ 1 ] [ 3 ] = 80\n"
     ]
    }
   ],
   "source": [
    "# with index \n",
    "import numpy\n",
    "a = numpy.array([[10,20,30,40],\n",
    "                 [50,60,70,80]])\n",
    "n=len(a)\n",
    "# print(n) output: 2 or index number is 0,1\n",
    "for i in range(n):\n",
    "    #print(\"index a\",i,a[i]) output: [10 20 30 40] [50 60 70 80]\n",
    "    for j in range(len(a[i])):\n",
    "        print(\"index a\",\"[\",i,\"]\",\"[\",j,\"]\",\"=\",a[i][j])\n",
    " "
   ]
  },
  {
   "cell_type": "markdown",
   "id": "8900096e",
   "metadata": {},
   "source": [
    "### Accessing Numpy Two Dimensional Array using while Loop in Python"
   ]
  },
  {
   "cell_type": "code",
   "execution_count": 32,
   "id": "22f1a6b4",
   "metadata": {},
   "outputs": [
    {
     "name": "stdout",
     "output_type": "stream",
     "text": [
      "index a [ 0 ] [ 0 ] = 10\n",
      "index a [ 0 ] [ 1 ] = 20\n",
      "index a [ 0 ] [ 2 ] = 30\n",
      "index a [ 0 ] [ 3 ] = 40\n",
      "index a [ 1 ] [ 0 ] = 50\n",
      "index a [ 1 ] [ 1 ] = 60\n",
      "index a [ 1 ] [ 2 ] = 70\n",
      "index a [ 1 ] [ 3 ] = 80\n"
     ]
    }
   ],
   "source": [
    "# accessing with index\n",
    "import numpy\n",
    "a = numpy.array([[10,20,30,40],\n",
    "                 [50,60,70,80]])\n",
    "i=len(a)\n",
    "i=0\n",
    "while i<n:\n",
    "    j=0\n",
    "    while j<len(a[i]):\n",
    "        print(\"index a\",\"[\",i,\"]\",\"[\",j,\"]\",\"=\",a[i][j])\n",
    "        j+=1\n",
    "    i+=1 #nested while loop er first loop(outer loop) increment statment inner loop er pore sothik indention er sathe bosate hoy"
   ]
  },
  {
   "cell_type": "code",
   "execution_count": 37,
   "id": "9e5fc566",
   "metadata": {},
   "outputs": [
    {
     "name": "stdout",
     "output_type": "stream",
     "text": [
      "[1 2 3 4]\n",
      "1\n",
      "2\n",
      "3\n",
      "4\n",
      "[5 6 7 8]\n",
      "5\n",
      "6\n",
      "7\n",
      "8\n"
     ]
    }
   ],
   "source": [
    "# accessing with out index\n",
    "import numpy \n",
    "a = numpy.array([[1,2,3,4],[5,6,7,8]])\n",
    "n=len(a)\n",
    "i=0\n",
    "while i<n:\n",
    "    print(a[i])\n",
    "    j=0\n",
    "    while j<len(a[i]):\n",
    "        print(a[i][j])\n",
    "        j+=1\n",
    "    i+=1\n",
    "#when you used while loop then accessing 2d array with out index is not possibel"
   ]
  },
  {
   "cell_type": "code",
   "execution_count": 43,
   "id": "313415e5",
   "metadata": {},
   "outputs": [
    {
     "name": "stdout",
     "output_type": "stream",
     "text": [
      "0\n",
      "0\n",
      "0\n",
      "0\n",
      "0\n",
      "0\n",
      "0\n",
      "0\n",
      "0\n",
      "0\n",
      "0\n",
      "0\n",
      "[[0 0 0 0]\n",
      " [0 0 0 0]\n",
      " [0 0 0 0]]\n"
     ]
    }
   ],
   "source": [
    "import numpy\n",
    "a=numpy.zeros((3,4),dtype=int)\n",
    "n=len(a)\n",
    "for i in range(n):\n",
    "    for j in range(len(a[i])):\n",
    "        print(a[i][j])\n",
    "print(a)"
   ]
  },
  {
   "cell_type": "code",
   "execution_count": 44,
   "id": "3b82b45c",
   "metadata": {},
   "outputs": [
    {
     "name": "stdout",
     "output_type": "stream",
     "text": [
      "0\n",
      "0\n",
      "0\n",
      "0\n",
      "0\n",
      "0\n",
      "0\n",
      "0\n",
      "0\n",
      "0\n",
      "0\n",
      "0\n"
     ]
    }
   ],
   "source": [
    "#with out index\n",
    "import numpy\n",
    "a=numpy.zeros((3,4),dtype=int)\n",
    "for i in a:\n",
    "    for j in i:\n",
    "        print(j)"
   ]
  },
  {
   "cell_type": "markdown",
   "id": "2948ccd1",
   "metadata": {},
   "source": [
    "### ones() funtion using creating 2d array"
   ]
  },
  {
   "cell_type": "code",
   "execution_count": 48,
   "id": "1ef5d307",
   "metadata": {},
   "outputs": [
    {
     "name": "stdout",
     "output_type": "stream",
     "text": [
      "[[1 1 1]\n",
      " [1 1 1]\n",
      " [1 1 1]]\n"
     ]
    }
   ],
   "source": [
    "import numpy as np\n",
    "a=np.ones((3,3),dtype=int)\n",
    "print(a)"
   ]
  },
  {
   "cell_type": "code",
   "execution_count": 50,
   "id": "9c3d2b1a",
   "metadata": {},
   "outputs": [
    {
     "name": "stdout",
     "output_type": "stream",
     "text": [
      "1\n",
      "1\n",
      "1\n",
      "1\n",
      "1\n",
      "1\n",
      "1\n",
      "1\n",
      "1\n"
     ]
    }
   ],
   "source": [
    "#accessing array using loop\n",
    "import numpy as np\n",
    "a= np.ones((3,3),dtype=int)\n",
    "for r in a:\n",
    "    for j in r:\n",
    "        print(j)"
   ]
  },
  {
   "cell_type": "code",
   "execution_count": 55,
   "id": "9f8bcea9",
   "metadata": {},
   "outputs": [
    {
     "name": "stdout",
     "output_type": "stream",
     "text": [
      "1\n",
      "1\n",
      "1\n",
      "1\n",
      "1\n",
      "1\n",
      "1\n",
      "1\n",
      "1\n"
     ]
    }
   ],
   "source": [
    "import numpy as np\n",
    "a= np.ones((3,3),dtype=int)\n",
    "n=len(a)\n",
    "for i in range(n):\n",
    "    for j in range(len(a[i])):\n",
    "        print(a[i][j])"
   ]
  },
  {
   "cell_type": "markdown",
   "id": "a37b4237",
   "metadata": {},
   "source": [
    "## reshape Function and flatten Method in Python"
   ]
  },
  {
   "cell_type": "code",
   "execution_count": 59,
   "id": "5f2785cf",
   "metadata": {},
   "outputs": [
    {
     "name": "stdout",
     "output_type": "stream",
     "text": [
      "[[ 1  2  3  4  5  6]\n",
      " [ 7  8  9 10 11 12]]\n"
     ]
    }
   ],
   "source": [
    "# 1d to 2d convertion\n",
    "import numpy as np\n",
    "a= np.array([1,2,3,4,5,6,7,8,9,10,11,12])\n",
    "b=np.reshape(a,(2,6)) # here need accurate shape value\n",
    "print(b)"
   ]
  },
  {
   "cell_type": "code",
   "execution_count": 60,
   "id": "9357e307",
   "metadata": {},
   "outputs": [
    {
     "name": "stdout",
     "output_type": "stream",
     "text": [
      "[[[ 1  2]\n",
      "  [ 3  4]\n",
      "  [ 5  6]]\n",
      "\n",
      " [[ 7  8]\n",
      "  [ 9 10]\n",
      "  [11 12]]]\n"
     ]
    }
   ],
   "source": [
    "# 1d to 3d convertion\n",
    "import numpy as np\n",
    "a= np.array([1,2,3,4,5,6,7,8,9,10,11,12])\n",
    "b=np.reshape(a,(2,3,2))\n",
    "print(b)"
   ]
  },
  {
   "cell_type": "code",
   "execution_count": 62,
   "id": "f86b80ea",
   "metadata": {},
   "outputs": [
    {
     "name": "stdout",
     "output_type": "stream",
     "text": [
      "[1 2 3 4 5 6 6 7]\n"
     ]
    }
   ],
   "source": [
    "# 2d to 1d convertion \n",
    "import numpy as np\n",
    "a=np.array([[1,2,3,4],[5,6,6,7]])\n",
    "d=np.reshape(a,(8))\n",
    "print(d)"
   ]
  },
  {
   "cell_type": "code",
   "execution_count": 67,
   "id": "51a91666",
   "metadata": {},
   "outputs": [
    {
     "name": "stdout",
     "output_type": "stream",
     "text": [
      "[ 1  2  3  4  5  6  7  8  9 10 11 12]\n"
     ]
    }
   ],
   "source": [
    "#3d to 1d\n",
    "import numpy as np\n",
    "a=np.array([[[ 1,2],\n",
    "              [ 3,4],\n",
    "              [ 5,6]],\n",
    "             [[ 7,8],\n",
    "              [ 9,10],\n",
    "              [11,12]]])\n",
    "b = np.reshape(a,(12))\n",
    "print(b)"
   ]
  },
  {
   "cell_type": "code",
   "execution_count": 70,
   "id": "0ce684ab",
   "metadata": {},
   "outputs": [
    {
     "name": "stdout",
     "output_type": "stream",
     "text": [
      "[1 2 3 4 5 6 6 7]\n"
     ]
    }
   ],
   "source": [
    "# using flatten() funtion\n",
    "import numpy as np\n",
    "a=np.array([[1,2,3,4],[5,6,6,7]])\n",
    "d=a.flatten()\n",
    "print(d)"
   ]
  },
  {
   "cell_type": "markdown",
   "id": "9d987fe5",
   "metadata": {},
   "source": [
    "## Input from User in Numpy Two Dimensional Array using for Loop in Python "
   ]
  },
  {
   "cell_type": "code",
   "execution_count": 2,
   "id": "71f0cb48",
   "metadata": {},
   "outputs": [
    {
     "name": "stdout",
     "output_type": "stream",
     "text": [
      "enter how many row you want to2\n",
      "ente how many column you want to 2\n",
      "[[0. 0.]\n",
      " [0. 0.]]\n",
      "enter the element1\n",
      "enter the element2\n",
      "enter the element3\n",
      "enter the element4\n",
      "[[1. 2.]\n",
      " [3. 4.]]\n"
     ]
    }
   ],
   "source": [
    "import numpy\n",
    "m=int(input(\"enter how many row you want to\"))\n",
    "n=int(input(\"ente how many column you want to \"))\n",
    "a=numpy.zeros((m,n))\n",
    "print(a)\n",
    "u=len(a)\n",
    "for i in range(u):\n",
    "    for j in range(len(a[i])):\n",
    "        x=int(input(\"enter the element\"))\n",
    "        a[i][j]=x\n",
    "print(a)\n",
    "#for i in range(u):\n",
    " #   for j in range(len(a[i])):\n",
    " #       print(a[i][j])"
   ]
  },
  {
   "cell_type": "code",
   "execution_count": 76,
   "id": "663d2660",
   "metadata": {},
   "outputs": [
    {
     "name": "stdout",
     "output_type": "stream",
     "text": [
      "enter how many row you want to3\n",
      "ente how many column you want to 2\n",
      "[[0. 0.]\n",
      " [0. 0.]\n",
      " [0. 0.]]\n",
      "enter the element1\n",
      "enter the element2\n",
      "enter the element3\n",
      "enter the element4\n",
      "enter the element5\n",
      "enter the element6\n",
      "[[1. 2.]\n",
      " [3. 4.]\n",
      " [5. 6.]]\n",
      "1.0\n",
      "2.0\n",
      "3.0\n",
      "4.0\n",
      "5.0\n",
      "6.0\n"
     ]
    }
   ],
   "source": [
    "# with out index\n",
    "import numpy\n",
    "m=int(input(\"enter how many row you want to\"))\n",
    "n=int(input(\"ente how many column you want to \"))\n",
    "a=numpy.zeros((m,n))\n",
    "print(a)\n",
    "u=len(a)\n",
    "for i in range(u):\n",
    "    for j in range(len(a[i])):\n",
    "        x=int(input(\"enter the element\"))\n",
    "        a[i][j]=x\n",
    "print(a)\n",
    "for r in a:\n",
    "    for c in r:\n",
    "        print(c)"
   ]
  },
  {
   "cell_type": "markdown",
   "id": "97740298",
   "metadata": {},
   "source": [
    "## Input from User in Numpy Two Dimensional Array using while Loop in Python"
   ]
  },
  {
   "cell_type": "code",
   "execution_count": 81,
   "id": "85c5470e",
   "metadata": {},
   "outputs": [
    {
     "name": "stdout",
     "output_type": "stream",
     "text": [
      "enter how many row you want to3\n",
      "ente how many column you want to 2\n",
      "[[0 0]\n",
      " [0 0]\n",
      " [0 0]]\n"
     ]
    }
   ],
   "source": [
    "import numpy\n",
    "m=int(input(\"enter how many row you want to\"))\n",
    "n=int(input(\"ente how many column you want to \"))\n",
    "a=numpy.zeros((m,n),dtype=int)\n",
    "u=len(a)\n",
    "i=0\n",
    "while i<u:\n",
    "    while j<len(a[i]):\n",
    "        x=int(input(\"element\"))\n",
    "        a[i][j]=x\n",
    "        j+=1\n",
    "    i+=1\n",
    "print(a)"
   ]
  },
  {
   "cell_type": "markdown",
   "id": "de5580fd",
   "metadata": {},
   "source": [
    "### Slicing on Two Dimensional Array in Python "
   ]
  },
  {
   "cell_type": "code",
   "execution_count": 10,
   "id": "69f42114",
   "metadata": {},
   "outputs": [
    {
     "name": "stdout",
     "output_type": "stream",
     "text": [
      "orginal array\n",
      "[[1 2 3]\n",
      " [4 5 6]\n",
      " [7 8 9]]\n",
      "after slicing\n",
      "[[1]]\n"
     ]
    }
   ],
   "source": [
    "import numpy\n",
    "a= numpy.array([[1,2,3],\n",
    "               [4,5,6],\n",
    "               [7,8,9]])\n",
    "print(\"orginal array\")\n",
    "print(a)\n",
    "print(\"after slicing\")\n",
    "n=a[0:1,0:1]\n",
    "print(n)"
   ]
  },
  {
   "cell_type": "code",
   "execution_count": 19,
   "id": "5ed7e5fb",
   "metadata": {},
   "outputs": [
    {
     "name": "stdout",
     "output_type": "stream",
     "text": [
      "enter the number of row2\n",
      "enter the number of column3\n",
      "element1\n",
      "element2\n",
      "element3\n",
      "element4\n",
      "element5\n",
      "element6\n",
      "1.0\n",
      "2.0\n",
      "3.0\n",
      "4.0\n",
      "5.0\n",
      "6.0\n"
     ]
    }
   ],
   "source": [
    "# only practis \n",
    "import numpy\n",
    "m=int(input(\"enter the number of row\"))\n",
    "n=int(input(\"enter the number of column\"))\n",
    "a=numpy.zeros((m,n))\n",
    "b=len(a)\n",
    "for i in range(b):\n",
    "    for j in range(len(a[i])):\n",
    "        x=(input(\"element\"))\n",
    "        a[i][j]=x\n",
    "for i in range(b):\n",
    "    for j in range(len(a[i])):\n",
    "        print(a[i][j])\n",
    "            "
   ]
  },
  {
   "cell_type": "code",
   "execution_count": null,
   "id": "db541124",
   "metadata": {},
   "outputs": [],
   "source": []
  }
 ],
 "metadata": {
  "kernelspec": {
   "display_name": "Python 3 (ipykernel)",
   "language": "python",
   "name": "python3"
  },
  "language_info": {
   "codemirror_mode": {
    "name": "ipython",
    "version": 3
   },
   "file_extension": ".py",
   "mimetype": "text/x-python",
   "name": "python",
   "nbconvert_exporter": "python",
   "pygments_lexer": "ipython3",
   "version": "3.9.12"
  },
  "widgets": {
   "application/vnd.jupyter.widget-state+json": {
    "state": {},
    "version_major": 2,
    "version_minor": 0
   }
  }
 },
 "nbformat": 4,
 "nbformat_minor": 5
}
