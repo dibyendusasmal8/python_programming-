{
 "cells": [
  {
   "cell_type": "code",
   "execution_count": 10,
   "id": "3f5f144f",
   "metadata": {},
   "outputs": [],
   "source": [
    "# this program for understanding about constructor .\n",
    "class Ttm:\n",
    "    def __init__(self): # __init__ is a consructor\n",
    "        print(\"hello\")\n",
    "        "
   ]
  },
  {
   "cell_type": "code",
   "execution_count": 11,
   "id": "9274fa15",
   "metadata": {},
   "outputs": [
    {
     "name": "stdout",
     "output_type": "stream",
     "text": [
      "hello\n"
     ]
    }
   ],
   "source": [
    "a=Ttm()"
   ]
  },
  {
   "cell_type": "code",
   "execution_count": 2,
   "id": "16f4df8b",
   "metadata": {},
   "outputs": [],
   "source": [
    "class Atm:\n",
    "    def __init__(self):\n",
    "        self.pin = \"\"\n",
    "        self.balance=0\n",
    "        self.menu()\n",
    "    def menu(self):\n",
    "        user_input=input(\"\"\"\n",
    "                    hello, how would you like to proceed?\n",
    "                    1 enter 1 to creat pin\n",
    "                    2 enter 2 to deposit \n",
    "                    3 enter 3 to check balance\n",
    "                    4 enter 4 to withdraw \n",
    "                    5 enter 5 to exit\n",
    "\"\"\")\n",
    "        \n",
    "        if user_input == \"1\":\n",
    "            self.creat_pin()\n",
    "        elif user_input == \"2\":\n",
    "            self.deposite()\n",
    "        elif user_input == \"3\":\n",
    "            self.check_balance()\n",
    "        elif user_input == \"4\":\n",
    "            self.withdra()\n",
    "        elif user_input == \"5\":\n",
    "            print(\"bye\")\n",
    "            \n",
    "    def creat_pin(self):\n",
    "        self.pin = input(\"enter your pin\")\n",
    "        print(\"pin set successfully\")\n",
    "    def deposite(self):\n",
    "        temp = input(\"enter your pin\")\n",
    "        if temp == self.pin:\n",
    "            amount = int(input(\"Enter the amount\"))\n",
    "            self.balance=self.balance + amount\n",
    "            print(\"deposit successful\")\n",
    "        else:\n",
    "            print(\"invalid pin\")\n",
    "    def withdra(self):\n",
    "        temp = input(\"enter your pin\")\n",
    "        if temp == self.pin:\n",
    "            amount = int(input(\"Enter the amount\"))\n",
    "            if amount < self.balance :\n",
    "                self.balance = self.balance - amount\n",
    "                print(\"oparation succefull\")\n",
    "            else:\n",
    "                print(\" insufficient fund \")\n",
    "        else:\n",
    "            print(\"invalide pin\")\n",
    "            \n",
    "    def check_balance(self):\n",
    "        temp = input(\"enter your pin\")\n",
    "        if temp == self.pin:\n",
    "            print(self.balance)\n",
    "        else:\n",
    "            print(\"invalid pin\")\n",
    "        \n",
    "                \n",
    "            \n"
   ]
  },
  {
   "cell_type": "code",
   "execution_count": null,
   "id": "2659d6fe",
   "metadata": {},
   "outputs": [
    {
     "name": "stdout",
     "output_type": "stream",
     "text": [
      "\n",
      "                    hello, how would you like to proceed?\n",
      "                    1 enter 1 to creat pin\n",
      "                    2 enter 2 to deposit \n",
      "                    3 enter 3 to check balance\n",
      "                    4 enter 4 to withdraw \n",
      "                    5 enter 5 to exit\n",
      "1234\n",
      "enter your pin1234\n",
      "invalid pin\n",
      "enter your pin1234\n",
      "invalide pin\n"
     ]
    }
   ],
   "source": [
    "sbi = Atm()\n",
    "\n",
    "sbi.deposite()\n",
    "sbi.withdra()\n",
    "sbi.check_balance()"
   ]
  },
  {
   "cell_type": "code",
   "execution_count": 3,
   "id": "39db24f3",
   "metadata": {},
   "outputs": [
    {
     "name": "stdout",
     "output_type": "stream",
     "text": [
      "\n",
      "                    hello, how would you like to proceed?\n",
      "                    1 enter 1 to creat pin\n",
      "                    2 enter 2 to deposit \n",
      "                    3 enter 3 to check balance\n",
      "                    4 enter 4 to withdraw \n",
      "                    5 enter 5 to exit\n",
      "1\n",
      "enter your pin4145\n",
      "pin set successfully\n",
      "enter your pin4145\n",
      "Enter the amount8000\n",
      "deposit successful\n",
      "enter your pin622\n",
      "invalide pin\n",
      "enter your pin4145\n",
      "8000\n"
     ]
    }
   ],
   "source": [
    "hdfc = Atm()\n",
    "hdfc.deposite()\n",
    "hdfc.withdra()\n",
    "hdfc.check_balance()"
   ]
  },
  {
   "cell_type": "code",
   "execution_count": null,
   "id": "6bb0a729",
   "metadata": {},
   "outputs": [],
   "source": []
  }
 ],
 "metadata": {
  "kernelspec": {
   "display_name": "Python 3 (ipykernel)",
   "language": "python",
   "name": "python3"
  },
  "language_info": {
   "codemirror_mode": {
    "name": "ipython",
    "version": 3
   },
   "file_extension": ".py",
   "mimetype": "text/x-python",
   "name": "python",
   "nbconvert_exporter": "python",
   "pygments_lexer": "ipython3",
   "version": "3.9.12"
  }
 },
 "nbformat": 4,
 "nbformat_minor": 5
}
