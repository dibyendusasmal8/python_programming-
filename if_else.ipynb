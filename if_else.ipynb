{
 "cells": [
  {
   "cell_type": "code",
   "execution_count": 8,
   "id": "544b94a0",
   "metadata": {},
   "outputs": [
    {
     "name": "stdout",
     "output_type": "stream",
     "text": [
      "enter your emaildibyendu@gmail.com\n",
      "enter your password12345\n",
      "welcome back\n"
     ]
    }
   ],
   "source": [
    "# email input program\n",
    "# right email is dibyendu@gmail.com and password = 12345\n",
    "email = input(\"enter your email\")\n",
    "if \"@\" in email:\n",
    "    password = input(\"enter your password\")\n",
    "    if email == \"dibyendu@gmail.com\" and password == \"12345\":\n",
    "        print (\"welcome back\")\n",
    "    elif email == \"dibyendu@gmail.com\" and password != \"12345\":\n",
    "        print(\"enter courrect password \")\n",
    "        password = input(\"reenter password \")\n",
    "        if password == \"12345\":\n",
    "            print(\"wellcome\")\n",
    "        else:\n",
    "            print(\"still incorrect \")\n",
    "\n",
    "    else:\n",
    "        print(\"enter right email and password \")\n",
    "else:\n",
    "    print(\"this is not right email\")"
   ]
  },
  {
   "cell_type": "code",
   "execution_count": null,
   "id": "e586495a",
   "metadata": {},
   "outputs": [],
   "source": []
  }
 ],
 "metadata": {
  "kernelspec": {
   "display_name": "Python 3 (ipykernel)",
   "language": "python",
   "name": "python3"
  },
  "language_info": {
   "codemirror_mode": {
    "name": "ipython",
    "version": 3
   },
   "file_extension": ".py",
   "mimetype": "text/x-python",
   "name": "python",
   "nbconvert_exporter": "python",
   "pygments_lexer": "ipython3",
   "version": "3.9.12"
  }
 },
 "nbformat": 4,
 "nbformat_minor": 5
}
