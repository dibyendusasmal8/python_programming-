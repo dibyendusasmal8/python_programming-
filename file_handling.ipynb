{
 "cells": [
  {
   "cell_type": "markdown",
   "id": "0fc1ce41",
   "metadata": {},
   "source": [
    "### Some Theory\n",
    "\n",
    "##### Types of data used for I/O:\n",
    "- Text - '12345' as a sequence of unicode chars\n",
    "- Binary - 12345 as a sequence of bytes of its binary equivalent\n",
    "\n",
    "##### Hence there are 2 file types to deal with\n",
    "- Text files - All program files are text files\n",
    "- Binary Files - Images,music,video,exe files"
   ]
  },
  {
   "cell_type": "markdown",
   "id": "80e79736",
   "metadata": {},
   "source": [
    "### How File I/O is done in most programming languages\n",
    "\n",
    "- Open a file\n",
    "- Read/Write data\n",
    "- Close the file"
   ]
  },
  {
   "cell_type": "markdown",
   "id": "471db15d",
   "metadata": {},
   "source": [
    "### Writing to a file"
   ]
  },
  {
   "cell_type": "code",
   "execution_count": 2,
   "id": "78359c11",
   "metadata": {},
   "outputs": [
    {
     "ename": "ValueError",
     "evalue": "I/O operation on closed file.",
     "output_type": "error",
     "traceback": [
      "\u001b[1;31m---------------------------------------------------------------------------\u001b[0m",
      "\u001b[1;31mValueError\u001b[0m                                Traceback (most recent call last)",
      "Input \u001b[1;32mIn [2]\u001b[0m, in \u001b[0;36m<cell line: 6>\u001b[1;34m()\u001b[0m\n\u001b[0;32m      4\u001b[0m f\u001b[38;5;241m.\u001b[39mclose()\n\u001b[0;32m      5\u001b[0m \u001b[38;5;66;03m# since file is closed hence this will not work\u001b[39;00m\n\u001b[1;32m----> 6\u001b[0m \u001b[43mf\u001b[49m\u001b[38;5;241;43m.\u001b[39;49m\u001b[43mwrite\u001b[49m\u001b[43m(\u001b[49m\u001b[38;5;124;43m'\u001b[39;49m\u001b[38;5;124;43mhello\u001b[39;49m\u001b[38;5;124;43m'\u001b[39;49m\u001b[43m)\u001b[49m\n",
      "\u001b[1;31mValueError\u001b[0m: I/O operation on closed file."
     ]
    }
   ],
   "source": [
    "# case 1 - if the file is not present\n",
    "f = open('sampel.tex','w')\n",
    "f.write('Hello world')\n",
    "f.close()\n",
    "# since file is closed hence this will not work\n",
    "f.write('hello')"
   ]
  },
  {
   "cell_type": "code",
   "execution_count": null,
   "id": "91baa323",
   "metadata": {},
   "outputs": [],
   "source": [
    "f = open('file_text/sample1.txt','w')\n",
    "f.write('hello world')\n",
    "f.write('\\nhow are you?')\n",
    "f.close()"
   ]
  },
  {
   "cell_type": "code",
   "execution_count": null,
   "id": "e2f72473",
   "metadata": {},
   "outputs": [],
   "source": [
    "# case 2 - if the file is already present\n",
    "f = open('file_text/sample.txt','w')\n",
    "f.write('salman khan')\n",
    "f.close()"
   ]
  },
  {
   "cell_type": "markdown",
   "id": "dfc2cc6d",
   "metadata": {},
   "source": [
    "### how exactly open() works?\n",
    "In Python, the <b>open()</b> function is used to <b>open</b> a file and return a file object, which can be used to read from or write to the file. The basic syntax of the <b>open()</b> function "
   ]
  },
  {
   "cell_type": "code",
   "execution_count": null,
   "id": "d22796ca",
   "metadata": {},
   "outputs": [],
   "source": [
    "# Problem with w mode\n",
    "# introducing append mode\n",
    "f = open('file_text/sample1.txt','a')\n",
    "f.write('\\nI am fine')\n",
    "f.close()"
   ]
  },
  {
   "cell_type": "code",
   "execution_count": null,
   "id": "ea485e5c",
   "metadata": {},
   "outputs": [],
   "source": [
    "# write lines\n",
    "L = ['hello\\n','hi\\n','how are you\\n','I am fine']\n",
    "\n",
    "f = open('file_text/sample.txt','w')\n",
    "f.writelines(L)\n",
    "f.close()"
   ]
  },
  {
   "cell_type": "code",
   "execution_count": null,
   "id": "7dfad5a8",
   "metadata": {},
   "outputs": [],
   "source": [
    "# wirite multiple lines \n",
    "l = ['hi\\n','i am\\n','dibyendu sasmal\\n','what about you']\n",
    "f = open('file_text/sample.txt','w')\n",
    "f.writelines(l)\n",
    "f.close()"
   ]
  },
  {
   "cell_type": "code",
   "execution_count": null,
   "id": "cedae649",
   "metadata": {},
   "outputs": [],
   "source": [
    "# reading from files\n",
    "# -> using read()\n",
    "f = open('file_text/sample.txt','r')\n",
    "s = f.read()\n",
    "print(s)\n",
    "f.close()"
   ]
  },
  {
   "cell_type": "code",
   "execution_count": null,
   "id": "2aa06771",
   "metadata": {},
   "outputs": [],
   "source": [
    "# reading upto n chars\n",
    "f = open('file_text/sample.txt','r')\n",
    "s = f.read(10)\n",
    "print(s)\n",
    "f.close()"
   ]
  },
  {
   "cell_type": "code",
   "execution_count": null,
   "id": "63339c2e",
   "metadata": {},
   "outputs": [],
   "source": [
    "# readline() -> to read line by line\n",
    "f = open('file_text/sample.txt','r')\n",
    "print(f.readline())\n",
    "print(f.readline())\n",
    "f.close()"
   ]
  },
  {
   "cell_type": "code",
   "execution_count": null,
   "id": "d9f13c85",
   "metadata": {},
   "outputs": [],
   "source": [
    "# readline() -> to read line by line\n",
    "f = open('file_text/sample.txt','r')\n",
    "print(f.readline(),end='')\n",
    "print(f.readline(),end='')\n",
    "f.close()"
   ]
  },
  {
   "cell_type": "code",
   "execution_count": null,
   "id": "3f7b5f62",
   "metadata": {},
   "outputs": [],
   "source": [
    "f = open('file_text/sample.txt','r')\n",
    "while f.readline()!='':\n",
    "    print(f.readline())\n",
    "f.close()"
   ]
  },
  {
   "cell_type": "code",
   "execution_count": null,
   "id": "15474c59",
   "metadata": {},
   "outputs": [],
   "source": [
    "# reading entire using readline\n",
    "f = open('/content/sample.txt','r')\n",
    "\n",
    "while True:\n",
    "\n",
    "  data = f.readline()\n",
    "\n",
    "  if data == '':\n",
    "    break\n",
    "  else:\n",
    "    print(data,end='')\n",
    "\n",
    "f.close()"
   ]
  },
  {
   "cell_type": "markdown",
   "id": "035fa20d",
   "metadata": {},
   "source": [
    "### Using Context Manager (With)\n",
    "\n",
    "- It's a good idea to close a file after usage as it will free up the resources\n",
    "- If we dont close it, garbage collector would close it\n",
    "- with keyword closes the file as soon as the usage is over"
   ]
  },
  {
   "cell_type": "code",
   "execution_count": 2,
   "id": "d2267890",
   "metadata": {},
   "outputs": [],
   "source": [
    "# with\n",
    "with open('file_text/sample2.txt','w') as f:\n",
    "    f.write('selmon bhai')"
   ]
  },
  {
   "cell_type": "code",
   "execution_count": 3,
   "id": "17123942",
   "metadata": {},
   "outputs": [
    {
     "ename": "ValueError",
     "evalue": "I/O operation on closed file.",
     "output_type": "error",
     "traceback": [
      "\u001b[1;31m---------------------------------------------------------------------------\u001b[0m",
      "\u001b[1;31mValueError\u001b[0m                                Traceback (most recent call last)",
      "Input \u001b[1;32mIn [3]\u001b[0m, in \u001b[0;36m<cell line: 2>\u001b[1;34m()\u001b[0m\n\u001b[0;32m      1\u001b[0m \u001b[38;5;66;03m# it's automaticaly call close funtion\u001b[39;00m\n\u001b[1;32m----> 2\u001b[0m \u001b[43mf\u001b[49m\u001b[38;5;241;43m.\u001b[39;49m\u001b[43mwrite\u001b[49m\u001b[43m(\u001b[49m\u001b[38;5;124;43m'\u001b[39;49m\u001b[38;5;124;43mhello\u001b[39;49m\u001b[38;5;124;43m'\u001b[39;49m\u001b[43m)\u001b[49m\n",
      "\u001b[1;31mValueError\u001b[0m: I/O operation on closed file."
     ]
    }
   ],
   "source": [
    "# it's automaticaly call close funtion\n",
    "f.write('hello')"
   ]
  },
  {
   "cell_type": "code",
   "execution_count": 5,
   "id": "31722143",
   "metadata": {},
   "outputs": [
    {
     "name": "stdout",
     "output_type": "stream",
     "text": [
      "hi\n",
      "\n"
     ]
    }
   ],
   "source": [
    "# try f.read() now\n",
    "with open('file_text/sample.txt','r') as f:\n",
    "    print(f.readline())"
   ]
  },
  {
   "cell_type": "code",
   "execution_count": 7,
   "id": "f037b2c4",
   "metadata": {},
   "outputs": [
    {
     "name": "stdout",
     "output_type": "stream",
     "text": [
      "hi\n",
      "i am\n",
      "di\n",
      "byendu sas\n",
      "mal\n",
      "what a\n",
      "bout you\n"
     ]
    }
   ],
   "source": [
    "# moving within a file -> 10 char then 10 char\n",
    "with open('file_text/sample.txt','r') as f:   \n",
    "    print(f.read(10))\n",
    "    print(f.read(10))\n",
    "    print(f.read(10))\n",
    "    print(f.read(10))"
   ]
  },
  {
   "cell_type": "code",
   "execution_count": 8,
   "id": "08d76ad4",
   "metadata": {},
   "outputs": [],
   "source": [
    "# benefit? -> to load a big file in memory\n",
    "big_L = ['hello world ' for i in range(1000)]\n",
    "\n",
    "with open('file_text/big.txt','w') as f:\n",
    "    f.writelines(big_L)\n"
   ]
  },
  {
   "cell_type": "code",
   "execution_count": 10,
   "id": "ee8b7881",
   "metadata": {},
   "outputs": [
    {
     "name": "stdout",
     "output_type": "stream",
     "text": [
      "o world hello world hello world hello world hello world hello world hello world hello world hello wo\n",
      "o world hello world hello world hello world hello world hello world hello world hello world hello wo\n",
      "o world hello world hello world hello world hello world hello world hello world hello world hello wo\n",
      "o world hello world hello world hello world hello world hello world hello world hello world hello wo\n",
      "o world hello world hello world hello world hello world hello world hello world hello world hello wo\n",
      "o world hello world hello world hello world hello world hello world hello world hello world hello wo\n",
      "o world hello world hello world hello world hello world hello world hello world hello world hello wo\n",
      "o world hello world hello world hello world hello world hello world hello world hello world hello wo\n",
      "o world hello world hello world hello world hello world hello world hello world hello world hello wo\n",
      "o world hello world hello world hello world hello world hello world hello world hello world hello wo\n",
      "o world hello world hello world hello world hello world hello world hello world hello world hello wo\n",
      "o world hello world hello world hello world hello world hello world hello world hello world hello wo\n",
      "o world hello world hello world hello world hello world hello world hello world hello world hello wo\n",
      "o world hello world hello world hello world hello world hello world hello world hello world hello wo\n",
      "o world hello world hello world hello world hello world hello world hello world hello world hello wo\n",
      "o world hello world hello world hello world hello world hello world hello world hello world hello wo\n",
      "o world hello world hello world hello world hello world hello world hello world hello world hello wo\n",
      "o world hello world hello world hello world hello world hello world hello world hello world hello wo\n",
      "o world hello world hello world hello world hello world hello world hello world hello world hello wo\n",
      "o world hello world hello world hello world hello world hello world hello world hello world hello wo\n",
      "o world hello world hello world hello world hello world hello world hello world hello world hello wo\n",
      "o world hello world hello world hello world hello world hello world hello world hello world hello wo\n",
      "o world hello world hello world hello world hello world hello world hello world hello world hello wo\n",
      "o world hello world hello world hello world hello world hello world hello world hello world hello wo\n",
      "o world hello world hello world hello world hello world hello world hello world hello world hello wo\n",
      "o world hello world hello world hello world hello world hello world hello world hello world hello wo\n",
      "o world hello world hello world hello world hello world hello world hello world hello world hello wo\n",
      "o world hello world hello world hello world hello world hello world hello world hello world hello wo\n",
      "o world hello world hello world hello world hello world hello world hello world hello world hello wo\n",
      "o world hello world hello world hello world hello world hello world hello world hello world hello wo\n",
      "o world hello world hello world hello world hello world hello world hello world hello world hello wo\n",
      "o world hello world hello world hello world hello world hello world hello world hello world hello wo\n",
      "o world hello world hello world hello world hello world hello world hello world hello world hello wo\n",
      "o world hello world hello world hello world hello world hello world hello world hello world hello wo\n",
      "o world hello world hello world hello world hello world hello world hello world hello world hello wo\n",
      "o world hello world hello world hello world hello world hello world hello world hello world hello wo\n",
      "o world hello world hello world hello world hello world hello world hello world hello world hello wo\n",
      "o world hello world hello world hello world hello world hello world hello world hello world hello wo\n",
      "o world hello world hello world hello world hello world hello world hello world hello world hello wo\n",
      "o world hello world hello world hello world hello world hello world hello world hello world hello wo\n"
     ]
    }
   ],
   "source": [
    "with open('file_text/big.txt','r') as f:\n",
    "\n",
    "    chunk_size = 100\n",
    "\n",
    "    while len(f.read(chunk_size)) > 0:\n",
    "        print(f.read(chunk_size))\n",
    "        f.read(chunk_size)"
   ]
  },
  {
   "cell_type": "code",
   "execution_count": 12,
   "id": "90c538c4",
   "metadata": {},
   "outputs": [
    {
     "name": "stdout",
     "output_type": "stream",
     "text": [
      "d hello wo***o world he***d hello wo***o world he***d hello wo***o world he***d hello wo***o world he***d hello wo***o world he***d hello wo***o world he***d hello wo***o world he***d hello wo***o world he***d hello wo***o world he***d hello wo***o world he***d hello wo***o world he***d hello wo***o world he***d hello wo***o world he***d hello wo***o world he***d hello wo***o world he***d hello wo***o world he***d hello wo***o world he***d hello wo***o world he***d hello wo***o world he***d hello wo***o world he***d hello wo***o world he***d hello wo***o world he***d hello wo***o world he***d hello wo***o world he***d hello wo***o world he***d hello wo***o world he***d hello wo***o world he***d hello wo***o world he***d hello wo***o world he***d hello wo***o world he***d hello wo***o world he***d hello wo***o world he***d hello wo***o world he***d hello wo***o world he***d hello wo***o world he***d hello wo***o world he***d hello wo***o world he***d hello wo***o world he***d hello wo***o world he***d hello wo***o world he***d hello wo***o world he***d hello wo***o world he***d hello wo***o world he***d hello wo***o world he***d hello wo***o world he***d hello wo***o world he***d hello wo***o world he***d hello wo***o world he***d hello wo***o world he***d hello wo***o world he***d hello wo***o world he***d hello wo***o world he***d hello wo***o world he***d hello wo***o world he***d hello wo***o world he***d hello wo***o world he***d hello wo***o world he***d hello wo***o world he***d hello wo***o world he***d hello wo***o world he***d hello wo***o world he***d hello wo***o world he***d hello wo***o world he***d hello wo***o world he***d hello wo***o world he***d hello wo***o world he***d hello wo***o world he***d hello wo***o world he***d hello wo***o world he***d hello wo***o world he***d hello wo***o world he***d hello wo***o world he***d hello wo***o world he***d hello wo***o world he***d hello wo***o world he***d hello wo***o world he***d hello wo***o world he***d hello wo***o world he***d hello wo***o world he***d hello wo***o world he***d hello wo***o world he***d hello wo***o world he***d hello wo***o world he***d hello wo***o world he***d hello wo***o world he***d hello wo***o world he***d hello wo***o world he***d hello wo***o world he***d hello wo***o world he***d hello wo***o world he***d hello wo***o world he***d hello wo***o world he***d hello wo***o world he***d hello wo***o world he***d hello wo***o world he***d hello wo***o world he***d hello wo***o world he***d hello wo***o world he***d hello wo***o world he***d hello wo***o world he***d hello wo***o world he***d hello wo***o world he***d hello wo***o world he***d hello wo***o world he***d hello wo***o world he***d hello wo***o world he***d hello wo***o world he***d hello wo***o world he***d hello wo***o world he***d hello wo***o world he***d hello wo***o world he***d hello wo***o world he***d hello wo***o world he***d hello wo***o world he***d hello wo***o world he***d hello wo***o world he***d hello wo***o world he***d hello wo***o world he***d hello wo***o world he***d hello wo***o world he***d hello wo***o world he***d hello wo***o world he***d hello wo***o world he***d hello wo***o world he***d hello wo***o world he***d hello wo***o world he***d hello wo***o world he***d hello wo***o world he***d hello wo***o world he***d hello wo***o world he***d hello wo***o world he***d hello wo***o world he***d hello wo***o world he***d hello wo***o world he***d hello wo***o world he***d hello wo***o world he***d hello wo***o world he***d hello wo***o world he***d hello wo***o world he***d hello wo***o world he***d hello wo***o world he***d hello wo***o world he***d hello wo***o world he***d hello wo***o world he***d hello wo***o world he***d hello wo***o world he***d hello wo***o world he***d hello wo***o world he***d hello wo***o world he***d hello wo***o world he***d hello wo***o world he***d hello wo***o world he***d hello wo***o world he***d hello wo***o world he***d hello wo***o world he***d hello wo***o world he***d hello wo***o world he***d hello wo***o world he***d hello wo***o world he***d hello wo***o world he***d hello wo***o world he***d hello wo***o world he***d hello wo***o world he***d hello wo***o world he***d hello wo***o world he***d hello wo***o world he***d hello wo***o world he***d hello wo***o world he***d hello wo***o world he***d hello wo***o world he***d hello wo***o world he***d hello wo***o world he***d hello wo***o world he***d hello wo***o world he***d hello wo***o world he***d hello wo***o world he***d hello wo***o world he***d hello wo***o world he***d hello wo***o world he***d hello wo***o world he***d hello wo***o world he***d hello wo***o world he***d hello wo***o world he***d hello wo***o world he***d hello wo***o world he***d hello wo***o world he***d hello wo***o world he***d hello wo***o world he***d hello wo***o world he***d hello wo***o world he***d hello wo***o world he***d hello wo***o world he***d hello wo***o world he***d hello wo***o world he***d hello wo***o world he***d hello wo***o world he***d hello wo***o world he***d hello wo***o world he***d hello wo***o world he***d hello wo***o world he***"
     ]
    }
   ],
   "source": [
    "with open('file_text/big.txt','r') as f:\n",
    "\n",
    "    chunk_size = 10\n",
    "\n",
    "    while len(f.read(chunk_size)) > 0:\n",
    "        print(f.read(chunk_size),end='***')\n",
    "        f.read(chunk_size)"
   ]
  },
  {
   "cell_type": "code",
   "execution_count": 13,
   "id": "ae23dd3f",
   "metadata": {},
   "outputs": [],
   "source": [
    "# seek during write\n",
    "with open('file_text/sample.txt','w') as f:\n",
    "    f.write('Hello')\n",
    "    f.seek(0)\n",
    "    f.write('Xa')"
   ]
  },
  {
   "cell_type": "markdown",
   "id": "ac2efb11",
   "metadata": {},
   "source": [
    "### Problems with working in text mode\n",
    "\n",
    "*   List item\n",
    "*   List item\n",
    "\n",
    "\n",
    "\n",
    "- can't work with binary files like images\n",
    "- not good for other data types like int/float/list/tuples"
   ]
  },
  {
   "cell_type": "code",
   "execution_count": 14,
   "id": "cbc6b2cf",
   "metadata": {},
   "outputs": [
    {
     "ename": "FileNotFoundError",
     "evalue": "[Errno 2] No such file or directory: 'screenshot1.png'",
     "output_type": "error",
     "traceback": [
      "\u001b[1;31m---------------------------------------------------------------------------\u001b[0m",
      "\u001b[1;31mFileNotFoundError\u001b[0m                         Traceback (most recent call last)",
      "Input \u001b[1;32mIn [14]\u001b[0m, in \u001b[0;36m<cell line: 2>\u001b[1;34m()\u001b[0m\n\u001b[0;32m      1\u001b[0m \u001b[38;5;66;03m# working with binary file\u001b[39;00m\n\u001b[1;32m----> 2\u001b[0m \u001b[38;5;28;01mwith\u001b[39;00m \u001b[38;5;28;43mopen\u001b[39;49m\u001b[43m(\u001b[49m\u001b[38;5;124;43m'\u001b[39;49m\u001b[38;5;124;43mscreenshot1.png\u001b[39;49m\u001b[38;5;124;43m'\u001b[39;49m\u001b[43m,\u001b[49m\u001b[38;5;124;43m'\u001b[39;49m\u001b[38;5;124;43mr\u001b[39;49m\u001b[38;5;124;43m'\u001b[39;49m\u001b[43m)\u001b[49m \u001b[38;5;28;01mas\u001b[39;00m f:\n\u001b[0;32m      3\u001b[0m     f\u001b[38;5;241m.\u001b[39mread()\n",
      "\u001b[1;31mFileNotFoundError\u001b[0m: [Errno 2] No such file or directory: 'screenshot1.png'"
     ]
    }
   ],
   "source": [
    "# working with binary file\n",
    "with open('screenshot1.png','r') as f:\n",
    "    f.read()"
   ]
  },
  {
   "cell_type": "code",
   "execution_count": null,
   "id": "d513e4c1",
   "metadata": {},
   "outputs": [],
   "source": []
  }
 ],
 "metadata": {
  "kernelspec": {
   "display_name": "Python 3 (ipykernel)",
   "language": "python",
   "name": "python3"
  },
  "language_info": {
   "codemirror_mode": {
    "name": "ipython",
    "version": 3
   },
   "file_extension": ".py",
   "mimetype": "text/x-python",
   "name": "python",
   "nbconvert_exporter": "python",
   "pygments_lexer": "ipython3",
   "version": "3.9.12"
  }
 },
 "nbformat": 4,
 "nbformat_minor": 5
}
