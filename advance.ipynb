{
 "cells": [
  {
   "cell_type": "markdown",
   "id": "b07d9525",
   "metadata": {},
   "source": [
    "## first oop programing"
   ]
  },
  {
   "cell_type": "code",
   "execution_count": 4,
   "id": "2ea4c1a2",
   "metadata": {},
   "outputs": [
    {
     "name": "stdout",
     "output_type": "stream",
     "text": [
      "this is my class\n"
     ]
    }
   ],
   "source": [
    "class myclass:\n",
    "    def show(self):\n",
    "        print(\"this is my class\")\n",
    "object1=myclass()\n",
    "object1.show()"
   ]
  },
  {
   "cell_type": "code",
   "execution_count": 9,
   "id": "e467d939",
   "metadata": {},
   "outputs": [
    {
     "name": "stdout",
     "output_type": "stream",
     "text": [
      "i will never giveup\n",
      "model name is : readme note 10\n"
     ]
    }
   ],
   "source": [
    "class mobile:\n",
    "    def __init__ (self):\n",
    "        self.model=\"readme note 10\"\n",
    "        print(\"i will never giveup\")\n",
    "    def p_model (self):\n",
    "        print(\"model name is :\",self.model)\n",
    "readme=mobile()\n",
    "readme.p_model()"
   ]
  },
  {
   "cell_type": "markdown",
   "id": "b580c088",
   "metadata": {},
   "source": [
    "## Reassigning variable name / change the variable value"
   ]
  },
  {
   "cell_type": "code",
   "execution_count": 3,
   "id": "7faf20d1",
   "metadata": {},
   "outputs": [
    {
     "name": "stdout",
     "output_type": "stream",
     "text": [
      "model name is : realme x\n"
     ]
    }
   ],
   "source": [
    "class mobile:\n",
    "    def __init__ (self):\n",
    "        self.model=\"readme note 10\"\n",
    "    def p_model (self):\n",
    "        print(\"model name is :\",self.model)\n",
    "readme=mobile()\n",
    "readme.model=\"realme x\"\n",
    "readme.p_model()"
   ]
  },
  {
   "cell_type": "markdown",
   "id": "854ba0ba",
   "metadata": {},
   "source": [
    "## using formal argumant in oop"
   ]
  },
  {
   "cell_type": "code",
   "execution_count": 12,
   "id": "97858c47",
   "metadata": {},
   "outputs": [
    {
     "name": "stdout",
     "output_type": "stream",
     "text": [
      "model name is : realme x \n",
      " price: 10000\n"
     ]
    }
   ],
   "source": [
    "class mobile:\n",
    "    def __init__ (self,m):\n",
    "        self.model=m\n",
    "    def p_model (self,p):\n",
    "        price=p\n",
    "        print(\"model name is :\",self.model,\"\\n price:\",price)\n",
    "readme=mobile(\"realme x\")\n",
    "readme.p_model(10000)"
   ]
  },
  {
   "cell_type": "markdown",
   "id": "c918678b",
   "metadata": {},
   "source": [
    "## multiple object creat in oop"
   ]
  },
  {
   "cell_type": "code",
   "execution_count": 1,
   "id": "cf3c7937",
   "metadata": {},
   "outputs": [
    {
     "name": "stdout",
     "output_type": "stream",
     "text": [
      "model name is : readme note 8 \n",
      " price: 10000\n",
      "2388688384976\n",
      "\n",
      "model name is : realme x \n",
      " price: 12000\n",
      "2388688720224\n",
      "\n",
      "model name is : python \n",
      " price: 1$ b\n",
      "2388688721376\n"
     ]
    }
   ],
   "source": [
    "class mobile:\n",
    "    def __init__ (self,m):\n",
    "        self.model=m\n",
    "    def p_model (self,p):\n",
    "        price=p\n",
    "        print(\"model name is :\",self.model,\"\\n price:\",price)\n",
    "readme=mobile(\"readme note 8\") # when you declear a vairiable in constractor you have intialize this value in object\n",
    "readme.p_model(10000)  # when you declear a vairiable in method you have intialize this value in object method\n",
    "print(id(readme))\n",
    "print()\n",
    "realme=mobile(\"realme x\")\n",
    "realme.p_model(12000)\n",
    "print(id(realme))\n",
    "print()\n",
    "ds=mobile(\"python\")\n",
    "ds.p_model(\"1$ b\")\n",
    "print(id(ds))"
   ]
  },
  {
   "cell_type": "markdown",
   "id": "1c76c8c7",
   "metadata": {},
   "source": [
    "## Instance Variable in Python \n",
    "instance variable are the variables whose separate copy is created in every object . if we modify the copy of instance variable in an instance ,it will not effect all the copies in the other instance "
   ]
  },
  {
   "cell_type": "code",
   "execution_count": 12,
   "id": "131d1d25",
   "metadata": {},
   "outputs": [
    {
     "name": "stdout",
     "output_type": "stream",
     "text": [
      "realme x\n",
      "redmi note 8\n",
      "python\n",
      "realme x\n"
     ]
    }
   ],
   "source": [
    "class Mobile:\n",
    "    def __init__(self):\n",
    "        self.model=\"realme x\"\n",
    "    def show(self):\n",
    "        print(self.model)\n",
    "realme=Mobile()\n",
    "realme.show()\n",
    "redmi=Mobile()\n",
    "redmi.model=\"redmi note 8\"\n",
    "redmi.show()\n",
    "ds=Mobile()\n",
    "ds.model=\"python\"\n",
    "ds.show()\n",
    "\n",
    "realme.show()"
   ]
  },
  {
   "cell_type": "markdown",
   "id": "0caba63e",
   "metadata": {},
   "source": [
    "## Class Variable or Static Variable in Python\n",
    "class variables are the variables whose single copy is available to all the instance of the class.\n",
    "if we modify the copy of class variable in an instance , it will effect all the copies in the other instance."
   ]
  },
  {
   "cell_type": "code",
   "execution_count": 15,
   "id": "f7517944",
   "metadata": {},
   "outputs": [
    {
     "name": "stdout",
     "output_type": "stream",
     "text": [
      "realme x\n",
      "yes\n"
     ]
    }
   ],
   "source": [
    "class Mobile:\n",
    "    fp='yes'\n",
    "    def __init__(self):\n",
    "        self.model='realme x'\n",
    "    def show(self):\n",
    "        print(self.model)\n",
    "    @classmethod\n",
    "    def is_fp(cls):\n",
    "        print(cls.fp)\n",
    "realme = Mobile()\n",
    "realme.show()\n",
    "realme.is_fp()\n"
   ]
  },
  {
   "cell_type": "code",
   "execution_count": 4,
   "id": "b862c6db",
   "metadata": {},
   "outputs": [
    {
     "data": {
      "text/plain": [
       "'yes'"
      ]
     },
     "execution_count": 4,
     "metadata": {},
     "output_type": "execute_result"
    }
   ],
   "source": [
    "class Mobile:\n",
    "    fp='yes' \n",
    "    def __init__(self):\n",
    "        self.model='realme x'\n",
    "    def show(self):\n",
    "        print(self.model)\n",
    "    @classmethod\n",
    "    def is_fp(cls):\n",
    "        cls.fp\n",
    "realme = Mobile()\n",
    "Mobile.fp"
   ]
  },
  {
   "cell_type": "markdown",
   "id": "aba700b4",
   "metadata": {},
   "source": [
    "## Namespase \n",
    "in python namespase represents a memory block where names are mapped to object "
   ]
  },
  {
   "cell_type": "code",
   "execution_count": 25,
   "id": "e65b79e0",
   "metadata": {},
   "outputs": [
    {
     "name": "stdout",
     "output_type": "stream",
     "text": [
      "yes\n",
      "yes\n",
      "\n",
      "yes\n",
      "yes\n",
      "\n",
      "yes\n",
      "yes\n",
      "after modified class namespece   the the variable value\n",
      "\n",
      "no\n",
      "not workin\n",
      "\n",
      "no\n",
      "no\n",
      "\n",
      "no\n",
      "no\n"
     ]
    }
   ],
   "source": [
    "class Mobile:\n",
    "    fp='yes'\n",
    "    @classmethod\n",
    "    def show(cls):\n",
    "        print(cls.fp)\n",
    "realme=Mobile() #creat intance variable\n",
    "# call the class variabel using class namespase\n",
    "print(mobile.fp)\n",
    "# call the variable using instan(object)namespase\n",
    "print(realme.fp)\n",
    "print()\n",
    "redmi=Mobile()\n",
    "print(Mobile.fp)\n",
    "print(redmi.fp)\n",
    "print()\n",
    "ds=Mobile()\n",
    "print(Mobile.fp)\n",
    "print(ds.fp)\n",
    "\n",
    "print(\"after modified class namespece   the the variable value\")\n",
    "\n",
    "# if we modified this variable value \n",
    "print()\n",
    "Mobile.fp=\"no\"\n",
    "realme=Mobile() #creat intance variable\n",
    "realme.fp=\"not workin\"\n",
    "# call the class variabel using class namespase\n",
    "print(Mobile.fp)\n",
    "# call the variable using instan(object)namespase\n",
    "print(realme.fp)\n",
    "print()\n",
    "redmi=Mobile()\n",
    "print(Mobile.fp)\n",
    "print(redmi.fp)\n",
    "print()\n",
    "ds=Mobile()\n",
    "print(Mobile.fp)\n",
    "print(ds.fp)\n"
   ]
  },
  {
   "cell_type": "markdown",
   "id": "dd513f75",
   "metadata": {},
   "source": [
    "## instance method in python \n",
    "instance method are the method which act upon the instance variables of the class "
   ]
  },
  {
   "cell_type": "code",
   "execution_count": 7,
   "id": "ee6ad168",
   "metadata": {},
   "outputs": [
    {
     "name": "stdout",
     "output_type": "stream",
     "text": [
      "model name is : readme note 10\n"
     ]
    }
   ],
   "source": [
    "class mobile:\n",
    "    def __init__ (self):\n",
    "        self.model=\"readme note 10\"\n",
    "    def p_model (self):\n",
    "        print(\"model name is :\",self.model)\n",
    "readme=mobile()\n",
    "readme.p_model()"
   ]
  },
  {
   "cell_type": "markdown",
   "id": "79cb54c2",
   "metadata": {},
   "source": [
    "## instance method with parameter"
   ]
  },
  {
   "cell_type": "code",
   "execution_count": 8,
   "id": "b615af68",
   "metadata": {},
   "outputs": [
    {
     "name": "stdout",
     "output_type": "stream",
     "text": [
      "model name is : readme note 10\n",
      "mobile price 10000\n"
     ]
    }
   ],
   "source": [
    "class mobile:\n",
    "    def __init__ (self):\n",
    "        self.model=\"readme note 10\"\n",
    "    def p_model (self,p):\n",
    "        self.price=p\n",
    "        print(\"model name is :\",self.model)\n",
    "        print(\"mobile price\",self.price)\n",
    "readme=mobile()\n",
    "readme.p_model(10000)"
   ]
  },
  {
   "cell_type": "markdown",
   "id": "4fd23161",
   "metadata": {},
   "source": [
    "## Accessor method\n",
    "this method is used to access or read data of the variables ,this method do not modify the data in the variable . this is also called as getter method."
   ]
  },
  {
   "cell_type": "code",
   "execution_count": 17,
   "id": "628b05e1",
   "metadata": {},
   "outputs": [
    {
     "name": "stdout",
     "output_type": "stream",
     "text": [
      "model name is realme x\n"
     ]
    }
   ],
   "source": [
    "class Mobile:\n",
    "    def __init__ (self):\n",
    "        self.model=\"realme x\"\n",
    "    def get_model(self):\n",
    "        print(\"model name is\",self.model)\n",
    "    \n",
    "realme=Mobile()\n",
    "realme.get_model()\n",
    "        "
   ]
  },
  {
   "cell_type": "markdown",
   "id": "d731d342",
   "metadata": {},
   "source": [
    "## mutator method\n",
    "this method is used to access or read and modify data of the variables . this method modify the data in the variable . this is also called as setter method."
   ]
  },
  {
   "cell_type": "code",
   "execution_count": 17,
   "id": "5435e317",
   "metadata": {},
   "outputs": [
    {
     "name": "stdout",
     "output_type": "stream",
     "text": [
      "lenovo a1\n"
     ]
    }
   ],
   "source": [
    "class Mobile:\n",
    "    def __init__(self):\n",
    "        self.model=\"realme x\"\n",
    "    def set_model(self):\n",
    "        self.model=\"lenovo a1\"\n",
    "        print(self.model)\n",
    "phone=Mobile()\n",
    "phone.set_model()\n"
   ]
  },
  {
   "cell_type": "code",
   "execution_count": 16,
   "id": "1d03d020",
   "metadata": {},
   "outputs": [
    {
     "name": "stdout",
     "output_type": "stream",
     "text": [
      "realme 10\n"
     ]
    }
   ],
   "source": [
    "class Mobile :\n",
    "    def set_model(self,m):\n",
    "        self.model=m\n",
    "        print(self.model)\n",
    "realme=Mobile()\n",
    "n=realme.set_model('realme 10')"
   ]
  },
  {
   "cell_type": "markdown",
   "id": "c27f525b",
   "metadata": {},
   "source": [
    "## setter method"
   ]
  },
  {
   "cell_type": "code",
   "execution_count": 23,
   "id": "5ea71948",
   "metadata": {},
   "outputs": [
    {
     "name": "stdout",
     "output_type": "stream",
     "text": [
      "before setting \n",
      " reame X\n",
      "after setting \n",
      " realme 10x\n"
     ]
    }
   ],
   "source": [
    "class Mobile:\n",
    "    def __init__(self):\n",
    "        self.model='reame X'\n",
    "    def set_model(self):\n",
    "        self.model='realme 10x'\n",
    "realme=Mobile()\n",
    "# before setting\n",
    "print(\"before setting \\n\",realme.model)\n",
    "# after setting\n",
    "realme.set_model()\n",
    "print(\"after setting \\n\",realme.model)"
   ]
  },
  {
   "cell_type": "markdown",
   "id": "a8571fd1",
   "metadata": {},
   "source": [
    "## Class methods\n",
    "Class methods are the methods which act upon the class variables or static variable of the class <br>\n",
    "Decorator @classmethod to write above the class method . <br>\n",
    "By default, the first parameter of class method is \n",
    "    \n",
    "    \n"
   ]
  },
  {
   "cell_type": "code",
   "execution_count": 2,
   "id": "53dcecec",
   "metadata": {},
   "outputs": [
    {
     "name": "stdout",
     "output_type": "stream",
     "text": [
      "yes\n"
     ]
    }
   ],
   "source": [
    "class Mobile:\n",
    "    fp='yes'    #class variable\n",
    "    @classmethod # decorator\n",
    "    def show_models(cls): # class method\n",
    "        print(cls.fp) # accessing class variable inside class method\n",
    "realme = Mobile()     # creating object\n",
    "realme.show_models()  # calling object"
   ]
  },
  {
   "cell_type": "code",
   "execution_count": 8,
   "id": "43735a23",
   "metadata": {},
   "outputs": [
    {
     "name": "stdout",
     "output_type": "stream",
     "text": [
      "the have fingar print: yes \n",
      " ram : 55\n"
     ]
    }
   ],
   "source": [
    "# class method with argument \n",
    "class Mobile:\n",
    "    fp='yes'    #class variable\n",
    "    @classmethod # decorator\n",
    "    def show_models(cls,r):# class method\n",
    "        cls.ram =r\n",
    "        print(\"the have fingar print:\",cls.fp,\"\\n ram :\",cls.ram) # accessing class variable inside class method\n",
    "realme = Mobile()     # creating object\n",
    "realme.show_models(55)  # calling object"
   ]
  },
  {
   "cell_type": "markdown",
   "id": "d6d93f8b",
   "metadata": {},
   "source": [
    "# static methods\n",
    "static methods are used when some procssing is related to the class but does not need the class or its instances to perfrom any work . we use static method when we want to pass some values from outside and perfrom some action in the method . decorator @staticmethod need to write above the static method."
   ]
  },
  {
   "cell_type": "code",
   "execution_count": 11,
   "id": "485ad73e",
   "metadata": {},
   "outputs": [
    {
     "name": "stdout",
     "output_type": "stream",
     "text": [
      "yes\n"
     ]
    }
   ],
   "source": [
    "class Mobile:\n",
    "    fp='yes'\n",
    "    @staticmethod\n",
    "    def show_model():\n",
    "        print(Mobile.fp)\n",
    "realme = Mobile()\n",
    "realme.show_model()"
   ]
  },
  {
   "cell_type": "code",
   "execution_count": 12,
   "id": "7ac84ac2",
   "metadata": {},
   "outputs": [
    {
     "name": "stdout",
     "output_type": "stream",
     "text": [
      "redmi 9 13000\n"
     ]
    }
   ],
   "source": [
    "## static method with parameter \n",
    "class Mobile:\n",
    "    @staticmethod\n",
    "    def show(m,p):\n",
    "        model= m\n",
    "        price =p\n",
    "        print(model,price)\n",
    "mo =Mobile()\n",
    "mo.show(\"redmi 9\",13000)\n",
    "        "
   ]
  },
  {
   "cell_type": "code",
   "execution_count": 16,
   "id": "695a7ee0",
   "metadata": {},
   "outputs": [
    {
     "name": "stdout",
     "output_type": "stream",
     "text": [
      "user name rahul\n",
      "user roll 101\n"
     ]
    }
   ],
   "source": [
    "# passing member of one class to another class\n",
    "class Student:\n",
    "    # constructor\n",
    "    def __init__(self,n,r):\n",
    "        self.name =n\n",
    "        self.roll=r\n",
    "    # instancc method\n",
    "    def disp(self):\n",
    "        print(\"student name:\",self.name)\n",
    "        print(\"student roll:\",self.roll)\n",
    "\n",
    "class user:\n",
    "    #static method \n",
    "    @staticmethod\n",
    "    def show(s):\n",
    "        print(\"user name\",s.name)\n",
    "        print(\"user roll\",s.roll)\n",
    "#creating object of student class\n",
    "stu=Student('rahul',101)\n",
    "user.show(stu)\n",
    "        \n",
    "    "
   ]
  },
  {
   "cell_type": "markdown",
   "id": "0d1c5f70",
   "metadata": {},
   "source": [
    "## nested class\n",
    "a class within a class is called as nested class or nesting of a class.\n"
   ]
  },
  {
   "cell_type": "code",
   "execution_count": 29,
   "id": "bd73c37a",
   "metadata": {},
   "outputs": [
    {
     "name": "stdout",
     "output_type": "stream",
     "text": [
      "rahul\n",
      "AK 47\n",
      "75 raund\n",
      "34.3 inch\n",
      "\n",
      "gun name: AK 47\n",
      "gun capacity: 75 raund\n",
      "gun lenth: 34.3 inch\n"
     ]
    }
   ],
   "source": [
    "class Army:\n",
    "    def __init__(self):\n",
    "        self.name='rahul'\n",
    "        self.gn=self.Gun()\n",
    "    def show (self):\n",
    "        print(self.name)\n",
    "    class Gun:\n",
    "        def __init__(self):\n",
    "            self.name='AK 47'\n",
    "            self.capacity='75 raund'\n",
    "            self.lenth='34.3 inch'\n",
    "        def disp(self):\n",
    "            print(\"gun name:\",self.name )\n",
    "            print(\"gun capacity:\",self.capacity )\n",
    "            print(\"gun lenth:\",self.lenth )\n",
    "a=Army()\n",
    "a.show()\n",
    "g=a.gn\n",
    "print(g.name)\n",
    "print(g.capacity)\n",
    "print(g.lenth)\n",
    "print()\n",
    "\n",
    "s=Army().Gun()\n",
    "s.disp()\n",
    "            "
   ]
  },
  {
   "cell_type": "markdown",
   "id": "38c6c12c",
   "metadata": {},
   "source": [
    "## abstract class"
   ]
  },
  {
   "cell_type": "code",
   "execution_count": 1,
   "id": "9d05e36b",
   "metadata": {},
   "outputs": [
    {
     "name": "stdout",
     "output_type": "stream",
     "text": [
      "this is called from the abstractmethod\n",
      "concret method \n"
     ]
    }
   ],
   "source": [
    "from abc import ABC,abstractmethod\n",
    "class Father(ABC):\n",
    "    @abstractmethod\n",
    "    def disp(self):\n",
    "        pass\n",
    "    def show(self):\n",
    "        print(\"concret method \")\n",
    "        \n",
    "class Child(Father):\n",
    "    def disp(self):\n",
    "        print(\"this is called from the abstractmethod\")\n",
    "        \n",
    "c=Child()\n",
    "c.disp()\n",
    "c.show()\n"
   ]
  },
  {
   "cell_type": "code",
   "execution_count": 2,
   "id": "6da33753",
   "metadata": {},
   "outputs": [
    {
     "name": "stdout",
     "output_type": "stream",
     "text": [
      "land\n",
      "gun=ak 47\n",
      "sky\n",
      "gun=ak 47\n",
      "water\n",
      "gun=ak 47\n"
     ]
    }
   ],
   "source": [
    "from abc import ABC ,abstractmethod\n",
    "class Defencefroce(ABC):\n",
    "    @abstractmethod\n",
    "    def area(self):\n",
    "        pass\n",
    "    def gun(self):\n",
    "        print(\"gun=ak 47\")\n",
    "class Army(Defencefroce):\n",
    "    def area(self):\n",
    "        print(\"land\")\n",
    "class Airforce(Defencefroce):\n",
    "    def area(self):\n",
    "        print(\"sky\")\n",
    "class Nevy(Defencefroce):\n",
    "    def area(self):\n",
    "        print(\"water\")\n",
    "a=Army()\n",
    "ar=Airforce()\n",
    "n=Nevy()\n",
    "\n",
    "a.area()\n",
    "a.gun()\n",
    "\n",
    "ar.area()\n",
    "ar.gun()\n",
    "\n",
    "n.area()\n",
    "n.gun()"
   ]
  },
  {
   "cell_type": "markdown",
   "id": "7fb16d67",
   "metadata": {},
   "source": [
    "## Date and Time"
   ]
  },
  {
   "cell_type": "code",
   "execution_count": 9,
   "id": "28b5f4a1",
   "metadata": {},
   "outputs": [
    {
     "name": "stdout",
     "output_type": "stream",
     "text": [
      "1650208862.446421\n",
      "Sun Apr 17 20:51:02 2022\n",
      "17\n",
      "4\n",
      "2022\n",
      "20:51:2\n"
     ]
    }
   ],
   "source": [
    "from time import time,ctime,localtime\n",
    "epoch=time()\n",
    "print(epoch)\n",
    "et=ctime(epoch)\n",
    "print(et)\n",
    "lotm=localtime()\n",
    "print(lotm.tm_mday)\n",
    "print(lotm.tm_mon)\n",
    "print(lotm.tm_year)\n",
    "\n",
    "lotm=localtime()\n",
    "print(lotm.tm_hour,end=\":\")\n",
    "print(lotm.tm_min,end=\":\")\n",
    "print(lotm.tm_sec)\n",
    "\n"
   ]
  },
  {
   "cell_type": "markdown",
   "id": "cc6244a4",
   "metadata": {},
   "source": [
    "## datetime Module\n",
    "it handeles date and time . it has year ,month ,day,hour,minute,second , micro second and tzinto attributes."
   ]
  },
  {
   "cell_type": "code",
   "execution_count": 3,
   "id": "77d5fd85",
   "metadata": {},
   "outputs": [
    {
     "name": "stdout",
     "output_type": "stream",
     "text": [
      "2022-06-30 00:00:00\n"
     ]
    }
   ],
   "source": [
    "from datetime import datetime\n",
    "dt=datetime(year=2022,month=6,day=30)\n",
    "print(dt)"
   ]
  },
  {
   "cell_type": "code",
   "execution_count": 5,
   "id": "1f5a094c",
   "metadata": {},
   "outputs": [
    {
     "name": "stdout",
     "output_type": "stream",
     "text": [
      "2022-04-18 00:00:00\n"
     ]
    }
   ],
   "source": [
    "from datetime import datetime\n",
    "dt1=datetime(2022,4,18)\n",
    "print(dt1)"
   ]
  },
  {
   "cell_type": "code",
   "execution_count": 5,
   "id": "9f275ea6",
   "metadata": {},
   "outputs": [
    {
     "ename": "AttributeError",
     "evalue": "module 'qrcode' has no attribute 'create'",
     "output_type": "error",
     "traceback": [
      "\u001b[1;31m---------------------------------------------------------------------------\u001b[0m",
      "\u001b[1;31mAttributeError\u001b[0m                            Traceback (most recent call last)",
      "\u001b[1;32m<ipython-input-5-233868bc0b58>\u001b[0m in \u001b[0;36m<module>\u001b[1;34m\u001b[0m\n\u001b[0;32m      1\u001b[0m \u001b[1;32mimport\u001b[0m \u001b[0mqrcode\u001b[0m\u001b[1;33m\u001b[0m\u001b[1;33m\u001b[0m\u001b[0m\n\u001b[0;32m      2\u001b[0m \u001b[0ms\u001b[0m\u001b[1;33m=\u001b[0m\u001b[1;34m\"https://www.instagram.com/irresistibl10/\"\u001b[0m\u001b[1;33m\u001b[0m\u001b[1;33m\u001b[0m\u001b[0m\n\u001b[1;32m----> 3\u001b[1;33m \u001b[0murl\u001b[0m\u001b[1;33m=\u001b[0m\u001b[0mqrcode\u001b[0m\u001b[1;33m.\u001b[0m\u001b[0mcreate\u001b[0m\u001b[1;33m(\u001b[0m\u001b[0ms\u001b[0m\u001b[1;33m)\u001b[0m\u001b[1;33m\u001b[0m\u001b[1;33m\u001b[0m\u001b[0m\n\u001b[0m\u001b[0;32m      4\u001b[0m \u001b[0murl\u001b[0m\u001b[1;33m.\u001b[0m\u001b[0msvg\u001b[0m\u001b[1;33m(\u001b[0m\u001b[1;34m\"myqr.svg\"\u001b[0m\u001b[1;33m,\u001b[0m\u001b[0mscale\u001b[0m\u001b[1;33m=\u001b[0m\u001b[1;36m8\u001b[0m\u001b[1;33m)\u001b[0m\u001b[1;33m\u001b[0m\u001b[1;33m\u001b[0m\u001b[0m\n",
      "\u001b[1;31mAttributeError\u001b[0m: module 'qrcode' has no attribute 'create'"
     ]
    }
   ],
   "source": [
    "import qrcode\n",
    "s=\"https://www.instagram.com/irresistibl10/\"\n",
    "url=qrcode.create(s)\n",
    "url.svg(\"myqr.svg\",scale=8)"
   ]
  },
  {
   "cell_type": "code",
   "execution_count": 6,
   "id": "cc15fdef",
   "metadata": {},
   "outputs": [
    {
     "ename": "ModuleNotFoundError",
     "evalue": "No module named 'pyqrcode'",
     "output_type": "error",
     "traceback": [
      "\u001b[1;31m---------------------------------------------------------------------------\u001b[0m",
      "\u001b[1;31mModuleNotFoundError\u001b[0m                       Traceback (most recent call last)",
      "\u001b[1;32m<ipython-input-6-90565b07d66f>\u001b[0m in \u001b[0;36m<module>\u001b[1;34m\u001b[0m\n\u001b[1;32m----> 1\u001b[1;33m \u001b[1;32mimport\u001b[0m \u001b[0mpyqrcode\u001b[0m\u001b[1;33m\u001b[0m\u001b[1;33m\u001b[0m\u001b[0m\n\u001b[0m\u001b[0;32m      2\u001b[0m \u001b[0murl\u001b[0m \u001b[1;33m=\u001b[0m \u001b[0mpyqrcode\u001b[0m\u001b[1;33m.\u001b[0m\u001b[0mcreate\u001b[0m\u001b[1;33m(\u001b[0m\u001b[1;34m'http://uca.edu'\u001b[0m\u001b[1;33m)\u001b[0m\u001b[1;33m\u001b[0m\u001b[1;33m\u001b[0m\u001b[0m\n\u001b[0;32m      3\u001b[0m \u001b[0murl\u001b[0m\u001b[1;33m.\u001b[0m\u001b[0msvg\u001b[0m\u001b[1;33m(\u001b[0m\u001b[1;34m'uca-url.svg'\u001b[0m\u001b[1;33m,\u001b[0m \u001b[0mscale\u001b[0m\u001b[1;33m=\u001b[0m\u001b[1;36m8\u001b[0m\u001b[1;33m)\u001b[0m\u001b[1;33m\u001b[0m\u001b[1;33m\u001b[0m\u001b[0m\n\u001b[0;32m      4\u001b[0m \u001b[0murl\u001b[0m\u001b[1;33m.\u001b[0m\u001b[0meps\u001b[0m\u001b[1;33m(\u001b[0m\u001b[1;34m'uca-url.eps'\u001b[0m\u001b[1;33m,\u001b[0m \u001b[0mscale\u001b[0m\u001b[1;33m=\u001b[0m\u001b[1;36m2\u001b[0m\u001b[1;33m)\u001b[0m\u001b[1;33m\u001b[0m\u001b[1;33m\u001b[0m\u001b[0m\n\u001b[0;32m      5\u001b[0m \u001b[0mprint\u001b[0m\u001b[1;33m(\u001b[0m\u001b[0murl\u001b[0m\u001b[1;33m.\u001b[0m\u001b[0mterminal\u001b[0m\u001b[1;33m(\u001b[0m\u001b[0mquiet_zone\u001b[0m\u001b[1;33m=\u001b[0m\u001b[1;36m1\u001b[0m\u001b[1;33m)\u001b[0m\u001b[1;33m)\u001b[0m\u001b[1;33m\u001b[0m\u001b[1;33m\u001b[0m\u001b[0m\n",
      "\u001b[1;31mModuleNotFoundError\u001b[0m: No module named 'pyqrcode'"
     ]
    }
   ],
   "source": [
    "import pyqrcode\n",
    "url = pyqrcode.create('http://uca.edu')\n",
    "url.svg('uca-url.svg', scale=8)\n",
    "url.eps('uca-url.eps', scale=2)\n",
    "print(url.terminal(quiet_zone=1))"
   ]
  },
  {
   "cell_type": "code",
   "execution_count": null,
   "id": "9eacdeb1",
   "metadata": {},
   "outputs": [],
   "source": []
  }
 ],
 "metadata": {
  "kernelspec": {
   "display_name": "Python 3 (ipykernel)",
   "language": "python",
   "name": "python3"
  },
  "language_info": {
   "codemirror_mode": {
    "name": "ipython",
    "version": 3
   },
   "file_extension": ".py",
   "mimetype": "text/x-python",
   "name": "python",
   "nbconvert_exporter": "python",
   "pygments_lexer": "ipython3",
   "version": "3.9.12"
  }
 },
 "nbformat": 4,
 "nbformat_minor": 5
}
